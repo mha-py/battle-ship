{
 "cells": [
  {
   "cell_type": "code",
   "execution_count": 1,
   "id": "61f0c29b",
   "metadata": {
    "ExecuteTime": {
     "end_time": "2023-11-03T00:39:11.224130Z",
     "start_time": "2023-11-03T00:39:08.910555Z"
    },
    "run_control": {
     "marked": true
    }
   },
   "outputs": [],
   "source": [
    "\n",
    "import numpy as np\n",
    "import matplotlib.pyplot as plt\n",
    "from tqdm.notebook import tqdm, trange"
   ]
  },
  {
   "cell_type": "code",
   "execution_count": 2,
   "id": "8be65768",
   "metadata": {
    "ExecuteTime": {
     "end_time": "2023-11-03T00:39:18.142152Z",
     "start_time": "2023-11-03T00:39:11.229127Z"
    }
   },
   "outputs": [],
   "source": [
    "%load_ext autoreload\n",
    "%autoreload 2\n",
    "\n",
    "from bs_helpers import *\n",
    "from bs_gameclass import *\n",
    "from utils import *"
   ]
  },
  {
   "cell_type": "code",
   "execution_count": 3,
   "id": "ee967836",
   "metadata": {
    "ExecuteTime": {
     "end_time": "2023-11-03T00:39:18.457184Z",
     "start_time": "2023-11-03T00:39:18.146120Z"
    }
   },
   "outputs": [],
   "source": [
    "net = bs_unet()\n",
    "#net.load_state_dict(torch.load('data/battleships_unet.dat'))\n",
    "net.optim = torch.optim.Adam(lr=0.001, betas=(0., 0.999), params=net.parameters())"
   ]
  },
  {
   "cell_type": "code",
   "execution_count": 4,
   "id": "956e1e08",
   "metadata": {
    "ExecuteTime": {
     "end_time": "2023-11-03T00:39:18.671419Z",
     "start_time": "2023-11-03T00:39:18.463277Z"
    },
    "run_control": {
     "marked": true
    }
   },
   "outputs": [],
   "source": [
    "gamma = 0.8"
   ]
  },
  {
   "cell_type": "code",
   "execution_count": 5,
   "id": "e8714f44",
   "metadata": {
    "ExecuteTime": {
     "end_time": "2023-11-03T00:39:18.888632Z",
     "start_time": "2023-11-03T00:39:18.674547Z"
    }
   },
   "outputs": [],
   "source": [
    "def batchgen(games, size, verbose=1):\n",
    "    \n",
    "    while True:\n",
    "        indlist = np.random.permutation(range(len(games)))\n",
    "        minibatches = [ indlist[k*size:(k+1)*size] for k in range(len(indlist)//size) ]\n",
    "        \n",
    "        for mb in minibatches:\n",
    "            xs = np.zeros((size, SX, SY, 3))\n",
    "            ys = np.zeros((size, SX, SY, 1))\n",
    "            rs = np.zeros((size))\n",
    "            for k, l in enumerate(mb):\n",
    "                s, (i,j), qmax, r = games[l]\n",
    "                xs[k] = encode_x(s.sea, s.det)\n",
    "                ys[k, i, j] = 1.\n",
    "                if np.random.rand()<.5:\n",
    "                    xs[k] = xs[k,:,::-1]\n",
    "                    ys[k] = ys[k,:,::-1]\n",
    "                if np.random.rand()<.5:\n",
    "                    xs[k] = xs[k,::-1]\n",
    "                    ys[k] = ys[k,::-1]\n",
    "                if np.random.rand()<.5:\n",
    "                    xs[k] = xs[k].transpose(1,0,2)\n",
    "                    ys[k] = ys[k].transpose(1,0,2)\n",
    "                rs[k] = r + gamma*qmax\n",
    "            yield xs, ys, rs\n",
    "        if verbose:\n",
    "            print('Finished one batchgen epoch!')"
   ]
  },
  {
   "cell_type": "code",
   "execution_count": 8,
   "id": "56ef195d",
   "metadata": {
    "ExecuteTime": {
     "end_time": "2023-11-03T09:48:10.824357Z",
     "start_time": "2023-11-03T01:45:14.023435Z"
    },
    "scrolled": true
   },
   "outputs": [
    {
     "data": {
      "application/vnd.jupyter.widget-view+json": {
       "model_id": "c2fdbea1553949ada26b0d29cb51bbde",
       "version_major": 2,
       "version_minor": 0
      },
      "text/plain": [
       "  0%|          | 0/100 [00:00<?, ?it/s]"
      ]
     },
     "metadata": {},
     "output_type": "display_data"
    },
    {
     "name": "stdout",
     "output_type": "stream",
     "text": [
      "Game length mean 79.19\n"
     ]
    },
    {
     "data": {
      "application/vnd.jupyter.widget-view+json": {
       "model_id": "0c8deee4d0a5443ba89bc01a4b6f3631",
       "version_major": 2,
       "version_minor": 0
      },
      "text/plain": [
       "  0%|          | 0/1000 [00:00<?, ?it/s]"
      ]
     },
     "metadata": {},
     "output_type": "display_data"
    },
    {
     "name": "stdout",
     "output_type": "stream",
     "text": [
      "0.18112334609031677\n",
      "0.2247117839753628\n",
      "0.22469143584370613\n",
      "Finished one batchgen epoch!\n",
      "0.2253901980817318\n",
      "0.22012798339128495\n",
      "Finished one batchgen epoch!\n",
      "0.2191365970671177\n",
      "0.21947215497493744\n",
      "0.22345383942127228\n",
      "Finished one batchgen epoch!\n",
      "0.21254654541611673\n",
      "0.22149455435574056\n",
      "Finished one batchgen epoch!\n"
     ]
    },
    {
     "data": {
      "application/vnd.jupyter.widget-view+json": {
       "model_id": "8d95814d1c00454da09636408c341089",
       "version_major": 2,
       "version_minor": 0
      },
      "text/plain": [
       "  0%|          | 0/100 [00:00<?, ?it/s]"
      ]
     },
     "metadata": {},
     "output_type": "display_data"
    },
    {
     "name": "stdout",
     "output_type": "stream",
     "text": [
      "Game length mean 74.91\n"
     ]
    },
    {
     "data": {
      "application/vnd.jupyter.widget-view+json": {
       "model_id": "973a2017a3d04c35b18a7ca97db03445",
       "version_major": 2,
       "version_minor": 0
      },
      "text/plain": [
       "  0%|          | 0/1000 [00:00<?, ?it/s]"
      ]
     },
     "metadata": {},
     "output_type": "display_data"
    },
    {
     "name": "stdout",
     "output_type": "stream",
     "text": [
      "0.3450666069984436\n",
      "0.24068114653229714\n",
      "0.24699530854821206\n",
      "Finished one batchgen epoch!\n",
      "0.23423054605722426\n",
      "0.2419198025763035\n",
      "Finished one batchgen epoch!\n",
      "0.2354511673748493\n",
      "0.23544474706053733\n",
      "0.24364708989858627\n",
      "Finished one batchgen epoch!\n",
      "0.2395779450237751\n",
      "0.23795141726732255\n",
      "Finished one batchgen epoch!\n"
     ]
    },
    {
     "data": {
      "application/vnd.jupyter.widget-view+json": {
       "model_id": "d723203217a54e51b348b05c96d4a81d",
       "version_major": 2,
       "version_minor": 0
      },
      "text/plain": [
       "  0%|          | 0/100 [00:00<?, ?it/s]"
      ]
     },
     "metadata": {},
     "output_type": "display_data"
    },
    {
     "name": "stdout",
     "output_type": "stream",
     "text": [
      "Game length mean 78.6\n"
     ]
    },
    {
     "data": {
      "application/vnd.jupyter.widget-view+json": {
       "model_id": "df10298885aa4e29ae2ee321fa2cef07",
       "version_major": 2,
       "version_minor": 0
      },
      "text/plain": [
       "  0%|          | 0/1000 [00:00<?, ?it/s]"
      ]
     },
     "metadata": {},
     "output_type": "display_data"
    },
    {
     "name": "stdout",
     "output_type": "stream",
     "text": [
      "0.23277592658996582\n",
      "0.22345100186765193\n",
      "0.22440671429038048\n",
      "Finished one batchgen epoch!\n",
      "0.2279966527223587\n",
      "0.21971023447811602\n",
      "Finished one batchgen epoch!\n",
      "0.22106602564454078\n",
      "0.21902278304100037\n",
      "0.21932330295443536\n",
      "Finished one batchgen epoch!\n",
      "0.22131026312708854\n",
      "0.2214755369722843\n",
      "Finished one batchgen epoch!\n"
     ]
    },
    {
     "data": {
      "application/vnd.jupyter.widget-view+json": {
       "model_id": "9943417fc12c40e196b114709b07a874",
       "version_major": 2,
       "version_minor": 0
      },
      "text/plain": [
       "  0%|          | 0/100 [00:00<?, ?it/s]"
      ]
     },
     "metadata": {},
     "output_type": "display_data"
    },
    {
     "name": "stdout",
     "output_type": "stream",
     "text": [
      "Game length mean 78.13\n"
     ]
    },
    {
     "data": {
      "application/vnd.jupyter.widget-view+json": {
       "model_id": "b39db1207cf2479f98134260e55a57db",
       "version_major": 2,
       "version_minor": 0
      },
      "text/plain": [
       "  0%|          | 0/1000 [00:00<?, ?it/s]"
      ]
     },
     "metadata": {},
     "output_type": "display_data"
    },
    {
     "name": "stdout",
     "output_type": "stream",
     "text": [
      "0.2012300193309784\n",
      "0.22384769722819328\n",
      "0.2351370197534561\n",
      "Finished one batchgen epoch!\n",
      "0.23163060039281846\n",
      "0.22766012996435164\n",
      "Finished one batchgen epoch!\n",
      "0.22726123839616774\n",
      "0.22057486034929752\n",
      "0.22702775582671164\n",
      "Finished one batchgen epoch!\n",
      "0.2352306441962719\n",
      "0.22592109322547912\n",
      "Finished one batchgen epoch!\n"
     ]
    },
    {
     "data": {
      "application/vnd.jupyter.widget-view+json": {
       "model_id": "abbc1b1e195a480e85036dc1a49720f2",
       "version_major": 2,
       "version_minor": 0
      },
      "text/plain": [
       "  0%|          | 0/100 [00:00<?, ?it/s]"
      ]
     },
     "metadata": {},
     "output_type": "display_data"
    },
    {
     "name": "stdout",
     "output_type": "stream",
     "text": [
      "Game length mean 78.27\n"
     ]
    },
    {
     "data": {
      "application/vnd.jupyter.widget-view+json": {
       "model_id": "7088059ccdc645ee919dbf489d2d58d6",
       "version_major": 2,
       "version_minor": 0
      },
      "text/plain": [
       "  0%|          | 0/1000 [00:00<?, ?it/s]"
      ]
     },
     "metadata": {},
     "output_type": "display_data"
    },
    {
     "name": "stdout",
     "output_type": "stream",
     "text": [
      "0.29281190037727356\n",
      "0.23506880588829518\n",
      "0.2347426238656044\n",
      "Finished one batchgen epoch!\n",
      "0.23119267493486403\n",
      "0.22290160931646824\n",
      "Finished one batchgen epoch!\n",
      "0.23213841378688813\n",
      "0.22275015771389006\n",
      "0.2279313860833645\n",
      "Finished one batchgen epoch!\n",
      "0.22654563054442406\n",
      "0.22639341846108438\n",
      "Finished one batchgen epoch!\n"
     ]
    },
    {
     "data": {
      "application/vnd.jupyter.widget-view+json": {
       "model_id": "d0a6684d0ca64630b6ffb2e27393f1dd",
       "version_major": 2,
       "version_minor": 0
      },
      "text/plain": [
       "  0%|          | 0/100 [00:00<?, ?it/s]"
      ]
     },
     "metadata": {},
     "output_type": "display_data"
    },
    {
     "name": "stdout",
     "output_type": "stream",
     "text": [
      "Game length mean 78.25\n"
     ]
    },
    {
     "data": {
      "application/vnd.jupyter.widget-view+json": {
       "model_id": "b229433d022e4ff98825fc21da281c68",
       "version_major": 2,
       "version_minor": 0
      },
      "text/plain": [
       "  0%|          | 0/1000 [00:00<?, ?it/s]"
      ]
     },
     "metadata": {},
     "output_type": "display_data"
    },
    {
     "name": "stdout",
     "output_type": "stream",
     "text": [
      "0.24725273251533508\n",
      "0.22880531042814256\n",
      "0.23480710998177529\n",
      "Finished one batchgen epoch!\n",
      "0.22975910738110542\n",
      "0.22715715743601322\n",
      "Finished one batchgen epoch!\n",
      "0.234377598464489\n",
      "0.22029185846447943\n",
      "0.23428955882787705\n",
      "Finished one batchgen epoch!\n",
      "0.2281450954079628\n",
      "0.22986963003873825\n",
      "Finished one batchgen epoch!\n"
     ]
    },
    {
     "data": {
      "application/vnd.jupyter.widget-view+json": {
       "model_id": "89c2cd496d954cccabaa3fd93a7effa9",
       "version_major": 2,
       "version_minor": 0
      },
      "text/plain": [
       "  0%|          | 0/100 [00:00<?, ?it/s]"
      ]
     },
     "metadata": {},
     "output_type": "display_data"
    },
    {
     "name": "stdout",
     "output_type": "stream",
     "text": [
      "Game length mean 75.93\n"
     ]
    },
    {
     "data": {
      "application/vnd.jupyter.widget-view+json": {
       "model_id": "c18bdde85559491ea28a14f5f4d792a1",
       "version_major": 2,
       "version_minor": 0
      },
      "text/plain": [
       "  0%|          | 0/1000 [00:00<?, ?it/s]"
      ]
     },
     "metadata": {},
     "output_type": "display_data"
    },
    {
     "name": "stdout",
     "output_type": "stream",
     "text": [
      "0.29702335596084595\n",
      "0.23955629050731658\n",
      "0.23596002131700516\n",
      "Finished one batchgen epoch!\n",
      "0.23798617109656334\n",
      "0.23345052912831307\n",
      "Finished one batchgen epoch!\n",
      "0.24007329866290092\n",
      "0.22994000673294068\n",
      "0.23490388974547385\n",
      "Finished one batchgen epoch!\n",
      "0.2261827039718628\n",
      "0.23922133669257165\n",
      "Finished one batchgen epoch!\n"
     ]
    },
    {
     "data": {
      "application/vnd.jupyter.widget-view+json": {
       "model_id": "eb366124b6cc4c20bf75362089acb1f9",
       "version_major": 2,
       "version_minor": 0
      },
      "text/plain": [
       "  0%|          | 0/100 [00:00<?, ?it/s]"
      ]
     },
     "metadata": {},
     "output_type": "display_data"
    },
    {
     "name": "stdout",
     "output_type": "stream",
     "text": [
      "Game length mean 76.93\n"
     ]
    },
    {
     "data": {
      "application/vnd.jupyter.widget-view+json": {
       "model_id": "6628a19caa71431c9af27432d6ba28dd",
       "version_major": 2,
       "version_minor": 0
      },
      "text/plain": [
       "  0%|          | 0/1000 [00:00<?, ?it/s]"
      ]
     },
     "metadata": {},
     "output_type": "display_data"
    },
    {
     "name": "stdout",
     "output_type": "stream",
     "text": [
      "0.17815551161766052\n",
      "0.23613782040774822\n",
      "0.23111640140414239\n",
      "Finished one batchgen epoch!\n",
      "0.23217134088277816\n",
      "0.23026503652334213\n",
      "Finished one batchgen epoch!\n",
      "0.22795533984899521\n",
      "0.22085561588406563\n",
      "0.23179517880082132\n",
      "Finished one batchgen epoch!\n",
      "0.2291499598324299\n",
      "0.22818401083350182\n",
      "Finished one batchgen epoch!\n"
     ]
    },
    {
     "data": {
      "application/vnd.jupyter.widget-view+json": {
       "model_id": "74e359e647ba4fb488d7a582927ce8db",
       "version_major": 2,
       "version_minor": 0
      },
      "text/plain": [
       "  0%|          | 0/100 [00:00<?, ?it/s]"
      ]
     },
     "metadata": {},
     "output_type": "display_data"
    },
    {
     "name": "stdout",
     "output_type": "stream",
     "text": [
      "Game length mean 77.8\n"
     ]
    },
    {
     "data": {
      "application/vnd.jupyter.widget-view+json": {
       "model_id": "8afa70d8e921466eb15ff769d4d092d8",
       "version_major": 2,
       "version_minor": 0
      },
      "text/plain": [
       "  0%|          | 0/1000 [00:00<?, ?it/s]"
      ]
     },
     "metadata": {},
     "output_type": "display_data"
    },
    {
     "name": "stdout",
     "output_type": "stream",
     "text": [
      "0.18997249007225037\n",
      "0.23079199701547623\n",
      "0.23151332825422288\n",
      "Finished one batchgen epoch!\n",
      "0.23354091092944146\n",
      "0.22665827646851539\n",
      "Finished one batchgen epoch!\n",
      "0.2338702042400837\n",
      "0.2280593430995941\n",
      "0.2344890935719013\n",
      "Finished one batchgen epoch!\n",
      "0.23031748905777932\n",
      "0.22547969974577428\n",
      "Finished one batchgen epoch!\n"
     ]
    },
    {
     "data": {
      "application/vnd.jupyter.widget-view+json": {
       "model_id": "f3ba6868c9e94e14ad5659c3b28905ec",
       "version_major": 2,
       "version_minor": 0
      },
      "text/plain": [
       "  0%|          | 0/100 [00:00<?, ?it/s]"
      ]
     },
     "metadata": {},
     "output_type": "display_data"
    },
    {
     "name": "stdout",
     "output_type": "stream",
     "text": [
      "Game length mean 76.74\n"
     ]
    },
    {
     "data": {
      "application/vnd.jupyter.widget-view+json": {
       "model_id": "fa22981d69774681b70e535a72d3ca4c",
       "version_major": 2,
       "version_minor": 0
      },
      "text/plain": [
       "  0%|          | 0/1000 [00:00<?, ?it/s]"
      ]
     },
     "metadata": {},
     "output_type": "display_data"
    },
    {
     "name": "stdout",
     "output_type": "stream",
     "text": [
      "0.20360532402992249\n",
      "0.228039520829916\n",
      "0.23077598616480827\n",
      "Finished one batchgen epoch!\n",
      "0.23310259416699408\n",
      "0.23704658672213555\n",
      "Finished one batchgen epoch!\n",
      "0.22558523565530778\n",
      "0.22553703993558882\n",
      "0.23383556112647055\n",
      "Finished one batchgen epoch!\n",
      "0.22680019669234752\n",
      "0.2330539520084858\n",
      "Finished one batchgen epoch!\n"
     ]
    },
    {
     "data": {
      "application/vnd.jupyter.widget-view+json": {
       "model_id": "49be71757d814224ae9051d00454328b",
       "version_major": 2,
       "version_minor": 0
      },
      "text/plain": [
       "  0%|          | 0/100 [00:00<?, ?it/s]"
      ]
     },
     "metadata": {},
     "output_type": "display_data"
    },
    {
     "name": "stdout",
     "output_type": "stream",
     "text": [
      "Game length mean 76.35\n"
     ]
    },
    {
     "data": {
      "application/vnd.jupyter.widget-view+json": {
       "model_id": "f38a908ab80141a6bf71c3a8c9fa09b0",
       "version_major": 2,
       "version_minor": 0
      },
      "text/plain": [
       "  0%|          | 0/1000 [00:00<?, ?it/s]"
      ]
     },
     "metadata": {},
     "output_type": "display_data"
    },
    {
     "name": "stdout",
     "output_type": "stream",
     "text": [
      "0.20594342052936554\n",
      "0.24561247497797012\n",
      "0.2318148398399353\n",
      "Finished one batchgen epoch!\n",
      "0.24148827388882638\n",
      "0.23007995143532753\n",
      "Finished one batchgen epoch!\n",
      "0.24077097058296204\n",
      "0.23746022909879685\n",
      "0.23550326377153397\n",
      "Finished one batchgen epoch!\n",
      "0.2334728480875492\n",
      "0.2366502510011196\n",
      "Finished one batchgen epoch!\n"
     ]
    },
    {
     "data": {
      "application/vnd.jupyter.widget-view+json": {
       "model_id": "362d8c2a4128420baca7254dae9d4c3c",
       "version_major": 2,
       "version_minor": 0
      },
      "text/plain": [
       "  0%|          | 0/100 [00:00<?, ?it/s]"
      ]
     },
     "metadata": {},
     "output_type": "display_data"
    },
    {
     "name": "stdout",
     "output_type": "stream",
     "text": [
      "Game length mean 78.77\n"
     ]
    },
    {
     "data": {
      "application/vnd.jupyter.widget-view+json": {
       "model_id": "6958e6dbb1c249f89c2c6ab5f1d83c38",
       "version_major": 2,
       "version_minor": 0
      },
      "text/plain": [
       "  0%|          | 0/1000 [00:00<?, ?it/s]"
      ]
     },
     "metadata": {},
     "output_type": "display_data"
    },
    {
     "name": "stdout",
     "output_type": "stream",
     "text": [
      "0.21516498923301697\n",
      "0.22288672626018524\n",
      "0.2255131983757019\n",
      "Finished one batchgen epoch!\n",
      "0.21495004288852215\n",
      "0.22489329561591148\n",
      "Finished one batchgen epoch!\n",
      "0.21301221415400506\n",
      "0.2251136665046215\n",
      "0.21257345542311668\n",
      "Finished one batchgen epoch!\n",
      "0.2183873514086008\n",
      "0.22054532840847968\n",
      "Finished one batchgen epoch!\n"
     ]
    },
    {
     "data": {
      "application/vnd.jupyter.widget-view+json": {
       "model_id": "b4bd4d0bb8ca4a2fbad8b7b3ef3ca2a4",
       "version_major": 2,
       "version_minor": 0
      },
      "text/plain": [
       "  0%|          | 0/100 [00:00<?, ?it/s]"
      ]
     },
     "metadata": {},
     "output_type": "display_data"
    },
    {
     "name": "stdout",
     "output_type": "stream",
     "text": [
      "Game length mean 77.64\n"
     ]
    },
    {
     "data": {
      "application/vnd.jupyter.widget-view+json": {
       "model_id": "97e0518360fe48a48e5c4046f8ce9280",
       "version_major": 2,
       "version_minor": 0
      },
      "text/plain": [
       "  0%|          | 0/1000 [00:00<?, ?it/s]"
      ]
     },
     "metadata": {},
     "output_type": "display_data"
    },
    {
     "name": "stdout",
     "output_type": "stream",
     "text": [
      "0.2020685374736786\n",
      "0.22419552445411683\n",
      "0.22491119623184205\n",
      "Finished one batchgen epoch!\n",
      "0.22664620324969292\n",
      "0.22295357018709183\n",
      "Finished one batchgen epoch!\n",
      "0.22302212059497833\n",
      "0.22141949623823165\n",
      "0.22178370594978333\n",
      "Finished one batchgen epoch!\n",
      "0.22527973100543022\n",
      "0.21963171541690826\n",
      "Finished one batchgen epoch!\n"
     ]
    },
    {
     "data": {
      "application/vnd.jupyter.widget-view+json": {
       "model_id": "7c8fd9bddd8142a8bab801706feb67bd",
       "version_major": 2,
       "version_minor": 0
      },
      "text/plain": [
       "  0%|          | 0/100 [00:00<?, ?it/s]"
      ]
     },
     "metadata": {},
     "output_type": "display_data"
    },
    {
     "name": "stdout",
     "output_type": "stream",
     "text": [
      "Game length mean 75.78\n"
     ]
    },
    {
     "data": {
      "application/vnd.jupyter.widget-view+json": {
       "model_id": "ba8aa720e0e9437582d0b6bc8099da1a",
       "version_major": 2,
       "version_minor": 0
      },
      "text/plain": [
       "  0%|          | 0/1000 [00:00<?, ?it/s]"
      ]
     },
     "metadata": {},
     "output_type": "display_data"
    },
    {
     "name": "stdout",
     "output_type": "stream",
     "text": [
      "0.2563594579696655\n",
      "0.23118516251444818\n",
      "0.22591968595981599\n",
      "Finished one batchgen epoch!\n",
      "0.22709638461470605\n",
      "0.22842979609966277\n",
      "Finished one batchgen epoch!\n",
      "0.2284565019607544\n",
      "0.22164874359965325\n",
      "0.2278769840300083\n",
      "Finished one batchgen epoch!\n",
      "0.21673677586019038\n",
      "0.2253244212269783\n",
      "Finished one batchgen epoch!\n"
     ]
    },
    {
     "data": {
      "application/vnd.jupyter.widget-view+json": {
       "model_id": "85be6d81331f4d1cbb16ef4662ee91ee",
       "version_major": 2,
       "version_minor": 0
      },
      "text/plain": [
       "  0%|          | 0/100 [00:00<?, ?it/s]"
      ]
     },
     "metadata": {},
     "output_type": "display_data"
    },
    {
     "name": "stdout",
     "output_type": "stream",
     "text": [
      "Game length mean 76.74\n"
     ]
    },
    {
     "data": {
      "application/vnd.jupyter.widget-view+json": {
       "model_id": "5dca70eee4f24689b872f231fcb57b54",
       "version_major": 2,
       "version_minor": 0
      },
      "text/plain": [
       "  0%|          | 0/1000 [00:00<?, ?it/s]"
      ]
     },
     "metadata": {},
     "output_type": "display_data"
    },
    {
     "name": "stdout",
     "output_type": "stream",
     "text": [
      "0.2307203710079193\n",
      "0.3901860435307026\n",
      "0.22914321169257165\n",
      "Finished one batchgen epoch!\n",
      "0.22347322255373\n",
      "0.21966702237725258\n",
      "Finished one batchgen epoch!\n",
      "0.21825712248682977\n",
      "0.22328175738453865\n",
      "0.22058772757649422\n",
      "Finished one batchgen epoch!\n",
      "0.22162208944559098\n",
      "0.2219887126982212\n",
      "Finished one batchgen epoch!\n"
     ]
    },
    {
     "data": {
      "application/vnd.jupyter.widget-view+json": {
       "model_id": "c976e83db2494491931345b59ecd89fa",
       "version_major": 2,
       "version_minor": 0
      },
      "text/plain": [
       "  0%|          | 0/100 [00:00<?, ?it/s]"
      ]
     },
     "metadata": {},
     "output_type": "display_data"
    },
    {
     "name": "stdout",
     "output_type": "stream",
     "text": [
      "Game length mean 76.4\n"
     ]
    },
    {
     "data": {
      "application/vnd.jupyter.widget-view+json": {
       "model_id": "f98f39165edc49358d135281745ebde0",
       "version_major": 2,
       "version_minor": 0
      },
      "text/plain": [
       "  0%|          | 0/1000 [00:00<?, ?it/s]"
      ]
     },
     "metadata": {},
     "output_type": "display_data"
    },
    {
     "name": "stdout",
     "output_type": "stream",
     "text": [
      "0.1877681314945221\n",
      "0.23076072350144386\n",
      "0.23012210592627524\n",
      "Finished one batchgen epoch!\n",
      "0.22282692030072213\n",
      "0.22540398746728896\n",
      "Finished one batchgen epoch!\n",
      "0.2243515110015869\n",
      "0.2243402913212776\n",
      "0.22388655588030815\n",
      "Finished one batchgen epoch!\n",
      "0.22528655365109443\n",
      "0.22709295853972436\n",
      "Finished one batchgen epoch!\n"
     ]
    },
    {
     "data": {
      "application/vnd.jupyter.widget-view+json": {
       "model_id": "162e663bec074049b8dd19f7822dc373",
       "version_major": 2,
       "version_minor": 0
      },
      "text/plain": [
       "  0%|          | 0/100 [00:00<?, ?it/s]"
      ]
     },
     "metadata": {},
     "output_type": "display_data"
    },
    {
     "name": "stdout",
     "output_type": "stream",
     "text": [
      "Game length mean 76.2\n"
     ]
    },
    {
     "data": {
      "application/vnd.jupyter.widget-view+json": {
       "model_id": "abd04188a432432f969222684423c8f9",
       "version_major": 2,
       "version_minor": 0
      },
      "text/plain": [
       "  0%|          | 0/1000 [00:00<?, ?it/s]"
      ]
     },
     "metadata": {},
     "output_type": "display_data"
    },
    {
     "name": "stdout",
     "output_type": "stream",
     "text": [
      "0.2260298728942871\n",
      "0.23701273024082184\n",
      "0.23189229041337966\n",
      "Finished one batchgen epoch!\n",
      "0.22971017226576806\n",
      "0.22640094995498658\n",
      "Finished one batchgen epoch!\n",
      "0.23665727108716964\n",
      "0.22834691554307937\n",
      "0.22744655460119248\n",
      "Finished one batchgen epoch!\n",
      "0.23257425382733346\n",
      "0.2211140263825655\n",
      "Finished one batchgen epoch!\n"
     ]
    },
    {
     "data": {
      "application/vnd.jupyter.widget-view+json": {
       "model_id": "9788623c112a49c285c5c6f34ea4c008",
       "version_major": 2,
       "version_minor": 0
      },
      "text/plain": [
       "  0%|          | 0/100 [00:00<?, ?it/s]"
      ]
     },
     "metadata": {},
     "output_type": "display_data"
    },
    {
     "name": "stdout",
     "output_type": "stream",
     "text": [
      "Game length mean 76.41\n"
     ]
    },
    {
     "data": {
      "application/vnd.jupyter.widget-view+json": {
       "model_id": "17264d467fbf48329462f0bf3780bb07",
       "version_major": 2,
       "version_minor": 0
      },
      "text/plain": [
       "  0%|          | 0/1000 [00:00<?, ?it/s]"
      ]
     },
     "metadata": {},
     "output_type": "display_data"
    },
    {
     "name": "stdout",
     "output_type": "stream",
     "text": [
      "0.31411466002464294\n",
      "0.23628958702087402\n",
      "0.2295587606728077\n",
      "Finished one batchgen epoch!\n",
      "0.22679537378251552\n",
      "0.22831574812531472\n",
      "Finished one batchgen epoch!\n",
      "0.23416710048913955\n",
      "0.23136438503861428\n",
      "0.22424750477075578\n",
      "Finished one batchgen epoch!\n",
      "0.22760278865695\n",
      "0.22639493882656098\n",
      "Finished one batchgen epoch!\n"
     ]
    },
    {
     "data": {
      "application/vnd.jupyter.widget-view+json": {
       "model_id": "3cf43a5a4af04de7a32ee3563cf077fb",
       "version_major": 2,
       "version_minor": 0
      },
      "text/plain": [
       "  0%|          | 0/100 [00:00<?, ?it/s]"
      ]
     },
     "metadata": {},
     "output_type": "display_data"
    },
    {
     "name": "stdout",
     "output_type": "stream",
     "text": [
      "Game length mean 77.57\n"
     ]
    },
    {
     "data": {
      "application/vnd.jupyter.widget-view+json": {
       "model_id": "bcdf129c9fe34022b27bf29424a5230d",
       "version_major": 2,
       "version_minor": 0
      },
      "text/plain": [
       "  0%|          | 0/1000 [00:00<?, ?it/s]"
      ]
     },
     "metadata": {},
     "output_type": "display_data"
    },
    {
     "name": "stdout",
     "output_type": "stream",
     "text": [
      "0.18963420391082764\n",
      "0.22078230157494544\n",
      "0.21920810006558894\n",
      "Finished one batchgen epoch!\n",
      "0.22441450655460357\n",
      "0.21745038598775865\n",
      "Finished one batchgen epoch!\n",
      "0.22633125700056553\n",
      "0.22034818544983864\n",
      "0.21991077035665513\n",
      "Finished one batchgen epoch!\n",
      "0.22150653839111328\n",
      "0.22081215173006058\n",
      "Finished one batchgen epoch!\n"
     ]
    },
    {
     "data": {
      "application/vnd.jupyter.widget-view+json": {
       "model_id": "422ba9097b83412f9d8312e51f43238e",
       "version_major": 2,
       "version_minor": 0
      },
      "text/plain": [
       "  0%|          | 0/100 [00:00<?, ?it/s]"
      ]
     },
     "metadata": {},
     "output_type": "display_data"
    },
    {
     "name": "stdout",
     "output_type": "stream",
     "text": [
      "Game length mean 76.17\n"
     ]
    },
    {
     "data": {
      "application/vnd.jupyter.widget-view+json": {
       "model_id": "36b7187cdc6d4083922838c1319ccb83",
       "version_major": 2,
       "version_minor": 0
      },
      "text/plain": [
       "  0%|          | 0/1000 [00:00<?, ?it/s]"
      ]
     },
     "metadata": {},
     "output_type": "display_data"
    },
    {
     "name": "stdout",
     "output_type": "stream",
     "text": [
      "0.25819242000579834\n",
      "0.21412347078323365\n",
      "0.22209002010524273\n",
      "Finished one batchgen epoch!\n",
      "0.2210586741566658\n",
      "0.21959054082632065\n",
      "Finished one batchgen epoch!\n",
      "0.22252168297767638\n",
      "0.2240974622964859\n",
      "0.2137991075217724\n",
      "Finished one batchgen epoch!\n",
      "0.21504141435027121\n",
      "0.21927487924695016\n",
      "Finished one batchgen epoch!\n"
     ]
    },
    {
     "data": {
      "application/vnd.jupyter.widget-view+json": {
       "model_id": "1f7b0180a19c4ad5bc175f8f053a4b8f",
       "version_major": 2,
       "version_minor": 0
      },
      "text/plain": [
       "  0%|          | 0/100 [00:00<?, ?it/s]"
      ]
     },
     "metadata": {},
     "output_type": "display_data"
    },
    {
     "name": "stdout",
     "output_type": "stream",
     "text": [
      "Game length mean 78.78\n"
     ]
    },
    {
     "data": {
      "application/vnd.jupyter.widget-view+json": {
       "model_id": "2175f632ce624b5aba07c3375d01725b",
       "version_major": 2,
       "version_minor": 0
      },
      "text/plain": [
       "  0%|          | 0/1000 [00:00<?, ?it/s]"
      ]
     },
     "metadata": {},
     "output_type": "display_data"
    },
    {
     "name": "stdout",
     "output_type": "stream",
     "text": [
      "0.20323646068572998\n",
      "0.2197272728383541\n",
      "0.21059671051800252\n",
      "Finished one batchgen epoch!\n",
      "0.22314577408134936\n",
      "0.21166405960917473\n",
      "Finished one batchgen epoch!\n",
      "0.21116339817643165\n",
      "0.21588529951870442\n",
      "0.2113906879723072\n",
      "Finished one batchgen epoch!\n",
      "0.20777954377233981\n",
      "0.21219330593943597\n",
      "Finished one batchgen epoch!\n"
     ]
    },
    {
     "data": {
      "application/vnd.jupyter.widget-view+json": {
       "model_id": "70d985d22a274510a8d15fe67efd6566",
       "version_major": 2,
       "version_minor": 0
      },
      "text/plain": [
       "  0%|          | 0/100 [00:00<?, ?it/s]"
      ]
     },
     "metadata": {},
     "output_type": "display_data"
    },
    {
     "name": "stdout",
     "output_type": "stream",
     "text": [
      "Game length mean 74.74\n"
     ]
    },
    {
     "data": {
      "application/vnd.jupyter.widget-view+json": {
       "model_id": "8e6b38a3913e4764b29ec28387b710e8",
       "version_major": 2,
       "version_minor": 0
      },
      "text/plain": [
       "  0%|          | 0/1000 [00:00<?, ?it/s]"
      ]
     },
     "metadata": {},
     "output_type": "display_data"
    },
    {
     "name": "stdout",
     "output_type": "stream",
     "text": [
      "0.2181459367275238\n",
      "0.22251828759908676\n",
      "0.23268612638115882\n",
      "Finished one batchgen epoch!\n",
      "0.2131437638401985\n",
      "0.21997098542749882\n",
      "Finished one batchgen epoch!\n",
      "0.2259365439414978\n",
      "2.2287980280816555\n",
      "Finished one batchgen epoch!\n",
      "0.23264535814523696\n",
      "0.22470709994435312\n",
      "0.2195607043802738\n",
      "Finished one batchgen epoch!\n"
     ]
    },
    {
     "data": {
      "application/vnd.jupyter.widget-view+json": {
       "model_id": "d825cef3956344b6a5f4e545b694474f",
       "version_major": 2,
       "version_minor": 0
      },
      "text/plain": [
       "  0%|          | 0/100 [00:00<?, ?it/s]"
      ]
     },
     "metadata": {},
     "output_type": "display_data"
    },
    {
     "name": "stdout",
     "output_type": "stream",
     "text": [
      "Game length mean 78.5\n"
     ]
    },
    {
     "data": {
      "application/vnd.jupyter.widget-view+json": {
       "model_id": "7e4306b90db14e78ad8fd071e343e61d",
       "version_major": 2,
       "version_minor": 0
      },
      "text/plain": [
       "  0%|          | 0/1000 [00:00<?, ?it/s]"
      ]
     },
     "metadata": {},
     "output_type": "display_data"
    },
    {
     "name": "stdout",
     "output_type": "stream",
     "text": [
      "0.17239105701446533\n",
      "0.21665267184376716\n",
      "0.21423541605472565\n",
      "Finished one batchgen epoch!\n",
      "0.21244209736585618\n",
      "0.20978500977158546\n",
      "Finished one batchgen epoch!\n",
      "0.21547101438045502\n",
      "0.21425157777965068\n",
      "0.21249055489897728\n",
      "Finished one batchgen epoch!\n",
      "0.21041369028389453\n",
      "0.21684755265712738\n",
      "Finished one batchgen epoch!\n"
     ]
    },
    {
     "data": {
      "application/vnd.jupyter.widget-view+json": {
       "model_id": "9668e62966414a3c838bdcc4a744ce8c",
       "version_major": 2,
       "version_minor": 0
      },
      "text/plain": [
       "  0%|          | 0/100 [00:00<?, ?it/s]"
      ]
     },
     "metadata": {},
     "output_type": "display_data"
    },
    {
     "name": "stdout",
     "output_type": "stream",
     "text": [
      "Game length mean 76.69\n"
     ]
    },
    {
     "data": {
      "application/vnd.jupyter.widget-view+json": {
       "model_id": "d4e039d188884bfc981a4dc9cf1163ae",
       "version_major": 2,
       "version_minor": 0
      },
      "text/plain": [
       "  0%|          | 0/1000 [00:00<?, ?it/s]"
      ]
     },
     "metadata": {},
     "output_type": "display_data"
    },
    {
     "name": "stdout",
     "output_type": "stream",
     "text": [
      "0.1382787525653839\n",
      "0.21866573244333268\n",
      "0.21992164462804795\n",
      "Finished one batchgen epoch!\n",
      "0.21973418235778808\n",
      "0.2152025133371353\n",
      "Finished one batchgen epoch!\n",
      "0.21603485316038132\n",
      "0.21927384786307813\n",
      "0.2180645437538624\n",
      "Finished one batchgen epoch!\n",
      "0.2168249251693487\n",
      "0.21710519775748252\n",
      "Finished one batchgen epoch!\n"
     ]
    },
    {
     "data": {
      "application/vnd.jupyter.widget-view+json": {
       "model_id": "07834a414d3742138844496123a18e44",
       "version_major": 2,
       "version_minor": 0
      },
      "text/plain": [
       "  0%|          | 0/100 [00:00<?, ?it/s]"
      ]
     },
     "metadata": {},
     "output_type": "display_data"
    },
    {
     "name": "stdout",
     "output_type": "stream",
     "text": [
      "Game length mean 80.08\n"
     ]
    },
    {
     "data": {
      "application/vnd.jupyter.widget-view+json": {
       "model_id": "db5a97fb2c054ca0a5d5e2f1e68b339a",
       "version_major": 2,
       "version_minor": 0
      },
      "text/plain": [
       "  0%|          | 0/1000 [00:00<?, ?it/s]"
      ]
     },
     "metadata": {},
     "output_type": "display_data"
    },
    {
     "name": "stdout",
     "output_type": "stream",
     "text": [
      "0.19721069931983948\n",
      "0.21279290020465852\n",
      "0.21543763943016528\n",
      "Finished one batchgen epoch!\n",
      "0.19856433786451816\n",
      "0.21406896218657492\n",
      "Finished one batchgen epoch!\n",
      "0.2059840515255928\n",
      "0.20580826237797736\n",
      "0.2059857489168644\n",
      "Finished one batchgen epoch!\n",
      "0.20779189847409726\n",
      "0.20913509599864483\n"
     ]
    },
    {
     "data": {
      "application/vnd.jupyter.widget-view+json": {
       "model_id": "fccd210211c14305af5d0bfacbf7c94b",
       "version_major": 2,
       "version_minor": 0
      },
      "text/plain": [
       "  0%|          | 0/100 [00:00<?, ?it/s]"
      ]
     },
     "metadata": {},
     "output_type": "display_data"
    },
    {
     "name": "stdout",
     "output_type": "stream",
     "text": [
      "Game length mean 76.55\n"
     ]
    },
    {
     "data": {
      "application/vnd.jupyter.widget-view+json": {
       "model_id": "3c2161c3eb474b519ee13abdad74b9b4",
       "version_major": 2,
       "version_minor": 0
      },
      "text/plain": [
       "  0%|          | 0/1000 [00:00<?, ?it/s]"
      ]
     },
     "metadata": {},
     "output_type": "display_data"
    },
    {
     "name": "stdout",
     "output_type": "stream",
     "text": [
      "0.2343549132347107\n",
      "0.22689594596624374\n",
      "0.21851833820343017\n",
      "Finished one batchgen epoch!\n",
      "0.21756571829319\n",
      "0.2238905955851078\n",
      "Finished one batchgen epoch!\n",
      "0.22246794894337654\n",
      "0.215754614174366\n",
      "0.22422564640641213\n",
      "Finished one batchgen epoch!\n",
      "0.22135300800204277\n",
      "0.2108230895549059\n",
      "Finished one batchgen epoch!\n"
     ]
    },
    {
     "data": {
      "application/vnd.jupyter.widget-view+json": {
       "model_id": "22070275e8be41f093c494d2189fbd5e",
       "version_major": 2,
       "version_minor": 0
      },
      "text/plain": [
       "  0%|          | 0/100 [00:00<?, ?it/s]"
      ]
     },
     "metadata": {},
     "output_type": "display_data"
    },
    {
     "name": "stdout",
     "output_type": "stream",
     "text": [
      "Game length mean 77.01\n"
     ]
    },
    {
     "data": {
      "application/vnd.jupyter.widget-view+json": {
       "model_id": "eee1f3cf51d9405d8e5e75d9c39aa513",
       "version_major": 2,
       "version_minor": 0
      },
      "text/plain": [
       "  0%|          | 0/1000 [00:00<?, ?it/s]"
      ]
     },
     "metadata": {},
     "output_type": "display_data"
    },
    {
     "name": "stdout",
     "output_type": "stream",
     "text": [
      "0.2600848078727722\n",
      "0.21771088540554046\n",
      "0.21803974196314813\n",
      "Finished one batchgen epoch!\n",
      "0.21841709747910498\n",
      "0.21614871643483638\n",
      "Finished one batchgen epoch!\n",
      "0.21554788202047348\n",
      "0.2108753241598606\n",
      "0.21815548598766327\n",
      "Finished one batchgen epoch!\n",
      "0.21225763112306595\n",
      "0.21837015688419342\n",
      "Finished one batchgen epoch!\n"
     ]
    },
    {
     "data": {
      "application/vnd.jupyter.widget-view+json": {
       "model_id": "881f67bc7e4d4e478817ca195068d896",
       "version_major": 2,
       "version_minor": 0
      },
      "text/plain": [
       "  0%|          | 0/100 [00:00<?, ?it/s]"
      ]
     },
     "metadata": {},
     "output_type": "display_data"
    },
    {
     "name": "stdout",
     "output_type": "stream",
     "text": [
      "Game length mean 76.91\n"
     ]
    },
    {
     "data": {
      "application/vnd.jupyter.widget-view+json": {
       "model_id": "d2c0332c6f73478c9102135355afb306",
       "version_major": 2,
       "version_minor": 0
      },
      "text/plain": [
       "  0%|          | 0/1000 [00:00<?, ?it/s]"
      ]
     },
     "metadata": {},
     "output_type": "display_data"
    },
    {
     "name": "stdout",
     "output_type": "stream",
     "text": [
      "0.17492085695266724\n",
      "0.2226404793560505\n",
      "0.2223580914735794\n",
      "Finished one batchgen epoch!\n",
      "0.22400650337338449\n",
      "0.21453764580190182\n",
      "Finished one batchgen epoch!\n",
      "0.2217396928369999\n",
      "0.2197986797988415\n",
      "0.2229675604403019\n",
      "Finished one batchgen epoch!\n",
      "0.22106969341635704\n",
      "0.2235099694132805\n",
      "Finished one batchgen epoch!\n"
     ]
    },
    {
     "data": {
      "application/vnd.jupyter.widget-view+json": {
       "model_id": "791f2cd1b8fa4695a41e4bfbe8f3e0d2",
       "version_major": 2,
       "version_minor": 0
      },
      "text/plain": [
       "  0%|          | 0/100 [00:00<?, ?it/s]"
      ]
     },
     "metadata": {},
     "output_type": "display_data"
    },
    {
     "name": "stdout",
     "output_type": "stream",
     "text": [
      "Game length mean 75.37\n"
     ]
    },
    {
     "data": {
      "application/vnd.jupyter.widget-view+json": {
       "model_id": "11653b630bf74dfd941951e586daaf14",
       "version_major": 2,
       "version_minor": 0
      },
      "text/plain": [
       "  0%|          | 0/1000 [00:00<?, ?it/s]"
      ]
     },
     "metadata": {},
     "output_type": "display_data"
    },
    {
     "name": "stdout",
     "output_type": "stream",
     "text": [
      "0.22168031334877014\n",
      "0.22575184389948844\n",
      "0.22216424718499184\n",
      "Finished one batchgen epoch!\n",
      "0.2164677269756794\n",
      "0.22129684016108514\n",
      "Finished one batchgen epoch!\n",
      "0.219357920140028\n",
      "0.22402130499482154\n",
      "0.21493455454707144\n",
      "Finished one batchgen epoch!\n",
      "0.2165738423168659\n",
      "0.2226970387995243\n",
      "Finished one batchgen epoch!\n"
     ]
    },
    {
     "data": {
      "application/vnd.jupyter.widget-view+json": {
       "model_id": "f2f336acf9c44961a0f26cad8c8dc32c",
       "version_major": 2,
       "version_minor": 0
      },
      "text/plain": [
       "  0%|          | 0/100 [00:00<?, ?it/s]"
      ]
     },
     "metadata": {},
     "output_type": "display_data"
    },
    {
     "name": "stdout",
     "output_type": "stream",
     "text": [
      "Game length mean 76.17\n"
     ]
    },
    {
     "data": {
      "application/vnd.jupyter.widget-view+json": {
       "model_id": "76678c893a9e48a78f42b2896cf5b83f",
       "version_major": 2,
       "version_minor": 0
      },
      "text/plain": [
       "  0%|          | 0/1000 [00:00<?, ?it/s]"
      ]
     },
     "metadata": {},
     "output_type": "display_data"
    },
    {
     "name": "stdout",
     "output_type": "stream",
     "text": [
      "0.1745086908340454\n",
      "0.22793414667248726\n",
      "0.22435326382517815\n",
      "Finished one batchgen epoch!\n",
      "0.22446273133158684\n",
      "0.22609713301062584\n",
      "Finished one batchgen epoch!\n",
      "0.22205116212368012\n",
      "0.22177836894989014\n",
      "0.2264861086010933\n",
      "Finished one batchgen epoch!\n",
      "0.22312167167663574\n",
      "0.22407984755933286\n",
      "Finished one batchgen epoch!\n"
     ]
    },
    {
     "data": {
      "application/vnd.jupyter.widget-view+json": {
       "model_id": "ebfc7c1ca7b54cad9644a9b41061b771",
       "version_major": 2,
       "version_minor": 0
      },
      "text/plain": [
       "  0%|          | 0/100 [00:00<?, ?it/s]"
      ]
     },
     "metadata": {},
     "output_type": "display_data"
    },
    {
     "name": "stdout",
     "output_type": "stream",
     "text": [
      "Game length mean 76.89\n"
     ]
    },
    {
     "data": {
      "application/vnd.jupyter.widget-view+json": {
       "model_id": "33a757469c05435489ab191a5d24112e",
       "version_major": 2,
       "version_minor": 0
      },
      "text/plain": [
       "  0%|          | 0/1000 [00:00<?, ?it/s]"
      ]
     },
     "metadata": {},
     "output_type": "display_data"
    },
    {
     "name": "stdout",
     "output_type": "stream",
     "text": [
      "0.1790226846933365\n",
      "0.21241832450032233\n",
      "0.21565153762698175\n",
      "Finished one batchgen epoch!\n",
      "0.21505470529198648\n",
      "0.20933922365307808\n",
      "Finished one batchgen epoch!\n",
      "0.2083990043401718\n",
      "0.21215921700000762\n",
      "0.21232279598712922\n",
      "Finished one batchgen epoch!\n",
      "0.211061722189188\n",
      "0.2107821898162365\n",
      "Finished one batchgen epoch!\n"
     ]
    },
    {
     "data": {
      "application/vnd.jupyter.widget-view+json": {
       "model_id": "7faa6ccfbb1c4fc0a30d14d5ef964323",
       "version_major": 2,
       "version_minor": 0
      },
      "text/plain": [
       "  0%|          | 0/100 [00:00<?, ?it/s]"
      ]
     },
     "metadata": {},
     "output_type": "display_data"
    },
    {
     "name": "stdout",
     "output_type": "stream",
     "text": [
      "Game length mean 75.79\n"
     ]
    },
    {
     "data": {
      "application/vnd.jupyter.widget-view+json": {
       "model_id": "e56c14f2db114875a3d5d12e3cf29bd5",
       "version_major": 2,
       "version_minor": 0
      },
      "text/plain": [
       "  0%|          | 0/1000 [00:00<?, ?it/s]"
      ]
     },
     "metadata": {},
     "output_type": "display_data"
    },
    {
     "name": "stdout",
     "output_type": "stream",
     "text": [
      "0.2097684144973755\n",
      "0.226666684448719\n",
      "0.2299354502558708\n",
      "Finished one batchgen epoch!\n",
      "0.22189129188656806\n",
      "0.22784029051661492\n",
      "Finished one batchgen epoch!\n",
      "0.22534768804907798\n",
      "0.22591191843152048\n",
      "0.2254937106370926\n",
      "Finished one batchgen epoch!\n",
      "0.22205104410648346\n",
      "0.22442977994680405\n",
      "Finished one batchgen epoch!\n"
     ]
    },
    {
     "data": {
      "application/vnd.jupyter.widget-view+json": {
       "model_id": "3764203dc0b242739d60e8460b529536",
       "version_major": 2,
       "version_minor": 0
      },
      "text/plain": [
       "  0%|          | 0/100 [00:00<?, ?it/s]"
      ]
     },
     "metadata": {},
     "output_type": "display_data"
    },
    {
     "name": "stdout",
     "output_type": "stream",
     "text": [
      "Game length mean 75.91\n"
     ]
    },
    {
     "data": {
      "application/vnd.jupyter.widget-view+json": {
       "model_id": "57804c60c438416bb75e457dcee6814f",
       "version_major": 2,
       "version_minor": 0
      },
      "text/plain": [
       "  0%|          | 0/1000 [00:00<?, ?it/s]"
      ]
     },
     "metadata": {},
     "output_type": "display_data"
    },
    {
     "name": "stdout",
     "output_type": "stream",
     "text": [
      "0.2468452751636505\n",
      "0.22096384316682816\n",
      "0.2105577829480171\n",
      "Finished one batchgen epoch!\n",
      "0.21733260199427604\n",
      "0.22055984944105148\n",
      "Finished one batchgen epoch!\n",
      "0.20262468978762627\n",
      "0.21614804215729236\n",
      "0.21619454830884932\n",
      "Finished one batchgen epoch!\n",
      "0.21367572233080864\n",
      "0.2156383942067623\n",
      "Finished one batchgen epoch!\n"
     ]
    },
    {
     "data": {
      "application/vnd.jupyter.widget-view+json": {
       "model_id": "ad703c2f93914a769ddb7ae5ece6b7f6",
       "version_major": 2,
       "version_minor": 0
      },
      "text/plain": [
       "  0%|          | 0/100 [00:00<?, ?it/s]"
      ]
     },
     "metadata": {},
     "output_type": "display_data"
    },
    {
     "name": "stdout",
     "output_type": "stream",
     "text": [
      "Game length mean 74.68\n"
     ]
    },
    {
     "data": {
      "application/vnd.jupyter.widget-view+json": {
       "model_id": "b36270379b2c45df90e3d4b8182d95ea",
       "version_major": 2,
       "version_minor": 0
      },
      "text/plain": [
       "  0%|          | 0/1000 [00:00<?, ?it/s]"
      ]
     },
     "metadata": {},
     "output_type": "display_data"
    },
    {
     "name": "stdout",
     "output_type": "stream",
     "text": [
      "0.16688114404678345\n",
      "0.21864646404981614\n",
      "0.22323154360055925\n",
      "Finished one batchgen epoch!\n",
      "0.2195914575457573\n",
      "0.2224142825603485\n",
      "Finished one batchgen epoch!\n",
      "0.21508343786001205\n",
      "0.21964431278407573\n",
      "Finished one batchgen epoch!\n",
      "0.22400283724069595\n",
      "0.22201353222131728\n",
      "0.21335181325674057\n",
      "Finished one batchgen epoch!\n"
     ]
    },
    {
     "data": {
      "application/vnd.jupyter.widget-view+json": {
       "model_id": "645c255a55024aeaad16abb57bde67e4",
       "version_major": 2,
       "version_minor": 0
      },
      "text/plain": [
       "  0%|          | 0/100 [00:00<?, ?it/s]"
      ]
     },
     "metadata": {},
     "output_type": "display_data"
    },
    {
     "name": "stdout",
     "output_type": "stream",
     "text": [
      "Game length mean 77.32\n"
     ]
    },
    {
     "data": {
      "application/vnd.jupyter.widget-view+json": {
       "model_id": "87711ea37a6940c2b4da668b1bafcd9c",
       "version_major": 2,
       "version_minor": 0
      },
      "text/plain": [
       "  0%|          | 0/1000 [00:00<?, ?it/s]"
      ]
     },
     "metadata": {},
     "output_type": "display_data"
    },
    {
     "name": "stdout",
     "output_type": "stream",
     "text": [
      "0.21811366081237793\n",
      "0.2132507625222206\n",
      "0.22775390937924386\n",
      "Finished one batchgen epoch!\n",
      "0.21524678483605386\n",
      "0.21928508535027505\n",
      "Finished one batchgen epoch!\n",
      "0.21589579477906226\n",
      "0.21651900812983513\n",
      "0.2120532648265362\n",
      "Finished one batchgen epoch!\n",
      "0.2159269431233406\n",
      "0.2197192934155464\n",
      "Finished one batchgen epoch!\n"
     ]
    },
    {
     "data": {
      "application/vnd.jupyter.widget-view+json": {
       "model_id": "1cb97ffc40da40e7be2c6217001eccc1",
       "version_major": 2,
       "version_minor": 0
      },
      "text/plain": [
       "  0%|          | 0/100 [00:00<?, ?it/s]"
      ]
     },
     "metadata": {},
     "output_type": "display_data"
    },
    {
     "name": "stdout",
     "output_type": "stream",
     "text": [
      "Game length mean 75.55\n"
     ]
    },
    {
     "data": {
      "application/vnd.jupyter.widget-view+json": {
       "model_id": "7e5deac109404b82bf571753240c897d",
       "version_major": 2,
       "version_minor": 0
      },
      "text/plain": [
       "  0%|          | 0/1000 [00:00<?, ?it/s]"
      ]
     },
     "metadata": {},
     "output_type": "display_data"
    },
    {
     "name": "stdout",
     "output_type": "stream",
     "text": [
      "0.258480429649353\n",
      "0.22078537553548813\n",
      "0.22767735734581948\n",
      "Finished one batchgen epoch!\n",
      "0.22137802720069885\n",
      "0.22031892135739325\n",
      "Finished one batchgen epoch!\n",
      "0.2225127911567688\n",
      "0.22305145785212516\n",
      "0.21625596404075623\n",
      "Finished one batchgen epoch!\n",
      "0.2163451173901558\n",
      "0.2234462134540081\n",
      "Finished one batchgen epoch!\n"
     ]
    },
    {
     "data": {
      "application/vnd.jupyter.widget-view+json": {
       "model_id": "a70f52a5a9334eff85cffbf9f71a4085",
       "version_major": 2,
       "version_minor": 0
      },
      "text/plain": [
       "  0%|          | 0/100 [00:00<?, ?it/s]"
      ]
     },
     "metadata": {},
     "output_type": "display_data"
    },
    {
     "name": "stdout",
     "output_type": "stream",
     "text": [
      "Game length mean 75.35\n"
     ]
    },
    {
     "data": {
      "application/vnd.jupyter.widget-view+json": {
       "model_id": "a74cfa191e2942228d784cb54a526e6c",
       "version_major": 2,
       "version_minor": 0
      },
      "text/plain": [
       "  0%|          | 0/1000 [00:00<?, ?it/s]"
      ]
     },
     "metadata": {},
     "output_type": "display_data"
    },
    {
     "name": "stdout",
     "output_type": "stream",
     "text": [
      "0.1977136880159378\n",
      "0.2182988367974758\n",
      "0.22589178547263145\n",
      "Finished one batchgen epoch!\n",
      "0.2262300942838192\n",
      "0.21961954966187477\n",
      "Finished one batchgen epoch!\n",
      "0.2161311450600624\n",
      "0.2189888446033001\n",
      "0.22106376066803932\n",
      "Finished one batchgen epoch!\n",
      "0.22251223176717758\n",
      "0.21471352696418763\n",
      "Finished one batchgen epoch!\n"
     ]
    },
    {
     "data": {
      "application/vnd.jupyter.widget-view+json": {
       "model_id": "2f2cd583be37442a9c0b3286414871e7",
       "version_major": 2,
       "version_minor": 0
      },
      "text/plain": [
       "  0%|          | 0/100 [00:00<?, ?it/s]"
      ]
     },
     "metadata": {},
     "output_type": "display_data"
    },
    {
     "name": "stdout",
     "output_type": "stream",
     "text": [
      "Game length mean 74.29\n"
     ]
    },
    {
     "data": {
      "application/vnd.jupyter.widget-view+json": {
       "model_id": "b4a113b4e67e437491d9695ae9d6203a",
       "version_major": 2,
       "version_minor": 0
      },
      "text/plain": [
       "  0%|          | 0/1000 [00:00<?, ?it/s]"
      ]
     },
     "metadata": {},
     "output_type": "display_data"
    },
    {
     "name": "stdout",
     "output_type": "stream",
     "text": [
      "0.22012607753276825\n",
      "0.22286676973104477\n",
      "0.21601498126983643\n",
      "Finished one batchgen epoch!\n",
      "0.22073763713240624\n",
      "0.2203056203573942\n",
      "Finished one batchgen epoch!\n",
      "0.21980714723467826\n",
      "0.21941078677773476\n",
      "Finished one batchgen epoch!\n",
      "0.21975046053528785\n",
      "0.22288024000823498\n",
      "0.2153939412534237\n",
      "Finished one batchgen epoch!\n"
     ]
    },
    {
     "data": {
      "application/vnd.jupyter.widget-view+json": {
       "model_id": "53eefc4f392f48e38bf63a7eac4d75a7",
       "version_major": 2,
       "version_minor": 0
      },
      "text/plain": [
       "  0%|          | 0/100 [00:00<?, ?it/s]"
      ]
     },
     "metadata": {},
     "output_type": "display_data"
    },
    {
     "name": "stdout",
     "output_type": "stream",
     "text": [
      "Game length mean 78.06\n"
     ]
    },
    {
     "data": {
      "application/vnd.jupyter.widget-view+json": {
       "model_id": "8f2656358a6f4327b9a194dfff875c61",
       "version_major": 2,
       "version_minor": 0
      },
      "text/plain": [
       "  0%|          | 0/1000 [00:00<?, ?it/s]"
      ]
     },
     "metadata": {},
     "output_type": "display_data"
    },
    {
     "name": "stdout",
     "output_type": "stream",
     "text": [
      "0.29182296991348267\n",
      "0.21213513016700744\n",
      "0.20683530896902083\n",
      "Finished one batchgen epoch!\n",
      "0.2091047266125679\n",
      "0.2065374932438135\n",
      "Finished one batchgen epoch!\n",
      "0.2104359260201454\n",
      "0.20911187283694743\n",
      "0.20536998383700847\n",
      "Finished one batchgen epoch!\n",
      "0.20350369647145272\n",
      "0.20968960396945477\n",
      "Finished one batchgen epoch!\n"
     ]
    },
    {
     "data": {
      "application/vnd.jupyter.widget-view+json": {
       "model_id": "c81fb81416b94e4d9353fd35e96cb8d0",
       "version_major": 2,
       "version_minor": 0
      },
      "text/plain": [
       "  0%|          | 0/100 [00:00<?, ?it/s]"
      ]
     },
     "metadata": {},
     "output_type": "display_data"
    },
    {
     "name": "stdout",
     "output_type": "stream",
     "text": [
      "Game length mean 74.75\n"
     ]
    },
    {
     "data": {
      "application/vnd.jupyter.widget-view+json": {
       "model_id": "5ec31d705ef844ea9501f50c2f136407",
       "version_major": 2,
       "version_minor": 0
      },
      "text/plain": [
       "  0%|          | 0/1000 [00:00<?, ?it/s]"
      ]
     },
     "metadata": {},
     "output_type": "display_data"
    },
    {
     "name": "stdout",
     "output_type": "stream",
     "text": [
      "0.21745514869689941\n",
      "0.22107949495315551\n",
      "0.2253754308819771\n",
      "Finished one batchgen epoch!\n",
      "0.22586481302976608\n",
      "0.22335053682327272\n",
      "Finished one batchgen epoch!\n",
      "0.22365342259407042\n",
      "0.22494295343756676\n",
      "Finished one batchgen epoch!\n",
      "0.21917906522750855\n",
      "0.22167176738381386\n",
      "0.22448886394500733\n",
      "Finished one batchgen epoch!\n"
     ]
    },
    {
     "data": {
      "application/vnd.jupyter.widget-view+json": {
       "model_id": "bbb66651aa0d4ac1b415c467f881e205",
       "version_major": 2,
       "version_minor": 0
      },
      "text/plain": [
       "  0%|          | 0/100 [00:00<?, ?it/s]"
      ]
     },
     "metadata": {},
     "output_type": "display_data"
    },
    {
     "name": "stdout",
     "output_type": "stream",
     "text": [
      "Game length mean 76.31\n"
     ]
    },
    {
     "data": {
      "application/vnd.jupyter.widget-view+json": {
       "model_id": "5ee0564dfa36428c833353fcf6cda5a3",
       "version_major": 2,
       "version_minor": 0
      },
      "text/plain": [
       "  0%|          | 0/1000 [00:00<?, ?it/s]"
      ]
     },
     "metadata": {},
     "output_type": "display_data"
    },
    {
     "name": "stdout",
     "output_type": "stream",
     "text": [
      "0.2356002777814865\n",
      "0.21818174555897712\n",
      "0.21606539115309714\n",
      "Finished one batchgen epoch!\n",
      "0.21787850692868233\n",
      "0.21765868306159974\n",
      "Finished one batchgen epoch!\n",
      "0.2140057560801506\n",
      "0.21380835101008416\n",
      "0.21058549493551254\n",
      "Finished one batchgen epoch!\n",
      "0.21504487037658693\n",
      "0.2138729514181614\n",
      "Finished one batchgen epoch!\n"
     ]
    },
    {
     "data": {
      "application/vnd.jupyter.widget-view+json": {
       "model_id": "9377e62e83214354a094f6c6cdd49ca6",
       "version_major": 2,
       "version_minor": 0
      },
      "text/plain": [
       "  0%|          | 0/100 [00:00<?, ?it/s]"
      ]
     },
     "metadata": {},
     "output_type": "display_data"
    },
    {
     "name": "stdout",
     "output_type": "stream",
     "text": [
      "Game length mean 75.52\n"
     ]
    },
    {
     "data": {
      "application/vnd.jupyter.widget-view+json": {
       "model_id": "c135e0fa9bbf40478b5eeb0eb6629944",
       "version_major": 2,
       "version_minor": 0
      },
      "text/plain": [
       "  0%|          | 0/1000 [00:00<?, ?it/s]"
      ]
     },
     "metadata": {},
     "output_type": "display_data"
    },
    {
     "name": "stdout",
     "output_type": "stream",
     "text": [
      "0.2790223956108093\n",
      "0.22092558935284615\n",
      "0.21973770081996918\n",
      "Finished one batchgen epoch!\n",
      "0.22146916329860689\n",
      "0.22204496517777442\n",
      "Finished one batchgen epoch!\n",
      "0.21573148116469384\n",
      "0.22026319555938245\n",
      "0.22429144158959388\n",
      "Finished one batchgen epoch!\n",
      "0.22715038403868676\n",
      "0.22044888593256473\n",
      "Finished one batchgen epoch!\n"
     ]
    },
    {
     "data": {
      "application/vnd.jupyter.widget-view+json": {
       "model_id": "045272b0205d46d8b415acacb2ec2bf6",
       "version_major": 2,
       "version_minor": 0
      },
      "text/plain": [
       "  0%|          | 0/100 [00:00<?, ?it/s]"
      ]
     },
     "metadata": {},
     "output_type": "display_data"
    },
    {
     "name": "stdout",
     "output_type": "stream",
     "text": [
      "Game length mean 77.75\n"
     ]
    },
    {
     "data": {
      "application/vnd.jupyter.widget-view+json": {
       "model_id": "38a4763732c14783971ddd43888ea9f4",
       "version_major": 2,
       "version_minor": 0
      },
      "text/plain": [
       "  0%|          | 0/1000 [00:00<?, ?it/s]"
      ]
     },
     "metadata": {},
     "output_type": "display_data"
    },
    {
     "name": "stdout",
     "output_type": "stream",
     "text": [
      "0.19971388578414917\n",
      "0.2212899509072304\n",
      "0.22023367613554\n",
      "Finished one batchgen epoch!\n",
      "0.21701055720448495\n",
      "0.2207539378106594\n",
      "Finished one batchgen epoch!\n",
      "0.2158297261595726\n",
      "0.21835088282823562\n",
      "0.21521903537213802\n",
      "Finished one batchgen epoch!\n",
      "0.21938812375068664\n",
      "0.21777998991310596\n",
      "Finished one batchgen epoch!\n"
     ]
    },
    {
     "data": {
      "application/vnd.jupyter.widget-view+json": {
       "model_id": "148a16e033444333a8cb62eb3f928b2b",
       "version_major": 2,
       "version_minor": 0
      },
      "text/plain": [
       "  0%|          | 0/100 [00:00<?, ?it/s]"
      ]
     },
     "metadata": {},
     "output_type": "display_data"
    },
    {
     "name": "stdout",
     "output_type": "stream",
     "text": [
      "Game length mean 75.98\n"
     ]
    },
    {
     "data": {
      "application/vnd.jupyter.widget-view+json": {
       "model_id": "25def0077df645aeac31e51d82f8ccea",
       "version_major": 2,
       "version_minor": 0
      },
      "text/plain": [
       "  0%|          | 0/1000 [00:00<?, ?it/s]"
      ]
     },
     "metadata": {},
     "output_type": "display_data"
    },
    {
     "name": "stdout",
     "output_type": "stream",
     "text": [
      "0.22342482209205627\n",
      "0.21936567023396492\n",
      "0.22724993973970414\n",
      "Finished one batchgen epoch!\n",
      "0.22330280750989914\n",
      "0.22255639895796775\n",
      "Finished one batchgen epoch!\n",
      "0.2223168821632862\n",
      "0.22196666114032268\n",
      "0.22090700551867484\n",
      "Finished one batchgen epoch!\n",
      "0.2166964416950941\n",
      "0.22205358907580375\n",
      "Finished one batchgen epoch!\n"
     ]
    },
    {
     "data": {
      "application/vnd.jupyter.widget-view+json": {
       "model_id": "c156de2667054cf6bba46bd14ad9dccd",
       "version_major": 2,
       "version_minor": 0
      },
      "text/plain": [
       "  0%|          | 0/100 [00:00<?, ?it/s]"
      ]
     },
     "metadata": {},
     "output_type": "display_data"
    },
    {
     "name": "stdout",
     "output_type": "stream",
     "text": [
      "Game length mean 79.65\n"
     ]
    },
    {
     "data": {
      "application/vnd.jupyter.widget-view+json": {
       "model_id": "73c0cc610be7437396cc54569300f603",
       "version_major": 2,
       "version_minor": 0
      },
      "text/plain": [
       "  0%|          | 0/1000 [00:00<?, ?it/s]"
      ]
     },
     "metadata": {},
     "output_type": "display_data"
    },
    {
     "name": "stdout",
     "output_type": "stream",
     "text": [
      "0.2717761993408203\n",
      "0.20631809905171394\n",
      "0.20290358431637287\n",
      "Finished one batchgen epoch!\n",
      "0.20059265449643135\n",
      "0.1995260325074196\n",
      "Finished one batchgen epoch!\n",
      "0.20597604051232338\n",
      "0.19981762006878853\n",
      "0.20215884745121002\n",
      "Finished one batchgen epoch!\n",
      "0.20121505357325076\n",
      "0.1975500363111496\n",
      "Finished one batchgen epoch!\n"
     ]
    },
    {
     "data": {
      "application/vnd.jupyter.widget-view+json": {
       "model_id": "b068f5558dff4ea08fe3ed50b925751e",
       "version_major": 2,
       "version_minor": 0
      },
      "text/plain": [
       "  0%|          | 0/100 [00:00<?, ?it/s]"
      ]
     },
     "metadata": {},
     "output_type": "display_data"
    },
    {
     "name": "stdout",
     "output_type": "stream",
     "text": [
      "Game length mean 76.52\n"
     ]
    },
    {
     "data": {
      "application/vnd.jupyter.widget-view+json": {
       "model_id": "1b115b158b974f52b00c32b4c678bd57",
       "version_major": 2,
       "version_minor": 0
      },
      "text/plain": [
       "  0%|          | 0/1000 [00:00<?, ?it/s]"
      ]
     },
     "metadata": {},
     "output_type": "display_data"
    },
    {
     "name": "stdout",
     "output_type": "stream",
     "text": [
      "0.20274300873279572\n",
      "0.22012388154864312\n",
      "0.22085365168750287\n",
      "Finished one batchgen epoch!\n",
      "0.21868892669677734\n",
      "0.21607123225927352\n",
      "Finished one batchgen epoch!\n",
      "0.21591538667678833\n",
      "0.22427575305104255\n",
      "0.21247308120131492\n",
      "Finished one batchgen epoch!\n",
      "0.20701369136571884\n",
      "0.21935231253504753\n",
      "Finished one batchgen epoch!\n"
     ]
    },
    {
     "data": {
      "application/vnd.jupyter.widget-view+json": {
       "model_id": "a66cf1d60f394fe98cca35f326707d3c",
       "version_major": 2,
       "version_minor": 0
      },
      "text/plain": [
       "  0%|          | 0/100 [00:00<?, ?it/s]"
      ]
     },
     "metadata": {},
     "output_type": "display_data"
    },
    {
     "name": "stdout",
     "output_type": "stream",
     "text": [
      "Game length mean 76.39\n"
     ]
    },
    {
     "data": {
      "application/vnd.jupyter.widget-view+json": {
       "model_id": "86aaf88caaaa4e07a11f8373d6856a5c",
       "version_major": 2,
       "version_minor": 0
      },
      "text/plain": [
       "  0%|          | 0/1000 [00:00<?, ?it/s]"
      ]
     },
     "metadata": {},
     "output_type": "display_data"
    },
    {
     "name": "stdout",
     "output_type": "stream",
     "text": [
      "0.1930471509695053\n",
      "0.22576287671923637\n",
      "0.21465767547488213\n",
      "Finished one batchgen epoch!\n",
      "0.2090121877938509\n",
      "0.22052673131227493\n",
      "Finished one batchgen epoch!\n",
      "0.21649790346622466\n",
      "0.21052160665392874\n",
      "0.21791544809937477\n",
      "Finished one batchgen epoch!\n",
      "0.2144216600060463\n",
      "0.21672309666872025\n",
      "Finished one batchgen epoch!\n"
     ]
    },
    {
     "data": {
      "application/vnd.jupyter.widget-view+json": {
       "model_id": "0b2e42d701b44be98d7b501f57b992f0",
       "version_major": 2,
       "version_minor": 0
      },
      "text/plain": [
       "  0%|          | 0/100 [00:00<?, ?it/s]"
      ]
     },
     "metadata": {},
     "output_type": "display_data"
    },
    {
     "name": "stdout",
     "output_type": "stream",
     "text": [
      "Game length mean 76.81\n"
     ]
    },
    {
     "data": {
      "application/vnd.jupyter.widget-view+json": {
       "model_id": "826e7af0b7204a3394c90e183f8ef032",
       "version_major": 2,
       "version_minor": 0
      },
      "text/plain": [
       "  0%|          | 0/1000 [00:00<?, ?it/s]"
      ]
     },
     "metadata": {},
     "output_type": "display_data"
    },
    {
     "name": "stdout",
     "output_type": "stream",
     "text": [
      "0.1878422349691391\n",
      "0.22798120200634003\n",
      "0.21561480700969696\n",
      "Finished one batchgen epoch!\n",
      "0.22392303109169007\n",
      "0.22237091675400733\n",
      "Finished one batchgen epoch!\n",
      "0.2208140605688095\n",
      "0.22217961862683297\n",
      "0.21910545617341995\n",
      "Finished one batchgen epoch!\n",
      "0.22115915447473525\n",
      "0.21235518388450145\n",
      "Finished one batchgen epoch!\n"
     ]
    },
    {
     "data": {
      "application/vnd.jupyter.widget-view+json": {
       "model_id": "af59443dab68453fab5f3650481d62d8",
       "version_major": 2,
       "version_minor": 0
      },
      "text/plain": [
       "  0%|          | 0/100 [00:00<?, ?it/s]"
      ]
     },
     "metadata": {},
     "output_type": "display_data"
    },
    {
     "name": "stdout",
     "output_type": "stream",
     "text": [
      "Game length mean 76.7\n"
     ]
    },
    {
     "data": {
      "application/vnd.jupyter.widget-view+json": {
       "model_id": "78f6d71c274744c8aaf744bac818d80a",
       "version_major": 2,
       "version_minor": 0
      },
      "text/plain": [
       "  0%|          | 0/1000 [00:00<?, ?it/s]"
      ]
     },
     "metadata": {},
     "output_type": "display_data"
    },
    {
     "name": "stdout",
     "output_type": "stream",
     "text": [
      "0.18170614540576935\n",
      "0.2202835711836815\n",
      "0.22400173768401146\n",
      "Finished one batchgen epoch!\n",
      "0.2182414448261261\n",
      "0.21439421847462653\n",
      "Finished one batchgen epoch!\n",
      "0.2149716366827488\n",
      "0.21922833263874053\n",
      "0.21726543843746185\n",
      "Finished one batchgen epoch!\n",
      "0.211857920140028\n",
      "0.21695510283112526\n",
      "Finished one batchgen epoch!\n"
     ]
    },
    {
     "data": {
      "application/vnd.jupyter.widget-view+json": {
       "model_id": "ffe19836b7ed478c93483d2ed93655e1",
       "version_major": 2,
       "version_minor": 0
      },
      "text/plain": [
       "  0%|          | 0/100 [00:00<?, ?it/s]"
      ]
     },
     "metadata": {},
     "output_type": "display_data"
    },
    {
     "name": "stdout",
     "output_type": "stream",
     "text": [
      "Game length mean 76.02\n"
     ]
    },
    {
     "data": {
      "application/vnd.jupyter.widget-view+json": {
       "model_id": "698f217b7e6e4983b15a5f1cc46badee",
       "version_major": 2,
       "version_minor": 0
      },
      "text/plain": [
       "  0%|          | 0/1000 [00:00<?, ?it/s]"
      ]
     },
     "metadata": {},
     "output_type": "display_data"
    },
    {
     "name": "stdout",
     "output_type": "stream",
     "text": [
      "0.25828009843826294\n",
      "0.2210280679911375\n",
      "0.2194311847537756\n",
      "Finished one batchgen epoch!\n",
      "0.2172174087166786\n",
      "0.2179759331047535\n",
      "Finished one batchgen epoch!\n",
      "0.2149412886798382\n",
      "0.21673959091305733\n",
      "0.21957556992769242\n",
      "Finished one batchgen epoch!\n",
      "0.2178953231871128\n",
      "0.41516220934689047\n",
      "Finished one batchgen epoch!\n"
     ]
    },
    {
     "data": {
      "application/vnd.jupyter.widget-view+json": {
       "model_id": "ed42cbbdd726428d87622456a80661a6",
       "version_major": 2,
       "version_minor": 0
      },
      "text/plain": [
       "  0%|          | 0/100 [00:00<?, ?it/s]"
      ]
     },
     "metadata": {},
     "output_type": "display_data"
    },
    {
     "name": "stdout",
     "output_type": "stream",
     "text": [
      "Game length mean 78.98\n"
     ]
    },
    {
     "data": {
      "application/vnd.jupyter.widget-view+json": {
       "model_id": "055f79b9d2b24850aed662bfe4d8d17b",
       "version_major": 2,
       "version_minor": 0
      },
      "text/plain": [
       "  0%|          | 0/1000 [00:00<?, ?it/s]"
      ]
     },
     "metadata": {},
     "output_type": "display_data"
    },
    {
     "name": "stdout",
     "output_type": "stream",
     "text": [
      "0.22740551829338074\n",
      "0.2122888118773699\n",
      "0.22350138261914254\n",
      "Finished one batchgen epoch!\n",
      "0.21222371369600296\n",
      "0.21286741226911546\n",
      "Finished one batchgen epoch!\n",
      "0.21881312236189843\n",
      "0.21191833019256592\n",
      "0.20969478338956832\n",
      "Finished one batchgen epoch!\n",
      "0.2205652943253517\n",
      "0.2094924796372652\n",
      "Finished one batchgen epoch!\n"
     ]
    },
    {
     "data": {
      "application/vnd.jupyter.widget-view+json": {
       "model_id": "94e7efb6469d4cb49bea1dca8a36d773",
       "version_major": 2,
       "version_minor": 0
      },
      "text/plain": [
       "  0%|          | 0/100 [00:00<?, ?it/s]"
      ]
     },
     "metadata": {},
     "output_type": "display_data"
    },
    {
     "name": "stdout",
     "output_type": "stream",
     "text": [
      "Game length mean 75.26\n"
     ]
    },
    {
     "data": {
      "application/vnd.jupyter.widget-view+json": {
       "model_id": "1261959d52c8427795e4187419e323d8",
       "version_major": 2,
       "version_minor": 0
      },
      "text/plain": [
       "  0%|          | 0/1000 [00:00<?, ?it/s]"
      ]
     },
     "metadata": {},
     "output_type": "display_data"
    },
    {
     "name": "stdout",
     "output_type": "stream",
     "text": [
      "0.22036123275756836\n",
      "0.22752508908510208\n",
      "0.22599025294184685\n",
      "Finished one batchgen epoch!\n",
      "0.22539483830332757\n",
      "0.23024765089154242\n",
      "Finished one batchgen epoch!\n",
      "0.22915548890829085\n",
      "0.22921055808663368\n",
      "0.22683808833360672\n",
      "Finished one batchgen epoch!\n",
      "0.22272513702511787\n",
      "0.22487927988171577\n",
      "Finished one batchgen epoch!\n"
     ]
    },
    {
     "data": {
      "application/vnd.jupyter.widget-view+json": {
       "model_id": "91e1a1560c204547b84757daccbdf49f",
       "version_major": 2,
       "version_minor": 0
      },
      "text/plain": [
       "  0%|          | 0/100 [00:00<?, ?it/s]"
      ]
     },
     "metadata": {},
     "output_type": "display_data"
    },
    {
     "name": "stdout",
     "output_type": "stream",
     "text": [
      "Game length mean 75.41\n"
     ]
    },
    {
     "data": {
      "application/vnd.jupyter.widget-view+json": {
       "model_id": "167dcebb241f44cb9d1997c2ed02ab35",
       "version_major": 2,
       "version_minor": 0
      },
      "text/plain": [
       "  0%|          | 0/1000 [00:00<?, ?it/s]"
      ]
     },
     "metadata": {},
     "output_type": "display_data"
    },
    {
     "name": "stdout",
     "output_type": "stream",
     "text": [
      "0.24270965158939362\n",
      "0.22486577242612837\n",
      "0.2212249755859375\n",
      "Finished one batchgen epoch!\n",
      "0.22245413586497306\n",
      "0.2158669775724411\n",
      "Finished one batchgen epoch!\n",
      "0.22978778705000877\n",
      "0.22540137007832528\n",
      "0.221906106621027\n",
      "Finished one batchgen epoch!\n",
      "0.2173408429324627\n",
      "0.22842373922467232\n",
      "Finished one batchgen epoch!\n"
     ]
    },
    {
     "data": {
      "application/vnd.jupyter.widget-view+json": {
       "model_id": "3a3e6c8a06484051b36e206160dc4bf1",
       "version_major": 2,
       "version_minor": 0
      },
      "text/plain": [
       "  0%|          | 0/100 [00:00<?, ?it/s]"
      ]
     },
     "metadata": {},
     "output_type": "display_data"
    },
    {
     "name": "stdout",
     "output_type": "stream",
     "text": [
      "Game length mean 76.95\n"
     ]
    },
    {
     "data": {
      "application/vnd.jupyter.widget-view+json": {
       "model_id": "3def6cdae472470d9c4b1975c1a53bb8",
       "version_major": 2,
       "version_minor": 0
      },
      "text/plain": [
       "  0%|          | 0/1000 [00:00<?, ?it/s]"
      ]
     },
     "metadata": {},
     "output_type": "display_data"
    },
    {
     "name": "stdout",
     "output_type": "stream",
     "text": [
      "0.20925076305866241\n",
      "0.2162350395321846\n",
      "0.215996757671237\n",
      "Finished one batchgen epoch!\n",
      "0.2124371522665024\n",
      "0.2140067371726036\n",
      "Finished one batchgen epoch!\n",
      "0.2104056505858898\n",
      "0.20958366096019745\n",
      "0.21492604553699493\n",
      "Finished one batchgen epoch!\n",
      "0.20924609430134297\n",
      "0.2115657524764538\n",
      "Finished one batchgen epoch!\n"
     ]
    },
    {
     "data": {
      "application/vnd.jupyter.widget-view+json": {
       "model_id": "72ff5339043447f0b2ccb21bb00d6a99",
       "version_major": 2,
       "version_minor": 0
      },
      "text/plain": [
       "  0%|          | 0/100 [00:00<?, ?it/s]"
      ]
     },
     "metadata": {},
     "output_type": "display_data"
    },
    {
     "name": "stdout",
     "output_type": "stream",
     "text": [
      "Game length mean 77.08\n"
     ]
    },
    {
     "data": {
      "application/vnd.jupyter.widget-view+json": {
       "model_id": "f6c1478008f54a3f8de94222027fc1a4",
       "version_major": 2,
       "version_minor": 0
      },
      "text/plain": [
       "  0%|          | 0/1000 [00:00<?, ?it/s]"
      ]
     },
     "metadata": {},
     "output_type": "display_data"
    },
    {
     "name": "stdout",
     "output_type": "stream",
     "text": [
      "0.1681516468524933\n",
      "0.21586364954710008\n",
      "0.21551209837198257\n",
      "Finished one batchgen epoch!\n",
      "0.2163612262904644\n",
      "0.2114290963113308\n",
      "Finished one batchgen epoch!\n",
      "0.2101630362123251\n",
      "0.21674651592969896\n",
      "0.2072354331612587\n",
      "Finished one batchgen epoch!\n",
      "0.20937622621655463\n",
      "0.21419306501746177\n",
      "Finished one batchgen epoch!\n"
     ]
    },
    {
     "data": {
      "application/vnd.jupyter.widget-view+json": {
       "model_id": "114b57dd8664448488318f9fc63a2598",
       "version_major": 2,
       "version_minor": 0
      },
      "text/plain": [
       "  0%|          | 0/100 [00:00<?, ?it/s]"
      ]
     },
     "metadata": {},
     "output_type": "display_data"
    },
    {
     "name": "stdout",
     "output_type": "stream",
     "text": [
      "Game length mean 76.45\n"
     ]
    },
    {
     "data": {
      "application/vnd.jupyter.widget-view+json": {
       "model_id": "6750b218f4bf4cd48cb588bc173f5575",
       "version_major": 2,
       "version_minor": 0
      },
      "text/plain": [
       "  0%|          | 0/1000 [00:00<?, ?it/s]"
      ]
     },
     "metadata": {},
     "output_type": "display_data"
    },
    {
     "name": "stdout",
     "output_type": "stream",
     "text": [
      "0.23547032475471497\n",
      "0.22277507677674294\n",
      "0.22259842917323114\n",
      "Finished one batchgen epoch!\n",
      "0.22460291564464568\n",
      "0.2220082961022854\n",
      "Finished one batchgen epoch!\n",
      "0.21352963045239448\n",
      "0.2157913938164711\n",
      "0.2248429550230503\n",
      "Finished one batchgen epoch!\n",
      "0.21907051891088486\n",
      "0.22058559834957123\n",
      "Finished one batchgen epoch!\n"
     ]
    },
    {
     "data": {
      "application/vnd.jupyter.widget-view+json": {
       "model_id": "60b7a92a3dca4109acae31612046dd2c",
       "version_major": 2,
       "version_minor": 0
      },
      "text/plain": [
       "  0%|          | 0/100 [00:00<?, ?it/s]"
      ]
     },
     "metadata": {},
     "output_type": "display_data"
    },
    {
     "name": "stdout",
     "output_type": "stream",
     "text": [
      "Game length mean 78.44\n"
     ]
    },
    {
     "data": {
      "application/vnd.jupyter.widget-view+json": {
       "model_id": "bd63b6e47fcf455ea3302d290e50de58",
       "version_major": 2,
       "version_minor": 0
      },
      "text/plain": [
       "  0%|          | 0/1000 [00:00<?, ?it/s]"
      ]
     },
     "metadata": {},
     "output_type": "display_data"
    },
    {
     "name": "stdout",
     "output_type": "stream",
     "text": [
      "0.24420829117298126\n",
      "0.21612080946564674\n",
      "0.2090740904957056\n",
      "Finished one batchgen epoch!\n",
      "0.2105014195293188\n",
      "0.21659810721874237\n",
      "Finished one batchgen epoch!\n",
      "0.2097403746843338\n",
      "0.20854849621653557\n",
      "0.21318216055631636\n",
      "Finished one batchgen epoch!\n",
      "0.20545311629772187\n",
      "0.21360775992274283\n",
      "Finished one batchgen epoch!\n"
     ]
    },
    {
     "data": {
      "application/vnd.jupyter.widget-view+json": {
       "model_id": "223050b41aa54fedb3d3fd540898470b",
       "version_major": 2,
       "version_minor": 0
      },
      "text/plain": [
       "  0%|          | 0/100 [00:00<?, ?it/s]"
      ]
     },
     "metadata": {},
     "output_type": "display_data"
    },
    {
     "name": "stdout",
     "output_type": "stream",
     "text": [
      "Game length mean 74.87\n"
     ]
    },
    {
     "data": {
      "application/vnd.jupyter.widget-view+json": {
       "model_id": "4dd70cc63dd546a98f0d0764bfaae0b5",
       "version_major": 2,
       "version_minor": 0
      },
      "text/plain": [
       "  0%|          | 0/1000 [00:00<?, ?it/s]"
      ]
     },
     "metadata": {},
     "output_type": "display_data"
    },
    {
     "name": "stdout",
     "output_type": "stream",
     "text": [
      "0.1821492612361908\n",
      "0.22889039680361747\n",
      "0.2212898001074791\n",
      "Finished one batchgen epoch!\n",
      "0.2253749892115593\n",
      "0.220689015686512\n",
      "Finished one batchgen epoch!\n",
      "0.22370522871613502\n",
      "0.22326033174991608\n",
      "Finished one batchgen epoch!\n",
      "0.21879754096269607\n",
      "0.21603257805109025\n",
      "0.2248393812775612\n",
      "Finished one batchgen epoch!\n"
     ]
    },
    {
     "data": {
      "application/vnd.jupyter.widget-view+json": {
       "model_id": "016c6ace5fc04af29bd6a9657970fdb0",
       "version_major": 2,
       "version_minor": 0
      },
      "text/plain": [
       "  0%|          | 0/100 [00:00<?, ?it/s]"
      ]
     },
     "metadata": {},
     "output_type": "display_data"
    },
    {
     "name": "stdout",
     "output_type": "stream",
     "text": [
      "Game length mean 75.42\n"
     ]
    },
    {
     "data": {
      "application/vnd.jupyter.widget-view+json": {
       "model_id": "1d96d0edc93f4350b581b5900ee7bafc",
       "version_major": 2,
       "version_minor": 0
      },
      "text/plain": [
       "  0%|          | 0/1000 [00:00<?, ?it/s]"
      ]
     },
     "metadata": {},
     "output_type": "display_data"
    },
    {
     "name": "stdout",
     "output_type": "stream",
     "text": [
      "0.15464945137500763\n",
      "0.21853287577629088\n",
      "0.22220954909920693\n",
      "Finished one batchgen epoch!\n",
      "0.22082759216427802\n",
      "0.21695147052407265\n",
      "Finished one batchgen epoch!\n",
      "0.21504068106412888\n",
      "0.2191445416212082\n",
      "0.21670259028673172\n",
      "Finished one batchgen epoch!\n",
      "0.2174246859550476\n",
      "0.21894083127379418\n",
      "Finished one batchgen epoch!\n"
     ]
    },
    {
     "data": {
      "application/vnd.jupyter.widget-view+json": {
       "model_id": "49e8403732fe467582e53a4e5723bb5e",
       "version_major": 2,
       "version_minor": 0
      },
      "text/plain": [
       "  0%|          | 0/100 [00:00<?, ?it/s]"
      ]
     },
     "metadata": {},
     "output_type": "display_data"
    },
    {
     "name": "stdout",
     "output_type": "stream",
     "text": [
      "Game length mean 75.18\n"
     ]
    },
    {
     "data": {
      "application/vnd.jupyter.widget-view+json": {
       "model_id": "a7d71e8b51dd462aa0006cdea22ffa3c",
       "version_major": 2,
       "version_minor": 0
      },
      "text/plain": [
       "  0%|          | 0/1000 [00:00<?, ?it/s]"
      ]
     },
     "metadata": {},
     "output_type": "display_data"
    },
    {
     "name": "stdout",
     "output_type": "stream",
     "text": [
      "0.2076827585697174\n",
      "0.21870518386363982\n",
      "0.21501169636845588\n",
      "Finished one batchgen epoch!\n",
      "0.21377333641052246\n",
      "0.21374983921647073\n",
      "Finished one batchgen epoch!\n",
      "0.211398393958807\n",
      "0.2162909184396267\n",
      "0.2127285887300968\n",
      "Finished one batchgen epoch!\n",
      "0.21001862436532975\n",
      "0.21377702564001083\n",
      "Finished one batchgen epoch!\n"
     ]
    },
    {
     "data": {
      "application/vnd.jupyter.widget-view+json": {
       "model_id": "d7c11f16527042239b5177452cc0f736",
       "version_major": 2,
       "version_minor": 0
      },
      "text/plain": [
       "  0%|          | 0/100 [00:00<?, ?it/s]"
      ]
     },
     "metadata": {},
     "output_type": "display_data"
    },
    {
     "name": "stdout",
     "output_type": "stream",
     "text": [
      "Game length mean 75.84\n"
     ]
    },
    {
     "data": {
      "application/vnd.jupyter.widget-view+json": {
       "model_id": "e449fbdac7a04636972998837bd50e1c",
       "version_major": 2,
       "version_minor": 0
      },
      "text/plain": [
       "  0%|          | 0/1000 [00:00<?, ?it/s]"
      ]
     },
     "metadata": {},
     "output_type": "display_data"
    },
    {
     "name": "stdout",
     "output_type": "stream",
     "text": [
      "0.19496197998523712\n",
      "0.21583300024271013\n",
      "0.21811622880399228\n",
      "Finished one batchgen epoch!\n",
      "0.21198969677090646\n",
      "0.2174309429526329\n",
      "Finished one batchgen epoch!\n",
      "0.21036947295069694\n",
      "0.2174631939828396\n",
      "0.21588484287261964\n",
      "Finished one batchgen epoch!\n",
      "0.209200748950243\n",
      "0.21988316282629966\n",
      "Finished one batchgen epoch!\n"
     ]
    },
    {
     "data": {
      "application/vnd.jupyter.widget-view+json": {
       "model_id": "673fafeda8c74c1f82a74132b4587678",
       "version_major": 2,
       "version_minor": 0
      },
      "text/plain": [
       "  0%|          | 0/100 [00:00<?, ?it/s]"
      ]
     },
     "metadata": {},
     "output_type": "display_data"
    },
    {
     "name": "stdout",
     "output_type": "stream",
     "text": [
      "Game length mean 74.6\n"
     ]
    },
    {
     "data": {
      "application/vnd.jupyter.widget-view+json": {
       "model_id": "9530eef3bf024350a4043fd1599621f2",
       "version_major": 2,
       "version_minor": 0
      },
      "text/plain": [
       "  0%|          | 0/1000 [00:00<?, ?it/s]"
      ]
     },
     "metadata": {},
     "output_type": "display_data"
    },
    {
     "name": "stdout",
     "output_type": "stream",
     "text": [
      "0.23882651329040527\n",
      "0.21522610276937484\n",
      "0.2168371094763279\n",
      "Finished one batchgen epoch!\n",
      "0.22259415686130524\n",
      "0.21308767847716809\n",
      "Finished one batchgen epoch!\n",
      "0.21322016447782516\n",
      "0.2139659108221531\n",
      "Finished one batchgen epoch!\n",
      "0.2120499613881111\n",
      "0.2114359623193741\n",
      "0.2156694395840168\n",
      "Finished one batchgen epoch!\n"
     ]
    },
    {
     "data": {
      "application/vnd.jupyter.widget-view+json": {
       "model_id": "f060a21f2d5d4b9ca594fd6462ac8498",
       "version_major": 2,
       "version_minor": 0
      },
      "text/plain": [
       "  0%|          | 0/100 [00:00<?, ?it/s]"
      ]
     },
     "metadata": {},
     "output_type": "display_data"
    },
    {
     "name": "stdout",
     "output_type": "stream",
     "text": [
      "Game length mean 76.81\n"
     ]
    },
    {
     "data": {
      "application/vnd.jupyter.widget-view+json": {
       "model_id": "ad87b225d6da4db396d3decf7d4f6b90",
       "version_major": 2,
       "version_minor": 0
      },
      "text/plain": [
       "  0%|          | 0/1000 [00:00<?, ?it/s]"
      ]
     },
     "metadata": {},
     "output_type": "display_data"
    },
    {
     "name": "stdout",
     "output_type": "stream",
     "text": [
      "0.14608199894428253\n",
      "0.21733928278088568\n",
      "0.21864444732666016\n",
      "Finished one batchgen epoch!\n",
      "0.21737149700522423\n",
      "0.21421659529209136\n",
      "Finished one batchgen epoch!\n",
      "0.2233884860575199\n",
      "0.21249894201755523\n",
      "0.21640534371137618\n",
      "Finished one batchgen epoch!\n",
      "0.2131449358165264\n",
      "0.21412248224020003\n",
      "Finished one batchgen epoch!\n"
     ]
    },
    {
     "data": {
      "application/vnd.jupyter.widget-view+json": {
       "model_id": "341113ea57b449e49eb15e8cc8bf33b9",
       "version_major": 2,
       "version_minor": 0
      },
      "text/plain": [
       "  0%|          | 0/100 [00:00<?, ?it/s]"
      ]
     },
     "metadata": {},
     "output_type": "display_data"
    },
    {
     "name": "stdout",
     "output_type": "stream",
     "text": [
      "Game length mean 74.62\n"
     ]
    },
    {
     "data": {
      "application/vnd.jupyter.widget-view+json": {
       "model_id": "3a8110ed6b5e44148895fa5766c93b4a",
       "version_major": 2,
       "version_minor": 0
      },
      "text/plain": [
       "  0%|          | 0/1000 [00:00<?, ?it/s]"
      ]
     },
     "metadata": {},
     "output_type": "display_data"
    },
    {
     "name": "stdout",
     "output_type": "stream",
     "text": [
      "0.21247616410255432\n",
      "0.21621815666556357\n",
      "0.21405745789408684\n",
      "Finished one batchgen epoch!\n",
      "0.21962248250842095\n",
      "0.21452665731310844\n",
      "Finished one batchgen epoch!\n",
      "0.218673544973135\n",
      "0.21474763214588166\n",
      "Finished one batchgen epoch!\n",
      "0.21265771552920343\n",
      "0.2139324026554823\n",
      "0.21848046407103539\n",
      "Finished one batchgen epoch!\n"
     ]
    },
    {
     "data": {
      "application/vnd.jupyter.widget-view+json": {
       "model_id": "dbe243c0f0244b40a625179cff7b6110",
       "version_major": 2,
       "version_minor": 0
      },
      "text/plain": [
       "  0%|          | 0/100 [00:00<?, ?it/s]"
      ]
     },
     "metadata": {},
     "output_type": "display_data"
    },
    {
     "name": "stdout",
     "output_type": "stream",
     "text": [
      "Game length mean 76.06\n"
     ]
    },
    {
     "data": {
      "application/vnd.jupyter.widget-view+json": {
       "model_id": "45ae1550e96a4042967beb334e722946",
       "version_major": 2,
       "version_minor": 0
      },
      "text/plain": [
       "  0%|          | 0/1000 [00:00<?, ?it/s]"
      ]
     },
     "metadata": {},
     "output_type": "display_data"
    },
    {
     "name": "stdout",
     "output_type": "stream",
     "text": [
      "0.17403709888458252\n",
      "0.21449810907244682\n",
      "0.21527313694357872\n",
      "Finished one batchgen epoch!\n",
      "0.21319463431835176\n",
      "0.21499137386679648\n",
      "Finished one batchgen epoch!\n",
      "0.2123033544421196\n",
      "0.20942381367087365\n",
      "0.21041057154536247\n",
      "Finished one batchgen epoch!\n",
      "0.20581770613789557\n",
      "0.21527547568082808\n",
      "Finished one batchgen epoch!\n"
     ]
    },
    {
     "data": {
      "application/vnd.jupyter.widget-view+json": {
       "model_id": "143fb3d87534472e8f38f23c8ea627ed",
       "version_major": 2,
       "version_minor": 0
      },
      "text/plain": [
       "  0%|          | 0/100 [00:00<?, ?it/s]"
      ]
     },
     "metadata": {},
     "output_type": "display_data"
    },
    {
     "name": "stdout",
     "output_type": "stream",
     "text": [
      "Game length mean 76.17\n"
     ]
    },
    {
     "data": {
      "application/vnd.jupyter.widget-view+json": {
       "model_id": "f5abbc256aef4757850091be5c0915f1",
       "version_major": 2,
       "version_minor": 0
      },
      "text/plain": [
       "  0%|          | 0/1000 [00:00<?, ?it/s]"
      ]
     },
     "metadata": {},
     "output_type": "display_data"
    },
    {
     "name": "stdout",
     "output_type": "stream",
     "text": [
      "0.2469424307346344\n",
      "0.22286367416381836\n",
      "0.21150801628828048\n",
      "Finished one batchgen epoch!\n",
      "0.2140508346259594\n",
      "0.21265512615442275\n",
      "Finished one batchgen epoch!\n",
      "0.2206757891178131\n",
      "0.213586495667696\n",
      "0.21663924276828767\n",
      "Finished one batchgen epoch!\n",
      "0.21256716355681418\n",
      "0.2140994854271412\n",
      "Finished one batchgen epoch!\n"
     ]
    },
    {
     "data": {
      "application/vnd.jupyter.widget-view+json": {
       "model_id": "48636dbce72740f4ac01d250daff3342",
       "version_major": 2,
       "version_minor": 0
      },
      "text/plain": [
       "  0%|          | 0/100 [00:00<?, ?it/s]"
      ]
     },
     "metadata": {},
     "output_type": "display_data"
    },
    {
     "name": "stdout",
     "output_type": "stream",
     "text": [
      "Game length mean 76.42\n"
     ]
    },
    {
     "data": {
      "application/vnd.jupyter.widget-view+json": {
       "model_id": "e7fa136a7fb44a4e82d8fad28c3f3f48",
       "version_major": 2,
       "version_minor": 0
      },
      "text/plain": [
       "  0%|          | 0/1000 [00:00<?, ?it/s]"
      ]
     },
     "metadata": {},
     "output_type": "display_data"
    },
    {
     "name": "stdout",
     "output_type": "stream",
     "text": [
      "0.21594326198101044\n",
      "0.21242886334657668\n",
      "0.2169456174969673\n",
      "Finished one batchgen epoch!\n",
      "0.21268259450793267\n",
      "0.21495632752776145\n",
      "Finished one batchgen epoch!\n",
      "0.21370046734809875\n",
      "0.21285040959715842\n",
      "0.21151548266410827\n",
      "Finished one batchgen epoch!\n",
      "0.21527852445840837\n",
      "0.20699502646923065\n",
      "Finished one batchgen epoch!\n"
     ]
    },
    {
     "data": {
      "application/vnd.jupyter.widget-view+json": {
       "model_id": "fc94c9e32d924288a255460b484cdb86",
       "version_major": 2,
       "version_minor": 0
      },
      "text/plain": [
       "  0%|          | 0/100 [00:00<?, ?it/s]"
      ]
     },
     "metadata": {},
     "output_type": "display_data"
    },
    {
     "name": "stdout",
     "output_type": "stream",
     "text": [
      "Game length mean 75.16\n"
     ]
    },
    {
     "data": {
      "application/vnd.jupyter.widget-view+json": {
       "model_id": "82b62c5efdf94b63ba9b06741a3a4ecf",
       "version_major": 2,
       "version_minor": 0
      },
      "text/plain": [
       "  0%|          | 0/1000 [00:00<?, ?it/s]"
      ]
     },
     "metadata": {},
     "output_type": "display_data"
    },
    {
     "name": "stdout",
     "output_type": "stream",
     "text": [
      "0.2253059595823288\n",
      "0.21870411023497582\n",
      "0.21481363393366337\n",
      "Finished one batchgen epoch!\n",
      "0.21836082458496095\n",
      "0.21307841673493386\n",
      "Finished one batchgen epoch!\n",
      "0.21941297948360444\n",
      "0.21541713491082193\n",
      "0.21711536303162574\n",
      "Finished one batchgen epoch!\n",
      "0.2121053884923458\n",
      "0.21528976872563363\n",
      "Finished one batchgen epoch!\n"
     ]
    },
    {
     "data": {
      "application/vnd.jupyter.widget-view+json": {
       "model_id": "8abdf36c6e5e42c09b4d342cefed9144",
       "version_major": 2,
       "version_minor": 0
      },
      "text/plain": [
       "  0%|          | 0/100 [00:00<?, ?it/s]"
      ]
     },
     "metadata": {},
     "output_type": "display_data"
    },
    {
     "name": "stdout",
     "output_type": "stream",
     "text": [
      "Game length mean 76.76\n"
     ]
    },
    {
     "data": {
      "application/vnd.jupyter.widget-view+json": {
       "model_id": "f571385df3574c438429c087b6d618e9",
       "version_major": 2,
       "version_minor": 0
      },
      "text/plain": [
       "  0%|          | 0/1000 [00:00<?, ?it/s]"
      ]
     },
     "metadata": {},
     "output_type": "display_data"
    },
    {
     "name": "stdout",
     "output_type": "stream",
     "text": [
      "0.2672230005264282\n",
      "0.21767077431082726\n",
      "0.21870879620313644\n",
      "Finished one batchgen epoch!\n",
      "0.2211571880429983\n",
      "0.22034844279289245\n",
      "Finished one batchgen epoch!\n",
      "0.21390681833028793\n",
      "0.21798601865768433\n",
      "0.2124806685000658\n",
      "Finished one batchgen epoch!\n",
      "0.21972618937492372\n",
      "0.21928629279136658\n",
      "Finished one batchgen epoch!\n"
     ]
    },
    {
     "data": {
      "application/vnd.jupyter.widget-view+json": {
       "model_id": "ad4a415926c349f895b4054572b85083",
       "version_major": 2,
       "version_minor": 0
      },
      "text/plain": [
       "  0%|          | 0/100 [00:00<?, ?it/s]"
      ]
     },
     "metadata": {},
     "output_type": "display_data"
    },
    {
     "name": "stdout",
     "output_type": "stream",
     "text": [
      "Game length mean 76.1\n"
     ]
    },
    {
     "data": {
      "application/vnd.jupyter.widget-view+json": {
       "model_id": "7bd6e301804b4a30bb4b6160173faf72",
       "version_major": 2,
       "version_minor": 0
      },
      "text/plain": [
       "  0%|          | 0/1000 [00:00<?, ?it/s]"
      ]
     },
     "metadata": {},
     "output_type": "display_data"
    },
    {
     "name": "stdout",
     "output_type": "stream",
     "text": [
      "0.20230330526828766\n",
      "0.2186198800802231\n",
      "0.21378069669008254\n",
      "Finished one batchgen epoch!\n",
      "0.21320116743445397\n",
      "0.20729195393621921\n",
      "Finished one batchgen epoch!\n",
      "0.21728088289499284\n",
      "0.20935353487730027\n",
      "0.20968401908874512\n",
      "Finished one batchgen epoch!\n",
      "0.2111523389816284\n",
      "0.21703363835811615\n",
      "Finished one batchgen epoch!\n"
     ]
    },
    {
     "data": {
      "application/vnd.jupyter.widget-view+json": {
       "model_id": "bece208f20ff459d899826d12bc24d06",
       "version_major": 2,
       "version_minor": 0
      },
      "text/plain": [
       "  0%|          | 0/100 [00:00<?, ?it/s]"
      ]
     },
     "metadata": {},
     "output_type": "display_data"
    },
    {
     "name": "stdout",
     "output_type": "stream",
     "text": [
      "Game length mean 76.54\n"
     ]
    },
    {
     "data": {
      "application/vnd.jupyter.widget-view+json": {
       "model_id": "4be253e0eaed4a9aa1be5ecc12dd0d6d",
       "version_major": 2,
       "version_minor": 0
      },
      "text/plain": [
       "  0%|          | 0/1000 [00:00<?, ?it/s]"
      ]
     },
     "metadata": {},
     "output_type": "display_data"
    },
    {
     "name": "stdout",
     "output_type": "stream",
     "text": [
      "0.22210395336151123\n",
      "0.21691120073199271\n",
      "0.21884432822465896\n",
      "Finished one batchgen epoch!\n",
      "0.21153458178043366\n",
      "0.21189792305231095\n",
      "Finished one batchgen epoch!\n",
      "0.21568036064505577\n",
      "0.21138455212116242\n",
      "0.2132272069901228\n",
      "Finished one batchgen epoch!\n",
      "0.2141933859884739\n",
      "0.21056836873292922\n",
      "Finished one batchgen epoch!\n"
     ]
    },
    {
     "data": {
      "application/vnd.jupyter.widget-view+json": {
       "model_id": "eed8d605e29143c7ba799f5fd3b7bd32",
       "version_major": 2,
       "version_minor": 0
      },
      "text/plain": [
       "  0%|          | 0/100 [00:00<?, ?it/s]"
      ]
     },
     "metadata": {},
     "output_type": "display_data"
    },
    {
     "name": "stdout",
     "output_type": "stream",
     "text": [
      "Game length mean 76.87\n"
     ]
    },
    {
     "data": {
      "application/vnd.jupyter.widget-view+json": {
       "model_id": "f4eb03086e194014b2b8bb3fa7c48387",
       "version_major": 2,
       "version_minor": 0
      },
      "text/plain": [
       "  0%|          | 0/1000 [00:00<?, ?it/s]"
      ]
     },
     "metadata": {},
     "output_type": "display_data"
    },
    {
     "name": "stdout",
     "output_type": "stream",
     "text": [
      "0.2878398597240448\n",
      "0.21790503077208995\n",
      "0.21691022351384162\n",
      "Finished one batchgen epoch!\n",
      "0.2206740438938141\n",
      "0.22100750103592873\n",
      "Finished one batchgen epoch!\n",
      "0.21008874639868735\n",
      "0.22250152587890626\n",
      "0.216276845484972\n",
      "Finished one batchgen epoch!\n",
      "0.21050007835030557\n",
      "0.21825310230255127\n",
      "Finished one batchgen epoch!\n"
     ]
    },
    {
     "data": {
      "application/vnd.jupyter.widget-view+json": {
       "model_id": "94719414cb6d446aad288bfba3cbbe80",
       "version_major": 2,
       "version_minor": 0
      },
      "text/plain": [
       "  0%|          | 0/100 [00:00<?, ?it/s]"
      ]
     },
     "metadata": {},
     "output_type": "display_data"
    },
    {
     "name": "stdout",
     "output_type": "stream",
     "text": [
      "Game length mean 77.51\n"
     ]
    },
    {
     "data": {
      "application/vnd.jupyter.widget-view+json": {
       "model_id": "c5d1cba6dbb64a469a91e1c32cde6a16",
       "version_major": 2,
       "version_minor": 0
      },
      "text/plain": [
       "  0%|          | 0/1000 [00:00<?, ?it/s]"
      ]
     },
     "metadata": {},
     "output_type": "display_data"
    },
    {
     "name": "stdout",
     "output_type": "stream",
     "text": [
      "0.19589801132678986\n",
      "0.21023766592144966\n",
      "0.21465615928173065\n",
      "Finished one batchgen epoch!\n",
      "0.21250897288322448\n",
      "0.21598716735839843\n",
      "Finished one batchgen epoch!\n",
      "0.20548168331384659\n",
      "0.2073845948278904\n",
      "0.2167941363155842\n",
      "Finished one batchgen epoch!\n",
      "0.2094471577554941\n",
      "0.2136791417747736\n",
      "Finished one batchgen epoch!\n"
     ]
    },
    {
     "data": {
      "application/vnd.jupyter.widget-view+json": {
       "model_id": "395fd07469d84c66bda3642c2784a393",
       "version_major": 2,
       "version_minor": 0
      },
      "text/plain": [
       "  0%|          | 0/100 [00:00<?, ?it/s]"
      ]
     },
     "metadata": {},
     "output_type": "display_data"
    },
    {
     "name": "stdout",
     "output_type": "stream",
     "text": [
      "Game length mean 77.88\n"
     ]
    },
    {
     "data": {
      "application/vnd.jupyter.widget-view+json": {
       "model_id": "b30c4c4ff2664eb6aac938e077b82d23",
       "version_major": 2,
       "version_minor": 0
      },
      "text/plain": [
       "  0%|          | 0/1000 [00:00<?, ?it/s]"
      ]
     },
     "metadata": {},
     "output_type": "display_data"
    },
    {
     "name": "stdout",
     "output_type": "stream",
     "text": [
      "0.1855139434337616\n",
      "0.2141331487894058\n",
      "0.20560549780726434\n",
      "Finished one batchgen epoch!\n",
      "0.1994210296869278\n",
      "0.20669962972402572\n",
      "Finished one batchgen epoch!\n",
      "0.2046574644744396\n",
      "0.21094434782862664\n",
      "0.20098720371723175\n",
      "Finished one batchgen epoch!\n",
      "0.20257456943392754\n",
      "0.2026334872841835\n",
      "Finished one batchgen epoch!\n"
     ]
    },
    {
     "data": {
      "application/vnd.jupyter.widget-view+json": {
       "model_id": "49351d13193246248240719bc43dad73",
       "version_major": 2,
       "version_minor": 0
      },
      "text/plain": [
       "  0%|          | 0/100 [00:00<?, ?it/s]"
      ]
     },
     "metadata": {},
     "output_type": "display_data"
    },
    {
     "name": "stdout",
     "output_type": "stream",
     "text": [
      "Game length mean 75.78\n"
     ]
    },
    {
     "data": {
      "application/vnd.jupyter.widget-view+json": {
       "model_id": "eebb99967d394e59acd8838585c6c90a",
       "version_major": 2,
       "version_minor": 0
      },
      "text/plain": [
       "  0%|          | 0/1000 [00:00<?, ?it/s]"
      ]
     },
     "metadata": {},
     "output_type": "display_data"
    },
    {
     "name": "stdout",
     "output_type": "stream",
     "text": [
      "0.22736191749572754\n",
      "0.21155475705862045\n",
      "0.216190235465765\n",
      "Finished one batchgen epoch!\n",
      "0.2130599343776703\n",
      "0.21582386523485184\n",
      "Finished one batchgen epoch!\n",
      "0.20755502089858055\n",
      "0.21040141075849533\n",
      "0.21376562789082526\n",
      "Finished one batchgen epoch!\n",
      "0.2133348460495472\n",
      "0.21198907881975174\n",
      "Finished one batchgen epoch!\n"
     ]
    },
    {
     "data": {
      "application/vnd.jupyter.widget-view+json": {
       "model_id": "3b76494773ee49ad9aa63dedfb04cc39",
       "version_major": 2,
       "version_minor": 0
      },
      "text/plain": [
       "  0%|          | 0/100 [00:00<?, ?it/s]"
      ]
     },
     "metadata": {},
     "output_type": "display_data"
    },
    {
     "name": "stdout",
     "output_type": "stream",
     "text": [
      "Game length mean 74.87\n"
     ]
    },
    {
     "data": {
      "application/vnd.jupyter.widget-view+json": {
       "model_id": "1e9c771f4a534d1cad310993def04bc0",
       "version_major": 2,
       "version_minor": 0
      },
      "text/plain": [
       "  0%|          | 0/1000 [00:00<?, ?it/s]"
      ]
     },
     "metadata": {},
     "output_type": "display_data"
    },
    {
     "name": "stdout",
     "output_type": "stream",
     "text": [
      "0.2372455596923828\n",
      "0.21597825169563292\n",
      "0.21428229108452798\n",
      "Finished one batchgen epoch!\n",
      "0.21081944346427917\n",
      "0.2118559567630291\n",
      "Finished one batchgen epoch!\n",
      "0.21983449548482895\n",
      "0.21213756427168845\n",
      "Finished one batchgen epoch!\n",
      "0.21006447955965996\n",
      "0.21558948092162608\n",
      "0.2084276270866394\n",
      "Finished one batchgen epoch!\n"
     ]
    },
    {
     "data": {
      "application/vnd.jupyter.widget-view+json": {
       "model_id": "5009801b71dd432fb61568462ce87a30",
       "version_major": 2,
       "version_minor": 0
      },
      "text/plain": [
       "  0%|          | 0/100 [00:00<?, ?it/s]"
      ]
     },
     "metadata": {},
     "output_type": "display_data"
    },
    {
     "name": "stdout",
     "output_type": "stream",
     "text": [
      "Game length mean 74.61\n"
     ]
    },
    {
     "data": {
      "application/vnd.jupyter.widget-view+json": {
       "model_id": "6599d4d7af1e412eb5e39355e18350cd",
       "version_major": 2,
       "version_minor": 0
      },
      "text/plain": [
       "  0%|          | 0/1000 [00:00<?, ?it/s]"
      ]
     },
     "metadata": {},
     "output_type": "display_data"
    },
    {
     "name": "stdout",
     "output_type": "stream",
     "text": [
      "0.2778708338737488\n",
      "0.21536267578601836\n",
      "0.21492355719208717\n",
      "Finished one batchgen epoch!\n",
      "0.21049352049827574\n",
      "0.21137976557016372\n",
      "Finished one batchgen epoch!\n",
      "0.21604365929961206\n",
      "0.21423544585704804\n",
      "Finished one batchgen epoch!\n",
      "0.20689363352954387\n",
      "0.20700833968818189\n",
      "0.21421756565570832\n",
      "Finished one batchgen epoch!\n"
     ]
    },
    {
     "data": {
      "application/vnd.jupyter.widget-view+json": {
       "model_id": "c695feb68f1e4cafba304dae210eb8d2",
       "version_major": 2,
       "version_minor": 0
      },
      "text/plain": [
       "  0%|          | 0/100 [00:00<?, ?it/s]"
      ]
     },
     "metadata": {},
     "output_type": "display_data"
    },
    {
     "name": "stdout",
     "output_type": "stream",
     "text": [
      "Game length mean 74.9\n"
     ]
    },
    {
     "data": {
      "application/vnd.jupyter.widget-view+json": {
       "model_id": "777e14a517534d2a87303b868e925c8e",
       "version_major": 2,
       "version_minor": 0
      },
      "text/plain": [
       "  0%|          | 0/1000 [00:00<?, ?it/s]"
      ]
     },
     "metadata": {},
     "output_type": "display_data"
    },
    {
     "name": "stdout",
     "output_type": "stream",
     "text": [
      "0.27009397745132446\n",
      "0.21850333660840987\n",
      "0.2249406673014164\n",
      "Finished one batchgen epoch!\n",
      "0.21914810732007026\n",
      "0.2186599265038967\n",
      "Finished one batchgen epoch!\n",
      "0.22015732616186143\n",
      "0.22106797814369203\n",
      "0.21709548376500606\n",
      "Finished one batchgen epoch!\n",
      "0.21587513163685798\n",
      "0.2216212570667267\n",
      "Finished one batchgen epoch!\n"
     ]
    },
    {
     "data": {
      "application/vnd.jupyter.widget-view+json": {
       "model_id": "2208d25e0b34475ca2d93295b441fed3",
       "version_major": 2,
       "version_minor": 0
      },
      "text/plain": [
       "  0%|          | 0/100 [00:00<?, ?it/s]"
      ]
     },
     "metadata": {},
     "output_type": "display_data"
    },
    {
     "name": "stdout",
     "output_type": "stream",
     "text": [
      "Game length mean 77.83\n"
     ]
    },
    {
     "data": {
      "application/vnd.jupyter.widget-view+json": {
       "model_id": "35f974c981e04c99b3b6ae384863bb58",
       "version_major": 2,
       "version_minor": 0
      },
      "text/plain": [
       "  0%|          | 0/1000 [00:00<?, ?it/s]"
      ]
     },
     "metadata": {},
     "output_type": "display_data"
    },
    {
     "name": "stdout",
     "output_type": "stream",
     "text": [
      "0.1932505965232849\n",
      "0.21139464788138868\n",
      "0.21624182760715485\n",
      "Finished one batchgen epoch!\n",
      "0.21116416186094283\n",
      "0.2045057651400566\n",
      "Finished one batchgen epoch!\n",
      "0.21756761133670807\n",
      "0.20912835106253624\n",
      "0.20577327996492387\n",
      "Finished one batchgen epoch!\n",
      "0.21387446835637092\n",
      "0.20597741439938544\n",
      "Finished one batchgen epoch!\n"
     ]
    },
    {
     "data": {
      "application/vnd.jupyter.widget-view+json": {
       "model_id": "630ca9cefabe493491aaccdc8171a693",
       "version_major": 2,
       "version_minor": 0
      },
      "text/plain": [
       "  0%|          | 0/100 [00:00<?, ?it/s]"
      ]
     },
     "metadata": {},
     "output_type": "display_data"
    },
    {
     "name": "stdout",
     "output_type": "stream",
     "text": [
      "Game length mean 75.83\n"
     ]
    },
    {
     "data": {
      "application/vnd.jupyter.widget-view+json": {
       "model_id": "3efe2a9831d74cc59b3a01f50f6278a7",
       "version_major": 2,
       "version_minor": 0
      },
      "text/plain": [
       "  0%|          | 0/1000 [00:00<?, ?it/s]"
      ]
     },
     "metadata": {},
     "output_type": "display_data"
    },
    {
     "name": "stdout",
     "output_type": "stream",
     "text": [
      "0.17758426070213318\n",
      "0.21812861546874046\n",
      "0.210327345430851\n",
      "Finished one batchgen epoch!\n",
      "0.21016736790537835\n",
      "0.211028885692358\n",
      "Finished one batchgen epoch!\n",
      "0.21910532407462596\n",
      "0.20618804350495337\n",
      "0.21301348343491555\n",
      "Finished one batchgen epoch!\n",
      "0.23078048557043077\n",
      "0.21058163180947304\n",
      "Finished one batchgen epoch!\n"
     ]
    },
    {
     "data": {
      "application/vnd.jupyter.widget-view+json": {
       "model_id": "1c7e2c8a74ee4a7ca103ad9349d8e9aa",
       "version_major": 2,
       "version_minor": 0
      },
      "text/plain": [
       "  0%|          | 0/100 [00:00<?, ?it/s]"
      ]
     },
     "metadata": {},
     "output_type": "display_data"
    },
    {
     "name": "stdout",
     "output_type": "stream",
     "text": [
      "Game length mean 75.91\n"
     ]
    },
    {
     "data": {
      "application/vnd.jupyter.widget-view+json": {
       "model_id": "99c0b1ce1c0f47c6a70e64f15fd66bd7",
       "version_major": 2,
       "version_minor": 0
      },
      "text/plain": [
       "  0%|          | 0/1000 [00:00<?, ?it/s]"
      ]
     },
     "metadata": {},
     "output_type": "display_data"
    },
    {
     "name": "stdout",
     "output_type": "stream",
     "text": [
      "0.197116881608963\n",
      "0.21508365273475646\n",
      "0.21350631773471831\n",
      "Finished one batchgen epoch!\n",
      "0.2151041440665722\n",
      "0.21298580072820186\n",
      "Finished one batchgen epoch!\n",
      "0.20801740869879723\n",
      "0.20771748274564744\n",
      "0.2131859219074249\n",
      "Finished one batchgen epoch!\n",
      "0.20792952924966812\n",
      "0.21222014740109443\n",
      "Finished one batchgen epoch!\n"
     ]
    },
    {
     "data": {
      "application/vnd.jupyter.widget-view+json": {
       "model_id": "b657d333816945949343ef5c8183a8ae",
       "version_major": 2,
       "version_minor": 0
      },
      "text/plain": [
       "  0%|          | 0/100 [00:00<?, ?it/s]"
      ]
     },
     "metadata": {},
     "output_type": "display_data"
    },
    {
     "name": "stdout",
     "output_type": "stream",
     "text": [
      "Game length mean 75.9\n"
     ]
    },
    {
     "data": {
      "application/vnd.jupyter.widget-view+json": {
       "model_id": "e3763d6913b544f49ebc5066ea4fd80a",
       "version_major": 2,
       "version_minor": 0
      },
      "text/plain": [
       "  0%|          | 0/1000 [00:00<?, ?it/s]"
      ]
     },
     "metadata": {},
     "output_type": "display_data"
    },
    {
     "name": "stdout",
     "output_type": "stream",
     "text": [
      "0.2033410370349884\n",
      "0.203678637444973\n",
      "0.2134327034652233\n",
      "Finished one batchgen epoch!\n",
      "0.20945703044533728\n",
      "0.21824852854013443\n",
      "Finished one batchgen epoch!\n",
      "0.20966665156185627\n",
      "0.21052911721169948\n",
      "0.20591509312391282\n",
      "Finished one batchgen epoch!\n",
      "0.20654049068689345\n",
      "0.210239779278636\n",
      "Finished one batchgen epoch!\n"
     ]
    },
    {
     "data": {
      "application/vnd.jupyter.widget-view+json": {
       "model_id": "6e19e6564ee54b498c7e98b9650d12ff",
       "version_major": 2,
       "version_minor": 0
      },
      "text/plain": [
       "  0%|          | 0/100 [00:00<?, ?it/s]"
      ]
     },
     "metadata": {},
     "output_type": "display_data"
    },
    {
     "name": "stdout",
     "output_type": "stream",
     "text": [
      "Game length mean 74.87\n"
     ]
    },
    {
     "data": {
      "application/vnd.jupyter.widget-view+json": {
       "model_id": "99149ee2d95f40259214f53b48e1fa32",
       "version_major": 2,
       "version_minor": 0
      },
      "text/plain": [
       "  0%|          | 0/1000 [00:00<?, ?it/s]"
      ]
     },
     "metadata": {},
     "output_type": "display_data"
    },
    {
     "name": "stdout",
     "output_type": "stream",
     "text": [
      "0.28970327973365784\n",
      "0.2177390983700752\n",
      "0.2201396219432354\n",
      "Finished one batchgen epoch!\n",
      "0.2141547042131424\n",
      "0.21724167883396148\n",
      "Finished one batchgen epoch!\n",
      "0.21764187715947628\n",
      "0.21369305714964867\n",
      "Finished one batchgen epoch!\n",
      "0.2175923155248165\n",
      "0.22264682605862618\n",
      "0.20998424038290978\n",
      "Finished one batchgen epoch!\n"
     ]
    },
    {
     "data": {
      "application/vnd.jupyter.widget-view+json": {
       "model_id": "1a560cc536d54331a7269a14b06bbbbd",
       "version_major": 2,
       "version_minor": 0
      },
      "text/plain": [
       "  0%|          | 0/100 [00:00<?, ?it/s]"
      ]
     },
     "metadata": {},
     "output_type": "display_data"
    },
    {
     "name": "stdout",
     "output_type": "stream",
     "text": [
      "Game length mean 77.06\n"
     ]
    },
    {
     "data": {
      "application/vnd.jupyter.widget-view+json": {
       "model_id": "37cabce70daf40bbac71b66b91fd169e",
       "version_major": 2,
       "version_minor": 0
      },
      "text/plain": [
       "  0%|          | 0/1000 [00:00<?, ?it/s]"
      ]
     },
     "metadata": {},
     "output_type": "display_data"
    },
    {
     "name": "stdout",
     "output_type": "stream",
     "text": [
      "0.189590722322464\n",
      "0.21750681415200235\n",
      "0.21938294380903245\n",
      "Finished one batchgen epoch!\n",
      "0.21493082672357558\n",
      "0.21824254885315894\n",
      "Finished one batchgen epoch!\n",
      "0.21247420385479926\n",
      "0.21838241577148437\n",
      "0.22015138655900957\n",
      "Finished one batchgen epoch!\n",
      "0.21740563943982125\n",
      "0.21584406636655332\n",
      "Finished one batchgen epoch!\n"
     ]
    },
    {
     "data": {
      "application/vnd.jupyter.widget-view+json": {
       "model_id": "8adef06b371e464eb8430f29042c8965",
       "version_major": 2,
       "version_minor": 0
      },
      "text/plain": [
       "  0%|          | 0/100 [00:00<?, ?it/s]"
      ]
     },
     "metadata": {},
     "output_type": "display_data"
    },
    {
     "name": "stdout",
     "output_type": "stream",
     "text": [
      "Game length mean 75.94\n"
     ]
    },
    {
     "data": {
      "application/vnd.jupyter.widget-view+json": {
       "model_id": "a2f0708a331545d3abd53422962632b7",
       "version_major": 2,
       "version_minor": 0
      },
      "text/plain": [
       "  0%|          | 0/1000 [00:00<?, ?it/s]"
      ]
     },
     "metadata": {},
     "output_type": "display_data"
    },
    {
     "name": "stdout",
     "output_type": "stream",
     "text": [
      "0.21728229522705078\n",
      "0.2136882211267948\n",
      "0.21862819261848926\n",
      "Finished one batchgen epoch!\n",
      "0.22073153719305993\n",
      "0.21548407688736915\n",
      "Finished one batchgen epoch!\n",
      "0.21544794261455535\n",
      "0.21212237283587457\n",
      "0.21835133887827396\n",
      "Finished one batchgen epoch!\n",
      "0.214080710709095\n",
      "0.2122052498906851\n",
      "Finished one batchgen epoch!\n"
     ]
    },
    {
     "data": {
      "application/vnd.jupyter.widget-view+json": {
       "model_id": "b78e173461614840b1c1d9722ae8e36c",
       "version_major": 2,
       "version_minor": 0
      },
      "text/plain": [
       "  0%|          | 0/100 [00:00<?, ?it/s]"
      ]
     },
     "metadata": {},
     "output_type": "display_data"
    },
    {
     "name": "stdout",
     "output_type": "stream",
     "text": [
      "Game length mean 75.55\n"
     ]
    },
    {
     "data": {
      "application/vnd.jupyter.widget-view+json": {
       "model_id": "0dd8882f9953490d85d98f2212bbe506",
       "version_major": 2,
       "version_minor": 0
      },
      "text/plain": [
       "  0%|          | 0/1000 [00:00<?, ?it/s]"
      ]
     },
     "metadata": {},
     "output_type": "display_data"
    },
    {
     "name": "stdout",
     "output_type": "stream",
     "text": [
      "0.26233476400375366\n",
      "0.21053228735923768\n",
      "0.2117573469877243\n",
      "Finished one batchgen epoch!\n",
      "0.21861891962587834\n",
      "0.20217398710548878\n",
      "Finished one batchgen epoch!\n",
      "0.21284838780760765\n",
      "0.21289492934942245\n",
      "0.2067605349421501\n",
      "Finished one batchgen epoch!\n",
      "0.20873149074614047\n",
      "0.2096101950109005\n",
      "Finished one batchgen epoch!\n"
     ]
    },
    {
     "data": {
      "application/vnd.jupyter.widget-view+json": {
       "model_id": "7166f9a8d2314026a52ca7b5513b17c6",
       "version_major": 2,
       "version_minor": 0
      },
      "text/plain": [
       "  0%|          | 0/100 [00:00<?, ?it/s]"
      ]
     },
     "metadata": {},
     "output_type": "display_data"
    },
    {
     "name": "stdout",
     "output_type": "stream",
     "text": [
      "Game length mean 76.8\n"
     ]
    },
    {
     "data": {
      "application/vnd.jupyter.widget-view+json": {
       "model_id": "abeb9a12cca444e39e72f837bd60dff2",
       "version_major": 2,
       "version_minor": 0
      },
      "text/plain": [
       "  0%|          | 0/1000 [00:00<?, ?it/s]"
      ]
     },
     "metadata": {},
     "output_type": "display_data"
    },
    {
     "name": "stdout",
     "output_type": "stream",
     "text": [
      "0.23701319098472595\n",
      "0.22076592952013016\n",
      "0.22165216863155365\n",
      "Finished one batchgen epoch!\n",
      "0.2207524948567152\n",
      "0.22072398468852042\n",
      "Finished one batchgen epoch!\n",
      "0.21946314327418803\n",
      "0.21291397601366044\n",
      "0.2177823995053768\n",
      "Finished one batchgen epoch!\n",
      "0.2190442221611738\n",
      "0.21529460906982423\n",
      "Finished one batchgen epoch!\n"
     ]
    },
    {
     "data": {
      "application/vnd.jupyter.widget-view+json": {
       "model_id": "917616c49d9c4296b8544a389f040fbc",
       "version_major": 2,
       "version_minor": 0
      },
      "text/plain": [
       "  0%|          | 0/100 [00:00<?, ?it/s]"
      ]
     },
     "metadata": {},
     "output_type": "display_data"
    },
    {
     "name": "stdout",
     "output_type": "stream",
     "text": [
      "Game length mean 77.81\n"
     ]
    },
    {
     "data": {
      "application/vnd.jupyter.widget-view+json": {
       "model_id": "bf8bad86416c4e74932a9f9a1883f832",
       "version_major": 2,
       "version_minor": 0
      },
      "text/plain": [
       "  0%|          | 0/1000 [00:00<?, ?it/s]"
      ]
     },
     "metadata": {},
     "output_type": "display_data"
    },
    {
     "name": "stdout",
     "output_type": "stream",
     "text": [
      "0.14853855967521667\n",
      "0.22174230083823204\n",
      "0.2182478541135788\n",
      "Finished one batchgen epoch!\n",
      "0.2136649541556835\n",
      "0.21437845036387443\n",
      "Finished one batchgen epoch!\n",
      "0.21635551869869232\n",
      "0.21736057788133623\n",
      "0.21123064145445825\n",
      "Finished one batchgen epoch!\n",
      "0.2099880950152874\n",
      "0.2155299687385559\n",
      "Finished one batchgen epoch!\n"
     ]
    },
    {
     "data": {
      "application/vnd.jupyter.widget-view+json": {
       "model_id": "324d7ad07ca340f397353cb4cc37ae28",
       "version_major": 2,
       "version_minor": 0
      },
      "text/plain": [
       "  0%|          | 0/100 [00:00<?, ?it/s]"
      ]
     },
     "metadata": {},
     "output_type": "display_data"
    },
    {
     "name": "stdout",
     "output_type": "stream",
     "text": [
      "Game length mean 74.57\n"
     ]
    },
    {
     "data": {
      "application/vnd.jupyter.widget-view+json": {
       "model_id": "e436e63cb47a4fe99eaaa4b9becfd4c0",
       "version_major": 2,
       "version_minor": 0
      },
      "text/plain": [
       "  0%|          | 0/1000 [00:00<?, ?it/s]"
      ]
     },
     "metadata": {},
     "output_type": "display_data"
    },
    {
     "name": "stdout",
     "output_type": "stream",
     "text": [
      "0.21096931397914886\n",
      "0.216968052983284\n",
      "0.21417059302330016\n",
      "Finished one batchgen epoch!\n",
      "0.20893724009394646\n",
      "0.21491261646151544\n",
      "Finished one batchgen epoch!\n",
      "0.211695786267519\n",
      "0.21218616224825382\n",
      "Finished one batchgen epoch!\n",
      "0.21458728209137917\n",
      "0.21115922659635544\n",
      "0.21100161492824554\n",
      "Finished one batchgen epoch!\n"
     ]
    },
    {
     "data": {
      "application/vnd.jupyter.widget-view+json": {
       "model_id": "ce2f866459cb4f4097fda60810a00da6",
       "version_major": 2,
       "version_minor": 0
      },
      "text/plain": [
       "  0%|          | 0/100 [00:00<?, ?it/s]"
      ]
     },
     "metadata": {},
     "output_type": "display_data"
    },
    {
     "name": "stdout",
     "output_type": "stream",
     "text": [
      "Game length mean 76.96\n"
     ]
    },
    {
     "data": {
      "application/vnd.jupyter.widget-view+json": {
       "model_id": "d8b5ff7e91364dfdbe8a6fe54050342e",
       "version_major": 2,
       "version_minor": 0
      },
      "text/plain": [
       "  0%|          | 0/1000 [00:00<?, ?it/s]"
      ]
     },
     "metadata": {},
     "output_type": "display_data"
    },
    {
     "name": "stdout",
     "output_type": "stream",
     "text": [
      "0.20472007989883423\n",
      "0.20197287946939468\n",
      "0.20501110345125198\n",
      "Finished one batchgen epoch!\n",
      "0.20802070185542107\n",
      "0.20438927486538888\n",
      "Finished one batchgen epoch!\n",
      "0.20035529434680938\n",
      "0.20201486378908157\n",
      "0.20180176317691803\n",
      "Finished one batchgen epoch!\n",
      "0.19887137904763222\n",
      "0.20842723920941353\n",
      "Finished one batchgen epoch!\n"
     ]
    },
    {
     "data": {
      "application/vnd.jupyter.widget-view+json": {
       "model_id": "5629d74228564830ba4eb5d01476f028",
       "version_major": 2,
       "version_minor": 0
      },
      "text/plain": [
       "  0%|          | 0/100 [00:00<?, ?it/s]"
      ]
     },
     "metadata": {},
     "output_type": "display_data"
    },
    {
     "name": "stdout",
     "output_type": "stream",
     "text": [
      "Game length mean 74.17\n"
     ]
    },
    {
     "data": {
      "application/vnd.jupyter.widget-view+json": {
       "model_id": "084d703720d24c0ea74536b6631523c8",
       "version_major": 2,
       "version_minor": 0
      },
      "text/plain": [
       "  0%|          | 0/1000 [00:00<?, ?it/s]"
      ]
     },
     "metadata": {},
     "output_type": "display_data"
    },
    {
     "name": "stdout",
     "output_type": "stream",
     "text": [
      "0.18025580048561096\n",
      "0.22323358356952666\n",
      "0.22744416400790216\n",
      "Finished one batchgen epoch!\n",
      "0.2204653613269329\n",
      "0.22212365090847017\n",
      "Finished one batchgen epoch!\n",
      "0.22658446967601775\n",
      "0.21907313764095307\n",
      "Finished one batchgen epoch!\n",
      "0.2221898441016674\n",
      "0.21651775747537613\n",
      "0.22253147259354591\n",
      "Finished one batchgen epoch!\n"
     ]
    },
    {
     "data": {
      "application/vnd.jupyter.widget-view+json": {
       "model_id": "3fa957286bf94fb39a6aaf3dc0b49556",
       "version_major": 2,
       "version_minor": 0
      },
      "text/plain": [
       "  0%|          | 0/100 [00:00<?, ?it/s]"
      ]
     },
     "metadata": {},
     "output_type": "display_data"
    },
    {
     "name": "stdout",
     "output_type": "stream",
     "text": [
      "Game length mean 75.56\n"
     ]
    },
    {
     "data": {
      "application/vnd.jupyter.widget-view+json": {
       "model_id": "cbcdfd74ea844b53900351a5e884f56d",
       "version_major": 2,
       "version_minor": 0
      },
      "text/plain": [
       "  0%|          | 0/1000 [00:00<?, ?it/s]"
      ]
     },
     "metadata": {},
     "output_type": "display_data"
    },
    {
     "name": "stdout",
     "output_type": "stream",
     "text": [
      "0.2172611802816391\n",
      "0.21233063489198684\n",
      "0.2126096811890602\n",
      "Finished one batchgen epoch!\n",
      "0.2069161455333233\n",
      "0.2097355731576681\n",
      "Finished one batchgen epoch!\n",
      "0.20880787804722786\n",
      "0.21017238661646842\n",
      "0.20996934846043586\n",
      "Finished one batchgen epoch!\n",
      "0.2154556579887867\n",
      "0.2038705237954855\n",
      "Finished one batchgen epoch!\n"
     ]
    },
    {
     "data": {
      "application/vnd.jupyter.widget-view+json": {
       "model_id": "31d158e4708c494b8b3fb167e1d1a72f",
       "version_major": 2,
       "version_minor": 0
      },
      "text/plain": [
       "  0%|          | 0/100 [00:00<?, ?it/s]"
      ]
     },
     "metadata": {},
     "output_type": "display_data"
    },
    {
     "name": "stdout",
     "output_type": "stream",
     "text": [
      "Game length mean 76.07\n"
     ]
    },
    {
     "data": {
      "application/vnd.jupyter.widget-view+json": {
       "model_id": "6baec833c05c49a7a8e2d61e3b38ad8b",
       "version_major": 2,
       "version_minor": 0
      },
      "text/plain": [
       "  0%|          | 0/1000 [00:00<?, ?it/s]"
      ]
     },
     "metadata": {},
     "output_type": "display_data"
    },
    {
     "name": "stdout",
     "output_type": "stream",
     "text": [
      "0.2086910456418991\n",
      "0.21226590916514396\n",
      "0.2093255714327097\n",
      "Finished one batchgen epoch!\n",
      "0.20996229350566864\n",
      "0.205224369764328\n",
      "Finished one batchgen epoch!\n",
      "0.21145839363336563\n",
      "0.2037394680082798\n",
      "0.20861894518136978\n",
      "Finished one batchgen epoch!\n",
      "0.20710659354925157\n",
      "0.2090793177485466\n",
      "Finished one batchgen epoch!\n"
     ]
    },
    {
     "data": {
      "application/vnd.jupyter.widget-view+json": {
       "model_id": "7181a9bd883949e1be8b0ab0c55def0a",
       "version_major": 2,
       "version_minor": 0
      },
      "text/plain": [
       "  0%|          | 0/100 [00:00<?, ?it/s]"
      ]
     },
     "metadata": {},
     "output_type": "display_data"
    },
    {
     "name": "stdout",
     "output_type": "stream",
     "text": [
      "Game length mean 80.05\n"
     ]
    },
    {
     "data": {
      "application/vnd.jupyter.widget-view+json": {
       "model_id": "e8d1f3ab403943d7878da5dc9fb3097c",
       "version_major": 2,
       "version_minor": 0
      },
      "text/plain": [
       "  0%|          | 0/1000 [00:00<?, ?it/s]"
      ]
     },
     "metadata": {},
     "output_type": "display_data"
    },
    {
     "name": "stdout",
     "output_type": "stream",
     "text": [
      "0.2428947389125824\n",
      "0.20785766795277597\n",
      "0.20769639298319817\n",
      "Finished one batchgen epoch!\n",
      "0.2031758590042591\n",
      "0.2067192193865776\n",
      "Finished one batchgen epoch!\n",
      "0.203951815739274\n",
      "0.2081082372367382\n",
      "0.2028794628381729\n",
      "Finished one batchgen epoch!\n",
      "0.20183228671550751\n",
      "0.2051786921918392\n"
     ]
    },
    {
     "data": {
      "application/vnd.jupyter.widget-view+json": {
       "model_id": "2401be4a18ce41c8893c9095bdfd4fb0",
       "version_major": 2,
       "version_minor": 0
      },
      "text/plain": [
       "  0%|          | 0/100 [00:00<?, ?it/s]"
      ]
     },
     "metadata": {},
     "output_type": "display_data"
    },
    {
     "name": "stdout",
     "output_type": "stream",
     "text": [
      "Game length mean 75.01\n"
     ]
    },
    {
     "data": {
      "application/vnd.jupyter.widget-view+json": {
       "model_id": "1689b2b83e304769bb224c597a9ced48",
       "version_major": 2,
       "version_minor": 0
      },
      "text/plain": [
       "  0%|          | 0/1000 [00:00<?, ?it/s]"
      ]
     },
     "metadata": {},
     "output_type": "display_data"
    },
    {
     "name": "stdout",
     "output_type": "stream",
     "text": [
      "0.2943233847618103\n",
      "0.22721862956881522\n",
      "0.2346608357131481\n",
      "Finished one batchgen epoch!\n",
      "0.2291553558409214\n",
      "0.23300276353955268\n",
      "Finished one batchgen epoch!\n",
      "0.23075142428278922\n",
      "0.23048239693045616\n",
      "0.22177399531006814\n",
      "Finished one batchgen epoch!\n",
      "0.2334417647123337\n",
      "0.22571332156658172\n",
      "Finished one batchgen epoch!\n"
     ]
    },
    {
     "data": {
      "application/vnd.jupyter.widget-view+json": {
       "model_id": "ef1c48ea573449aeb8fd1ae260a63154",
       "version_major": 2,
       "version_minor": 0
      },
      "text/plain": [
       "  0%|          | 0/100 [00:00<?, ?it/s]"
      ]
     },
     "metadata": {},
     "output_type": "display_data"
    },
    {
     "name": "stdout",
     "output_type": "stream",
     "text": [
      "Game length mean 75.18\n"
     ]
    },
    {
     "data": {
      "application/vnd.jupyter.widget-view+json": {
       "model_id": "a24db1dec1af4de4938e8a3669dae2af",
       "version_major": 2,
       "version_minor": 0
      },
      "text/plain": [
       "  0%|          | 0/1000 [00:00<?, ?it/s]"
      ]
     },
     "metadata": {},
     "output_type": "display_data"
    },
    {
     "name": "stdout",
     "output_type": "stream",
     "text": [
      "0.20083406567573547\n",
      "0.22786289006471633\n",
      "0.22485359698534013\n",
      "Finished one batchgen epoch!\n",
      "0.22722367376089095\n",
      "0.22819854363799094\n",
      "Finished one batchgen epoch!\n",
      "0.22320395171642304\n",
      "0.21974562600255013\n",
      "0.22792910799384117\n",
      "Finished one batchgen epoch!\n",
      "0.22506942704319954\n",
      "0.2212239070236683\n",
      "Finished one batchgen epoch!\n"
     ]
    },
    {
     "data": {
      "application/vnd.jupyter.widget-view+json": {
       "model_id": "2d9b5a268760443bb0d545ba74f20541",
       "version_major": 2,
       "version_minor": 0
      },
      "text/plain": [
       "  0%|          | 0/100 [00:00<?, ?it/s]"
      ]
     },
     "metadata": {},
     "output_type": "display_data"
    },
    {
     "name": "stdout",
     "output_type": "stream",
     "text": [
      "Game length mean 74.83\n"
     ]
    },
    {
     "data": {
      "application/vnd.jupyter.widget-view+json": {
       "model_id": "35395704074d43dfb4c95f419f281932",
       "version_major": 2,
       "version_minor": 0
      },
      "text/plain": [
       "  0%|          | 0/1000 [00:00<?, ?it/s]"
      ]
     },
     "metadata": {},
     "output_type": "display_data"
    },
    {
     "name": "stdout",
     "output_type": "stream",
     "text": [
      "0.2936779856681824\n",
      "0.21632427990436554\n",
      "0.22031888037919997\n",
      "Finished one batchgen epoch!\n",
      "0.21433414459228517\n",
      "0.2193089009821415\n",
      "Finished one batchgen epoch!\n",
      "0.21696416169404983\n",
      "0.21218276381492615\n",
      "Finished one batchgen epoch!\n",
      "0.21999531015753745\n",
      "0.20951834440231323\n",
      "0.21696195438504218\n",
      "Finished one batchgen epoch!\n"
     ]
    },
    {
     "data": {
      "application/vnd.jupyter.widget-view+json": {
       "model_id": "59049c1c161f407180a8072ddc4ab142",
       "version_major": 2,
       "version_minor": 0
      },
      "text/plain": [
       "  0%|          | 0/100 [00:00<?, ?it/s]"
      ]
     },
     "metadata": {},
     "output_type": "display_data"
    },
    {
     "name": "stdout",
     "output_type": "stream",
     "text": [
      "Game length mean 77.04\n"
     ]
    },
    {
     "data": {
      "application/vnd.jupyter.widget-view+json": {
       "model_id": "eae0c23704d5477da63a9e38729b6b22",
       "version_major": 2,
       "version_minor": 0
      },
      "text/plain": [
       "  0%|          | 0/1000 [00:00<?, ?it/s]"
      ]
     },
     "metadata": {},
     "output_type": "display_data"
    },
    {
     "name": "stdout",
     "output_type": "stream",
     "text": [
      "0.21251557767391205\n",
      "0.2165744735300541\n",
      "0.21202691107988358\n",
      "Finished one batchgen epoch!\n",
      "0.21034810811281204\n",
      "0.2101443438231945\n",
      "Finished one batchgen epoch!\n",
      "0.20917438253760337\n",
      "0.2077696640789509\n",
      "0.20967401191592216\n",
      "Finished one batchgen epoch!\n",
      "0.20713686309754847\n",
      "0.20705642223358153\n",
      "Finished one batchgen epoch!\n"
     ]
    },
    {
     "data": {
      "application/vnd.jupyter.widget-view+json": {
       "model_id": "a5ca42edd0a0416a99bafae302d482ae",
       "version_major": 2,
       "version_minor": 0
      },
      "text/plain": [
       "  0%|          | 0/100 [00:00<?, ?it/s]"
      ]
     },
     "metadata": {},
     "output_type": "display_data"
    },
    {
     "name": "stdout",
     "output_type": "stream",
     "text": [
      "Game length mean 78.82\n"
     ]
    },
    {
     "data": {
      "application/vnd.jupyter.widget-view+json": {
       "model_id": "5d221ef4b1f142cd8062f3a1962d1269",
       "version_major": 2,
       "version_minor": 0
      },
      "text/plain": [
       "  0%|          | 0/1000 [00:00<?, ?it/s]"
      ]
     },
     "metadata": {},
     "output_type": "display_data"
    },
    {
     "name": "stdout",
     "output_type": "stream",
     "text": [
      "0.2040720283985138\n",
      "0.2073616211116314\n",
      "0.21188947051763535\n",
      "Finished one batchgen epoch!\n",
      "0.21504359900951386\n",
      "0.20424584403634072\n",
      "Finished one batchgen epoch!\n",
      "0.21559938073158263\n",
      "0.20779488369822502\n",
      "0.2051196128129959\n",
      "Finished one batchgen epoch!\n",
      "0.20781328812241553\n",
      "0.20865393906831742\n",
      "Finished one batchgen epoch!\n"
     ]
    },
    {
     "data": {
      "application/vnd.jupyter.widget-view+json": {
       "model_id": "bd8b356b56a943bf972bef0f72a5641e",
       "version_major": 2,
       "version_minor": 0
      },
      "text/plain": [
       "  0%|          | 0/100 [00:00<?, ?it/s]"
      ]
     },
     "metadata": {},
     "output_type": "display_data"
    },
    {
     "name": "stdout",
     "output_type": "stream",
     "text": [
      "Game length mean 83.62\n"
     ]
    },
    {
     "data": {
      "application/vnd.jupyter.widget-view+json": {
       "model_id": "166ee9b4a57d40bab22dee43eda613db",
       "version_major": 2,
       "version_minor": 0
      },
      "text/plain": [
       "  0%|          | 0/1000 [00:00<?, ?it/s]"
      ]
     },
     "metadata": {},
     "output_type": "display_data"
    },
    {
     "name": "stdout",
     "output_type": "stream",
     "text": [
      "0.23948250710964203\n",
      "0.20071282267570495\n",
      "0.20201125457882882\n",
      "Finished one batchgen epoch!\n",
      "0.20560289889574052\n",
      "0.1985421272367239\n",
      "0.20453793220221997\n",
      "Finished one batchgen epoch!\n",
      "0.20318581439554692\n",
      "0.20056961365044118\n",
      "Finished one batchgen epoch!\n",
      "0.1962036181241274\n",
      "0.19885200649499893\n"
     ]
    },
    {
     "data": {
      "application/vnd.jupyter.widget-view+json": {
       "model_id": "52085745c5bb4a64be98194d98bfbac0",
       "version_major": 2,
       "version_minor": 0
      },
      "text/plain": [
       "  0%|          | 0/100 [00:00<?, ?it/s]"
      ]
     },
     "metadata": {},
     "output_type": "display_data"
    },
    {
     "name": "stdout",
     "output_type": "stream",
     "text": [
      "Game length mean 80.16\n"
     ]
    },
    {
     "data": {
      "application/vnd.jupyter.widget-view+json": {
       "model_id": "5b4bc1540e1a4afeb31e34edf2f4563b",
       "version_major": 2,
       "version_minor": 0
      },
      "text/plain": [
       "  0%|          | 0/1000 [00:00<?, ?it/s]"
      ]
     },
     "metadata": {},
     "output_type": "display_data"
    },
    {
     "name": "stdout",
     "output_type": "stream",
     "text": [
      "0.17775973677635193\n",
      "0.2039229779690504\n",
      "0.2138537971675396\n",
      "Finished one batchgen epoch!\n",
      "0.20117223471403123\n",
      "0.20930362552404402\n",
      "Finished one batchgen epoch!\n",
      "0.2075288724899292\n",
      "0.20354305632412434\n",
      "0.20928670093417168\n",
      "Finished one batchgen epoch!\n",
      "0.20667990669608116\n",
      "0.2024710202217102\n"
     ]
    },
    {
     "data": {
      "application/vnd.jupyter.widget-view+json": {
       "model_id": "eb1c56dbe07d4175b40f1a3bca9af06e",
       "version_major": 2,
       "version_minor": 0
      },
      "text/plain": [
       "  0%|          | 0/100 [00:00<?, ?it/s]"
      ]
     },
     "metadata": {},
     "output_type": "display_data"
    },
    {
     "name": "stdout",
     "output_type": "stream",
     "text": [
      "Game length mean 75.63\n"
     ]
    },
    {
     "data": {
      "application/vnd.jupyter.widget-view+json": {
       "model_id": "d63b73b6013741e3a0a341fd93e703f8",
       "version_major": 2,
       "version_minor": 0
      },
      "text/plain": [
       "  0%|          | 0/1000 [00:00<?, ?it/s]"
      ]
     },
     "metadata": {},
     "output_type": "display_data"
    },
    {
     "name": "stdout",
     "output_type": "stream",
     "text": [
      "0.1619853377342224\n",
      "0.2089024904370308\n",
      "0.21556189075112342\n",
      "Finished one batchgen epoch!\n",
      "0.2131417502462864\n",
      "0.20830974899232388\n",
      "Finished one batchgen epoch!\n",
      "0.2132238231599331\n",
      "0.21694163590669632\n",
      "0.20684424832463263\n",
      "Finished one batchgen epoch!\n",
      "0.20457344591617585\n",
      "0.20884927481412888\n",
      "Finished one batchgen epoch!\n"
     ]
    },
    {
     "data": {
      "application/vnd.jupyter.widget-view+json": {
       "model_id": "aa34f8dc2cd148ce8b323d18c43814f4",
       "version_major": 2,
       "version_minor": 0
      },
      "text/plain": [
       "  0%|          | 0/100 [00:00<?, ?it/s]"
      ]
     },
     "metadata": {},
     "output_type": "display_data"
    },
    {
     "name": "stdout",
     "output_type": "stream",
     "text": [
      "Game length mean 76.73\n"
     ]
    },
    {
     "data": {
      "application/vnd.jupyter.widget-view+json": {
       "model_id": "4162e128228b4e349d2cfa6137da2e3b",
       "version_major": 2,
       "version_minor": 0
      },
      "text/plain": [
       "  0%|          | 0/1000 [00:00<?, ?it/s]"
      ]
     },
     "metadata": {},
     "output_type": "display_data"
    },
    {
     "name": "stdout",
     "output_type": "stream",
     "text": [
      "0.19952064752578735\n",
      "0.2160501126945019\n",
      "0.2097947946190834\n",
      "Finished one batchgen epoch!\n",
      "0.21306805178523064\n",
      "0.2138414166867733\n",
      "Finished one batchgen epoch!\n",
      "0.2076597408950329\n",
      "0.21221208930015564\n",
      "0.21052397131919862\n",
      "Finished one batchgen epoch!\n",
      "0.2127266937494278\n",
      "0.20416681498289108\n",
      "Finished one batchgen epoch!\n"
     ]
    },
    {
     "data": {
      "application/vnd.jupyter.widget-view+json": {
       "model_id": "827e488a44e542008da450fccc109265",
       "version_major": 2,
       "version_minor": 0
      },
      "text/plain": [
       "  0%|          | 0/100 [00:00<?, ?it/s]"
      ]
     },
     "metadata": {},
     "output_type": "display_data"
    },
    {
     "name": "stdout",
     "output_type": "stream",
     "text": [
      "Game length mean 78.52\n"
     ]
    },
    {
     "data": {
      "application/vnd.jupyter.widget-view+json": {
       "model_id": "58ac4408d008400b86f4e6d7ca3d13f3",
       "version_major": 2,
       "version_minor": 0
      },
      "text/plain": [
       "  0%|          | 0/1000 [00:00<?, ?it/s]"
      ]
     },
     "metadata": {},
     "output_type": "display_data"
    },
    {
     "name": "stdout",
     "output_type": "stream",
     "text": [
      "0.19293338060379028\n",
      "0.20518952190876008\n",
      "0.2055053623020649\n",
      "Finished one batchgen epoch!\n",
      "0.20433299705386163\n",
      "0.19872073762118816\n",
      "Finished one batchgen epoch!\n",
      "0.20283553913235663\n",
      "0.20440744146704673\n",
      "0.20262675046920775\n",
      "Finished one batchgen epoch!\n",
      "0.20081061482429505\n",
      "0.20364597216248512\n",
      "Finished one batchgen epoch!\n"
     ]
    },
    {
     "data": {
      "application/vnd.jupyter.widget-view+json": {
       "model_id": "e0f1f8765a904075b9ede89418f3827b",
       "version_major": 2,
       "version_minor": 0
      },
      "text/plain": [
       "  0%|          | 0/100 [00:00<?, ?it/s]"
      ]
     },
     "metadata": {},
     "output_type": "display_data"
    },
    {
     "name": "stdout",
     "output_type": "stream",
     "text": [
      "Game length mean 77.96\n"
     ]
    },
    {
     "data": {
      "application/vnd.jupyter.widget-view+json": {
       "model_id": "ad100786cfa74efa8f109a21cc23bb41",
       "version_major": 2,
       "version_minor": 0
      },
      "text/plain": [
       "  0%|          | 0/1000 [00:00<?, ?it/s]"
      ]
     },
     "metadata": {},
     "output_type": "display_data"
    },
    {
     "name": "stdout",
     "output_type": "stream",
     "text": [
      "0.2679606080055237\n",
      "0.20706834852695466\n",
      "0.21314551569521428\n",
      "Finished one batchgen epoch!\n",
      "0.21679595485329628\n",
      "0.21363648235797883\n",
      "Finished one batchgen epoch!\n",
      "0.20501455217599868\n",
      "0.20557340152561665\n",
      "0.2161422611773014\n",
      "Finished one batchgen epoch!\n",
      "0.20885263286530972\n",
      "0.20939504444599152\n",
      "Finished one batchgen epoch!\n"
     ]
    },
    {
     "data": {
      "application/vnd.jupyter.widget-view+json": {
       "model_id": "a9880af1c7584303a8306810fea7d4f0",
       "version_major": 2,
       "version_minor": 0
      },
      "text/plain": [
       "  0%|          | 0/100 [00:00<?, ?it/s]"
      ]
     },
     "metadata": {},
     "output_type": "display_data"
    },
    {
     "name": "stdout",
     "output_type": "stream",
     "text": [
      "Game length mean 80.16\n"
     ]
    },
    {
     "data": {
      "application/vnd.jupyter.widget-view+json": {
       "model_id": "bee65e6b9c3d4870b84b43abc77f3305",
       "version_major": 2,
       "version_minor": 0
      },
      "text/plain": [
       "  0%|          | 0/1000 [00:00<?, ?it/s]"
      ]
     },
     "metadata": {},
     "output_type": "display_data"
    },
    {
     "name": "stdout",
     "output_type": "stream",
     "text": [
      "0.19681835174560547\n",
      "0.20855856835842132\n",
      "0.20996240988373757\n",
      "Finished one batchgen epoch!\n",
      "0.20273458652198315\n",
      "0.2121133726835251\n",
      "Finished one batchgen epoch!\n",
      "0.20772135972976685\n",
      "0.20705400668084623\n",
      "0.2069906060397625\n",
      "Finished one batchgen epoch!\n",
      "0.20323730424046516\n",
      "0.2060515935719013\n"
     ]
    },
    {
     "data": {
      "application/vnd.jupyter.widget-view+json": {
       "model_id": "02825935ddd14400b975689d10bbb3a6",
       "version_major": 2,
       "version_minor": 0
      },
      "text/plain": [
       "  0%|          | 0/100 [00:00<?, ?it/s]"
      ]
     },
     "metadata": {},
     "output_type": "display_data"
    },
    {
     "name": "stdout",
     "output_type": "stream",
     "text": [
      "Game length mean 76.64\n"
     ]
    },
    {
     "data": {
      "application/vnd.jupyter.widget-view+json": {
       "model_id": "2f8304c8e21e418b9214cecda1c9d3ea",
       "version_major": 2,
       "version_minor": 0
      },
      "text/plain": [
       "  0%|          | 0/1000 [00:00<?, ?it/s]"
      ]
     },
     "metadata": {},
     "output_type": "display_data"
    },
    {
     "name": "stdout",
     "output_type": "stream",
     "text": [
      "0.18311719596385956\n",
      "0.21264253109693526\n",
      "0.20633785009384156\n",
      "Finished one batchgen epoch!\n",
      "0.20411769419908524\n",
      "0.208913244754076\n",
      "Finished one batchgen epoch!\n",
      "0.20606863915920257\n",
      "0.2084011146426201\n",
      "0.1997619777917862\n",
      "Finished one batchgen epoch!\n",
      "0.2034313912689686\n",
      "0.2025248248875141\n",
      "Finished one batchgen epoch!\n"
     ]
    },
    {
     "data": {
      "application/vnd.jupyter.widget-view+json": {
       "model_id": "a647766e927a49ea98428cd5510afade",
       "version_major": 2,
       "version_minor": 0
      },
      "text/plain": [
       "  0%|          | 0/100 [00:00<?, ?it/s]"
      ]
     },
     "metadata": {},
     "output_type": "display_data"
    },
    {
     "name": "stdout",
     "output_type": "stream",
     "text": [
      "Game length mean 75.69\n"
     ]
    },
    {
     "data": {
      "application/vnd.jupyter.widget-view+json": {
       "model_id": "092781d3a7974e4b856647f9e62c5586",
       "version_major": 2,
       "version_minor": 0
      },
      "text/plain": [
       "  0%|          | 0/1000 [00:00<?, ?it/s]"
      ]
     },
     "metadata": {},
     "output_type": "display_data"
    },
    {
     "name": "stdout",
     "output_type": "stream",
     "text": [
      "0.2554517388343811\n",
      "0.20962749660015106\n",
      "0.2138780991733074\n",
      "Finished one batchgen epoch!\n",
      "0.2113811518251896\n",
      "0.21483432337641717\n",
      "Finished one batchgen epoch!\n",
      "0.20512264281511305\n",
      "0.20694879621267318\n",
      "0.2122148835659027\n",
      "Finished one batchgen epoch!\n",
      "0.20647915288805962\n",
      "0.2135432989895344\n",
      "Finished one batchgen epoch!\n"
     ]
    },
    {
     "data": {
      "application/vnd.jupyter.widget-view+json": {
       "model_id": "db62702bd85e4441874520078f9c1dbd",
       "version_major": 2,
       "version_minor": 0
      },
      "text/plain": [
       "  0%|          | 0/100 [00:00<?, ?it/s]"
      ]
     },
     "metadata": {},
     "output_type": "display_data"
    },
    {
     "name": "stdout",
     "output_type": "stream",
     "text": [
      "Game length mean 76.09\n"
     ]
    },
    {
     "data": {
      "application/vnd.jupyter.widget-view+json": {
       "model_id": "beb5d4a0641e4cc8afa5af86b5c929f7",
       "version_major": 2,
       "version_minor": 0
      },
      "text/plain": [
       "  0%|          | 0/1000 [00:00<?, ?it/s]"
      ]
     },
     "metadata": {},
     "output_type": "display_data"
    },
    {
     "name": "stdout",
     "output_type": "stream",
     "text": [
      "0.19695346057415009\n",
      "0.2148710745573044\n",
      "0.20921857230365276\n",
      "Finished one batchgen epoch!\n",
      "0.21638393238186837\n",
      "0.20759407967329024\n",
      "Finished one batchgen epoch!\n",
      "0.21602177366614342\n",
      "0.21245139554142953\n",
      "0.21356543242931367\n",
      "Finished one batchgen epoch!\n",
      "0.2129750120639801\n",
      "0.2123098699748516\n",
      "Finished one batchgen epoch!\n"
     ]
    },
    {
     "data": {
      "application/vnd.jupyter.widget-view+json": {
       "model_id": "2bf06bd7509e4c16a1d5578c9e236ca3",
       "version_major": 2,
       "version_minor": 0
      },
      "text/plain": [
       "  0%|          | 0/100 [00:00<?, ?it/s]"
      ]
     },
     "metadata": {},
     "output_type": "display_data"
    },
    {
     "name": "stdout",
     "output_type": "stream",
     "text": [
      "Game length mean 77.29\n"
     ]
    },
    {
     "data": {
      "application/vnd.jupyter.widget-view+json": {
       "model_id": "d6f56494c00b4573950011b831fb3111",
       "version_major": 2,
       "version_minor": 0
      },
      "text/plain": [
       "  0%|          | 0/1000 [00:00<?, ?it/s]"
      ]
     },
     "metadata": {},
     "output_type": "display_data"
    },
    {
     "name": "stdout",
     "output_type": "stream",
     "text": [
      "0.21580584347248077\n",
      "0.20322232738137244\n",
      "0.20028553888201714\n",
      "Finished one batchgen epoch!\n",
      "0.20076654121279716\n",
      "0.2074454230070114\n",
      "Finished one batchgen epoch!\n",
      "0.1999862678349018\n",
      "0.19999253913760184\n",
      "0.2035684771835804\n",
      "Finished one batchgen epoch!\n",
      "0.19835640445351602\n",
      "0.20326944589614868\n",
      "Finished one batchgen epoch!\n"
     ]
    },
    {
     "data": {
      "application/vnd.jupyter.widget-view+json": {
       "model_id": "704375ebe66649e5ae21225e0cc2aa84",
       "version_major": 2,
       "version_minor": 0
      },
      "text/plain": [
       "  0%|          | 0/100 [00:00<?, ?it/s]"
      ]
     },
     "metadata": {},
     "output_type": "display_data"
    },
    {
     "name": "stdout",
     "output_type": "stream",
     "text": [
      "Game length mean 74.77\n"
     ]
    },
    {
     "data": {
      "application/vnd.jupyter.widget-view+json": {
       "model_id": "275add15869b469c9ddaaf32dbb0bf18",
       "version_major": 2,
       "version_minor": 0
      },
      "text/plain": [
       "  0%|          | 0/1000 [00:00<?, ?it/s]"
      ]
     },
     "metadata": {},
     "output_type": "display_data"
    },
    {
     "name": "stdout",
     "output_type": "stream",
     "text": [
      "0.2083616554737091\n",
      "0.2110284012556076\n",
      "0.2167470645159483\n",
      "Finished one batchgen epoch!\n",
      "0.2150304913520813\n",
      "0.21611289218068122\n",
      "Finished one batchgen epoch!\n",
      "0.2083883100748062\n",
      "0.20956010095775127\n",
      "Finished one batchgen epoch!\n",
      "0.2160320048034191\n",
      "0.21576218008995057\n",
      "0.20974792018532754\n",
      "Finished one batchgen epoch!\n"
     ]
    },
    {
     "data": {
      "application/vnd.jupyter.widget-view+json": {
       "model_id": "dd6b42b74a324589a8685b1b918cd34d",
       "version_major": 2,
       "version_minor": 0
      },
      "text/plain": [
       "  0%|          | 0/100 [00:00<?, ?it/s]"
      ]
     },
     "metadata": {},
     "output_type": "display_data"
    },
    {
     "name": "stdout",
     "output_type": "stream",
     "text": [
      "Game length mean 77.22\n"
     ]
    },
    {
     "data": {
      "application/vnd.jupyter.widget-view+json": {
       "model_id": "552df82153c44bae88a34d03a30ac1c0",
       "version_major": 2,
       "version_minor": 0
      },
      "text/plain": [
       "  0%|          | 0/1000 [00:00<?, ?it/s]"
      ]
     },
     "metadata": {},
     "output_type": "display_data"
    },
    {
     "name": "stdout",
     "output_type": "stream",
     "text": [
      "0.23270340263843536\n",
      "0.21843911081552506\n",
      "0.21279235981404782\n",
      "Finished one batchgen epoch!\n",
      "0.21488151386380194\n",
      "0.2135168942809105\n",
      "Finished one batchgen epoch!\n",
      "0.22041335582733154\n",
      "0.21496616259217263\n",
      "0.20932529300451277\n",
      "Finished one batchgen epoch!\n",
      "0.2137547329068184\n",
      "0.21220229305326938\n",
      "Finished one batchgen epoch!\n"
     ]
    },
    {
     "data": {
      "application/vnd.jupyter.widget-view+json": {
       "model_id": "78cd4297039f478ea0036495c2da1252",
       "version_major": 2,
       "version_minor": 0
      },
      "text/plain": [
       "  0%|          | 0/100 [00:00<?, ?it/s]"
      ]
     },
     "metadata": {},
     "output_type": "display_data"
    },
    {
     "name": "stdout",
     "output_type": "stream",
     "text": [
      "Game length mean 78.29\n"
     ]
    },
    {
     "data": {
      "application/vnd.jupyter.widget-view+json": {
       "model_id": "72443b872798438cb496a576e373198d",
       "version_major": 2,
       "version_minor": 0
      },
      "text/plain": [
       "  0%|          | 0/1000 [00:00<?, ?it/s]"
      ]
     },
     "metadata": {},
     "output_type": "display_data"
    },
    {
     "name": "stdout",
     "output_type": "stream",
     "text": [
      "0.1925947368144989\n",
      "0.2086482847481966\n",
      "0.20137023143470287\n",
      "Finished one batchgen epoch!\n",
      "0.2021231734007597\n",
      "0.20032720036804677\n",
      "Finished one batchgen epoch!\n",
      "0.2010949094593525\n",
      "0.20437920287251474\n",
      "0.19783465512096882\n",
      "Finished one batchgen epoch!\n",
      "0.19887941293418407\n",
      "0.2018125446140766\n",
      "Finished one batchgen epoch!\n"
     ]
    },
    {
     "data": {
      "application/vnd.jupyter.widget-view+json": {
       "model_id": "3cadd4554d5b4117a2e35b41f2c1899d",
       "version_major": 2,
       "version_minor": 0
      },
      "text/plain": [
       "  0%|          | 0/100 [00:00<?, ?it/s]"
      ]
     },
     "metadata": {},
     "output_type": "display_data"
    },
    {
     "name": "stdout",
     "output_type": "stream",
     "text": [
      "Game length mean 79.76\n"
     ]
    },
    {
     "data": {
      "application/vnd.jupyter.widget-view+json": {
       "model_id": "ca905e5a9f374cb5a7a2bcab93fa236c",
       "version_major": 2,
       "version_minor": 0
      },
      "text/plain": [
       "  0%|          | 0/1000 [00:00<?, ?it/s]"
      ]
     },
     "metadata": {},
     "output_type": "display_data"
    },
    {
     "name": "stdout",
     "output_type": "stream",
     "text": [
      "0.18812917172908783\n",
      "0.19867333382368088\n",
      "0.20175254911184312\n",
      "Finished one batchgen epoch!\n",
      "0.20423194900155067\n",
      "0.19919718354940413\n",
      "Finished one batchgen epoch!\n",
      "0.20029135771095752\n",
      "0.19718799859285355\n",
      "0.20553932137787342\n",
      "Finished one batchgen epoch!\n",
      "0.19834744706749916\n",
      "0.1992844484746456\n",
      "Finished one batchgen epoch!\n"
     ]
    },
    {
     "data": {
      "application/vnd.jupyter.widget-view+json": {
       "model_id": "8edc7d1a44664658bc66bd9ac156928a",
       "version_major": 2,
       "version_minor": 0
      },
      "text/plain": [
       "  0%|          | 0/100 [00:00<?, ?it/s]"
      ]
     },
     "metadata": {},
     "output_type": "display_data"
    },
    {
     "name": "stdout",
     "output_type": "stream",
     "text": [
      "Game length mean 77.64\n"
     ]
    },
    {
     "data": {
      "application/vnd.jupyter.widget-view+json": {
       "model_id": "31781dfed0954f538a6c0fd19d614eec",
       "version_major": 2,
       "version_minor": 0
      },
      "text/plain": [
       "  0%|          | 0/1000 [00:00<?, ?it/s]"
      ]
     },
     "metadata": {},
     "output_type": "display_data"
    },
    {
     "name": "stdout",
     "output_type": "stream",
     "text": [
      "0.227581188082695\n",
      "0.2090552940964699\n",
      "0.21267360344529151\n",
      "Finished one batchgen epoch!\n",
      "0.2046550129354\n",
      "0.212570119574666\n",
      "Finished one batchgen epoch!\n",
      "0.20702219873666763\n",
      "0.2072542630136013\n",
      "0.21208196491003037\n",
      "Finished one batchgen epoch!\n",
      "0.20356935352087022\n",
      "0.2079424135386944\n",
      "Finished one batchgen epoch!\n"
     ]
    },
    {
     "data": {
      "application/vnd.jupyter.widget-view+json": {
       "model_id": "3e225581b3e64294ba3e9a3ddd8692ca",
       "version_major": 2,
       "version_minor": 0
      },
      "text/plain": [
       "  0%|          | 0/100 [00:00<?, ?it/s]"
      ]
     },
     "metadata": {},
     "output_type": "display_data"
    },
    {
     "name": "stdout",
     "output_type": "stream",
     "text": [
      "Game length mean 77.96\n"
     ]
    },
    {
     "data": {
      "application/vnd.jupyter.widget-view+json": {
       "model_id": "41c843181b714a518dc660aa32decfc9",
       "version_major": 2,
       "version_minor": 0
      },
      "text/plain": [
       "  0%|          | 0/1000 [00:00<?, ?it/s]"
      ]
     },
     "metadata": {},
     "output_type": "display_data"
    },
    {
     "name": "stdout",
     "output_type": "stream",
     "text": [
      "0.2432100772857666\n",
      "0.20726014748215676\n",
      "0.21133853636682035\n",
      "Finished one batchgen epoch!\n",
      "0.20932445913553238\n",
      "0.2055775159597397\n",
      "Finished one batchgen epoch!\n",
      "0.21122701689600945\n",
      "0.208776543289423\n",
      "0.20322183296084403\n",
      "Finished one batchgen epoch!\n",
      "0.20992404498159886\n",
      "0.2070975971221924\n",
      "Finished one batchgen epoch!\n"
     ]
    },
    {
     "data": {
      "application/vnd.jupyter.widget-view+json": {
       "model_id": "b61b2eb71fd7417eac5208eea3a512f5",
       "version_major": 2,
       "version_minor": 0
      },
      "text/plain": [
       "  0%|          | 0/100 [00:00<?, ?it/s]"
      ]
     },
     "metadata": {},
     "output_type": "display_data"
    },
    {
     "name": "stdout",
     "output_type": "stream",
     "text": [
      "Game length mean 74.62\n"
     ]
    },
    {
     "data": {
      "application/vnd.jupyter.widget-view+json": {
       "model_id": "fcefe3d49beb417b945a0c34d6a758fe",
       "version_major": 2,
       "version_minor": 0
      },
      "text/plain": [
       "  0%|          | 0/1000 [00:00<?, ?it/s]"
      ]
     },
     "metadata": {},
     "output_type": "display_data"
    },
    {
     "name": "stdout",
     "output_type": "stream",
     "text": [
      "0.18586033582687378\n",
      "0.21996174573898317\n",
      "0.2190918055176735\n",
      "Finished one batchgen epoch!\n",
      "0.21973298668861388\n",
      "0.21650202244520186\n",
      "Finished one batchgen epoch!\n",
      "0.2162751317024231\n",
      "0.21862726405262947\n",
      "Finished one batchgen epoch!\n",
      "0.2190729248523712\n",
      "0.21297945499420165\n",
      "0.21759471647441386\n",
      "Finished one batchgen epoch!\n"
     ]
    },
    {
     "data": {
      "application/vnd.jupyter.widget-view+json": {
       "model_id": "d138147830274a1fafa91ef74123f35b",
       "version_major": 2,
       "version_minor": 0
      },
      "text/plain": [
       "  0%|          | 0/100 [00:00<?, ?it/s]"
      ]
     },
     "metadata": {},
     "output_type": "display_data"
    },
    {
     "name": "stdout",
     "output_type": "stream",
     "text": [
      "Game length mean 75.23\n"
     ]
    },
    {
     "data": {
      "application/vnd.jupyter.widget-view+json": {
       "model_id": "d1f3951561fc4dab8dd47f4a3f0d8048",
       "version_major": 2,
       "version_minor": 0
      },
      "text/plain": [
       "  0%|          | 0/1000 [00:00<?, ?it/s]"
      ]
     },
     "metadata": {},
     "output_type": "display_data"
    },
    {
     "name": "stdout",
     "output_type": "stream",
     "text": [
      "0.18254083395004272\n",
      "0.22656749367713927\n",
      "0.21786899238824844\n",
      "Finished one batchgen epoch!\n",
      "0.21818569540977478\n",
      "0.22102418556809425\n",
      "Finished one batchgen epoch!\n",
      "0.2137356360256672\n",
      "0.21634371772408487\n",
      "0.22538472101092338\n",
      "Finished one batchgen epoch!\n",
      "0.22144447654485702\n",
      "0.2171623882651329\n",
      "Finished one batchgen epoch!\n"
     ]
    },
    {
     "data": {
      "application/vnd.jupyter.widget-view+json": {
       "model_id": "101ad24ad6b24506b28741fb0cdce90e",
       "version_major": 2,
       "version_minor": 0
      },
      "text/plain": [
       "  0%|          | 0/100 [00:00<?, ?it/s]"
      ]
     },
     "metadata": {},
     "output_type": "display_data"
    },
    {
     "name": "stdout",
     "output_type": "stream",
     "text": [
      "Game length mean 77.91\n"
     ]
    },
    {
     "data": {
      "application/vnd.jupyter.widget-view+json": {
       "model_id": "1a36a2b6824f4978914bcb71860eb2e4",
       "version_major": 2,
       "version_minor": 0
      },
      "text/plain": [
       "  0%|          | 0/1000 [00:00<?, ?it/s]"
      ]
     },
     "metadata": {},
     "output_type": "display_data"
    },
    {
     "name": "stdout",
     "output_type": "stream",
     "text": [
      "0.1459917426109314\n",
      "0.20406075552105904\n",
      "0.20393939211964607\n",
      "Finished one batchgen epoch!\n",
      "0.20227036491036415\n",
      "0.1982893594354391\n",
      "Finished one batchgen epoch!\n",
      "0.20496432326734065\n",
      "0.20366358131170273\n",
      "0.20298285499215127\n",
      "Finished one batchgen epoch!\n",
      "0.19498055696487426\n",
      "0.20582046799361706\n",
      "Finished one batchgen epoch!\n"
     ]
    },
    {
     "data": {
      "application/vnd.jupyter.widget-view+json": {
       "model_id": "e20fff4de44c48638b5871d576c5ea70",
       "version_major": 2,
       "version_minor": 0
      },
      "text/plain": [
       "  0%|          | 0/100 [00:00<?, ?it/s]"
      ]
     },
     "metadata": {},
     "output_type": "display_data"
    },
    {
     "name": "stdout",
     "output_type": "stream",
     "text": [
      "Game length mean 76.28\n"
     ]
    },
    {
     "data": {
      "application/vnd.jupyter.widget-view+json": {
       "model_id": "67bcae194c3949b3b74c12127bf69001",
       "version_major": 2,
       "version_minor": 0
      },
      "text/plain": [
       "  0%|          | 0/1000 [00:00<?, ?it/s]"
      ]
     },
     "metadata": {},
     "output_type": "display_data"
    },
    {
     "name": "stdout",
     "output_type": "stream",
     "text": [
      "0.19561761617660522\n",
      "0.21047352254390717\n",
      "0.213021479845047\n",
      "Finished one batchgen epoch!\n",
      "0.2099389213323593\n",
      "0.21307953022420406\n",
      "Finished one batchgen epoch!\n",
      "0.20752424478530884\n",
      "0.21233360908925533\n",
      "0.21064257122576235\n",
      "Finished one batchgen epoch!\n",
      "0.210755822211504\n",
      "0.20863104343414307\n",
      "Finished one batchgen epoch!\n"
     ]
    },
    {
     "data": {
      "application/vnd.jupyter.widget-view+json": {
       "model_id": "4af8dd550e1a472aa1d06276022f5b4c",
       "version_major": 2,
       "version_minor": 0
      },
      "text/plain": [
       "  0%|          | 0/100 [00:00<?, ?it/s]"
      ]
     },
     "metadata": {},
     "output_type": "display_data"
    },
    {
     "name": "stdout",
     "output_type": "stream",
     "text": [
      "Game length mean 78.95\n"
     ]
    },
    {
     "data": {
      "application/vnd.jupyter.widget-view+json": {
       "model_id": "ab2e624ab0364b0eb5b26365485fbab1",
       "version_major": 2,
       "version_minor": 0
      },
      "text/plain": [
       "  0%|          | 0/1000 [00:00<?, ?it/s]"
      ]
     },
     "metadata": {},
     "output_type": "display_data"
    },
    {
     "name": "stdout",
     "output_type": "stream",
     "text": [
      "0.15482527017593384\n",
      "0.21071726471185684\n",
      "0.2094486601650715\n",
      "Finished one batchgen epoch!\n",
      "0.21019363313913345\n",
      "0.20886292755603791\n",
      "Finished one batchgen epoch!\n",
      "0.20519283831119536\n",
      "0.20443645648658276\n",
      "0.20700891502201557\n",
      "Finished one batchgen epoch!\n",
      "0.20842292323708533\n",
      "0.20149432875216008\n",
      "Finished one batchgen epoch!\n"
     ]
    },
    {
     "data": {
      "application/vnd.jupyter.widget-view+json": {
       "model_id": "777eac4c212e4fc7b5c417844cbb87bc",
       "version_major": 2,
       "version_minor": 0
      },
      "text/plain": [
       "  0%|          | 0/100 [00:00<?, ?it/s]"
      ]
     },
     "metadata": {},
     "output_type": "display_data"
    },
    {
     "name": "stdout",
     "output_type": "stream",
     "text": [
      "Game length mean 77.81\n"
     ]
    },
    {
     "data": {
      "application/vnd.jupyter.widget-view+json": {
       "model_id": "cf7a63cb3e7b484586883a5e55d630ca",
       "version_major": 2,
       "version_minor": 0
      },
      "text/plain": [
       "  0%|          | 0/1000 [00:00<?, ?it/s]"
      ]
     },
     "metadata": {},
     "output_type": "display_data"
    },
    {
     "name": "stdout",
     "output_type": "stream",
     "text": [
      "0.1931847333908081\n",
      "0.20450592607259752\n",
      "0.2092127588391304\n",
      "Finished one batchgen epoch!\n",
      "0.20592693001031875\n",
      "0.20748387418687345\n",
      "Finished one batchgen epoch!\n",
      "0.20550783894956112\n",
      "0.20176505349576473\n",
      "0.205208850055933\n",
      "Finished one batchgen epoch!\n",
      "0.20344733834266662\n",
      "0.2036664003878832\n",
      "Finished one batchgen epoch!\n"
     ]
    },
    {
     "data": {
      "application/vnd.jupyter.widget-view+json": {
       "model_id": "0bd91ebb8a66430097820534986af5fc",
       "version_major": 2,
       "version_minor": 0
      },
      "text/plain": [
       "  0%|          | 0/100 [00:00<?, ?it/s]"
      ]
     },
     "metadata": {},
     "output_type": "display_data"
    },
    {
     "name": "stdout",
     "output_type": "stream",
     "text": [
      "Game length mean 76.44\n"
     ]
    },
    {
     "data": {
      "application/vnd.jupyter.widget-view+json": {
       "model_id": "648f44c3796a4f579a7ed16103efd50a",
       "version_major": 2,
       "version_minor": 0
      },
      "text/plain": [
       "  0%|          | 0/1000 [00:00<?, ?it/s]"
      ]
     },
     "metadata": {},
     "output_type": "display_data"
    },
    {
     "name": "stdout",
     "output_type": "stream",
     "text": [
      "0.23568257689476013\n",
      "0.2155299173295498\n",
      "0.20799218267202377\n",
      "Finished one batchgen epoch!\n",
      "0.21124246701598168\n",
      "0.2144988601654768\n",
      "Finished one batchgen epoch!\n",
      "0.21371683925390245\n",
      "0.21016393847763537\n",
      "0.2112169425189495\n",
      "Finished one batchgen epoch!\n",
      "0.20760493241250516\n",
      "0.21589053936302663\n",
      "Finished one batchgen epoch!\n"
     ]
    },
    {
     "data": {
      "application/vnd.jupyter.widget-view+json": {
       "model_id": "8493f6c2bb55472992f36ff98fc9c573",
       "version_major": 2,
       "version_minor": 0
      },
      "text/plain": [
       "  0%|          | 0/100 [00:00<?, ?it/s]"
      ]
     },
     "metadata": {},
     "output_type": "display_data"
    },
    {
     "name": "stdout",
     "output_type": "stream",
     "text": [
      "Game length mean 77.94\n"
     ]
    },
    {
     "data": {
      "application/vnd.jupyter.widget-view+json": {
       "model_id": "47558b881fc648b399bf88e3f3059e71",
       "version_major": 2,
       "version_minor": 0
      },
      "text/plain": [
       "  0%|          | 0/1000 [00:00<?, ?it/s]"
      ]
     },
     "metadata": {},
     "output_type": "display_data"
    },
    {
     "name": "stdout",
     "output_type": "stream",
     "text": [
      "0.20416125655174255\n",
      "0.21062258645892143\n",
      "0.21153411224484445\n",
      "Finished one batchgen epoch!\n",
      "0.21365432158112527\n",
      "0.20970543712377548\n",
      "Finished one batchgen epoch!\n",
      "0.20823534399271013\n",
      "0.20550360187888145\n",
      "0.21021965503692627\n",
      "Finished one batchgen epoch!\n",
      "0.213669356405735\n",
      "0.2113783909380436\n",
      "Finished one batchgen epoch!\n"
     ]
    },
    {
     "data": {
      "application/vnd.jupyter.widget-view+json": {
       "model_id": "40695ec1f73a423a84bc1973b3dc0b38",
       "version_major": 2,
       "version_minor": 0
      },
      "text/plain": [
       "  0%|          | 0/100 [00:00<?, ?it/s]"
      ]
     },
     "metadata": {},
     "output_type": "display_data"
    },
    {
     "name": "stdout",
     "output_type": "stream",
     "text": [
      "Game length mean 77.87\n"
     ]
    },
    {
     "data": {
      "application/vnd.jupyter.widget-view+json": {
       "model_id": "8c385973d534416aaf8f03be1c747ac4",
       "version_major": 2,
       "version_minor": 0
      },
      "text/plain": [
       "  0%|          | 0/1000 [00:00<?, ?it/s]"
      ]
     },
     "metadata": {},
     "output_type": "display_data"
    },
    {
     "name": "stdout",
     "output_type": "stream",
     "text": [
      "0.26403969526290894\n",
      "0.20454433798789978\n",
      "0.2171024814248085\n",
      "Finished one batchgen epoch!\n",
      "0.20806660175323485\n",
      "0.21090389162302017\n",
      "Finished one batchgen epoch!\n",
      "0.21024557262659072\n",
      "0.2105984315276146\n",
      "0.21138022616505622\n",
      "Finished one batchgen epoch!\n",
      "0.2101791387796402\n",
      "0.21016691535711288\n",
      "Finished one batchgen epoch!\n"
     ]
    },
    {
     "data": {
      "application/vnd.jupyter.widget-view+json": {
       "model_id": "212b6aa426ac4daeb9955d58d4ec7645",
       "version_major": 2,
       "version_minor": 0
      },
      "text/plain": [
       "  0%|          | 0/100 [00:00<?, ?it/s]"
      ]
     },
     "metadata": {},
     "output_type": "display_data"
    },
    {
     "name": "stdout",
     "output_type": "stream",
     "text": [
      "Game length mean 80.35\n"
     ]
    },
    {
     "data": {
      "application/vnd.jupyter.widget-view+json": {
       "model_id": "5297d8845caf45e49784bb4e5e5f73bb",
       "version_major": 2,
       "version_minor": 0
      },
      "text/plain": [
       "  0%|          | 0/1000 [00:00<?, ?it/s]"
      ]
     },
     "metadata": {},
     "output_type": "display_data"
    },
    {
     "name": "stdout",
     "output_type": "stream",
     "text": [
      "0.19210442900657654\n",
      "0.20097657173871994\n",
      "0.20340826705098153\n",
      "Finished one batchgen epoch!\n",
      "0.20011738508939744\n",
      "0.20563313484191895\n",
      "0.1998848593980074\n",
      "Finished one batchgen epoch!\n",
      "0.19300516411662103\n",
      "0.20613301165401934\n",
      "Finished one batchgen epoch!\n",
      "0.20238655157387256\n",
      "0.20158467337489128\n"
     ]
    },
    {
     "data": {
      "application/vnd.jupyter.widget-view+json": {
       "model_id": "6e3adbefe4c9411a8c6f7939e9c09221",
       "version_major": 2,
       "version_minor": 0
      },
      "text/plain": [
       "  0%|          | 0/100 [00:00<?, ?it/s]"
      ]
     },
     "metadata": {},
     "output_type": "display_data"
    },
    {
     "name": "stdout",
     "output_type": "stream",
     "text": [
      "Game length mean 76.67\n"
     ]
    },
    {
     "data": {
      "application/vnd.jupyter.widget-view+json": {
       "model_id": "203a41442bd84a328ef4082b7cb81c24",
       "version_major": 2,
       "version_minor": 0
      },
      "text/plain": [
       "  0%|          | 0/1000 [00:00<?, ?it/s]"
      ]
     },
     "metadata": {},
     "output_type": "display_data"
    },
    {
     "name": "stdout",
     "output_type": "stream",
     "text": [
      "0.21439091861248016\n",
      "0.2190578833222389\n",
      "0.21570986062288283\n",
      "Finished one batchgen epoch!\n",
      "0.21369991928339005\n",
      "0.21763343945145608\n",
      "Finished one batchgen epoch!\n",
      "0.21376540780067443\n",
      "0.21725214272737503\n",
      "0.21238667920231818\n",
      "Finished one batchgen epoch!\n",
      "0.2132526294887066\n",
      "0.2144216114282608\n",
      "Finished one batchgen epoch!\n"
     ]
    },
    {
     "data": {
      "application/vnd.jupyter.widget-view+json": {
       "model_id": "76f54af6dfa0470c9fff591bd1a14f26",
       "version_major": 2,
       "version_minor": 0
      },
      "text/plain": [
       "  0%|          | 0/100 [00:00<?, ?it/s]"
      ]
     },
     "metadata": {},
     "output_type": "display_data"
    },
    {
     "name": "stdout",
     "output_type": "stream",
     "text": [
      "Game length mean 79.56\n"
     ]
    },
    {
     "data": {
      "application/vnd.jupyter.widget-view+json": {
       "model_id": "8148b7d6d95547a19d0c6bca55b5b395",
       "version_major": 2,
       "version_minor": 0
      },
      "text/plain": [
       "  0%|          | 0/1000 [00:00<?, ?it/s]"
      ]
     },
     "metadata": {},
     "output_type": "display_data"
    },
    {
     "name": "stdout",
     "output_type": "stream",
     "text": [
      "0.19889521598815918\n",
      "0.2065930324792862\n",
      "0.21443308681249618\n",
      "Finished one batchgen epoch!\n",
      "0.2058713813126087\n",
      "0.204787934795022\n",
      "Finished one batchgen epoch!\n",
      "0.2074156093597412\n",
      "0.20297905080020429\n",
      "0.2058441136777401\n",
      "Finished one batchgen epoch!\n",
      "0.20350612610578536\n",
      "0.20651449039578437\n",
      "Finished one batchgen epoch!\n"
     ]
    },
    {
     "data": {
      "application/vnd.jupyter.widget-view+json": {
       "model_id": "c605ada7db334a419496592863f2f1ed",
       "version_major": 2,
       "version_minor": 0
      },
      "text/plain": [
       "  0%|          | 0/100 [00:00<?, ?it/s]"
      ]
     },
     "metadata": {},
     "output_type": "display_data"
    },
    {
     "name": "stdout",
     "output_type": "stream",
     "text": [
      "Game length mean 78.24\n"
     ]
    },
    {
     "data": {
      "application/vnd.jupyter.widget-view+json": {
       "model_id": "fb7119e908bc461a860dff54a52fdd1b",
       "version_major": 2,
       "version_minor": 0
      },
      "text/plain": [
       "  0%|          | 0/1000 [00:00<?, ?it/s]"
      ]
     },
     "metadata": {},
     "output_type": "display_data"
    },
    {
     "name": "stdout",
     "output_type": "stream",
     "text": [
      "0.14639581739902496\n",
      "0.20880237758159637\n",
      "0.20630757160484792\n",
      "Finished one batchgen epoch!\n",
      "0.20219166651368142\n",
      "0.20682601287961005\n",
      "Finished one batchgen epoch!\n",
      "0.20662056773900986\n",
      "0.20264362052083015\n",
      "0.20479302242398262\n",
      "Finished one batchgen epoch!\n",
      "0.20309188157320024\n",
      "0.20675215467810631\n",
      "Finished one batchgen epoch!\n"
     ]
    },
    {
     "data": {
      "application/vnd.jupyter.widget-view+json": {
       "model_id": "e4f4fc59bb6a419b85c38a2821480c83",
       "version_major": 2,
       "version_minor": 0
      },
      "text/plain": [
       "  0%|          | 0/100 [00:00<?, ?it/s]"
      ]
     },
     "metadata": {},
     "output_type": "display_data"
    },
    {
     "name": "stdout",
     "output_type": "stream",
     "text": [
      "Game length mean 76.69\n"
     ]
    },
    {
     "data": {
      "application/vnd.jupyter.widget-view+json": {
       "model_id": "b6c5d086d2ee424da49477739f03dbc1",
       "version_major": 2,
       "version_minor": 0
      },
      "text/plain": [
       "  0%|          | 0/1000 [00:00<?, ?it/s]"
      ]
     },
     "metadata": {},
     "output_type": "display_data"
    },
    {
     "name": "stdout",
     "output_type": "stream",
     "text": [
      "0.190003901720047\n",
      "0.20663612358272077\n",
      "0.21462690338492393\n",
      "Finished one batchgen epoch!\n",
      "0.2080306738615036\n",
      "0.206877024769783\n",
      "Finished one batchgen epoch!\n",
      "0.21189997732639312\n",
      "0.20917250856757164\n",
      "0.20682232931256295\n",
      "Finished one batchgen epoch!\n",
      "0.20864071905612946\n",
      "0.20989320576190948\n",
      "Finished one batchgen epoch!\n"
     ]
    },
    {
     "data": {
      "application/vnd.jupyter.widget-view+json": {
       "model_id": "49676ada5ac646d6882de845b1395d66",
       "version_major": 2,
       "version_minor": 0
      },
      "text/plain": [
       "  0%|          | 0/100 [00:00<?, ?it/s]"
      ]
     },
     "metadata": {},
     "output_type": "display_data"
    },
    {
     "name": "stdout",
     "output_type": "stream",
     "text": [
      "Game length mean 77.23\n"
     ]
    },
    {
     "data": {
      "application/vnd.jupyter.widget-view+json": {
       "model_id": "3c3b6fdfc11444ff8fb713e684e64542",
       "version_major": 2,
       "version_minor": 0
      },
      "text/plain": [
       "  0%|          | 0/1000 [00:00<?, ?it/s]"
      ]
     },
     "metadata": {},
     "output_type": "display_data"
    },
    {
     "name": "stdout",
     "output_type": "stream",
     "text": [
      "0.21142208576202393\n",
      "0.21297538444399833\n",
      "0.20693939931690694\n",
      "Finished one batchgen epoch!\n",
      "0.20858887232840062\n",
      "0.20791199535131455\n",
      "Finished one batchgen epoch!\n",
      "0.210133858025074\n",
      "0.20956144779920577\n",
      "0.20755948528647422\n",
      "Finished one batchgen epoch!\n",
      "0.21108625277876855\n",
      "0.20819297030568124\n",
      "Finished one batchgen epoch!\n"
     ]
    },
    {
     "data": {
      "application/vnd.jupyter.widget-view+json": {
       "model_id": "03501fb740de40889416dd8d280a2fb6",
       "version_major": 2,
       "version_minor": 0
      },
      "text/plain": [
       "  0%|          | 0/100 [00:00<?, ?it/s]"
      ]
     },
     "metadata": {},
     "output_type": "display_data"
    },
    {
     "name": "stdout",
     "output_type": "stream",
     "text": [
      "Game length mean 79.91\n"
     ]
    },
    {
     "data": {
      "application/vnd.jupyter.widget-view+json": {
       "model_id": "07ecd58c5d1745b9aac1d303d1eb4d5e",
       "version_major": 2,
       "version_minor": 0
      },
      "text/plain": [
       "  0%|          | 0/1000 [00:00<?, ?it/s]"
      ]
     },
     "metadata": {},
     "output_type": "display_data"
    },
    {
     "name": "stdout",
     "output_type": "stream",
     "text": [
      "0.24517722427845\n",
      "0.2097618341445923\n",
      "0.20553867340087892\n",
      "Finished one batchgen epoch!\n",
      "0.19806930892169475\n",
      "0.20499854668974876\n",
      "Finished one batchgen epoch!\n",
      "0.20648114897310735\n",
      "0.20915943138301374\n",
      "0.1982714781165123\n",
      "Finished one batchgen epoch!\n",
      "0.2001063434034586\n",
      "0.20788558185100556\n",
      "Finished one batchgen epoch!\n"
     ]
    },
    {
     "data": {
      "application/vnd.jupyter.widget-view+json": {
       "model_id": "f22f66b57cd54315883a72b5e51dce80",
       "version_major": 2,
       "version_minor": 0
      },
      "text/plain": [
       "  0%|          | 0/100 [00:00<?, ?it/s]"
      ]
     },
     "metadata": {},
     "output_type": "display_data"
    },
    {
     "name": "stdout",
     "output_type": "stream",
     "text": [
      "Game length mean 80.33\n"
     ]
    },
    {
     "data": {
      "application/vnd.jupyter.widget-view+json": {
       "model_id": "a90907c7df3646348e8f8885f610dcbe",
       "version_major": 2,
       "version_minor": 0
      },
      "text/plain": [
       "  0%|          | 0/1000 [00:00<?, ?it/s]"
      ]
     },
     "metadata": {},
     "output_type": "display_data"
    },
    {
     "name": "stdout",
     "output_type": "stream",
     "text": [
      "0.20347899198532104\n",
      "0.1997170004248619\n",
      "0.19853979736566543\n",
      "Finished one batchgen epoch!\n",
      "0.1919433842599392\n",
      "0.20089561775326728\n",
      "0.19517255946993828\n",
      "Finished one batchgen epoch!\n",
      "0.19267390683293342\n",
      "0.19597915418446063\n",
      "Finished one batchgen epoch!\n",
      "0.20052093476057054\n",
      "0.19172790750861168\n"
     ]
    },
    {
     "data": {
      "application/vnd.jupyter.widget-view+json": {
       "model_id": "701114c2ac9c4bf6a4e4d539d7759af1",
       "version_major": 2,
       "version_minor": 0
      },
      "text/plain": [
       "  0%|          | 0/100 [00:00<?, ?it/s]"
      ]
     },
     "metadata": {},
     "output_type": "display_data"
    },
    {
     "name": "stdout",
     "output_type": "stream",
     "text": [
      "Game length mean 80.16\n"
     ]
    },
    {
     "data": {
      "application/vnd.jupyter.widget-view+json": {
       "model_id": "a233a72d295d4c6792581b0785e3100f",
       "version_major": 2,
       "version_minor": 0
      },
      "text/plain": [
       "  0%|          | 0/1000 [00:00<?, ?it/s]"
      ]
     },
     "metadata": {},
     "output_type": "display_data"
    },
    {
     "name": "stdout",
     "output_type": "stream",
     "text": [
      "0.11985351145267487\n",
      "0.201077511459589\n",
      "0.20060554042458534\n",
      "Finished one batchgen epoch!\n",
      "0.19763235062360762\n",
      "0.1963214624673128\n",
      "Finished one batchgen epoch!\n",
      "0.20010963439941407\n",
      "0.1979186100512743\n",
      "0.19729997128248214\n",
      "Finished one batchgen epoch!\n",
      "0.19355387143790723\n",
      "0.19604515500366687\n"
     ]
    },
    {
     "data": {
      "application/vnd.jupyter.widget-view+json": {
       "model_id": "b9d10f13620947efb7b165d231ed049b",
       "version_major": 2,
       "version_minor": 0
      },
      "text/plain": [
       "  0%|          | 0/100 [00:00<?, ?it/s]"
      ]
     },
     "metadata": {},
     "output_type": "display_data"
    },
    {
     "name": "stdout",
     "output_type": "stream",
     "text": [
      "Game length mean 76.41\n"
     ]
    },
    {
     "data": {
      "application/vnd.jupyter.widget-view+json": {
       "model_id": "923e320e950c4ed8ad6de22d1d8c9339",
       "version_major": 2,
       "version_minor": 0
      },
      "text/plain": [
       "  0%|          | 0/1000 [00:00<?, ?it/s]"
      ]
     },
     "metadata": {},
     "output_type": "display_data"
    },
    {
     "name": "stdout",
     "output_type": "stream",
     "text": [
      "0.17932546138763428\n",
      "0.20851270347833634\n",
      "0.21421400114893913\n",
      "Finished one batchgen epoch!\n",
      "0.21002936147153378\n",
      "0.21318198144435882\n",
      "Finished one batchgen epoch!\n",
      "0.2009866713732481\n",
      "0.21252654790878295\n",
      "0.20908092439174653\n",
      "Finished one batchgen epoch!\n",
      "0.21048783972859383\n",
      "0.20764206007122993\n",
      "Finished one batchgen epoch!\n"
     ]
    },
    {
     "data": {
      "application/vnd.jupyter.widget-view+json": {
       "model_id": "c77ea384f1244b64adea3acb84513793",
       "version_major": 2,
       "version_minor": 0
      },
      "text/plain": [
       "  0%|          | 0/100 [00:00<?, ?it/s]"
      ]
     },
     "metadata": {},
     "output_type": "display_data"
    },
    {
     "name": "stdout",
     "output_type": "stream",
     "text": [
      "Game length mean 77.44\n"
     ]
    },
    {
     "data": {
      "application/vnd.jupyter.widget-view+json": {
       "model_id": "670ce2942fb94614a45313ce157e4273",
       "version_major": 2,
       "version_minor": 0
      },
      "text/plain": [
       "  0%|          | 0/1000 [00:00<?, ?it/s]"
      ]
     },
     "metadata": {},
     "output_type": "display_data"
    },
    {
     "name": "stdout",
     "output_type": "stream",
     "text": [
      "0.2323039174079895\n",
      "0.20652360804378986\n",
      "0.20809487938880922\n",
      "Finished one batchgen epoch!\n",
      "0.20225362449884415\n",
      "0.20558560594916345\n",
      "Finished one batchgen epoch!\n",
      "0.2031937451660633\n",
      "0.20801673844456672\n",
      "0.2024586071819067\n",
      "Finished one batchgen epoch!\n",
      "0.20160084865987302\n",
      "0.20449364081025123\n",
      "Finished one batchgen epoch!\n"
     ]
    },
    {
     "data": {
      "application/vnd.jupyter.widget-view+json": {
       "model_id": "4e65cbd4a8584c1a91247d8fde071a81",
       "version_major": 2,
       "version_minor": 0
      },
      "text/plain": [
       "  0%|          | 0/100 [00:00<?, ?it/s]"
      ]
     },
     "metadata": {},
     "output_type": "display_data"
    },
    {
     "name": "stdout",
     "output_type": "stream",
     "text": [
      "Game length mean 78.11\n"
     ]
    },
    {
     "data": {
      "application/vnd.jupyter.widget-view+json": {
       "model_id": "2859f892d5a343f68ea8b0499dcf1b09",
       "version_major": 2,
       "version_minor": 0
      },
      "text/plain": [
       "  0%|          | 0/1000 [00:00<?, ?it/s]"
      ]
     },
     "metadata": {},
     "output_type": "display_data"
    },
    {
     "name": "stdout",
     "output_type": "stream",
     "text": [
      "0.1884130835533142\n",
      "0.20131250336766243\n",
      "0.20856444023549556\n",
      "Finished one batchgen epoch!\n",
      "0.20213221788406371\n",
      "0.205326566696167\n",
      "Finished one batchgen epoch!\n",
      "0.2006833226978779\n",
      "0.20147937580943107\n",
      "0.20675838574767114\n",
      "Finished one batchgen epoch!\n"
     ]
    },
    {
     "ename": "KeyboardInterrupt",
     "evalue": "",
     "output_type": "error",
     "traceback": [
      "\u001b[1;31m---------------------------------------------------------------------------\u001b[0m",
      "\u001b[1;31mKeyboardInterrupt\u001b[0m                         Traceback (most recent call last)",
      "\u001b[1;32m<ipython-input-8-ae70378bcb0b>\u001b[0m in \u001b[0;36m<module>\u001b[1;34m\u001b[0m\n\u001b[0;32m     49\u001b[0m         \u001b[0mxs\u001b[0m\u001b[1;33m,\u001b[0m \u001b[0mys\u001b[0m\u001b[1;33m,\u001b[0m \u001b[0mqs\u001b[0m \u001b[1;33m=\u001b[0m \u001b[0mnext\u001b[0m\u001b[1;33m(\u001b[0m\u001b[0mbg\u001b[0m\u001b[1;33m)\u001b[0m\u001b[1;33m\u001b[0m\u001b[1;33m\u001b[0m\u001b[0m\n\u001b[0;32m     50\u001b[0m         \u001b[0mxs\u001b[0m\u001b[1;33m,\u001b[0m \u001b[0mys\u001b[0m\u001b[1;33m,\u001b[0m \u001b[0mqs\u001b[0m \u001b[1;33m=\u001b[0m \u001b[0mnp2t\u001b[0m\u001b[1;33m(\u001b[0m\u001b[0mxs\u001b[0m\u001b[1;33m,\u001b[0m \u001b[0mys\u001b[0m\u001b[1;33m,\u001b[0m \u001b[0mqs\u001b[0m\u001b[1;33m)\u001b[0m\u001b[1;33m\u001b[0m\u001b[1;33m\u001b[0m\u001b[0m\n\u001b[1;32m---> 51\u001b[1;33m         \u001b[0mnet\u001b[0m\u001b[1;33m(\u001b[0m\u001b[0mxs\u001b[0m\u001b[1;33m)\u001b[0m\u001b[1;33m\u001b[0m\u001b[1;33m\u001b[0m\u001b[0m\n\u001b[0m\u001b[0;32m     52\u001b[0m         \u001b[0mqp\u001b[0m \u001b[1;33m=\u001b[0m \u001b[0mnet\u001b[0m\u001b[1;33m.\u001b[0m\u001b[0mp\u001b[0m\u001b[1;33m\u001b[0m\u001b[1;33m\u001b[0m\u001b[0m\n\u001b[0;32m     53\u001b[0m         \u001b[0mqp\u001b[0m \u001b[1;33m=\u001b[0m \u001b[0mtorch\u001b[0m\u001b[1;33m.\u001b[0m\u001b[0msum\u001b[0m\u001b[1;33m(\u001b[0m\u001b[0mqp\u001b[0m \u001b[1;33m*\u001b[0m \u001b[0mys\u001b[0m\u001b[1;33m,\u001b[0m \u001b[0mdim\u001b[0m\u001b[1;33m=\u001b[0m\u001b[1;33m(\u001b[0m\u001b[1;36m1\u001b[0m\u001b[1;33m,\u001b[0m\u001b[1;36m2\u001b[0m\u001b[1;33m,\u001b[0m\u001b[1;36m3\u001b[0m\u001b[1;33m)\u001b[0m\u001b[1;33m)\u001b[0m\u001b[1;33m\u001b[0m\u001b[1;33m\u001b[0m\u001b[0m\n",
      "\u001b[1;32mC:\\ProgramData\\Anaconda3\\lib\\site-packages\\torch\\nn\\modules\\module.py\u001b[0m in \u001b[0;36m__call__\u001b[1;34m(self, *input, **kwargs)\u001b[0m\n\u001b[0;32m    548\u001b[0m             \u001b[0mresult\u001b[0m \u001b[1;33m=\u001b[0m \u001b[0mself\u001b[0m\u001b[1;33m.\u001b[0m\u001b[0m_slow_forward\u001b[0m\u001b[1;33m(\u001b[0m\u001b[1;33m*\u001b[0m\u001b[0minput\u001b[0m\u001b[1;33m,\u001b[0m \u001b[1;33m**\u001b[0m\u001b[0mkwargs\u001b[0m\u001b[1;33m)\u001b[0m\u001b[1;33m\u001b[0m\u001b[1;33m\u001b[0m\u001b[0m\n\u001b[0;32m    549\u001b[0m         \u001b[1;32melse\u001b[0m\u001b[1;33m:\u001b[0m\u001b[1;33m\u001b[0m\u001b[1;33m\u001b[0m\u001b[0m\n\u001b[1;32m--> 550\u001b[1;33m             \u001b[0mresult\u001b[0m \u001b[1;33m=\u001b[0m \u001b[0mself\u001b[0m\u001b[1;33m.\u001b[0m\u001b[0mforward\u001b[0m\u001b[1;33m(\u001b[0m\u001b[1;33m*\u001b[0m\u001b[0minput\u001b[0m\u001b[1;33m,\u001b[0m \u001b[1;33m**\u001b[0m\u001b[0mkwargs\u001b[0m\u001b[1;33m)\u001b[0m\u001b[1;33m\u001b[0m\u001b[1;33m\u001b[0m\u001b[0m\n\u001b[0m\u001b[0;32m    551\u001b[0m         \u001b[1;32mfor\u001b[0m \u001b[0mhook\u001b[0m \u001b[1;32min\u001b[0m \u001b[0mself\u001b[0m\u001b[1;33m.\u001b[0m\u001b[0m_forward_hooks\u001b[0m\u001b[1;33m.\u001b[0m\u001b[0mvalues\u001b[0m\u001b[1;33m(\u001b[0m\u001b[1;33m)\u001b[0m\u001b[1;33m:\u001b[0m\u001b[1;33m\u001b[0m\u001b[1;33m\u001b[0m\u001b[0m\n\u001b[0;32m    552\u001b[0m             \u001b[0mhook_result\u001b[0m \u001b[1;33m=\u001b[0m \u001b[0mhook\u001b[0m\u001b[1;33m(\u001b[0m\u001b[0mself\u001b[0m\u001b[1;33m,\u001b[0m \u001b[0minput\u001b[0m\u001b[1;33m,\u001b[0m \u001b[0mresult\u001b[0m\u001b[1;33m)\u001b[0m\u001b[1;33m\u001b[0m\u001b[1;33m\u001b[0m\u001b[0m\n",
      "\u001b[1;32mD:\\Anaconda-Python-3.7\\battle-ships\\bs_unet.py\u001b[0m in \u001b[0;36mforward\u001b[1;34m(self, x)\u001b[0m\n\u001b[0;32m     46\u001b[0m         \u001b[0mxskip2\u001b[0m \u001b[1;33m=\u001b[0m \u001b[0mx\u001b[0m\u001b[1;33m\u001b[0m\u001b[1;33m\u001b[0m\u001b[0m\n\u001b[0;32m     47\u001b[0m         \u001b[0mx\u001b[0m \u001b[1;33m=\u001b[0m \u001b[0mexpandtoeven\u001b[0m\u001b[1;33m(\u001b[0m\u001b[0mx\u001b[0m\u001b[1;33m)\u001b[0m\u001b[1;33m\u001b[0m\u001b[1;33m\u001b[0m\u001b[0m\n\u001b[1;32m---> 48\u001b[1;33m         \u001b[0mx\u001b[0m \u001b[1;33m=\u001b[0m \u001b[0mself\u001b[0m\u001b[1;33m.\u001b[0m\u001b[0mdown2\u001b[0m\u001b[1;33m(\u001b[0m\u001b[0mx\u001b[0m\u001b[1;33m)\u001b[0m\u001b[1;33m\u001b[0m\u001b[1;33m\u001b[0m\u001b[0m\n\u001b[0m\u001b[0;32m     49\u001b[0m         \u001b[1;31m#print(x.shape)\u001b[0m\u001b[1;33m\u001b[0m\u001b[1;33m\u001b[0m\u001b[1;33m\u001b[0m\u001b[0m\n\u001b[0;32m     50\u001b[0m         \u001b[0mxskip3\u001b[0m \u001b[1;33m=\u001b[0m \u001b[0mx\u001b[0m\u001b[1;33m\u001b[0m\u001b[1;33m\u001b[0m\u001b[0m\n",
      "\u001b[1;32mC:\\ProgramData\\Anaconda3\\lib\\site-packages\\torch\\nn\\modules\\module.py\u001b[0m in \u001b[0;36m__call__\u001b[1;34m(self, *input, **kwargs)\u001b[0m\n\u001b[0;32m    548\u001b[0m             \u001b[0mresult\u001b[0m \u001b[1;33m=\u001b[0m \u001b[0mself\u001b[0m\u001b[1;33m.\u001b[0m\u001b[0m_slow_forward\u001b[0m\u001b[1;33m(\u001b[0m\u001b[1;33m*\u001b[0m\u001b[0minput\u001b[0m\u001b[1;33m,\u001b[0m \u001b[1;33m**\u001b[0m\u001b[0mkwargs\u001b[0m\u001b[1;33m)\u001b[0m\u001b[1;33m\u001b[0m\u001b[1;33m\u001b[0m\u001b[0m\n\u001b[0;32m    549\u001b[0m         \u001b[1;32melse\u001b[0m\u001b[1;33m:\u001b[0m\u001b[1;33m\u001b[0m\u001b[1;33m\u001b[0m\u001b[0m\n\u001b[1;32m--> 550\u001b[1;33m             \u001b[0mresult\u001b[0m \u001b[1;33m=\u001b[0m \u001b[0mself\u001b[0m\u001b[1;33m.\u001b[0m\u001b[0mforward\u001b[0m\u001b[1;33m(\u001b[0m\u001b[1;33m*\u001b[0m\u001b[0minput\u001b[0m\u001b[1;33m,\u001b[0m \u001b[1;33m**\u001b[0m\u001b[0mkwargs\u001b[0m\u001b[1;33m)\u001b[0m\u001b[1;33m\u001b[0m\u001b[1;33m\u001b[0m\u001b[0m\n\u001b[0m\u001b[0;32m    551\u001b[0m         \u001b[1;32mfor\u001b[0m \u001b[0mhook\u001b[0m \u001b[1;32min\u001b[0m \u001b[0mself\u001b[0m\u001b[1;33m.\u001b[0m\u001b[0m_forward_hooks\u001b[0m\u001b[1;33m.\u001b[0m\u001b[0mvalues\u001b[0m\u001b[1;33m(\u001b[0m\u001b[1;33m)\u001b[0m\u001b[1;33m:\u001b[0m\u001b[1;33m\u001b[0m\u001b[1;33m\u001b[0m\u001b[0m\n\u001b[0;32m    552\u001b[0m             \u001b[0mhook_result\u001b[0m \u001b[1;33m=\u001b[0m \u001b[0mhook\u001b[0m\u001b[1;33m(\u001b[0m\u001b[0mself\u001b[0m\u001b[1;33m,\u001b[0m \u001b[0minput\u001b[0m\u001b[1;33m,\u001b[0m \u001b[0mresult\u001b[0m\u001b[1;33m)\u001b[0m\u001b[1;33m\u001b[0m\u001b[1;33m\u001b[0m\u001b[0m\n",
      "\u001b[1;32mD:\\Anaconda-Python-3.7\\battle-ships\\utils.py\u001b[0m in \u001b[0;36mforward\u001b[1;34m(self, x)\u001b[0m\n\u001b[0;32m    483\u001b[0m     \u001b[1;32mdef\u001b[0m \u001b[0mforward\u001b[0m\u001b[1;33m(\u001b[0m\u001b[0mself\u001b[0m\u001b[1;33m,\u001b[0m \u001b[0mx\u001b[0m\u001b[1;33m)\u001b[0m\u001b[1;33m:\u001b[0m\u001b[1;33m\u001b[0m\u001b[1;33m\u001b[0m\u001b[0m\n\u001b[0;32m    484\u001b[0m         \u001b[0mxr\u001b[0m \u001b[1;33m=\u001b[0m \u001b[0mavgpool\u001b[0m\u001b[1;33m(\u001b[0m\u001b[0mx\u001b[0m\u001b[1;33m)\u001b[0m\u001b[1;33m\u001b[0m\u001b[1;33m\u001b[0m\u001b[0m\n\u001b[1;32m--> 485\u001b[1;33m         \u001b[0mxr\u001b[0m \u001b[1;33m=\u001b[0m \u001b[0mself\u001b[0m\u001b[1;33m.\u001b[0m\u001b[0mconv_res\u001b[0m\u001b[1;33m(\u001b[0m\u001b[0mself\u001b[0m\u001b[1;33m.\u001b[0m\u001b[0mbn_res\u001b[0m\u001b[1;33m(\u001b[0m\u001b[0mxr\u001b[0m\u001b[1;33m)\u001b[0m\u001b[1;33m)\u001b[0m\u001b[1;33m\u001b[0m\u001b[1;33m\u001b[0m\u001b[0m\n\u001b[0m\u001b[0;32m    486\u001b[0m         \u001b[0mx\u001b[0m  \u001b[1;33m=\u001b[0m \u001b[0mself\u001b[0m\u001b[1;33m.\u001b[0m\u001b[0mconv1\u001b[0m\u001b[1;33m(\u001b[0m\u001b[0mact\u001b[0m\u001b[1;33m(\u001b[0m\u001b[0mself\u001b[0m\u001b[1;33m.\u001b[0m\u001b[0mbn1\u001b[0m\u001b[1;33m(\u001b[0m\u001b[0mx\u001b[0m\u001b[1;33m)\u001b[0m\u001b[1;33m)\u001b[0m\u001b[1;33m)\u001b[0m\u001b[1;33m\u001b[0m\u001b[1;33m\u001b[0m\u001b[0m\n\u001b[0;32m    487\u001b[0m         \u001b[0mx\u001b[0m  \u001b[1;33m=\u001b[0m \u001b[0mself\u001b[0m\u001b[1;33m.\u001b[0m\u001b[0mconv2\u001b[0m\u001b[1;33m(\u001b[0m\u001b[0mact\u001b[0m\u001b[1;33m(\u001b[0m\u001b[0mself\u001b[0m\u001b[1;33m.\u001b[0m\u001b[0mbn2\u001b[0m\u001b[1;33m(\u001b[0m\u001b[0mx\u001b[0m\u001b[1;33m)\u001b[0m\u001b[1;33m)\u001b[0m\u001b[1;33m)\u001b[0m\u001b[1;33m\u001b[0m\u001b[1;33m\u001b[0m\u001b[0m\n",
      "\u001b[1;32mC:\\ProgramData\\Anaconda3\\lib\\site-packages\\torch\\nn\\modules\\module.py\u001b[0m in \u001b[0;36m__call__\u001b[1;34m(self, *input, **kwargs)\u001b[0m\n\u001b[0;32m    548\u001b[0m             \u001b[0mresult\u001b[0m \u001b[1;33m=\u001b[0m \u001b[0mself\u001b[0m\u001b[1;33m.\u001b[0m\u001b[0m_slow_forward\u001b[0m\u001b[1;33m(\u001b[0m\u001b[1;33m*\u001b[0m\u001b[0minput\u001b[0m\u001b[1;33m,\u001b[0m \u001b[1;33m**\u001b[0m\u001b[0mkwargs\u001b[0m\u001b[1;33m)\u001b[0m\u001b[1;33m\u001b[0m\u001b[1;33m\u001b[0m\u001b[0m\n\u001b[0;32m    549\u001b[0m         \u001b[1;32melse\u001b[0m\u001b[1;33m:\u001b[0m\u001b[1;33m\u001b[0m\u001b[1;33m\u001b[0m\u001b[0m\n\u001b[1;32m--> 550\u001b[1;33m             \u001b[0mresult\u001b[0m \u001b[1;33m=\u001b[0m \u001b[0mself\u001b[0m\u001b[1;33m.\u001b[0m\u001b[0mforward\u001b[0m\u001b[1;33m(\u001b[0m\u001b[1;33m*\u001b[0m\u001b[0minput\u001b[0m\u001b[1;33m,\u001b[0m \u001b[1;33m**\u001b[0m\u001b[0mkwargs\u001b[0m\u001b[1;33m)\u001b[0m\u001b[1;33m\u001b[0m\u001b[1;33m\u001b[0m\u001b[0m\n\u001b[0m\u001b[0;32m    551\u001b[0m         \u001b[1;32mfor\u001b[0m \u001b[0mhook\u001b[0m \u001b[1;32min\u001b[0m \u001b[0mself\u001b[0m\u001b[1;33m.\u001b[0m\u001b[0m_forward_hooks\u001b[0m\u001b[1;33m.\u001b[0m\u001b[0mvalues\u001b[0m\u001b[1;33m(\u001b[0m\u001b[1;33m)\u001b[0m\u001b[1;33m:\u001b[0m\u001b[1;33m\u001b[0m\u001b[1;33m\u001b[0m\u001b[0m\n\u001b[0;32m    552\u001b[0m             \u001b[0mhook_result\u001b[0m \u001b[1;33m=\u001b[0m \u001b[0mhook\u001b[0m\u001b[1;33m(\u001b[0m\u001b[0mself\u001b[0m\u001b[1;33m,\u001b[0m \u001b[0minput\u001b[0m\u001b[1;33m,\u001b[0m \u001b[0mresult\u001b[0m\u001b[1;33m)\u001b[0m\u001b[1;33m\u001b[0m\u001b[1;33m\u001b[0m\u001b[0m\n",
      "\u001b[1;32mC:\\ProgramData\\Anaconda3\\lib\\site-packages\\torch\\nn\\modules\\conv.py\u001b[0m in \u001b[0;36mforward\u001b[1;34m(self, input)\u001b[0m\n\u001b[0;32m    351\u001b[0m \u001b[1;33m\u001b[0m\u001b[0m\n\u001b[0;32m    352\u001b[0m     \u001b[1;32mdef\u001b[0m \u001b[0mforward\u001b[0m\u001b[1;33m(\u001b[0m\u001b[0mself\u001b[0m\u001b[1;33m,\u001b[0m \u001b[0minput\u001b[0m\u001b[1;33m)\u001b[0m\u001b[1;33m:\u001b[0m\u001b[1;33m\u001b[0m\u001b[1;33m\u001b[0m\u001b[0m\n\u001b[1;32m--> 353\u001b[1;33m         \u001b[1;32mreturn\u001b[0m \u001b[0mself\u001b[0m\u001b[1;33m.\u001b[0m\u001b[0m_conv_forward\u001b[0m\u001b[1;33m(\u001b[0m\u001b[0minput\u001b[0m\u001b[1;33m,\u001b[0m \u001b[0mself\u001b[0m\u001b[1;33m.\u001b[0m\u001b[0mweight\u001b[0m\u001b[1;33m)\u001b[0m\u001b[1;33m\u001b[0m\u001b[1;33m\u001b[0m\u001b[0m\n\u001b[0m\u001b[0;32m    354\u001b[0m \u001b[1;33m\u001b[0m\u001b[0m\n\u001b[0;32m    355\u001b[0m \u001b[1;32mclass\u001b[0m \u001b[0mConv3d\u001b[0m\u001b[1;33m(\u001b[0m\u001b[0m_ConvNd\u001b[0m\u001b[1;33m)\u001b[0m\u001b[1;33m:\u001b[0m\u001b[1;33m\u001b[0m\u001b[1;33m\u001b[0m\u001b[0m\n",
      "\u001b[1;32mC:\\ProgramData\\Anaconda3\\lib\\site-packages\\torch\\nn\\modules\\conv.py\u001b[0m in \u001b[0;36m_conv_forward\u001b[1;34m(self, input, weight)\u001b[0m\n\u001b[0;32m    348\u001b[0m                             _pair(0), self.dilation, self.groups)\n\u001b[0;32m    349\u001b[0m         return F.conv2d(input, weight, self.bias, self.stride,\n\u001b[1;32m--> 350\u001b[1;33m                         self.padding, self.dilation, self.groups)\n\u001b[0m\u001b[0;32m    351\u001b[0m \u001b[1;33m\u001b[0m\u001b[0m\n\u001b[0;32m    352\u001b[0m     \u001b[1;32mdef\u001b[0m \u001b[0mforward\u001b[0m\u001b[1;33m(\u001b[0m\u001b[0mself\u001b[0m\u001b[1;33m,\u001b[0m \u001b[0minput\u001b[0m\u001b[1;33m)\u001b[0m\u001b[1;33m:\u001b[0m\u001b[1;33m\u001b[0m\u001b[1;33m\u001b[0m\u001b[0m\n",
      "\u001b[1;31mKeyboardInterrupt\u001b[0m: "
     ]
    }
   ],
   "source": [
    "\n",
    "for epoch in range(9999999):\n",
    "\n",
    "    # Play some games\n",
    "    games = []\n",
    "    glengths = []\n",
    "    slast = 0\n",
    "    for _ in trange(100):\n",
    "        s = GameState()\n",
    "        h = create_sea()\n",
    "        single_game = []\n",
    "        while not GameClass.getEnded(s):\n",
    "            #plot_sea(s.sea, s.det)\n",
    "            #plt.show()\n",
    "            net.predict(encode_x(s.sea, s.det))\n",
    "            Qa = t2np(net.p[0,:,:,0])   # p ist der pre activation output des unets\n",
    "            i, j = argmax2d(Qa-10000*s.det)\n",
    "            Qmax = np.max(Qa)\n",
    "            if np.random.rand() < 0.1:\n",
    "                vms = GameClass.getValidActions(s)\n",
    "                l = np.random.choice(len(vms))\n",
    "                i, j = vms[l]\n",
    "            r = h[i,j] # reward\n",
    "            \n",
    "            if slast:\n",
    "                single_game.append((slast, alast, Qmax, rlast))\n",
    "            slast = s\n",
    "            alast = (i, j)\n",
    "            rlast = r\n",
    "            \n",
    "            s = GameClass.getNextState(s, (i,j), hidden=h)\n",
    "        games += single_game\n",
    "        '''\n",
    "        # Cumulate reward\n",
    "        cr = 0.\n",
    "        for s, (i,j), r in reversed(single_game):\n",
    "            cr = gamma*cr + r\n",
    "            games.append((s, (i,j), cr))'''\n",
    "        glengths.append(len(single_game))\n",
    "    \n",
    "    print('Game length mean', np.mean(glengths))\n",
    "    \n",
    "    \n",
    "    # train the nnet\n",
    "    bg = batchgen(games, size=32)\n",
    "    losses = []\n",
    "    \n",
    "    #raise\n",
    "    for k in trange(1000): \n",
    "        xs, ys, qs = next(bg)\n",
    "        xs, ys, qs = np2t(xs, ys, qs)\n",
    "        net(xs)\n",
    "        qp = net.p\n",
    "        qp = torch.sum(qp * ys, dim=(1,2,3))\n",
    "        loss = torch.mean((qp-qs)**2)\n",
    "        #print(loss)\n",
    "        loss.backward()\n",
    "        net.optim.step()\n",
    "        net.optim.zero_grad()\n",
    "        losses.append(loss.item())\n",
    "        if k%100 == 0:\n",
    "            print(np.mean(losses))\n",
    "            losses = []\n",
    "            \n",
    "    torch.save(net.state_dict(), 'model_qlearning.dat')"
   ]
  },
  {
   "cell_type": "code",
   "execution_count": 10,
   "id": "feee3db4",
   "metadata": {
    "ExecuteTime": {
     "end_time": "2023-11-03T09:50:01.748268Z",
     "start_time": "2023-11-03T09:49:32.053806Z"
    }
   },
   "outputs": [
    {
     "data": {
      "image/png": "[encoded data removed]",
      "text/plain": [
       "<Figure size 864x576 with 2 Axes>"
      ]
     },
     "metadata": {
      "needs_background": "light"
     },
     "output_type": "display_data"
    },
    {
     "data": {
      "image/png": "[encoded data removed]",
      "text/plain": [
       "<Figure size 864x576 with 2 Axes>"
      ]
     },
     "metadata": {
      "needs_background": "light"
     },
     "output_type": "display_data"
    },
    {
     "data": {
      "image/png": "[encoded data removed]",
      "text/plain": [
       "<Figure size 864x576 with 2 Axes>"
      ]
     },
     "metadata": {
      "needs_background": "light"
     },
     "output_type": "display_data"
    },
    {
     "data": {
      "image/png": "[encoded data removed]",
      "text/plain": [
       "<Figure size 864x576 with 2 Axes>"
      ]
     },
     "metadata": {
      "needs_background": "light"
     },
     "output_type": "display_data"
    },
    {
     "data": {
      "image/png": "[encoded data removed]",
      "text/plain": [
       "<Figure size 864x576 with 2 Axes>"
      ]
     },
     "metadata": {
      "needs_background": "light"
     },
     "output_type": "display_data"
    },
    {
     "data": {
      "image/png": "[encoded data removed]",
      "text/plain": [
       "<Figure size 864x576 with 2 Axes>"
      ]
     },
     "metadata": {
      "needs_background": "light"
     },
     "output_type": "display_data"
    },
    {
     "data": {
      "image/png": "[encoded data removed]",
      "text/plain": [
       "<Figure size 864x576 with 2 Axes>"
      ]
     },
     "metadata": {
      "needs_background": "light"
     },
     "output_type": "display_data"
    },
    {
     "data": {
      "image/png": "[encoded data removed]",
      "text/plain": [
       "<Figure size 864x576 with 2 Axes>"
      ]
     },
     "metadata": {
      "needs_background": "light"
     },
     "output_type": "display_data"
    },
    {
     "data": {
      "image/png": "[encoded data removed]",
      "text/plain": [
       "<Figure size 864x576 with 2 Axes>"
      ]
     },
     "metadata": {
      "needs_background": "light"
     },
     "output_type": "display_data"
    },
    {
     "data": {
      "image/png": "[encoded data removed]",
      "text/plain": [
       "<Figure size 864x576 with 2 Axes>"
      ]
     },
     "metadata": {
      "needs_background": "light"
     },
     "output_type": "display_data"
    },
    {
     "data": {
      "image/png": "[encoded data removed]",
      "text/plain": [
       "<Figure size 864x576 with 2 Axes>"
      ]
     },
     "metadata": {
      "needs_background": "light"
     },
     "output_type": "display_data"
    },
    {
     "data": {
      "image/png": "[encoded data removed]",
      "text/plain": [
       "<Figure size 864x576 with 2 Axes>"
      ]
     },
     "metadata": {
      "needs_background": "light"
     },
     "output_type": "display_data"
    },
    {
     "data": {
      "image/png": "[encoded data removed]",
      "text/plain": [
       "<Figure size 864x576 with 2 Axes>"
      ]
     },
     "metadata": {
      "needs_background": "light"
     },
     "output_type": "display_data"
    },
    {
     "data": {
      "image/png": "[encoded data removed]",
      "text/plain": [
       "<Figure size 864x576 with 2 Axes>"
      ]
     },
     "metadata": {
      "needs_background": "light"
     },
     "output_type": "display_data"
    },
    {
     "data": {
      "image/png": "[encoded data removed]",
      "text/plain": [
       "<Figure size 864x576 with 2 Axes>"
      ]
     },
     "metadata": {
      "needs_background": "light"
     },
     "output_type": "display_data"
    },
    {
     "data": {
      "image/png": "[encoded data removed]",
      "text/plain": [
       "<Figure size 864x576 with 2 Axes>"
      ]
     },
     "metadata": {
      "needs_background": "light"
     },
     "output_type": "display_data"
    },
    {
     "data": {
      "image/png": "[encoded data removed]",
      "text/plain": [
       "<Figure size 864x576 with 2 Axes>"
      ]
     },
     "metadata": {
      "needs_background": "light"
     },
     "output_type": "display_data"
    },
    {
     "data": {
      "image/png": "[encoded data removed]",
      "text/plain": [
       "<Figure size 864x576 with 2 Axes>"
      ]
     },
     "metadata": {
      "needs_background": "light"
     },
     "output_type": "display_data"
    },
    {
     "data": {
      "image/png": "[encoded data removed]",
      "text/plain": [
       "<Figure size 864x576 with 2 Axes>"
      ]
     },
     "metadata": {
      "needs_background": "light"
     },
     "output_type": "display_data"
    },
    {
     "data": {
      "image/png": "[encoded data removed]",
      "text/plain": [
       "<Figure size 864x576 with 2 Axes>"
      ]
     },
     "metadata": {
      "needs_background": "light"
     },
     "output_type": "display_data"
    },
    {
     "data": {
      "image/png": "[encoded data removed]",
      "text/plain": [
       "<Figure size 864x576 with 2 Axes>"
      ]
     },
     "metadata": {
      "needs_background": "light"
     },
     "output_type": "display_data"
    },
    {
     "data": {
      "image/png": "[encoded data removed]",
      "text/plain": [
       "<Figure size 864x576 with 2 Axes>"
      ]
     },
     "metadata": {
      "needs_background": "light"
     },
     "output_type": "display_data"
    },
    {
     "data": {
      "image/png": "[encoded data removed]",
      "text/plain": [
       "<Figure size 864x576 with 2 Axes>"
      ]
     },
     "metadata": {
      "needs_background": "light"
     },
     "output_type": "display_data"
    },
    {
     "data": {
      "image/png": "[encoded data removed]",
      "text/plain": [
       "<Figure size 864x576 with 2 Axes>"
      ]
     },
     "metadata": {
      "needs_background": "light"
     },
     "output_type": "display_data"
    },
    {
     "data": {
      "image/png": "[encoded data removed]",
      "text/plain": [
       "<Figure size 864x576 with 2 Axes>"
      ]
     },
     "metadata": {
      "needs_background": "light"
     },
     "output_type": "display_data"
    },
    {
     "data": {
      "image/png": "[encoded data removed]",
      "text/plain": [
       "<Figure size 864x576 with 2 Axes>"
      ]
     },
     "metadata": {
      "needs_background": "light"
     },
     "output_type": "display_data"
    },
    {
     "data": {
      "image/png": "[encoded data removed]",
      "text/plain": [
       "<Figure size 864x576 with 2 Axes>"
      ]
     },
     "metadata": {
      "needs_background": "light"
     },
     "output_type": "display_data"
    },
    {
     "data": {
      "image/png": "[encoded data removed]",
      "text/plain": [
       "<Figure size 864x576 with 2 Axes>"
      ]
     },
     "metadata": {
      "needs_background": "light"
     },
     "output_type": "display_data"
    },
    {
     "data": {
      "image/png": "[encoded data removed]",
      "text/plain": [
       "<Figure size 864x576 with 2 Axes>"
      ]
     },
     "metadata": {
      "needs_background": "light"
     },
     "output_type": "display_data"
    },
    {
     "data": {
      "image/png": "[encoded data removed]",
      "text/plain": [
       "<Figure size 864x576 with 2 Axes>"
      ]
     },
     "metadata": {
      "needs_background": "light"
     },
     "output_type": "display_data"
    },
    {
     "data": {
      "image/png": "[encoded data removed]",
      "text/plain": [
       "<Figure size 864x576 with 2 Axes>"
      ]
     },
     "metadata": {
      "needs_background": "light"
     },
     "output_type": "display_data"
    },
    {
     "data": {
      "image/png": "[encoded data removed]",
      "text/plain": [
       "<Figure size 864x576 with 2 Axes>"
      ]
     },
     "metadata": {
      "needs_background": "light"
     },
     "output_type": "display_data"
    },
    {
     "data": {
      "image/png": "[encoded data removed]",
      "text/plain": [
       "<Figure size 864x576 with 2 Axes>"
      ]
     },
     "metadata": {
      "needs_background": "light"
     },
     "output_type": "display_data"
    },
    {
     "data": {
      "image/png": "[encoded data removed]",
      "text/plain": [
       "<Figure size 864x576 with 2 Axes>"
      ]
     },
     "metadata": {
      "needs_background": "light"
     },
     "output_type": "display_data"
    },
    {
     "data": {
      "image/png": "[encoded data removed]",
      "text/plain": [
       "<Figure size 864x576 with 2 Axes>"
      ]
     },
     "metadata": {
      "needs_background": "light"
     },
     "output_type": "display_data"
    },
    {
     "data": {
      "image/png": "[encoded data removed]",
      "text/plain": [
       "<Figure size 864x576 with 2 Axes>"
      ]
     },
     "metadata": {
      "needs_background": "light"
     },
     "output_type": "display_data"
    },
    {
     "data": {
      "image/png": "[encoded data removed]",
      "text/plain": [
       "<Figure size 864x576 with 2 Axes>"
      ]
     },
     "metadata": {
      "needs_background": "light"
     },
     "output_type": "display_data"
    },
    {
     "data": {
      "image/png": "[encoded data removed]",
      "text/plain": [
       "<Figure size 864x576 with 2 Axes>"
      ]
     },
     "metadata": {
      "needs_background": "light"
     },
     "output_type": "display_data"
    },
    {
     "data": {
      "image/png": "[encoded data removed]",
      "text/plain": [
       "<Figure size 864x576 with 2 Axes>"
      ]
     },
     "metadata": {
      "needs_background": "light"
     },
     "output_type": "display_data"
    },
    {
     "data": {
      "image/png": "[encoded data removed]",
      "text/plain": [
       "<Figure size 864x576 with 2 Axes>"
      ]
     },
     "metadata": {
      "needs_background": "light"
     },
     "output_type": "display_data"
    },
    {
     "data": {
      "image/png": "[encoded data removed]",
      "text/plain": [
       "<Figure size 864x576 with 2 Axes>"
      ]
     },
     "metadata": {
      "needs_background": "light"
     },
     "output_type": "display_data"
    },
    {
     "data": {
      "image/png": "[encoded data removed]",
      "text/plain": [
       "<Figure size 864x576 with 2 Axes>"
      ]
     },
     "metadata": {
      "needs_background": "light"
     },
     "output_type": "display_data"
    },
    {
     "data": {
      "image/png": "[encoded data removed]",
      "text/plain": [
       "<Figure size 864x576 with 2 Axes>"
      ]
     },
     "metadata": {
      "needs_background": "light"
     },
     "output_type": "display_data"
    },
    {
     "data": {
      "image/png": "[encoded data removed]",
      "text/plain": [
       "<Figure size 864x576 with 2 Axes>"
      ]
     },
     "metadata": {
      "needs_background": "light"
     },
     "output_type": "display_data"
    },
    {
     "data": {
      "image/png": "[encoded data removed]",
      "text/plain": [
       "<Figure size 864x576 with 2 Axes>"
      ]
     },
     "metadata": {
      "needs_background": "light"
     },
     "output_type": "display_data"
    },
    {
     "data": {
      "image/png": "[encoded data removed]",
      "text/plain": [
       "<Figure size 864x576 with 2 Axes>"
      ]
     },
     "metadata": {
      "needs_background": "light"
     },
     "output_type": "display_data"
    },
    {
     "data": {
      "image/png": "[encoded data removed]",
      "text/plain": [
       "<Figure size 864x576 with 2 Axes>"
      ]
     },
     "metadata": {
      "needs_background": "light"
     },
     "output_type": "display_data"
    },
    {
     "data": {
      "image/png": "[encoded data removed]",
      "text/plain": [
       "<Figure size 864x576 with 2 Axes>"
      ]
     },
     "metadata": {
      "needs_background": "light"
     },
     "output_type": "display_data"
    },
    {
     "data": {
      "image/png": "[encoded data removed]",
      "text/plain": [
       "<Figure size 864x576 with 2 Axes>"
      ]
     },
     "metadata": {
      "needs_background": "light"
     },
     "output_type": "display_data"
    },
    {
     "data": {
      "image/png": "[encoded data removed]",
      "text/plain": [
       "<Figure size 864x576 with 2 Axes>"
      ]
     },
     "metadata": {
      "needs_background": "light"
     },
     "output_type": "display_data"
    },
    {
     "data": {
      "image/png": "[encoded data removed]",
      "text/plain": [
       "<Figure size 864x576 with 2 Axes>"
      ]
     },
     "metadata": {
      "needs_background": "light"
     },
     "output_type": "display_data"
    },
    {
     "data": {
      "image/png": "[encoded data removed]",
      "text/plain": [
       "<Figure size 864x576 with 2 Axes>"
      ]
     },
     "metadata": {
      "needs_background": "light"
     },
     "output_type": "display_data"
    },
    {
     "data": {
      "image/png": "[encoded data removed]",
      "text/plain": [
       "<Figure size 864x576 with 2 Axes>"
      ]
     },
     "metadata": {
      "needs_background": "light"
     },
     "output_type": "display_data"
    },
    {
     "data": {
      "image/png": "[encoded data removed]",
      "text/plain": [
       "<Figure size 864x576 with 2 Axes>"
      ]
     },
     "metadata": {
      "needs_background": "light"
     },
     "output_type": "display_data"
    },
    {
     "data": {
      "image/png": "[encoded data removed]",
      "text/plain": [
       "<Figure size 864x576 with 2 Axes>"
      ]
     },
     "metadata": {
      "needs_background": "light"
     },
     "output_type": "display_data"
    },
    {
     "data": {
      "image/png": "[encoded data removed]",
      "text/plain": [
       "<Figure size 864x576 with 2 Axes>"
      ]
     },
     "metadata": {
      "needs_background": "light"
     },
     "output_type": "display_data"
    },
    {
     "data": {
      "image/png": "[encoded data removed]",
      "text/plain": [
       "<Figure size 864x576 with 2 Axes>"
      ]
     },
     "metadata": {
      "needs_background": "light"
     },
     "output_type": "display_data"
    },
    {
     "data": {
      "image/png": "[encoded data removed]",
      "text/plain": [
       "<Figure size 864x576 with 2 Axes>"
      ]
     },
     "metadata": {
      "needs_background": "light"
     },
     "output_type": "display_data"
    },
    {
     "data": {
      "image/png": "[encoded data removed]",
      "text/plain": [
       "<Figure size 864x576 with 2 Axes>"
      ]
     },
     "metadata": {
      "needs_background": "light"
     },
     "output_type": "display_data"
    },
    {
     "data": {
      "image/png": "[encoded data removed]",
      "text/plain": [
       "<Figure size 864x576 with 2 Axes>"
      ]
     },
     "metadata": {
      "needs_background": "light"
     },
     "output_type": "display_data"
    },
    {
     "data": {
      "image/png": "[encoded data removed]",
      "text/plain": [
       "<Figure size 864x576 with 2 Axes>"
      ]
     },
     "metadata": {
      "needs_background": "light"
     },
     "output_type": "display_data"
    },
    {
     "data": {
      "image/png": "[encoded data removed]",
      "text/plain": [
       "<Figure size 864x576 with 2 Axes>"
      ]
     },
     "metadata": {
      "needs_background": "light"
     },
     "output_type": "display_data"
    },
    {
     "data": {
      "image/png": "[encoded data removed]",
      "text/plain": [
       "<Figure size 864x576 with 2 Axes>"
      ]
     },
     "metadata": {
      "needs_background": "light"
     },
     "output_type": "display_data"
    },
    {
     "data": {
      "image/png": "[encoded data removed]",
      "text/plain": [
       "<Figure size 864x576 with 2 Axes>"
      ]
     },
     "metadata": {
      "needs_background": "light"
     },
     "output_type": "display_data"
    },
    {
     "data": {
      "image/png": "[encoded data removed]",
      "text/plain": [
       "<Figure size 864x576 with 2 Axes>"
      ]
     },
     "metadata": {
      "needs_background": "light"
     },
     "output_type": "display_data"
    },
    {
     "data": {
      "image/png": "[encoded data removed]",
      "text/plain": [
       "<Figure size 864x576 with 2 Axes>"
      ]
     },
     "metadata": {
      "needs_background": "light"
     },
     "output_type": "display_data"
    },
    {
     "data": {
      "image/png": "[encoded data removed]",
      "text/plain": [
       "<Figure size 864x576 with 2 Axes>"
      ]
     },
     "metadata": {
      "needs_background": "light"
     },
     "output_type": "display_data"
    },
    {
     "data": {
      "image/png": "[encoded data removed]",
      "text/plain": [
       "<Figure size 864x576 with 2 Axes>"
      ]
     },
     "metadata": {
      "needs_background": "light"
     },
     "output_type": "display_data"
    },
    {
     "data": {
      "image/png": "[encoded data removed]",
      "text/plain": [
       "<Figure size 864x576 with 2 Axes>"
      ]
     },
     "metadata": {
      "needs_background": "light"
     },
     "output_type": "display_data"
    },
    {
     "data": {
      "image/png": "[encoded data removed]",
      "text/plain": [
       "<Figure size 864x576 with 2 Axes>"
      ]
     },
     "metadata": {
      "needs_background": "light"
     },
     "output_type": "display_data"
    },
    {
     "data": {
      "image/png": "[encoded data removed]",
      "text/plain": [
       "<Figure size 864x576 with 2 Axes>"
      ]
     },
     "metadata": {
      "needs_background": "light"
     },
     "output_type": "display_data"
    },
    {
     "data": {
      "image/png": "[encoded data removed]",
      "text/plain": [
       "<Figure size 864x576 with 2 Axes>"
      ]
     },
     "metadata": {
      "needs_background": "light"
     },
     "output_type": "display_data"
    },
    {
     "data": {
      "image/png": "[encoded data removed]",
      "text/plain": [
       "<Figure size 864x576 with 2 Axes>"
      ]
     },
     "metadata": {
      "needs_background": "light"
     },
     "output_type": "display_data"
    },
    {
     "data": {
      "image/png": "[encoded data removed]",
      "text/plain": [
       "<Figure size 864x576 with 2 Axes>"
      ]
     },
     "metadata": {
      "needs_background": "light"
     },
     "output_type": "display_data"
    },
    {
     "data": {
      "image/png": "[encoded data removed]",
      "text/plain": [
       "<Figure size 864x576 with 2 Axes>"
      ]
     },
     "metadata": {
      "needs_background": "light"
     },
     "output_type": "display_data"
    },
    {
     "data": {
      "image/png": "[encoded data removed]",
      "text/plain": [
       "<Figure size 864x576 with 2 Axes>"
      ]
     },
     "metadata": {
      "needs_background": "light"
     },
     "output_type": "display_data"
    },
    {
     "data": {
      "image/png": "[encoded data removed]",
      "text/plain": [
       "<Figure size 864x576 with 2 Axes>"
      ]
     },
     "metadata": {
      "needs_background": "light"
     },
     "output_type": "display_data"
    },
    {
     "data": {
      "image/png": "[encoded data removed]",
      "text/plain": [
       "<Figure size 864x576 with 2 Axes>"
      ]
     },
     "metadata": {
      "needs_background": "light"
     },
     "output_type": "display_data"
    },
    {
     "data": {
      "image/png": "[encoded data removed]",
      "text/plain": [
       "<Figure size 864x576 with 2 Axes>"
      ]
     },
     "metadata": {
      "needs_background": "light"
     },
     "output_type": "display_data"
    },
    {
     "data": {
      "image/png": "[encoded data removed]",
      "text/plain": [
       "<Figure size 864x576 with 2 Axes>"
      ]
     },
     "metadata": {
      "needs_background": "light"
     },
     "output_type": "display_data"
    },
    {
     "data": {
      "image/png": "[encoded data removed]",
      "text/plain": [
       "<Figure size 864x576 with 2 Axes>"
      ]
     },
     "metadata": {
      "needs_background": "light"
     },
     "output_type": "display_data"
    },
    {
     "data": {
      "image/png": "[encoded data removed]",
      "text/plain": [
       "<Figure size 864x576 with 2 Axes>"
      ]
     },
     "metadata": {
      "needs_background": "light"
     },
     "output_type": "display_data"
    },
    {
     "data": {
      "image/png": "[encoded data removed]",
      "text/plain": [
       "<Figure size 864x576 with 2 Axes>"
      ]
     },
     "metadata": {
      "needs_background": "light"
     },
     "output_type": "display_data"
    },
    {
     "data": {
      "image/png": "[encoded data removed]",
      "text/plain": [
       "<Figure size 864x576 with 2 Axes>"
      ]
     },
     "metadata": {
      "needs_background": "light"
     },
     "output_type": "display_data"
    },
    {
     "data": {
      "image/png": "[encoded data removed]",
      "text/plain": [
       "<Figure size 864x576 with 2 Axes>"
      ]
     },
     "metadata": {
      "needs_background": "light"
     },
     "output_type": "display_data"
    },
    {
     "data": {
      "image/png": "[encoded data removed]",
      "text/plain": [
       "<Figure size 864x576 with 2 Axes>"
      ]
     },
     "metadata": {
      "needs_background": "light"
     },
     "output_type": "display_data"
    },
    {
     "data": {
      "image/png": "[encoded data removed]",
      "text/plain": [
       "<Figure size 864x576 with 2 Axes>"
      ]
     },
     "metadata": {
      "needs_background": "light"
     },
     "output_type": "display_data"
    },
    {
     "data": {
      "image/png": "[encoded data removed]",
      "text/plain": [
       "<Figure size 864x576 with 2 Axes>"
      ]
     },
     "metadata": {
      "needs_background": "light"
     },
     "output_type": "display_data"
    },
    {
     "data": {
      "image/png": "[encoded data removed]",
      "text/plain": [
       "<Figure size 864x576 with 2 Axes>"
      ]
     },
     "metadata": {
      "needs_background": "light"
     },
     "output_type": "display_data"
    },
    {
     "data": {
      "image/png": "[encoded data removed]",
      "text/plain": [
       "<Figure size 864x576 with 2 Axes>"
      ]
     },
     "metadata": {
      "needs_background": "light"
     },
     "output_type": "display_data"
    },
    {
     "data": {
      "image/png": "[encoded data removed]",
      "text/plain": [
       "<Figure size 864x576 with 2 Axes>"
      ]
     },
     "metadata": {
      "needs_background": "light"
     },
     "output_type": "display_data"
    }
   ],
   "source": [
    "# gegeben: sea, model\n",
    "det = np.zeros((10,10))\n",
    "sea = create_sea(100)\n",
    "##det = create_detection()\n",
    "i,j = [],[]\n",
    "from vidcapture import *\n",
    "vc = vidcapture('F:/$Daten/vidcaptures/battleships qlearning/frame%05d.png')\n",
    "\n",
    "while True:\n",
    "    # Welchen Detektieren??\n",
    "    x = encode_x(sea, det)\n",
    "    net.predict(x)\n",
    "    p = net.p\n",
    "    p = t2np(p)[0,:,:,0]\n",
    "    i, j = argmax2d(p-det*999999)\n",
    "    \n",
    "    fig, (ax1, ax2) = plt.subplots(1, 2, figsize=(12, 8))\n",
    "    ax1.title.set_text('Map')\n",
    "    ax2.title.set_text('Neural Network prediction')\n",
    "    ax1.axis('off')\n",
    "    #ax1.imshow(visualize(sea, det), vmin=0., vmax=3.)\n",
    "    plot_sea(sea, det, ax1)\n",
    "    ax1.scatter(j, i, c='black', alpha=1, s=150)\n",
    "    ax2.axis('off')\n",
    "    ax2.imshow(p)\n",
    "    #plt.title(text)\n",
    "    vc.capture()\n",
    "    plt.show()\n",
    "    \n",
    "    if np.sum(det*sea) >= np.sum(sea): break\n",
    "        \n",
    "    det[i,j] = 1"
   ]
  },
  {
   "cell_type": "code",
   "execution_count": 11,
   "id": "de0b1ffe",
   "metadata": {
    "ExecuteTime": {
     "end_time": "2023-11-03T09:52:30.675136Z",
     "start_time": "2023-11-03T09:50:05.805871Z"
    }
   },
   "outputs": [
    {
     "data": {
      "application/vnd.jupyter.widget-view+json": {
       "model_id": "060a1e0118a14c4d82e993e3b22fd36e",
       "version_major": 2,
       "version_minor": 0
      },
      "text/plain": [
       "  0%|          | 0/100 [00:00<?, ?it/s]"
      ]
     },
     "metadata": {},
     "output_type": "display_data"
    }
   ],
   "source": [
    "\n",
    "# Viele Spiele spielen und score sehen\n",
    "from bs_gameclass import *\n",
    "\n",
    "rs = []\n",
    "for _ in trange(100):\n",
    "    s = GameState()\n",
    "    h = create_sea()\n",
    "    r = 0\n",
    "    while not GameClass.getEnded(s):\n",
    "        prob = net.predict(encode_x(s.sea, s.det))\n",
    "        prob[s.det==1] = 0\n",
    "        ij = argmax2d(prob)\n",
    "        s = GameClass.getNextState(s, ij, h)\n",
    "        r += h[ij]*np.mean(1-s.det)\n",
    "        #plot_state(s)\n",
    "        #plt.show()\n",
    "    rs.append(r)"
   ]
  },
  {
   "cell_type": "code",
   "execution_count": 12,
   "id": "bb407989",
   "metadata": {
    "ExecuteTime": {
     "end_time": "2023-11-03T09:54:55.891975Z",
     "start_time": "2023-11-03T09:54:54.687589Z"
    },
    "deletable": false,
    "editable": false,
    "run_control": {
     "frozen": true
    }
   },
   "outputs": [
    {
     "data": {
      "text/plain": [
       "(19.3926, 1.0594183498505205)"
      ]
     },
     "execution_count": 12,
     "metadata": {},
     "output_type": "execute_result"
    },
    {
     "data": {
      "image/png": "[encoded data removed]",
      "text/plain": [
       "<Figure size 432x288 with 1 Axes>"
      ]
     },
     "metadata": {
      "needs_background": "light"
     },
     "output_type": "display_data"
    }
   ],
   "source": [
    "import seaborn as sns\n",
    "plt.hist(rs)\n",
    "np.mean(rs), np.std(rs)"
   ]
  }
 ],
 "metadata": {
  "kernelspec": {
   "display_name": "Python 3 (ipykernel)",
   "language": "python",
   "name": "python3"
  },
  "language_info": {
   "codemirror_mode": {
    "name": "ipython",
    "version": 3
   },
   "file_extension": ".py",
   "mimetype": "text/x-python",
   "name": "python",
   "nbconvert_exporter": "python",
   "pygments_lexer": "ipython3",
   "version": "3.11.5"
  },
  "varInspector": {
   "cols": {
    "lenName": 16,
    "lenType": 16,
    "lenVar": 40
   },
   "kernels_config": {
    "python": {
     "delete_cmd_postfix": "",
     "delete_cmd_prefix": "del ",
     "library": "var_list.py",
     "varRefreshCmd": "print(var_dic_list())"
    },
    "r": {
     "delete_cmd_postfix": ") ",
     "delete_cmd_prefix": "rm(",
     "library": "var_list.r",
     "varRefreshCmd": "cat(var_dic_list()) "
    }
   },
   "types_to_exclude": [
    "module",
    "function",
    "builtin_function_or_method",
    "instance",
    "_Feature"
   ],
   "window_display": false
  }
 },
 "nbformat": 4,
 "nbformat_minor": 5
}
