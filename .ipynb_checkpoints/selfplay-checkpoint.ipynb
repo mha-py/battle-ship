{
 "cells": [
  {
   "cell_type": "code",
   "execution_count": 1,
   "metadata": {
    "ExecuteTime": {
     "end_time": "2023-10-23T16:17:32.071575Z",
     "start_time": "2023-10-23T16:17:31.686156Z"
    }
   },
   "outputs": [],
   "source": [
    "import numpy as np\n",
    "import matplotlib.pyplot as plt\n",
    "import matplotlib.patches as patches\n",
    "%matplotlib inline\n",
    "from tqdm.notebook import tqdm, trange"
   ]
  },
  {
   "cell_type": "code",
   "execution_count": 4,
   "metadata": {
    "ExecuteTime": {
     "end_time": "2023-10-23T17:17:05.272458Z",
     "start_time": "2023-10-23T17:17:04.991049Z"
    }
   },
   "outputs": [
    {
     "name": "stdout",
     "output_type": "stream",
     "text": [
      "The autoreload extension is already loaded. To reload it, use:\n",
      "  %reload_ext autoreload\n"
     ]
    }
   ],
   "source": [
    "%load_ext autoreload\n",
    "%autoreload 2\n",
    "\n",
    "from bs_transfer import *\n",
    "from bs_net import *\n",
    "from bs_gameclass import *\n",
    "from bs_helpers import *\n",
    "from bs_selfplay import *"
   ]
  },
  {
   "cell_type": "markdown",
   "metadata": {},
   "source": [
    "## Training"
   ]
  },
  {
   "cell_type": "code",
   "execution_count": 3,
   "metadata": {
    "ExecuteTime": {
     "end_time": "2023-10-23T16:17:42.595051Z",
     "start_time": "2023-10-23T16:17:42.432295Z"
    }
   },
   "outputs": [],
   "source": [
    "\n",
    "# Batch generator for neural network training\n",
    "\n",
    "\n",
    "\n",
    "\n",
    "\n",
    "def batchgen(gamerecords, size=50, istart=0, iend=0, augment=True, verbose=None):\n",
    "    '''size: minibatchsize\n",
    "    istart, iend: Start- und Endindex der herausgegebenen Samples\n",
    "    verbose: Wenn überschrieben, dann mit einem String des Batchgen Namens (z. B. Supervised)'''\n",
    "    ep = 0\n",
    "    if not iend: iend = len(gamerecords)\n",
    "    while True:\n",
    "        ilist = range(istart, iend)\n",
    "        ilist = np.random.permutation(ilist)\n",
    "        minibatches = [ ilist[k*size:(k+1)*size] for k in range(len(ilist)//size) ]\n",
    "        for mb in minibatches:\n",
    "            xs = np.zeros((size, SX, SY, 3))\n",
    "            ps = np.zeros((size, SX, SY, 1))\n",
    "            vs = np.zeros((size, 1))\n",
    "            for i, k in enumerate(mb):\n",
    "                s, a, r = gamerecords[k]\n",
    "                \n",
    "                '''\n",
    "                if np.random.rand()<.5:\n",
    "                    s = GameIsola.mirrorx_state(s)\n",
    "                    adist = mirrorx_dist(adist)\n",
    "                if np.random.rand()<.5:\n",
    "                    s = GameIsola.mirrory_state(s)\n",
    "                    adist = mirrorx_dist(adist)'''\n",
    "                    \n",
    "                xs[i] = encode_x(s.sea, s.det)\n",
    "                ps[i, a] = 1.\n",
    "                vs[i] = r\n",
    "                    \n",
    "            yield xs, ps, vs\n",
    "        if verbose:\n",
    "            print(f'{verbose}: finished one epoch ({ep})!')\n",
    "        ep += 1\n",
    "         \n",
    "        \n",
    "        \n",
    "        \n",
    "\n",
    "def train(net, gamerecords, gamerecords_legacy=None, iterations=4000, verbose=0):\n",
    "    '''Trainiert das Netz'''\n",
    "\n",
    "    try: net.optimizer\n",
    "    except:\n",
    "        net.optimizer = torch.optim.Adam(lr=3e-4, params=net.parameters(), weight_decay=0e-4)\n",
    "    optimizer = net.optimizer\n",
    "    bg_v = batchgen(gamerecords, iend=500, size=500)\n",
    "    bg_s = batchgen(gamerecords, istart=500, size=200, verbose='supervised')\n",
    "    #bg_u = batchgen(gamerecords_legacy, size=400)\n",
    "    celoss = nn.CrossEntropyLoss()\n",
    "    MSE = nn.MSELoss()\n",
    "    L1Loss = nn.L1Loss()\n",
    "    LogLoss = lambda yp, yt: torch.mean(torch.sum(-yt*torch.log(yp+1e-12), dim=1))\n",
    "    losses1 = []\n",
    "    losses2 = []\n",
    "    ###semlosses = []\n",
    "    ###mtlosses = []\n",
    "\n",
    "\n",
    "    def valloss():\n",
    "        b, vds, tp, tv = next(bg_v)\n",
    "        b, vds, tp, tv = batch2torch(b, vds, tp, tv)\n",
    "        pp, pv = net(b, vds)\n",
    "        tp = tp.type(torch.long)\n",
    "\n",
    "        loss1 = LogLoss(pp, tp)\n",
    "        loss2 = MSE(pv[:,0], tv[:,0])\n",
    "        return loss1.item(), loss2.item()\n",
    "\n",
    "    \n",
    "    for k in trange(iterations):\n",
    "        b, vds, tp, tv = next(bg_s)\n",
    "        b, vds, tp, tv = batch2torch(b, vds, tp, tv)\n",
    "        pp, pv = net(b, vds)\n",
    "        tp = tp.type(torch.long)\n",
    "\n",
    "        loss1 = LogLoss(pp, tp)\n",
    "        loss2 = MSE(pv[:,0], tv[:,0])\n",
    "        loss = loss1 + loss2\n",
    "        loss.backward()\n",
    "\n",
    "        # do the training step on the network\n",
    "        optimizer.step()\n",
    "        optimizer.zero_grad()\n",
    "\n",
    "        # Statistic\n",
    "        losses1 += [loss1.item()]\n",
    "        losses2 += [loss2.item()]\n",
    "\n",
    "        # Verbose output, measure minimum val loss\n",
    "        if len(losses1) == 100:\n",
    "            vloss1, vloss2 = valloss()\n",
    "            if verbose>=1:\n",
    "                print('Loss1=%f, Loss12=%f, ValLoss1=%f, ValLoss2=%f'% (np.mean(losses1), np.mean(losses2), vloss1, vloss2))\n",
    "            losses1, losses2 = [], []\n",
    "            \n",
    "    return net"
   ]
  },
  {
   "cell_type": "code",
   "execution_count": 128,
   "metadata": {
    "deletable": false,
    "editable": false,
    "run_control": {
     "frozen": true
    },
    "scrolled": false
   },
   "outputs": [
    {
     "data": {
      "application/vnd.jupyter.widget-view+json": {
       "model_id": "865a468c7b9842aaaf3ef09f0cee8ff9",
       "version_major": 2,
       "version_minor": 0
      },
      "text/plain": [
       "HBox(children=(FloatProgress(value=0.0, max=200.0), HTML(value='')))"
      ]
     },
     "metadata": {},
     "output_type": "display_data"
    },
    {
     "name": "stdout",
     "output_type": "stream",
     "text": [
      "\n"
     ]
    }
   ],
   "source": [
    "#newgames = selfplay(MultiMCTS(nparallel=1, nsearches=50, net=net), ngames=200, verbose=1)  # 25 min für 200 games!\n",
    "#newgames = selfplay(MultiMCTS(nparallel=10, nsearches=50, net=net), ngames=200, verbose=1)  #  5 min für 200 games! batching verschlechtert spielperformance ein wenig!\n",
    "#newgames = selfplay_batched(BatchMCTS(nparallel=20, nsearches=50, net=net), ngames=200, verbose=1) # 3 min für 200 games!"
   ]
  },
  {
   "cell_type": "code",
   "execution_count": 4,
   "metadata": {
    "ExecuteTime": {
     "end_time": "2023-10-17T17:27:46.673423Z",
     "start_time": "2023-10-17T17:27:45.382591Z"
    }
   },
   "outputs": [
    {
     "name": "stdout",
     "output_type": "stream",
     "text": [
      "Game record has length 0\n"
     ]
    }
   ],
   "source": [
    "from isola_net import NetAdaptive as Net\n",
    "\n",
    "net = Net()\n",
    "frame = 1\n",
    "game_rec = []\n",
    "winrates = []\n",
    "mmdepths=[]\n",
    "depthminimax = 2\n",
    "stage = 0\n",
    "\n",
    "print(f'Game record has length {len(game_rec)}')"
   ]
  },
  {
   "cell_type": "code",
   "execution_count": 5,
   "metadata": {
    "ExecuteTime": {
     "end_time": "2023-10-23T17:17:25.378626Z",
     "start_time": "2023-10-23T17:17:25.046602Z"
    },
    "run_control": {
     "marked": true
    },
    "scrolled": false
   },
   "outputs": [
    {
     "name": "stdout",
     "output_type": "stream",
     "text": [
      "Selfplay\n"
     ]
    },
    {
     "ename": "NameError",
     "evalue": "name 'BatchMCTS' is not defined",
     "output_type": "error",
     "traceback": [
      "\u001b[1;31m---------------------------------------------------------------------------\u001b[0m",
      "\u001b[1;31mNameError\u001b[0m                                 Traceback (most recent call last)",
      "\u001b[1;32m<ipython-input-5-8fef195f52b5>\u001b[0m in \u001b[0;36m<module>\u001b[1;34m\u001b[0m\n\u001b[0;32m     26\u001b[0m         \u001b[0mprint\u001b[0m\u001b[1;33m(\u001b[0m\u001b[1;34m'Selfplay'\u001b[0m\u001b[1;33m)\u001b[0m\u001b[1;33m\u001b[0m\u001b[1;33m\u001b[0m\u001b[0m\n\u001b[0;32m     27\u001b[0m         \u001b[1;31m#newgames = selfplay(MultiMCTS(nparallel=5, nsearches=50, net=net), ngames=200, verbose=1)\u001b[0m\u001b[1;33m\u001b[0m\u001b[1;33m\u001b[0m\u001b[1;33m\u001b[0m\u001b[0m\n\u001b[1;32m---> 28\u001b[1;33m         \u001b[0mnewgames\u001b[0m \u001b[1;33m=\u001b[0m \u001b[0mselfplay_batched\u001b[0m\u001b[1;33m(\u001b[0m\u001b[0mBatchMCTS\u001b[0m\u001b[1;33m(\u001b[0m\u001b[0mnparallel\u001b[0m\u001b[1;33m=\u001b[0m\u001b[1;36m15\u001b[0m\u001b[1;33m,\u001b[0m \u001b[0mnsearches\u001b[0m\u001b[1;33m=\u001b[0m\u001b[1;36m500\u001b[0m\u001b[1;33m,\u001b[0m \u001b[0mnet\u001b[0m\u001b[1;33m=\u001b[0m\u001b[0mnet\u001b[0m\u001b[1;33m,\u001b[0m \u001b[0mparams\u001b[0m\u001b[1;33m=\u001b[0m\u001b[1;33m{\u001b[0m\u001b[1;34m'useQ'\u001b[0m\u001b[1;33m:\u001b[0m\u001b[1;32mTrue\u001b[0m\u001b[1;33m,\u001b[0m\u001b[1;34m'cpuct'\u001b[0m\u001b[1;33m:\u001b[0m\u001b[1;36m0.2\u001b[0m\u001b[1;33m}\u001b[0m\u001b[1;33m)\u001b[0m\u001b[1;33m,\u001b[0m \u001b[0mngames\u001b[0m\u001b[1;33m=\u001b[0m\u001b[1;36m50\u001b[0m\u001b[1;33m,\u001b[0m \u001b[0mverbose\u001b[0m\u001b[1;33m=\u001b[0m\u001b[1;36m1\u001b[0m\u001b[1;33m)\u001b[0m \u001b[1;31m#50\u001b[0m\u001b[1;33m\u001b[0m\u001b[1;33m\u001b[0m\u001b[0m\n\u001b[0m\u001b[0;32m     29\u001b[0m         \u001b[0mnewgames\u001b[0m \u001b[1;33m+=\u001b[0m \u001b[0mload_selfplay\u001b[0m\u001b[1;33m(\u001b[0m\u001b[1;33m)\u001b[0m\u001b[1;33m\u001b[0m\u001b[1;33m\u001b[0m\u001b[0m\n\u001b[0;32m     30\u001b[0m         \u001b[0mgame_rec\u001b[0m \u001b[1;33m=\u001b[0m \u001b[0mnewgames\u001b[0m \u001b[1;33m+\u001b[0m \u001b[0mgame_rec\u001b[0m\u001b[1;33m\u001b[0m\u001b[1;33m\u001b[0m\u001b[0m\n",
      "\u001b[1;31mNameError\u001b[0m: name 'BatchMCTS' is not defined"
     ]
    }
   ],
   "source": [
    "\n",
    "\n",
    "depthminimax = 3\n",
    "frame = 1\n",
    "stage = 1\n",
    "\n",
    "while True:\n",
    "\n",
    "    \n",
    "    # Evaluate/Pit\n",
    "    if stage==0:\n",
    "        print('Pitting')\n",
    "        winrate = pit(MultiMCTS(nparallel=1, nsearches=100, net=net), MiniMax(maxdepth=depthminimax), n=20, nrnd=2, frame=frame, verbose=1)\n",
    "        print(winrate)\n",
    "        winrates.append(winrate)\n",
    "        mmdepths.append(depthminimax)\n",
    "        plt.plot(winrates, 'C2')\n",
    "        plt.plot(np.array(mmdepths)/10, 'C0o-', lw=0.5)\n",
    "        plt.show()\n",
    "        if winrate>=1.0 and depthminimax<2:\n",
    "            depthminimax += 1\n",
    "            print(f'Changing minimax depth to {depthminimax}')\n",
    "        stage = 1\n",
    "    \n",
    "    \n",
    "    # Selfplay\n",
    "    if stage==1:\n",
    "        print('Selfplay')\n",
    "        #newgames = selfplay(MultiMCTS(nparallel=5, nsearches=50, net=net), ngames=200, verbose=1)\n",
    "        newgames = selfplay_batched(BatchMCTS(nparallel=15, nsearches=500, net=net, params={'useQ':True,'cpuct':0.2}), ngames=50, verbose=1) #50\n",
    "        newgames += load_selfplay()\n",
    "        game_rec = newgames + game_rec\n",
    "        print('number of new states:', len(newgames))\n",
    "        print('size of game rec:', len(game_rec))\n",
    "        stage=2\n",
    "    \n",
    "    # Train\n",
    "    if stage==2:\n",
    "        print('Training')          #30000\n",
    "        net = train(net, game_rec[:5000], game_rec[150000:400000], iterations=50, verbose=1)\n",
    "        w = pit(MultiMCTS(nparallel=10, nsearches=100, net=net), \\\n",
    "                MultiMCTS(nparallel=10, nsearches=100, net=Net('net_temp.dat')), n=50, nrnd=2, frame=frame, verbose=0)\n",
    "        print('Winrate of new network: ', w)\n",
    "        if w > 0.55:\n",
    "            torch.save(net.state_dict(), 'net_temp.dat')\n",
    "            print('<=== SAVING NETWORK ===>')\n",
    "        stage = 0\n",
    "    "
   ]
  },
  {
   "cell_type": "code",
   "execution_count": 8,
   "metadata": {
    "ExecuteTime": {
     "end_time": "2023-10-17T17:33:34.485568Z",
     "start_time": "2023-10-17T17:33:34.363644Z"
    }
   },
   "outputs": [
    {
     "data": {
      "text/plain": [
       "47012"
      ]
     },
     "execution_count": 8,
     "metadata": {},
     "output_type": "execute_result"
    }
   ],
   "source": [
    "len(game_rec)"
   ]
  },
  {
   "cell_type": "code",
   "execution_count": 23,
   "metadata": {},
   "outputs": [
    {
     "data": {
      "application/vnd.jupyter.widget-view+json": {
       "model_id": "520ef5b0bd594361b54713bdd2c5f511",
       "version_major": 2,
       "version_minor": 0
      },
      "text/plain": [
       "  0%|          | 0/1000 [00:00<?, ?it/s]"
      ]
     },
     "metadata": {},
     "output_type": "display_data"
    },
    {
     "name": "stdout",
     "output_type": "stream",
     "text": [
      "supervised: finished one epoch (0)!\n"
     ]
    },
    {
     "ename": "KeyboardInterrupt",
     "evalue": "",
     "output_type": "error",
     "traceback": [
      "\u001b[1;31m---------------------------------------------------------------------------\u001b[0m",
      "\u001b[1;31mKeyboardInterrupt\u001b[0m                         Traceback (most recent call last)",
      "\u001b[1;32m<ipython-input-23-78c00f8cd6cb>\u001b[0m in \u001b[0;36m<module>\u001b[1;34m\u001b[0m\n\u001b[1;32m----> 1\u001b[1;33m \u001b[0mnet\u001b[0m \u001b[1;33m=\u001b[0m \u001b[0mtrain\u001b[0m\u001b[1;33m(\u001b[0m\u001b[0mnet\u001b[0m\u001b[1;33m,\u001b[0m \u001b[0mgame_rec\u001b[0m\u001b[1;33m[\u001b[0m\u001b[1;33m:\u001b[0m\u001b[1;36m3000\u001b[0m\u001b[1;33m]\u001b[0m\u001b[1;33m,\u001b[0m \u001b[0mgame_rec\u001b[0m\u001b[1;33m[\u001b[0m\u001b[1;36m150000\u001b[0m\u001b[1;33m:\u001b[0m\u001b[1;36m400000\u001b[0m\u001b[1;33m]\u001b[0m\u001b[1;33m,\u001b[0m \u001b[0miterations\u001b[0m\u001b[1;33m=\u001b[0m\u001b[1;36m1000\u001b[0m\u001b[1;33m,\u001b[0m \u001b[0mverbose\u001b[0m\u001b[1;33m=\u001b[0m\u001b[1;36m1\u001b[0m\u001b[1;33m)\u001b[0m\u001b[1;33m\u001b[0m\u001b[1;33m\u001b[0m\u001b[0m\n\u001b[0m\u001b[0;32m      2\u001b[0m w = pit(MultiMCTS(nparallel=1, nsearches=1, net=net), \\\n\u001b[0;32m      3\u001b[0m         MultiMCTS(nparallel=1, nsearches=1, net=Net('net_temp.dat')), n=100, nrnd=1, frame=frame, verbose=0)\n\u001b[0;32m      4\u001b[0m \u001b[0mprint\u001b[0m\u001b[1;33m(\u001b[0m\u001b[1;34m'Winrate of new network: '\u001b[0m\u001b[1;33m,\u001b[0m \u001b[0mw\u001b[0m\u001b[1;33m)\u001b[0m\u001b[1;33m\u001b[0m\u001b[1;33m\u001b[0m\u001b[0m\n\u001b[0;32m      5\u001b[0m \u001b[1;32mif\u001b[0m \u001b[0mw\u001b[0m \u001b[1;33m>\u001b[0m \u001b[1;36m0.55\u001b[0m\u001b[1;33m:\u001b[0m\u001b[1;33m\u001b[0m\u001b[1;33m\u001b[0m\u001b[0m\n",
      "\u001b[1;32m<ipython-input-4-70b6529cbbab>\u001b[0m in \u001b[0;36mtrain\u001b[1;34m(net, gamerecords, gamerecords_legacy, iterations, verbose)\u001b[0m\n\u001b[0;32m     89\u001b[0m \u001b[1;33m\u001b[0m\u001b[0m\n\u001b[0;32m     90\u001b[0m         \u001b[1;31m# do the training step on the network\u001b[0m\u001b[1;33m\u001b[0m\u001b[1;33m\u001b[0m\u001b[1;33m\u001b[0m\u001b[0m\n\u001b[1;32m---> 91\u001b[1;33m         \u001b[0moptimizer\u001b[0m\u001b[1;33m.\u001b[0m\u001b[0mstep\u001b[0m\u001b[1;33m(\u001b[0m\u001b[1;33m)\u001b[0m\u001b[1;33m\u001b[0m\u001b[1;33m\u001b[0m\u001b[0m\n\u001b[0m\u001b[0;32m     92\u001b[0m         \u001b[0moptimizer\u001b[0m\u001b[1;33m.\u001b[0m\u001b[0mzero_grad\u001b[0m\u001b[1;33m(\u001b[0m\u001b[1;33m)\u001b[0m\u001b[1;33m\u001b[0m\u001b[1;33m\u001b[0m\u001b[0m\n\u001b[0;32m     93\u001b[0m \u001b[1;33m\u001b[0m\u001b[0m\n",
      "\u001b[1;32mC:\\ProgramData\\Anaconda3\\lib\\site-packages\\torch\\autograd\\grad_mode.py\u001b[0m in \u001b[0;36mdecorate_context\u001b[1;34m(*args, **kwargs)\u001b[0m\n\u001b[0;32m     13\u001b[0m         \u001b[1;32mdef\u001b[0m \u001b[0mdecorate_context\u001b[0m\u001b[1;33m(\u001b[0m\u001b[1;33m*\u001b[0m\u001b[0margs\u001b[0m\u001b[1;33m,\u001b[0m \u001b[1;33m**\u001b[0m\u001b[0mkwargs\u001b[0m\u001b[1;33m)\u001b[0m\u001b[1;33m:\u001b[0m\u001b[1;33m\u001b[0m\u001b[1;33m\u001b[0m\u001b[0m\n\u001b[0;32m     14\u001b[0m             \u001b[1;32mwith\u001b[0m \u001b[0mself\u001b[0m\u001b[1;33m:\u001b[0m\u001b[1;33m\u001b[0m\u001b[1;33m\u001b[0m\u001b[0m\n\u001b[1;32m---> 15\u001b[1;33m                 \u001b[1;32mreturn\u001b[0m \u001b[0mfunc\u001b[0m\u001b[1;33m(\u001b[0m\u001b[1;33m*\u001b[0m\u001b[0margs\u001b[0m\u001b[1;33m,\u001b[0m \u001b[1;33m**\u001b[0m\u001b[0mkwargs\u001b[0m\u001b[1;33m)\u001b[0m\u001b[1;33m\u001b[0m\u001b[1;33m\u001b[0m\u001b[0m\n\u001b[0m\u001b[0;32m     16\u001b[0m         \u001b[1;32mreturn\u001b[0m \u001b[0mdecorate_context\u001b[0m\u001b[1;33m\u001b[0m\u001b[1;33m\u001b[0m\u001b[0m\n\u001b[0;32m     17\u001b[0m \u001b[1;33m\u001b[0m\u001b[0m\n",
      "\u001b[1;32mC:\\ProgramData\\Anaconda3\\lib\\site-packages\\torch\\optim\\adam.py\u001b[0m in \u001b[0;36mstep\u001b[1;34m(self, closure)\u001b[0m\n\u001b[0;32m     97\u001b[0m \u001b[1;33m\u001b[0m\u001b[0m\n\u001b[0;32m     98\u001b[0m                 \u001b[1;31m# Decay the first and second moment running average coefficient\u001b[0m\u001b[1;33m\u001b[0m\u001b[1;33m\u001b[0m\u001b[1;33m\u001b[0m\u001b[0m\n\u001b[1;32m---> 99\u001b[1;33m                 \u001b[0mexp_avg\u001b[0m\u001b[1;33m.\u001b[0m\u001b[0mmul_\u001b[0m\u001b[1;33m(\u001b[0m\u001b[0mbeta1\u001b[0m\u001b[1;33m)\u001b[0m\u001b[1;33m.\u001b[0m\u001b[0madd_\u001b[0m\u001b[1;33m(\u001b[0m\u001b[0mgrad\u001b[0m\u001b[1;33m,\u001b[0m \u001b[0malpha\u001b[0m\u001b[1;33m=\u001b[0m\u001b[1;36m1\u001b[0m \u001b[1;33m-\u001b[0m \u001b[0mbeta1\u001b[0m\u001b[1;33m)\u001b[0m\u001b[1;33m\u001b[0m\u001b[1;33m\u001b[0m\u001b[0m\n\u001b[0m\u001b[0;32m    100\u001b[0m                 \u001b[0mexp_avg_sq\u001b[0m\u001b[1;33m.\u001b[0m\u001b[0mmul_\u001b[0m\u001b[1;33m(\u001b[0m\u001b[0mbeta2\u001b[0m\u001b[1;33m)\u001b[0m\u001b[1;33m.\u001b[0m\u001b[0maddcmul_\u001b[0m\u001b[1;33m(\u001b[0m\u001b[0mgrad\u001b[0m\u001b[1;33m,\u001b[0m \u001b[0mgrad\u001b[0m\u001b[1;33m,\u001b[0m \u001b[0mvalue\u001b[0m\u001b[1;33m=\u001b[0m\u001b[1;36m1\u001b[0m \u001b[1;33m-\u001b[0m \u001b[0mbeta2\u001b[0m\u001b[1;33m)\u001b[0m\u001b[1;33m\u001b[0m\u001b[1;33m\u001b[0m\u001b[0m\n\u001b[0;32m    101\u001b[0m                 \u001b[1;32mif\u001b[0m \u001b[0mamsgrad\u001b[0m\u001b[1;33m:\u001b[0m\u001b[1;33m\u001b[0m\u001b[1;33m\u001b[0m\u001b[0m\n",
      "\u001b[1;31mKeyboardInterrupt\u001b[0m: "
     ]
    }
   ],
   "source": [
    "\n",
    "net = train(net, game_rec[:3000], game_rec[150000:400000], iterations=1000, verbose=1)\n",
    "w = pit(MultiMCTS(nparallel=1, nsearches=1, net=net), \\\n",
    "        MultiMCTS(nparallel=1, nsearches=1, net=Net('net_temp.dat')), n=100, nrnd=1, frame=frame, verbose=0)\n",
    "print('Winrate of new network: ', w)\n",
    "if w > 0.55:\n",
    "    torch.save(net.state_dict(), 'net_temp.dat')"
   ]
  },
  {
   "cell_type": "code",
   "execution_count": 230,
   "metadata": {},
   "outputs": [
    {
     "name": "stdout",
     "output_type": "stream",
     "text": [
      "Warning! Performing at least 50 rollouts since nparallel is this value!\n",
      "Warning! Performing at least 50 rollouts since nparallel is this value!\n"
     ]
    },
    {
     "data": {
      "text/plain": [
       "0.49"
      ]
     },
     "execution_count": 230,
     "metadata": {},
     "output_type": "execute_result"
    }
   ],
   "source": [
    "pit(MultiMCTS(nparallel=50, nsearches=1, net=net), MultiMCTS(nparallel=50, nsearches=1, net=Net('net_temp.dat')), n=100, nrnd=1, frame=frame, verbose=0)"
   ]
  },
  {
   "cell_type": "code",
   "execution_count": 6,
   "metadata": {
    "ExecuteTime": {
     "end_time": "2023-10-17T17:28:16.724696Z",
     "start_time": "2023-10-17T17:28:16.572604Z"
    }
   },
   "outputs": [],
   "source": [
    "net = NetAdaptive('net_depth3.dat')"
   ]
  },
  {
   "cell_type": "code",
   "execution_count": 40,
   "metadata": {
    "ExecuteTime": {
     "end_time": "2023-10-16T21:34:18.210227Z",
     "start_time": "2023-10-16T21:34:18.004356Z"
    }
   },
   "outputs": [],
   "source": [
    "net = NetAdaptive()"
   ]
  },
  {
   "cell_type": "code",
   "execution_count": 5,
   "metadata": {
    "ExecuteTime": {
     "end_time": "2023-10-17T17:27:56.927200Z",
     "start_time": "2023-10-17T17:27:55.959029Z"
    }
   },
   "outputs": [],
   "source": [
    "with open('selfplay_mcts1.dat', 'rb') as f:\n",
    "    game_rec = pkl.load(f)"
   ]
  },
  {
   "cell_type": "code",
   "execution_count": 7,
   "metadata": {
    "ExecuteTime": {
     "end_time": "2023-10-17T17:28:49.834039Z",
     "start_time": "2023-10-17T17:28:30.250511Z"
    }
   },
   "outputs": [
    {
     "data": {
      "application/vnd.jupyter.widget-view+json": {
       "model_id": "3556310819d14410a13f0094408d7b3a",
       "version_major": 2,
       "version_minor": 0
      },
      "text/plain": [
       "  0%|          | 0/300 [00:00<?, ?it/s]"
      ]
     },
     "metadata": {},
     "output_type": "display_data"
    },
    {
     "name": "stdout",
     "output_type": "stream",
     "text": [
      "Loss1=9.685635, Loss12=0.313692, ValLoss1=10.365581, ValLoss2=0.130258\n",
      "Loss1=9.625525, Loss12=0.295609, ValLoss1=10.146382, ValLoss2=0.147009\n",
      "supervised: finished one epoch (0)!\n",
      "Loss1=9.589412, Loss12=0.278828, ValLoss1=10.264499, ValLoss2=0.156977\n"
     ]
    },
    {
     "data": {
      "application/vnd.jupyter.widget-view+json": {
       "model_id": "75f8219913f64e1bbee278ab44816a25",
       "version_major": 2,
       "version_minor": 0
      },
      "text/plain": [
       "  0%|          | 0/300 [00:00<?, ?it/s]"
      ]
     },
     "metadata": {},
     "output_type": "display_data"
    },
    {
     "ename": "KeyboardInterrupt",
     "evalue": "",
     "output_type": "error",
     "traceback": [
      "\u001b[1;31m---------------------------------------------------------------------------\u001b[0m",
      "\u001b[1;31mKeyboardInterrupt\u001b[0m                         Traceback (most recent call last)",
      "\u001b[1;32m<ipython-input-7-dafbad5f6b2b>\u001b[0m in \u001b[0;36m<module>\u001b[1;34m\u001b[0m\n\u001b[0;32m      1\u001b[0m \u001b[1;32mwhile\u001b[0m \u001b[1;32mTrue\u001b[0m\u001b[1;33m:\u001b[0m\u001b[1;33m\u001b[0m\u001b[1;33m\u001b[0m\u001b[0m\n\u001b[1;32m----> 2\u001b[1;33m     \u001b[0mnet\u001b[0m \u001b[1;33m=\u001b[0m \u001b[0mtrain\u001b[0m\u001b[1;33m(\u001b[0m\u001b[0mnet\u001b[0m\u001b[1;33m,\u001b[0m \u001b[0mgame_rec\u001b[0m\u001b[1;33m[\u001b[0m\u001b[1;33m:\u001b[0m\u001b[1;33m]\u001b[0m\u001b[1;33m,\u001b[0m \u001b[0mgame_rec\u001b[0m\u001b[1;33m[\u001b[0m\u001b[1;36m100000\u001b[0m\u001b[1;33m:\u001b[0m\u001b[1;33m]\u001b[0m\u001b[1;33m,\u001b[0m \u001b[0miterations\u001b[0m\u001b[1;33m=\u001b[0m\u001b[1;36m300\u001b[0m\u001b[1;33m,\u001b[0m \u001b[0mverbose\u001b[0m\u001b[1;33m=\u001b[0m\u001b[1;36m1\u001b[0m\u001b[1;33m)\u001b[0m\u001b[1;33m\u001b[0m\u001b[1;33m\u001b[0m\u001b[0m\n\u001b[0m\u001b[0;32m      3\u001b[0m     \u001b[0mtorch\u001b[0m\u001b[1;33m.\u001b[0m\u001b[0msave\u001b[0m\u001b[1;33m(\u001b[0m\u001b[0mnet\u001b[0m\u001b[1;33m.\u001b[0m\u001b[0mstate_dict\u001b[0m\u001b[1;33m(\u001b[0m\u001b[1;33m)\u001b[0m\u001b[1;33m,\u001b[0m \u001b[1;34m'net_temp.dat'\u001b[0m\u001b[1;33m)\u001b[0m\u001b[1;33m\u001b[0m\u001b[1;33m\u001b[0m\u001b[0m\n",
      "\u001b[1;32m<ipython-input-3-70b6529cbbab>\u001b[0m in \u001b[0;36mtrain\u001b[1;34m(net, gamerecords, gamerecords_legacy, iterations, verbose)\u001b[0m\n\u001b[0;32m     78\u001b[0m \u001b[1;33m\u001b[0m\u001b[0m\n\u001b[0;32m     79\u001b[0m     \u001b[1;32mfor\u001b[0m \u001b[0mk\u001b[0m \u001b[1;32min\u001b[0m \u001b[0mtrange\u001b[0m\u001b[1;33m(\u001b[0m\u001b[0miterations\u001b[0m\u001b[1;33m)\u001b[0m\u001b[1;33m:\u001b[0m\u001b[1;33m\u001b[0m\u001b[1;33m\u001b[0m\u001b[0m\n\u001b[1;32m---> 80\u001b[1;33m         \u001b[0mb\u001b[0m\u001b[1;33m,\u001b[0m \u001b[0mvds\u001b[0m\u001b[1;33m,\u001b[0m \u001b[0mtp\u001b[0m\u001b[1;33m,\u001b[0m \u001b[0mtv\u001b[0m \u001b[1;33m=\u001b[0m \u001b[0mnext\u001b[0m\u001b[1;33m(\u001b[0m\u001b[0mbg_s\u001b[0m\u001b[1;33m)\u001b[0m\u001b[1;33m\u001b[0m\u001b[1;33m\u001b[0m\u001b[0m\n\u001b[0m\u001b[0;32m     81\u001b[0m         \u001b[0mb\u001b[0m\u001b[1;33m,\u001b[0m \u001b[0mvds\u001b[0m\u001b[1;33m,\u001b[0m \u001b[0mtp\u001b[0m\u001b[1;33m,\u001b[0m \u001b[0mtv\u001b[0m \u001b[1;33m=\u001b[0m \u001b[0mbatch2torch\u001b[0m\u001b[1;33m(\u001b[0m\u001b[0mb\u001b[0m\u001b[1;33m,\u001b[0m \u001b[0mvds\u001b[0m\u001b[1;33m,\u001b[0m \u001b[0mtp\u001b[0m\u001b[1;33m,\u001b[0m \u001b[0mtv\u001b[0m\u001b[1;33m)\u001b[0m\u001b[1;33m\u001b[0m\u001b[1;33m\u001b[0m\u001b[0m\n\u001b[0;32m     82\u001b[0m         \u001b[0mpp\u001b[0m\u001b[1;33m,\u001b[0m \u001b[0mpv\u001b[0m \u001b[1;33m=\u001b[0m \u001b[0mnet\u001b[0m\u001b[1;33m(\u001b[0m\u001b[0mb\u001b[0m\u001b[1;33m,\u001b[0m \u001b[0mvds\u001b[0m\u001b[1;33m)\u001b[0m\u001b[1;33m\u001b[0m\u001b[1;33m\u001b[0m\u001b[0m\n",
      "\u001b[1;32m<ipython-input-3-70b6529cbbab>\u001b[0m in \u001b[0;36mbatchgen\u001b[1;34m(gamerecords, size, istart, iend, augment, verbose)\u001b[0m\n\u001b[0;32m     33\u001b[0m                     \u001b[0mr\u001b[0m \u001b[1;33m*=\u001b[0m \u001b[1;33m-\u001b[0m\u001b[1;36m1\u001b[0m\u001b[1;33m\u001b[0m\u001b[1;33m\u001b[0m\u001b[0m\n\u001b[0;32m     34\u001b[0m \u001b[1;33m\u001b[0m\u001b[0m\n\u001b[1;32m---> 35\u001b[1;33m                 \u001b[0mxs\u001b[0m\u001b[1;33m[\u001b[0m\u001b[0mi\u001b[0m\u001b[1;33m]\u001b[0m\u001b[1;33m,\u001b[0m \u001b[0mvds\u001b[0m\u001b[1;33m[\u001b[0m\u001b[0mi\u001b[0m\u001b[1;33m]\u001b[0m \u001b[1;33m=\u001b[0m \u001b[0mnet\u001b[0m\u001b[1;33m.\u001b[0m\u001b[0mpreprocess\u001b[0m\u001b[1;33m(\u001b[0m\u001b[0ms\u001b[0m\u001b[1;33m,\u001b[0m \u001b[0mvalid\u001b[0m\u001b[1;33m)\u001b[0m\u001b[1;33m\u001b[0m\u001b[1;33m\u001b[0m\u001b[0m\n\u001b[0m\u001b[0;32m     36\u001b[0m                 \u001b[0mps\u001b[0m\u001b[1;33m[\u001b[0m\u001b[0mi\u001b[0m\u001b[1;33m]\u001b[0m \u001b[1;33m=\u001b[0m \u001b[0madist\u001b[0m\u001b[1;33m\u001b[0m\u001b[1;33m\u001b[0m\u001b[0m\n\u001b[0;32m     37\u001b[0m                 \u001b[0mvs\u001b[0m\u001b[1;33m[\u001b[0m\u001b[0mi\u001b[0m\u001b[1;33m]\u001b[0m \u001b[1;33m=\u001b[0m \u001b[0mr\u001b[0m\u001b[1;33m\u001b[0m\u001b[1;33m\u001b[0m\u001b[0m\n",
      "\u001b[1;32mD:\\Anaconda-Python-3.7\\isola - single stage\\isola_net.py\u001b[0m in \u001b[0;36mpreprocess\u001b[1;34m(self, state, valid)\u001b[0m\n\u001b[0;32m    176\u001b[0m         \u001b[0mx\u001b[0m\u001b[1;33m[\u001b[0m\u001b[1;36m2\u001b[0m\u001b[1;33m,\u001b[0m \u001b[0mr\u001b[0m\u001b[1;33m[\u001b[0m\u001b[1;36m0\u001b[0m\u001b[1;33m]\u001b[0m\u001b[1;33m,\u001b[0m \u001b[0mr\u001b[0m\u001b[1;33m[\u001b[0m\u001b[1;36m1\u001b[0m\u001b[1;33m]\u001b[0m\u001b[1;33m]\u001b[0m \u001b[1;33m=\u001b[0m \u001b[1;36m1.\u001b[0m\u001b[1;33m\u001b[0m\u001b[1;33m\u001b[0m\u001b[0m\n\u001b[0;32m    177\u001b[0m         \u001b[0mx\u001b[0m\u001b[1;33m[\u001b[0m\u001b[1;36m3\u001b[0m\u001b[1;33m,\u001b[0m \u001b[0mb\u001b[0m\u001b[1;33m[\u001b[0m\u001b[1;36m0\u001b[0m\u001b[1;33m]\u001b[0m\u001b[1;33m,\u001b[0m \u001b[0mb\u001b[0m\u001b[1;33m[\u001b[0m\u001b[1;36m1\u001b[0m\u001b[1;33m]\u001b[0m\u001b[1;33m]\u001b[0m \u001b[1;33m=\u001b[0m \u001b[1;36m1.\u001b[0m\u001b[1;33m\u001b[0m\u001b[1;33m\u001b[0m\u001b[0m\n\u001b[1;32m--> 178\u001b[1;33m         \u001b[0mvd\u001b[0m \u001b[1;33m=\u001b[0m \u001b[0mnp\u001b[0m\u001b[1;33m.\u001b[0m\u001b[0mzeros\u001b[0m\u001b[1;33m(\u001b[0m\u001b[0mnum_actions\u001b[0m\u001b[1;33m)\u001b[0m\u001b[1;33m\u001b[0m\u001b[1;33m\u001b[0m\u001b[0m\n\u001b[0m\u001b[0;32m    179\u001b[0m         \u001b[1;32mfor\u001b[0m \u001b[0mk\u001b[0m \u001b[1;32min\u001b[0m \u001b[0mvalid\u001b[0m\u001b[1;33m:\u001b[0m\u001b[1;33m\u001b[0m\u001b[1;33m\u001b[0m\u001b[0m\n\u001b[0;32m    180\u001b[0m             \u001b[0mvd\u001b[0m\u001b[1;33m[\u001b[0m\u001b[0mk\u001b[0m\u001b[1;33m]\u001b[0m \u001b[1;33m=\u001b[0m \u001b[1;36m1.\u001b[0m\u001b[1;33m\u001b[0m\u001b[1;33m\u001b[0m\u001b[0m\n",
      "\u001b[1;31mKeyboardInterrupt\u001b[0m: "
     ]
    }
   ],
   "source": [
    "while True:\n",
    "    net = train(net, game_rec[:], game_rec[100000:], iterations=300, verbose=1)\n",
    "    torch.save(net.state_dict(), 'net_temp.dat')"
   ]
  },
  {
   "cell_type": "code",
   "execution_count": 39,
   "metadata": {
    "ExecuteTime": {
     "end_time": "2023-10-16T21:34:00.271567Z",
     "start_time": "2023-10-16T21:34:00.126108Z"
    }
   },
   "outputs": [],
   "source": [
    "net2 = net"
   ]
  },
  {
   "cell_type": "code",
   "execution_count": null,
   "metadata": {},
   "outputs": [],
   "source": []
  },
  {
   "cell_type": "code",
   "execution_count": 67,
   "metadata": {},
   "outputs": [
    {
     "name": "stdout",
     "output_type": "stream",
     "text": [
      "0 1\n",
      "1 2\n",
      "2 3\n",
      "2 4\n",
      "3 5\n",
      "3 6\n",
      "4 7\n",
      "4 8\n",
      "5 9\n",
      "6 10\n",
      "7 11\n",
      "7 12\n",
      "8 13\n",
      "8 14\n",
      "8 15\n",
      "9 16\n",
      "10 17\n",
      "10 18\n",
      "11 19\n",
      "11 20\n"
     ]
    },
    {
     "data": {
      "text/plain": [
       "0.55"
      ]
     },
     "execution_count": 67,
     "metadata": {},
     "output_type": "execute_result"
    }
   ],
   "source": [
    "ai1 = MultiMCTS(net, nparallel=15, nsearches=100, params={'useQ':True, 'cpuct': 1})\n",
    "ai2 = MultiMCTS(net, nparallel=15, nsearches=100, params={'useQ':False, 'cpuct': 4})\n",
    "\n",
    "pit(ai1, ai2, n=20, nrnd=2, verbose=1)"
   ]
  },
  {
   "cell_type": "code",
   "execution_count": 84,
   "metadata": {},
   "outputs": [
    {
     "name": "stdout",
     "output_type": "stream",
     "text": [
      "\u001b[43m~ \u001b[47m~ \u001b[43m~ \u001b[41mr \u001b[43m~ \u001b[47m~ \n",
      "\u001b[43m~ \u001b[47m~ \u001b[47m~ \u001b[47m~ \u001b[43m~ \u001b[47m~ \n",
      "\u001b[43m~ \u001b[44mb \u001b[43m~ \u001b[47m~ \u001b[43m~ \u001b[47m~ \n",
      "\u001b[47m~ \u001b[47m~ \u001b[47m~ \u001b[47m~ \u001b[47m~ \u001b[47m~ \n",
      "\u001b[49m\n",
      "[0. 0. 0. 0. 0. 0. 0. 0. 0. 0. 0. 0. 0. 0. 0. 0. 0. 0. 0. 0. 0. 0. 0. 0.\n",
      " 0. 0. 0. 0. 0. 0. 0. 0. 0. 0. 0. 0. 0. 0. 0. 0. 0. 0. 0. 0. 0. 0. 0. 0.\n",
      " 0. 0. 0. 0. 0. 0. 0. 0. 0. 0. 0. 0. 0. 0. 1. 0. 0. 0. 0. 0. 0. 0. 0. 0.\n",
      " 0. 0. 0. 0. 0. 0. 0. 0. 0. 0. 0. 0. 0. 0. 0. 0. 0. 0. 0. 0. 0. 0. 0. 0.\n",
      " 0. 0. 0. 0. 0. 0. 0. 0. 0. 0. 0. 0. 0. 0. 0. 0. 0. 0. 0. 0. 0. 0. 0. 0.\n",
      " 0. 0. 0. 0. 0. 0. 0. 0. 0. 0. 0. 0. 0. 0. 0. 0. 0. 0. 0. 0. 0. 0. 0. 0.\n",
      " 0. 0. 0. 0. 0. 0. 0. 0. 0. 0. 0. 0. 0. 0. 0. 0. 0. 0. 0. 0. 0. 0. 0. 0.\n",
      " 0. 0. 0. 0. 0. 0. 0. 0. 0. 0. 0. 0. 0. 0. 0. 0. 0. 0. 0. 0. 0. 0. 0. 0.\n",
      " 0. 0. 0. 0. 0. 0. 0. 0. 0. 0. 0. 0. 0. 0. 0. 0. 0. 0. 0. 0. 0. 0. 0. 0.] 1\n"
     ]
    },
    {
     "ename": "ValueError",
     "evalue": "setting an array element with a sequence.",
     "output_type": "error",
     "traceback": [
      "\u001b[1;31m---------------------------------------------------------------------------\u001b[0m",
      "\u001b[1;31mTypeError\u001b[0m                                 Traceback (most recent call last)",
      "\u001b[1;31mTypeError\u001b[0m: only size-1 arrays can be converted to Python scalars",
      "\nThe above exception was the direct cause of the following exception:\n",
      "\u001b[1;31mValueError\u001b[0m                                Traceback (most recent call last)",
      "\u001b[1;32m<ipython-input-84-40ad90276c6d>\u001b[0m in \u001b[0;36m<module>\u001b[1;34m\u001b[0m\n\u001b[0;32m     19\u001b[0m \u001b[1;33m\u001b[0m\u001b[0m\n\u001b[0;32m     20\u001b[0m \u001b[0mxs\u001b[0m\u001b[1;33m[\u001b[0m\u001b[0mi\u001b[0m\u001b[1;33m]\u001b[0m\u001b[1;33m,\u001b[0m \u001b[0mvds\u001b[0m\u001b[1;33m[\u001b[0m\u001b[0mi\u001b[0m\u001b[1;33m]\u001b[0m \u001b[1;33m=\u001b[0m \u001b[0mnet\u001b[0m\u001b[1;33m.\u001b[0m\u001b[0mpreprocess\u001b[0m\u001b[1;33m(\u001b[0m\u001b[0ms\u001b[0m\u001b[1;33m,\u001b[0m \u001b[0mGameIsola\u001b[0m\u001b[1;33m.\u001b[0m\u001b[0mgetValidActions\u001b[0m\u001b[1;33m(\u001b[0m\u001b[0ms\u001b[0m\u001b[1;33m)\u001b[0m\u001b[1;33m)\u001b[0m\u001b[1;33m\u001b[0m\u001b[1;33m\u001b[0m\u001b[0m\n\u001b[1;32m---> 21\u001b[1;33m \u001b[0my1s\u001b[0m\u001b[1;33m[\u001b[0m\u001b[0mi\u001b[0m\u001b[1;33m]\u001b[0m \u001b[1;33m=\u001b[0m \u001b[0ma\u001b[0m\u001b[1;33m\u001b[0m\u001b[1;33m\u001b[0m\u001b[0m\n\u001b[0m\u001b[0;32m     22\u001b[0m \u001b[0my2s\u001b[0m\u001b[1;33m[\u001b[0m\u001b[0mi\u001b[0m\u001b[1;33m]\u001b[0m \u001b[1;33m=\u001b[0m \u001b[0mr\u001b[0m\u001b[1;33m\u001b[0m\u001b[1;33m\u001b[0m\u001b[0m\n",
      "\u001b[1;31mValueError\u001b[0m: setting an array element with a sequence."
     ]
    }
   ],
   "source": [
    "\n",
    "\n",
    "with open('selfplay_depth3.dat', 'rb') as f:\n",
    "    gamerecords = pkl.load(f)\n",
    "    gamerecords_legacy = gamerecords\n",
    "\n",
    "s, a, r = gamerecords[1]\n",
    "if s.turn<0:\n",
    "    s = GameIsola.exchangePlayers(s)\n",
    "    r *= -1\n",
    "print_state(s)\n",
    "print(a, r)\n",
    "\n",
    "size=50\n",
    "i = 0\n",
    "\n",
    "xs = np.zeros((size, 4, boardsize[0], boardsize[1]))\n",
    "vds = np.zeros((size, GameIsola.numActions))\n",
    "y1s = np.zeros(size, dtype=int)\n",
    "y2s = np.zeros((size, 1))\n",
    "\n",
    "xs[i], vds[i] = net.preprocess(s, GameIsola.getValidActions(s))\n",
    "y1s[i] = a\n",
    "y2s[i] = r"
   ]
  },
  {
   "cell_type": "code",
   "execution_count": 12,
   "metadata": {
    "ExecuteTime": {
     "end_time": "2023-10-23T17:18:49.144686Z",
     "start_time": "2023-10-23T17:18:48.985852Z"
    }
   },
   "outputs": [],
   "source": [
    "\n",
    "\n",
    "\n",
    "def batchgen(gamerecords, size=50, istart=0, iend=0, augment=True, verbose=None):\n",
    "    '''size: minibatchsize\n",
    "    istart, iend: Start- und Endindex der herausgegebenen Samples\n",
    "    verbose: Wenn überschrieben, dann mit einem String des Batchgen Namens (z. B. Supervised)'''\n",
    "    ep = 0\n",
    "    if not iend: iend = len(gamerecords)\n",
    "    while True:\n",
    "        ilist = range(istart, iend)\n",
    "        ilist = np.random.permutation(ilist)\n",
    "        minibatches = [ ilist[k*size:(k+1)*size] for k in range(len(ilist)//size) ]\n",
    "        for mb in minibatches:\n",
    "            xs = np.zeros((size, SX, SY, 3))\n",
    "            ps = np.zeros((size, SX, SY, 1))\n",
    "            vs = np.zeros((size, 1))\n",
    "            for i, k in enumerate(mb):\n",
    "                s, a, r = gamerecords[k]\n",
    "                \n",
    "                '''\n",
    "                if np.random.rand()<.5:\n",
    "                    s = GameIsola.mirrorx_state(s)\n",
    "                    adist = mirrorx_dist(adist)\n",
    "                if np.random.rand()<.5:\n",
    "                    s = GameIsola.mirrory_state(s)\n",
    "                    adist = mirrorx_dist(adist)'''\n",
    "                    \n",
    "                xs[i] = encode_x(s.sea, s.det)\n",
    "                ps[i, a] = 1.\n",
    "                vs[i] = r\n",
    "                    \n",
    "            yield xs, ps, vs\n",
    "        if verbose:\n",
    "            print(f'{verbose}: finished one epoch ({ep})!')\n",
    "        ep += 1\n",
    "        "
   ]
  },
  {
   "cell_type": "code",
   "execution_count": 13,
   "metadata": {
    "ExecuteTime": {
     "end_time": "2023-10-23T17:18:53.049575Z",
     "start_time": "2023-10-23T17:18:52.548546Z"
    }
   },
   "outputs": [
    {
     "data": {
      "text/plain": [
       "(array([[[[0., 1., 0.],\n",
       "          [0., 1., 0.],\n",
       "          [1., 0., 0.],\n",
       "          ...,\n",
       "          [0., 1., 0.],\n",
       "          [0., 1., 0.],\n",
       "          [0., 1., 0.]],\n",
       " \n",
       "         [[0., 1., 0.],\n",
       "          [0., 1., 0.],\n",
       "          [0., 1., 0.],\n",
       "          ...,\n",
       "          [0., 1., 0.],\n",
       "          [0., 1., 0.],\n",
       "          [0., 1., 0.]],\n",
       " \n",
       "         [[0., 1., 0.],\n",
       "          [0., 1., 0.],\n",
       "          [0., 1., 0.],\n",
       "          ...,\n",
       "          [0., 1., 0.],\n",
       "          [0., 1., 0.],\n",
       "          [0., 1., 0.]],\n",
       " \n",
       "         ...,\n",
       " \n",
       "         [[1., 0., 0.],\n",
       "          [1., 0., 0.],\n",
       "          [0., 1., 0.],\n",
       "          ...,\n",
       "          [0., 1., 0.],\n",
       "          [0., 1., 0.],\n",
       "          [0., 1., 0.]],\n",
       " \n",
       "         [[0., 1., 0.],\n",
       "          [0., 1., 0.],\n",
       "          [0., 1., 0.],\n",
       "          ...,\n",
       "          [1., 0., 0.],\n",
       "          [1., 0., 0.],\n",
       "          [0., 1., 0.]],\n",
       " \n",
       "         [[1., 0., 0.],\n",
       "          [0., 1., 0.],\n",
       "          [0., 1., 0.],\n",
       "          ...,\n",
       "          [0., 1., 0.],\n",
       "          [0., 1., 0.],\n",
       "          [0., 1., 0.]]],\n",
       " \n",
       " \n",
       "        [[[1., 0., 0.],\n",
       "          [1., 0., 0.],\n",
       "          [0., 1., 0.],\n",
       "          ...,\n",
       "          [1., 0., 0.],\n",
       "          [0., 1., 0.],\n",
       "          [0., 1., 0.]],\n",
       " \n",
       "         [[0., 1., 0.],\n",
       "          [0., 1., 0.],\n",
       "          [0., 0., 1.],\n",
       "          ...,\n",
       "          [1., 0., 0.],\n",
       "          [1., 0., 0.],\n",
       "          [0., 1., 0.]],\n",
       " \n",
       "         [[0., 1., 0.],\n",
       "          [1., 0., 0.],\n",
       "          [0., 1., 0.],\n",
       "          ...,\n",
       "          [0., 0., 1.],\n",
       "          [0., 0., 1.],\n",
       "          [0., 1., 0.]],\n",
       " \n",
       "         ...,\n",
       " \n",
       "         [[0., 0., 1.],\n",
       "          [1., 0., 0.],\n",
       "          [0., 1., 0.],\n",
       "          ...,\n",
       "          [0., 1., 0.],\n",
       "          [1., 0., 0.],\n",
       "          [0., 1., 0.]],\n",
       " \n",
       "         [[0., 1., 0.],\n",
       "          [0., 0., 1.],\n",
       "          [0., 1., 0.],\n",
       "          ...,\n",
       "          [0., 1., 0.],\n",
       "          [1., 0., 0.],\n",
       "          [1., 0., 0.]],\n",
       " \n",
       "         [[0., 1., 0.],\n",
       "          [0., 1., 0.],\n",
       "          [1., 0., 0.],\n",
       "          ...,\n",
       "          [1., 0., 0.],\n",
       "          [0., 1., 0.],\n",
       "          [0., 1., 0.]]],\n",
       " \n",
       " \n",
       "        [[[0., 0., 1.],\n",
       "          [0., 1., 0.],\n",
       "          [0., 1., 0.],\n",
       "          ...,\n",
       "          [0., 0., 1.],\n",
       "          [0., 1., 0.],\n",
       "          [1., 0., 0.]],\n",
       " \n",
       "         [[0., 0., 1.],\n",
       "          [0., 1., 0.],\n",
       "          [1., 0., 0.],\n",
       "          ...,\n",
       "          [1., 0., 0.],\n",
       "          [1., 0., 0.],\n",
       "          [1., 0., 0.]],\n",
       " \n",
       "         [[0., 1., 0.],\n",
       "          [1., 0., 0.],\n",
       "          [1., 0., 0.],\n",
       "          ...,\n",
       "          [0., 1., 0.],\n",
       "          [0., 1., 0.],\n",
       "          [0., 1., 0.]],\n",
       " \n",
       "         ...,\n",
       " \n",
       "         [[0., 1., 0.],\n",
       "          [0., 1., 0.],\n",
       "          [0., 1., 0.],\n",
       "          ...,\n",
       "          [0., 1., 0.],\n",
       "          [1., 0., 0.],\n",
       "          [0., 1., 0.]],\n",
       " \n",
       "         [[1., 0., 0.],\n",
       "          [0., 1., 0.],\n",
       "          [1., 0., 0.],\n",
       "          ...,\n",
       "          [0., 1., 0.],\n",
       "          [1., 0., 0.],\n",
       "          [0., 1., 0.]],\n",
       " \n",
       "         [[0., 1., 0.],\n",
       "          [0., 1., 0.],\n",
       "          [1., 0., 0.],\n",
       "          ...,\n",
       "          [1., 0., 0.],\n",
       "          [0., 1., 0.],\n",
       "          [0., 1., 0.]]],\n",
       " \n",
       " \n",
       "        ...,\n",
       " \n",
       " \n",
       "        [[[0., 1., 0.],\n",
       "          [0., 1., 0.],\n",
       "          [0., 1., 0.],\n",
       "          ...,\n",
       "          [0., 1., 0.],\n",
       "          [0., 1., 0.],\n",
       "          [0., 1., 0.]],\n",
       " \n",
       "         [[0., 1., 0.],\n",
       "          [0., 1., 0.],\n",
       "          [0., 1., 0.],\n",
       "          ...,\n",
       "          [1., 0., 0.],\n",
       "          [0., 1., 0.],\n",
       "          [0., 1., 0.]],\n",
       " \n",
       "         [[0., 1., 0.],\n",
       "          [0., 1., 0.],\n",
       "          [0., 1., 0.],\n",
       "          ...,\n",
       "          [0., 1., 0.],\n",
       "          [0., 1., 0.],\n",
       "          [0., 1., 0.]],\n",
       " \n",
       "         ...,\n",
       " \n",
       "         [[0., 1., 0.],\n",
       "          [0., 1., 0.],\n",
       "          [1., 0., 0.],\n",
       "          ...,\n",
       "          [0., 1., 0.],\n",
       "          [0., 1., 0.],\n",
       "          [0., 1., 0.]],\n",
       " \n",
       "         [[1., 0., 0.],\n",
       "          [0., 1., 0.],\n",
       "          [0., 1., 0.],\n",
       "          ...,\n",
       "          [0., 1., 0.],\n",
       "          [1., 0., 0.],\n",
       "          [0., 1., 0.]],\n",
       " \n",
       "         [[0., 1., 0.],\n",
       "          [0., 1., 0.],\n",
       "          [0., 1., 0.],\n",
       "          ...,\n",
       "          [0., 1., 0.],\n",
       "          [0., 1., 0.],\n",
       "          [0., 1., 0.]]],\n",
       " \n",
       " \n",
       "        [[[0., 1., 0.],\n",
       "          [1., 0., 0.],\n",
       "          [0., 1., 0.],\n",
       "          ...,\n",
       "          [1., 0., 0.],\n",
       "          [0., 1., 0.],\n",
       "          [1., 0., 0.]],\n",
       " \n",
       "         [[1., 0., 0.],\n",
       "          [0., 1., 0.],\n",
       "          [0., 1., 0.],\n",
       "          ...,\n",
       "          [0., 1., 0.],\n",
       "          [1., 0., 0.],\n",
       "          [0., 1., 0.]],\n",
       " \n",
       "         [[0., 1., 0.],\n",
       "          [0., 1., 0.],\n",
       "          [0., 1., 0.],\n",
       "          ...,\n",
       "          [0., 1., 0.],\n",
       "          [0., 0., 1.],\n",
       "          [0., 1., 0.]],\n",
       " \n",
       "         ...,\n",
       " \n",
       "         [[0., 1., 0.],\n",
       "          [0., 1., 0.],\n",
       "          [0., 0., 1.],\n",
       "          ...,\n",
       "          [0., 1., 0.],\n",
       "          [0., 1., 0.],\n",
       "          [0., 1., 0.]],\n",
       " \n",
       "         [[0., 1., 0.],\n",
       "          [1., 0., 0.],\n",
       "          [0., 1., 0.],\n",
       "          ...,\n",
       "          [0., 1., 0.],\n",
       "          [0., 1., 0.],\n",
       "          [0., 1., 0.]],\n",
       " \n",
       "         [[0., 1., 0.],\n",
       "          [1., 0., 0.],\n",
       "          [0., 1., 0.],\n",
       "          ...,\n",
       "          [0., 1., 0.],\n",
       "          [0., 1., 0.],\n",
       "          [0., 1., 0.]]],\n",
       " \n",
       " \n",
       "        [[[1., 0., 0.],\n",
       "          [1., 0., 0.],\n",
       "          [0., 1., 0.],\n",
       "          ...,\n",
       "          [1., 0., 0.],\n",
       "          [1., 0., 0.],\n",
       "          [1., 0., 0.]],\n",
       " \n",
       "         [[1., 0., 0.],\n",
       "          [1., 0., 0.],\n",
       "          [0., 0., 1.],\n",
       "          ...,\n",
       "          [0., 1., 0.],\n",
       "          [0., 0., 1.],\n",
       "          [0., 0., 1.]],\n",
       " \n",
       "         [[0., 1., 0.],\n",
       "          [0., 1., 0.],\n",
       "          [0., 0., 1.],\n",
       "          ...,\n",
       "          [1., 0., 0.],\n",
       "          [1., 0., 0.],\n",
       "          [0., 1., 0.]],\n",
       " \n",
       "         ...,\n",
       " \n",
       "         [[0., 1., 0.],\n",
       "          [1., 0., 0.],\n",
       "          [1., 0., 0.],\n",
       "          ...,\n",
       "          [1., 0., 0.],\n",
       "          [0., 1., 0.],\n",
       "          [1., 0., 0.]],\n",
       " \n",
       "         [[0., 1., 0.],\n",
       "          [0., 1., 0.],\n",
       "          [0., 0., 1.],\n",
       "          ...,\n",
       "          [1., 0., 0.],\n",
       "          [0., 0., 1.],\n",
       "          [1., 0., 0.]],\n",
       " \n",
       "         [[1., 0., 0.],\n",
       "          [1., 0., 0.],\n",
       "          [0., 1., 0.],\n",
       "          ...,\n",
       "          [1., 0., 0.],\n",
       "          [1., 0., 0.],\n",
       "          [0., 1., 0.]]]]),\n",
       " array([[[[0.],\n",
       "          [0.],\n",
       "          [0.],\n",
       "          ...,\n",
       "          [0.],\n",
       "          [0.],\n",
       "          [0.]],\n",
       " \n",
       "         [[0.],\n",
       "          [0.],\n",
       "          [0.],\n",
       "          ...,\n",
       "          [0.],\n",
       "          [0.],\n",
       "          [0.]],\n",
       " \n",
       "         [[0.],\n",
       "          [0.],\n",
       "          [0.],\n",
       "          ...,\n",
       "          [0.],\n",
       "          [0.],\n",
       "          [0.]],\n",
       " \n",
       "         ...,\n",
       " \n",
       "         [[0.],\n",
       "          [0.],\n",
       "          [0.],\n",
       "          ...,\n",
       "          [0.],\n",
       "          [0.],\n",
       "          [0.]],\n",
       " \n",
       "         [[1.],\n",
       "          [1.],\n",
       "          [1.],\n",
       "          ...,\n",
       "          [1.],\n",
       "          [1.],\n",
       "          [1.]],\n",
       " \n",
       "         [[0.],\n",
       "          [0.],\n",
       "          [0.],\n",
       "          ...,\n",
       "          [0.],\n",
       "          [0.],\n",
       "          [0.]]],\n",
       " \n",
       " \n",
       "        [[[0.],\n",
       "          [0.],\n",
       "          [0.],\n",
       "          ...,\n",
       "          [0.],\n",
       "          [0.],\n",
       "          [0.]],\n",
       " \n",
       "         [[0.],\n",
       "          [0.],\n",
       "          [0.],\n",
       "          ...,\n",
       "          [0.],\n",
       "          [0.],\n",
       "          [0.]],\n",
       " \n",
       "         [[0.],\n",
       "          [0.],\n",
       "          [0.],\n",
       "          ...,\n",
       "          [0.],\n",
       "          [0.],\n",
       "          [0.]],\n",
       " \n",
       "         ...,\n",
       " \n",
       "         [[0.],\n",
       "          [0.],\n",
       "          [0.],\n",
       "          ...,\n",
       "          [0.],\n",
       "          [0.],\n",
       "          [0.]],\n",
       " \n",
       "         [[0.],\n",
       "          [0.],\n",
       "          [0.],\n",
       "          ...,\n",
       "          [0.],\n",
       "          [0.],\n",
       "          [0.]],\n",
       " \n",
       "         [[0.],\n",
       "          [0.],\n",
       "          [0.],\n",
       "          ...,\n",
       "          [0.],\n",
       "          [0.],\n",
       "          [0.]]],\n",
       " \n",
       " \n",
       "        [[[0.],\n",
       "          [0.],\n",
       "          [0.],\n",
       "          ...,\n",
       "          [0.],\n",
       "          [0.],\n",
       "          [0.]],\n",
       " \n",
       "         [[0.],\n",
       "          [0.],\n",
       "          [0.],\n",
       "          ...,\n",
       "          [0.],\n",
       "          [0.],\n",
       "          [0.]],\n",
       " \n",
       "         [[0.],\n",
       "          [0.],\n",
       "          [0.],\n",
       "          ...,\n",
       "          [0.],\n",
       "          [0.],\n",
       "          [0.]],\n",
       " \n",
       "         ...,\n",
       " \n",
       "         [[0.],\n",
       "          [0.],\n",
       "          [0.],\n",
       "          ...,\n",
       "          [0.],\n",
       "          [0.],\n",
       "          [0.]],\n",
       " \n",
       "         [[0.],\n",
       "          [0.],\n",
       "          [0.],\n",
       "          ...,\n",
       "          [0.],\n",
       "          [0.],\n",
       "          [0.]],\n",
       " \n",
       "         [[1.],\n",
       "          [1.],\n",
       "          [1.],\n",
       "          ...,\n",
       "          [1.],\n",
       "          [1.],\n",
       "          [1.]]],\n",
       " \n",
       " \n",
       "        ...,\n",
       " \n",
       " \n",
       "        [[[0.],\n",
       "          [0.],\n",
       "          [0.],\n",
       "          ...,\n",
       "          [0.],\n",
       "          [0.],\n",
       "          [0.]],\n",
       " \n",
       "         [[1.],\n",
       "          [1.],\n",
       "          [1.],\n",
       "          ...,\n",
       "          [1.],\n",
       "          [1.],\n",
       "          [1.]],\n",
       " \n",
       "         [[0.],\n",
       "          [0.],\n",
       "          [0.],\n",
       "          ...,\n",
       "          [0.],\n",
       "          [0.],\n",
       "          [0.]],\n",
       " \n",
       "         ...,\n",
       " \n",
       "         [[0.],\n",
       "          [0.],\n",
       "          [0.],\n",
       "          ...,\n",
       "          [0.],\n",
       "          [0.],\n",
       "          [0.]],\n",
       " \n",
       "         [[0.],\n",
       "          [0.],\n",
       "          [0.],\n",
       "          ...,\n",
       "          [0.],\n",
       "          [0.],\n",
       "          [0.]],\n",
       " \n",
       "         [[0.],\n",
       "          [0.],\n",
       "          [0.],\n",
       "          ...,\n",
       "          [0.],\n",
       "          [0.],\n",
       "          [0.]]],\n",
       " \n",
       " \n",
       "        [[[0.],\n",
       "          [0.],\n",
       "          [0.],\n",
       "          ...,\n",
       "          [0.],\n",
       "          [0.],\n",
       "          [0.]],\n",
       " \n",
       "         [[0.],\n",
       "          [0.],\n",
       "          [0.],\n",
       "          ...,\n",
       "          [0.],\n",
       "          [0.],\n",
       "          [0.]],\n",
       " \n",
       "         [[0.],\n",
       "          [0.],\n",
       "          [0.],\n",
       "          ...,\n",
       "          [0.],\n",
       "          [0.],\n",
       "          [0.]],\n",
       " \n",
       "         ...,\n",
       " \n",
       "         [[0.],\n",
       "          [0.],\n",
       "          [0.],\n",
       "          ...,\n",
       "          [0.],\n",
       "          [0.],\n",
       "          [0.]],\n",
       " \n",
       "         [[1.],\n",
       "          [1.],\n",
       "          [1.],\n",
       "          ...,\n",
       "          [1.],\n",
       "          [1.],\n",
       "          [1.]],\n",
       " \n",
       "         [[1.],\n",
       "          [1.],\n",
       "          [1.],\n",
       "          ...,\n",
       "          [1.],\n",
       "          [1.],\n",
       "          [1.]]],\n",
       " \n",
       " \n",
       "        [[[0.],\n",
       "          [0.],\n",
       "          [0.],\n",
       "          ...,\n",
       "          [0.],\n",
       "          [0.],\n",
       "          [0.]],\n",
       " \n",
       "         [[0.],\n",
       "          [0.],\n",
       "          [0.],\n",
       "          ...,\n",
       "          [0.],\n",
       "          [0.],\n",
       "          [0.]],\n",
       " \n",
       "         [[1.],\n",
       "          [1.],\n",
       "          [1.],\n",
       "          ...,\n",
       "          [1.],\n",
       "          [1.],\n",
       "          [1.]],\n",
       " \n",
       "         ...,\n",
       " \n",
       "         [[0.],\n",
       "          [0.],\n",
       "          [0.],\n",
       "          ...,\n",
       "          [0.],\n",
       "          [0.],\n",
       "          [0.]],\n",
       " \n",
       "         [[0.],\n",
       "          [0.],\n",
       "          [0.],\n",
       "          ...,\n",
       "          [0.],\n",
       "          [0.],\n",
       "          [0.]],\n",
       " \n",
       "         [[1.],\n",
       "          [1.],\n",
       "          [1.],\n",
       "          ...,\n",
       "          [1.],\n",
       "          [1.],\n",
       "          [1.]]]]),\n",
       " array([[0.30612245],\n",
       "        [0.30927835],\n",
       "        [0.3030303 ],\n",
       "        [0.3030303 ],\n",
       "        [0.3       ],\n",
       "        [0.3030303 ],\n",
       "        [0.30612245],\n",
       "        [0.3       ],\n",
       "        [0.3       ],\n",
       "        [0.3       ],\n",
       "        [0.3125    ],\n",
       "        [0.31578947],\n",
       "        [0.30927835],\n",
       "        [0.3030303 ],\n",
       "        [0.31578947],\n",
       "        [0.32258065],\n",
       "        [0.3       ],\n",
       "        [0.3       ],\n",
       "        [0.3030303 ],\n",
       "        [0.3030303 ],\n",
       "        [0.3       ],\n",
       "        [0.3030303 ],\n",
       "        [0.30612245],\n",
       "        [0.3125    ],\n",
       "        [0.3       ],\n",
       "        [0.3030303 ],\n",
       "        [0.3030303 ],\n",
       "        [0.32967033],\n",
       "        [0.3030303 ],\n",
       "        [0.3       ],\n",
       "        [0.3       ],\n",
       "        [0.3030303 ],\n",
       "        [0.3125    ],\n",
       "        [0.3       ],\n",
       "        [0.3       ],\n",
       "        [0.3       ],\n",
       "        [0.31578947],\n",
       "        [0.3       ],\n",
       "        [0.32608696],\n",
       "        [0.3030303 ],\n",
       "        [0.32608696],\n",
       "        [0.3030303 ],\n",
       "        [0.3       ],\n",
       "        [0.33707865],\n",
       "        [0.3       ],\n",
       "        [0.3       ],\n",
       "        [0.3       ],\n",
       "        [0.3       ],\n",
       "        [0.3030303 ],\n",
       "        [0.3       ]]))"
      ]
     },
     "execution_count": 13,
     "metadata": {},
     "output_type": "execute_result"
    }
   ],
   "source": [
    "bg = batchgen(gamerecords)\n",
    "next(bg)"
   ]
  },
  {
   "cell_type": "code",
   "execution_count": 78,
   "metadata": {},
   "outputs": [
    {
     "data": {
      "text/plain": [
       "6"
      ]
     },
     "execution_count": 78,
     "metadata": {},
     "output_type": "execute_result"
    }
   ],
   "source": [
    "len(gamerecords)"
   ]
  },
  {
   "cell_type": "code",
   "execution_count": 7,
   "metadata": {
    "ExecuteTime": {
     "end_time": "2023-10-23T17:17:57.374730Z",
     "start_time": "2023-10-23T17:17:47.572607Z"
    },
    "run_control": {
     "marked": true
    }
   },
   "outputs": [],
   "source": [
    "# Netzwerk trainieren\n",
    "\n",
    "with open('selfplay_trivial.dat', 'rb') as f:\n",
    "    gamerecords = pkl.load(f)\n",
    "    game_rec = gamerecords"
   ]
  },
  {
   "cell_type": "code",
   "execution_count": 18,
   "metadata": {
    "ExecuteTime": {
     "end_time": "2023-10-16T19:57:06.490326Z",
     "start_time": "2023-10-16T19:57:06.298443Z"
    },
    "run_control": {
     "marked": true
    }
   },
   "outputs": [],
   "source": [
    "net = NetAdaptive()"
   ]
  },
  {
   "cell_type": "code",
   "execution_count": 78,
   "metadata": {
    "run_control": {
     "marked": true
    },
    "scrolled": true
   },
   "outputs": [
    {
     "data": {
      "application/vnd.jupyter.widget-view+json": {
       "model_id": "3c5b8db0da2c45cd978aa019ed233a49",
       "version_major": 2,
       "version_minor": 0
      },
      "text/plain": [
       "  0%|          | 0/10000000 [00:00<?, ?it/s]"
      ]
     },
     "metadata": {},
     "output_type": "display_data"
    },
    {
     "name": "stdout",
     "output_type": "stream",
     "text": [
      "0 1\n",
      "0 2\n",
      "0 3\n",
      "0 4\n",
      "0 5\n",
      "0 6\n",
      "0 7\n",
      "0 8\n",
      "0 9\n",
      "0 10\n",
      "0 11\n",
      "0 12\n",
      "0 13\n",
      "0 14\n",
      "0 15\n",
      "0 16\n",
      "0 17\n",
      "0 18\n",
      "0 19\n",
      "0 20\n",
      "Loss1=13.960388, Loss12=0.996118, ValLoss1=13.361937, ValLoss2=0.992096\n",
      "Loss1=14.130828, Loss12=0.984971, ValLoss1=12.208862, ValLoss2=0.971813\n",
      "Loss1=14.005686, Loss12=0.963207, ValLoss1=13.817179, ValLoss2=0.938954\n",
      "Loss1=14.081721, Loss12=0.845104, ValLoss1=14.067407, ValLoss2=0.722690\n",
      "Loss1=13.993216, Loss12=0.690289, ValLoss1=13.523207, ValLoss2=0.657920\n",
      "Loss1=13.942542, Loss12=0.617258, ValLoss1=14.078746, ValLoss2=0.641271\n",
      "Loss1=13.865055, Loss12=0.562019, ValLoss1=13.153264, ValLoss2=0.597267\n",
      "Loss1=13.998991, Loss12=0.542928, ValLoss1=13.613127, ValLoss2=0.591780\n",
      "Loss1=13.817384, Loss12=0.517102, ValLoss1=13.422512, ValLoss2=0.568232\n",
      "Loss1=13.900682, Loss12=0.508616, ValLoss1=13.625265, ValLoss2=0.662962\n",
      "0 1\n",
      "0 2\n",
      "1 3\n",
      "2 4\n",
      "3 5\n",
      "3 6\n",
      "4 7\n",
      "4 8\n",
      "5 9\n",
      "5 10\n",
      "6 11\n",
      "6 12\n",
      "6 13\n",
      "6 14\n",
      "7 15\n",
      "8 16\n",
      "9 17\n",
      "10 18\n",
      "11 19\n",
      "11 20\n",
      "Loss1=13.927172, Loss12=0.485401, ValLoss1=14.458287, ValLoss2=0.529289\n",
      "supervised: finished one epoch (0)!\n",
      "Loss1=13.848407, Loss12=0.481801, ValLoss1=13.205155, ValLoss2=0.523904\n",
      "Loss1=13.768235, Loss12=0.452956, ValLoss1=14.045248, ValLoss2=0.472428\n",
      "Loss1=13.889281, Loss12=0.443545, ValLoss1=12.932475, ValLoss2=0.487064\n",
      "Loss1=13.968475, Loss12=0.444651, ValLoss1=13.880774, ValLoss2=0.492595\n",
      "Loss1=13.839038, Loss12=0.427460, ValLoss1=13.218138, ValLoss2=0.476975\n",
      "Loss1=13.775862, Loss12=0.439511, ValLoss1=14.376045, ValLoss2=0.484490\n",
      "Loss1=13.627514, Loss12=0.422318, ValLoss1=14.076431, ValLoss2=0.439465\n",
      "Loss1=13.880385, Loss12=0.420096, ValLoss1=13.939549, ValLoss2=0.451892\n",
      "Loss1=13.717328, Loss12=0.406130, ValLoss1=14.738832, ValLoss2=0.423698\n",
      "1 1\n",
      "2 2\n",
      "3 3\n",
      "3 4\n",
      "3 5\n",
      "3 6\n",
      "4 7\n",
      "5 8\n",
      "5 9\n",
      "6 10\n",
      "7 11\n",
      "7 12\n",
      "7 13\n",
      "8 14\n",
      "9 15\n",
      "10 16\n",
      "10 17\n",
      "11 18\n",
      "12 19\n",
      "12 20\n"
     ]
    },
    {
     "ename": "KeyboardInterrupt",
     "evalue": "",
     "output_type": "error",
     "traceback": [
      "\u001b[1;31m---------------------------------------------------------------------------\u001b[0m",
      "\u001b[1;31mKeyboardInterrupt\u001b[0m                         Traceback (most recent call last)",
      "\u001b[1;32m<ipython-input-78-928afe20382c>\u001b[0m in \u001b[0;36m<module>\u001b[1;34m\u001b[0m\n\u001b[0;32m     28\u001b[0m \u001b[0miterations\u001b[0m \u001b[1;33m=\u001b[0m \u001b[1;36m10000000\u001b[0m\u001b[1;33m\u001b[0m\u001b[1;33m\u001b[0m\u001b[0m\n\u001b[0;32m     29\u001b[0m \u001b[1;32mfor\u001b[0m \u001b[0mk\u001b[0m \u001b[1;32min\u001b[0m \u001b[0mtrange\u001b[0m\u001b[1;33m(\u001b[0m\u001b[0miterations\u001b[0m\u001b[1;33m)\u001b[0m\u001b[1;33m:\u001b[0m\u001b[1;33m\u001b[0m\u001b[1;33m\u001b[0m\u001b[0m\n\u001b[1;32m---> 30\u001b[1;33m     \u001b[0mb\u001b[0m\u001b[1;33m,\u001b[0m \u001b[0mvds\u001b[0m\u001b[1;33m,\u001b[0m \u001b[0mtp\u001b[0m\u001b[1;33m,\u001b[0m \u001b[0mtv\u001b[0m \u001b[1;33m=\u001b[0m \u001b[0mnext\u001b[0m\u001b[1;33m(\u001b[0m\u001b[0mbg_s\u001b[0m\u001b[1;33m)\u001b[0m\u001b[1;33m\u001b[0m\u001b[1;33m\u001b[0m\u001b[0m\n\u001b[0m\u001b[0;32m     31\u001b[0m     \u001b[0mb\u001b[0m\u001b[1;33m,\u001b[0m \u001b[0mvds\u001b[0m\u001b[1;33m,\u001b[0m \u001b[0mtp\u001b[0m\u001b[1;33m,\u001b[0m \u001b[0mtv\u001b[0m \u001b[1;33m=\u001b[0m \u001b[0mbatch2torch\u001b[0m\u001b[1;33m(\u001b[0m\u001b[0mb\u001b[0m\u001b[1;33m,\u001b[0m \u001b[0mvds\u001b[0m\u001b[1;33m,\u001b[0m \u001b[0mtp\u001b[0m\u001b[1;33m,\u001b[0m \u001b[0mtv\u001b[0m\u001b[1;33m)\u001b[0m\u001b[1;33m\u001b[0m\u001b[1;33m\u001b[0m\u001b[0m\n\u001b[0;32m     32\u001b[0m     \u001b[0mpp\u001b[0m\u001b[1;33m,\u001b[0m \u001b[0mpv\u001b[0m \u001b[1;33m=\u001b[0m \u001b[0mnet\u001b[0m\u001b[1;33m(\u001b[0m\u001b[0mb\u001b[0m\u001b[1;33m,\u001b[0m \u001b[0mvds\u001b[0m\u001b[1;33m)\u001b[0m\u001b[1;33m\u001b[0m\u001b[1;33m\u001b[0m\u001b[0m\n",
      "\u001b[1;32m<ipython-input-61-72ee3c34a089>\u001b[0m in \u001b[0;36mbatchgen\u001b[1;34m(gamerecords, size, istart, iend, augment, verbose)\u001b[0m\n\u001b[0;32m     30\u001b[0m \u001b[1;33m\u001b[0m\u001b[0m\n\u001b[0;32m     31\u001b[0m                 \u001b[0mxs\u001b[0m\u001b[1;33m[\u001b[0m\u001b[0mi\u001b[0m\u001b[1;33m]\u001b[0m\u001b[1;33m,\u001b[0m \u001b[0mvds\u001b[0m\u001b[1;33m[\u001b[0m\u001b[0mi\u001b[0m\u001b[1;33m]\u001b[0m \u001b[1;33m=\u001b[0m \u001b[0mnet\u001b[0m\u001b[1;33m.\u001b[0m\u001b[0mpreprocess\u001b[0m\u001b[1;33m(\u001b[0m\u001b[0ms\u001b[0m\u001b[1;33m,\u001b[0m \u001b[0mvalid\u001b[0m\u001b[1;33m)\u001b[0m\u001b[1;33m\u001b[0m\u001b[1;33m\u001b[0m\u001b[0m\n\u001b[1;32m---> 32\u001b[1;33m                 \u001b[0mps\u001b[0m\u001b[1;33m[\u001b[0m\u001b[0mi\u001b[0m\u001b[1;33m]\u001b[0m \u001b[1;33m=\u001b[0m \u001b[0madist\u001b[0m\u001b[1;33m\u001b[0m\u001b[1;33m\u001b[0m\u001b[0m\n\u001b[0m\u001b[0;32m     33\u001b[0m                 \u001b[0mvs\u001b[0m\u001b[1;33m[\u001b[0m\u001b[0mi\u001b[0m\u001b[1;33m]\u001b[0m \u001b[1;33m=\u001b[0m \u001b[0mr\u001b[0m\u001b[1;33m\u001b[0m\u001b[1;33m\u001b[0m\u001b[0m\n\u001b[0;32m     34\u001b[0m \u001b[1;33m\u001b[0m\u001b[0m\n",
      "\u001b[1;31mKeyboardInterrupt\u001b[0m: "
     ]
    }
   ],
   "source": [
    "try: net.optimizer\n",
    "except:\n",
    "    net.optimizer = torch.optim.Adam(lr=3e-4, params=net.parameters(), weight_decay=1e-4)\n",
    "optimizer = net.optimizer\n",
    "bg_v = batchgen(gamerecords, iend=500, size=500)\n",
    "bg_s = batchgen(gamerecords, istart=500, size=200, verbose='supervised')\n",
    "bg_u = batchgen(gamerecords_legacy, size=400)\n",
    "#celoss = nn.CrossEntropyLoss()\n",
    "#celoss = lambda pp, tp: nn.functional.nll_loss(-torch.log(pp+1e-12)**2, tp)\n",
    "MSE = nn.MSELoss()\n",
    "L1Loss = nn.L1Loss()\n",
    "LogLoss = lambda yp, yt: torch.mean(torch.sum(-yt*torch.log(yp+1e-12), dim=1))\n",
    "losses1 = []\n",
    "losses2 = []\n",
    "    \n",
    "\n",
    "def valloss():\n",
    "    b, vds, tp, tv = next(bg_v)\n",
    "    b, vds, tp, tv = batch2torch(b, vds, tp, tv)\n",
    "    pp, pv = net(b, vds)\n",
    "    tp = tp.type(torch.long)\n",
    "\n",
    "    loss1 = LogLoss(pp, tp)\n",
    "    loss2 = MSE(pv[:,0], tv[:,0])\n",
    "    return loss1.item(), loss2.item()\n",
    "\n",
    "\n",
    "iterations = 10000000\n",
    "for k in trange(iterations):\n",
    "    b, vds, tp, tv = next(bg_s)\n",
    "    b, vds, tp, tv = batch2torch(b, vds, tp, tv)\n",
    "    pp, pv = net(b, vds)\n",
    "    tp = tp.type(torch.long)\n",
    "\n",
    "    loss1 = LogLoss(pp, tp)\n",
    "    loss2 = MSE(pv[:,0], tv[:,0])\n",
    "    loss = loss1 + loss2\n",
    "    loss.backward()\n",
    "\n",
    "    # do the training step on the network\n",
    "    optimizer.step()\n",
    "    optimizer.zero_grad()\n",
    "\n",
    "    # Statistic\n",
    "    losses1 += [loss1.item()]\n",
    "    losses2 += [loss2.item()]\n",
    "\n",
    "    # Verbose output, measure minimum val loss\n",
    "    if len(losses1) == 100:\n",
    "        vloss1, vloss2 = valloss()\n",
    "        if 2>=1:\n",
    "            print('Loss1=%f, Loss12=%f, ValLoss1=%f, ValLoss2=%f'% (np.mean(losses1), np.mean(losses2), vloss1, vloss2))\n",
    "        losses1, losses2 = [], []\n",
    "    if k%1000 == 0:\n",
    "        pit(MultiMCTS(nparallel=10, nsearches=100, net=net), MiniMax(maxdepth=3), n=20, nrnd=2, frame=frame, verbose=1)\n",
    "\n"
   ]
  },
  {
   "cell_type": "code",
   "execution_count": null,
   "metadata": {
    "run_control": {
     "marked": true
    },
    "scrolled": false
   },
   "outputs": [],
   "source": [
    "\n",
    "b, vds, tp, tv = next(bg_v)\n",
    "b, vds, tp, tv = batch2torch(b, vds, tp, tv)\n",
    "pp, pv = net(b, vds)\n",
    "tp = tp.type(torch.long)\n",
    "\n",
    "i = 4\n",
    "#t2np(pp[i])\n",
    "plt.plot(t2np(pp[i]))\n",
    "print(pp[i, tp[i]])\n",
    "\n",
    "\n",
    "b, r = projectprobabilites(t2np(pp[i]))\n",
    "\n",
    "fig, (ax1, ax2) = plt.subplots(1,2)\n",
    "ax1.matshow(b)\n",
    "ax2.matshow(r)\n",
    "plt.show()"
   ]
  },
  {
   "cell_type": "code",
   "execution_count": null,
   "metadata": {},
   "outputs": [],
   "source": [
    "t2np(pp[i])"
   ]
  },
  {
   "cell_type": "code",
   "execution_count": 12,
   "metadata": {},
   "outputs": [
    {
     "ename": "RuntimeError",
     "evalue": "cuda runtime error (710) : device-side assert triggered at ..\\aten\\src\\THC\\THCCachingHostAllocator.cpp:278",
     "output_type": "error",
     "traceback": [
      "\u001b[1;31m---------------------------------------------------------------------------\u001b[0m",
      "\u001b[1;31mRuntimeError\u001b[0m                              Traceback (most recent call last)",
      "\u001b[1;32mC:\\ProgramData\\Anaconda3\\lib\\site-packages\\IPython\\core\\formatters.py\u001b[0m in \u001b[0;36m__call__\u001b[1;34m(self, obj)\u001b[0m\n\u001b[0;32m    700\u001b[0m                 \u001b[0mtype_pprinters\u001b[0m\u001b[1;33m=\u001b[0m\u001b[0mself\u001b[0m\u001b[1;33m.\u001b[0m\u001b[0mtype_printers\u001b[0m\u001b[1;33m,\u001b[0m\u001b[1;33m\u001b[0m\u001b[1;33m\u001b[0m\u001b[0m\n\u001b[0;32m    701\u001b[0m                 deferred_pprinters=self.deferred_printers)\n\u001b[1;32m--> 702\u001b[1;33m             \u001b[0mprinter\u001b[0m\u001b[1;33m.\u001b[0m\u001b[0mpretty\u001b[0m\u001b[1;33m(\u001b[0m\u001b[0mobj\u001b[0m\u001b[1;33m)\u001b[0m\u001b[1;33m\u001b[0m\u001b[1;33m\u001b[0m\u001b[0m\n\u001b[0m\u001b[0;32m    703\u001b[0m             \u001b[0mprinter\u001b[0m\u001b[1;33m.\u001b[0m\u001b[0mflush\u001b[0m\u001b[1;33m(\u001b[0m\u001b[1;33m)\u001b[0m\u001b[1;33m\u001b[0m\u001b[1;33m\u001b[0m\u001b[0m\n\u001b[0;32m    704\u001b[0m             \u001b[1;32mreturn\u001b[0m \u001b[0mstream\u001b[0m\u001b[1;33m.\u001b[0m\u001b[0mgetvalue\u001b[0m\u001b[1;33m(\u001b[0m\u001b[1;33m)\u001b[0m\u001b[1;33m\u001b[0m\u001b[1;33m\u001b[0m\u001b[0m\n",
      "\u001b[1;32mC:\\ProgramData\\Anaconda3\\lib\\site-packages\\IPython\\lib\\pretty.py\u001b[0m in \u001b[0;36mpretty\u001b[1;34m(self, obj)\u001b[0m\n\u001b[0;32m    392\u001b[0m                         \u001b[1;32mif\u001b[0m \u001b[0mcls\u001b[0m \u001b[1;32mis\u001b[0m \u001b[1;32mnot\u001b[0m \u001b[0mobject\u001b[0m\u001b[0;31m \u001b[0m\u001b[0;31m\\\u001b[0m\u001b[1;33m\u001b[0m\u001b[1;33m\u001b[0m\u001b[0m\n\u001b[0;32m    393\u001b[0m                                 \u001b[1;32mand\u001b[0m \u001b[0mcallable\u001b[0m\u001b[1;33m(\u001b[0m\u001b[0mcls\u001b[0m\u001b[1;33m.\u001b[0m\u001b[0m__dict__\u001b[0m\u001b[1;33m.\u001b[0m\u001b[0mget\u001b[0m\u001b[1;33m(\u001b[0m\u001b[1;34m'__repr__'\u001b[0m\u001b[1;33m)\u001b[0m\u001b[1;33m)\u001b[0m\u001b[1;33m:\u001b[0m\u001b[1;33m\u001b[0m\u001b[1;33m\u001b[0m\u001b[0m\n\u001b[1;32m--> 394\u001b[1;33m                             \u001b[1;32mreturn\u001b[0m \u001b[0m_repr_pprint\u001b[0m\u001b[1;33m(\u001b[0m\u001b[0mobj\u001b[0m\u001b[1;33m,\u001b[0m \u001b[0mself\u001b[0m\u001b[1;33m,\u001b[0m \u001b[0mcycle\u001b[0m\u001b[1;33m)\u001b[0m\u001b[1;33m\u001b[0m\u001b[1;33m\u001b[0m\u001b[0m\n\u001b[0m\u001b[0;32m    395\u001b[0m \u001b[1;33m\u001b[0m\u001b[0m\n\u001b[0;32m    396\u001b[0m             \u001b[1;32mreturn\u001b[0m \u001b[0m_default_pprint\u001b[0m\u001b[1;33m(\u001b[0m\u001b[0mobj\u001b[0m\u001b[1;33m,\u001b[0m \u001b[0mself\u001b[0m\u001b[1;33m,\u001b[0m \u001b[0mcycle\u001b[0m\u001b[1;33m)\u001b[0m\u001b[1;33m\u001b[0m\u001b[1;33m\u001b[0m\u001b[0m\n",
      "\u001b[1;32mC:\\ProgramData\\Anaconda3\\lib\\site-packages\\IPython\\lib\\pretty.py\u001b[0m in \u001b[0;36m_repr_pprint\u001b[1;34m(obj, p, cycle)\u001b[0m\n\u001b[0;32m    698\u001b[0m     \u001b[1;34m\"\"\"A pprint that just redirects to the normal repr function.\"\"\"\u001b[0m\u001b[1;33m\u001b[0m\u001b[1;33m\u001b[0m\u001b[0m\n\u001b[0;32m    699\u001b[0m     \u001b[1;31m# Find newlines and replace them with p.break_()\u001b[0m\u001b[1;33m\u001b[0m\u001b[1;33m\u001b[0m\u001b[1;33m\u001b[0m\u001b[0m\n\u001b[1;32m--> 700\u001b[1;33m     \u001b[0moutput\u001b[0m \u001b[1;33m=\u001b[0m \u001b[0mrepr\u001b[0m\u001b[1;33m(\u001b[0m\u001b[0mobj\u001b[0m\u001b[1;33m)\u001b[0m\u001b[1;33m\u001b[0m\u001b[1;33m\u001b[0m\u001b[0m\n\u001b[0m\u001b[0;32m    701\u001b[0m     \u001b[0mlines\u001b[0m \u001b[1;33m=\u001b[0m \u001b[0moutput\u001b[0m\u001b[1;33m.\u001b[0m\u001b[0msplitlines\u001b[0m\u001b[1;33m(\u001b[0m\u001b[1;33m)\u001b[0m\u001b[1;33m\u001b[0m\u001b[1;33m\u001b[0m\u001b[0m\n\u001b[0;32m    702\u001b[0m     \u001b[1;32mwith\u001b[0m \u001b[0mp\u001b[0m\u001b[1;33m.\u001b[0m\u001b[0mgroup\u001b[0m\u001b[1;33m(\u001b[0m\u001b[1;33m)\u001b[0m\u001b[1;33m:\u001b[0m\u001b[1;33m\u001b[0m\u001b[1;33m\u001b[0m\u001b[0m\n",
      "\u001b[1;32mC:\\ProgramData\\Anaconda3\\lib\\site-packages\\torch\\tensor.py\u001b[0m in \u001b[0;36m__repr__\u001b[1;34m(self)\u001b[0m\n\u001b[0;32m    160\u001b[0m         \u001b[1;31m# characters to replace unicode characters with.\u001b[0m\u001b[1;33m\u001b[0m\u001b[1;33m\u001b[0m\u001b[1;33m\u001b[0m\u001b[0m\n\u001b[0;32m    161\u001b[0m         \u001b[1;32mif\u001b[0m \u001b[0msys\u001b[0m\u001b[1;33m.\u001b[0m\u001b[0mversion_info\u001b[0m \u001b[1;33m>\u001b[0m \u001b[1;33m(\u001b[0m\u001b[1;36m3\u001b[0m\u001b[1;33m,\u001b[0m\u001b[1;33m)\u001b[0m\u001b[1;33m:\u001b[0m\u001b[1;33m\u001b[0m\u001b[1;33m\u001b[0m\u001b[0m\n\u001b[1;32m--> 162\u001b[1;33m             \u001b[1;32mreturn\u001b[0m \u001b[0mtorch\u001b[0m\u001b[1;33m.\u001b[0m\u001b[0m_tensor_str\u001b[0m\u001b[1;33m.\u001b[0m\u001b[0m_str\u001b[0m\u001b[1;33m(\u001b[0m\u001b[0mself\u001b[0m\u001b[1;33m)\u001b[0m\u001b[1;33m\u001b[0m\u001b[1;33m\u001b[0m\u001b[0m\n\u001b[0m\u001b[0;32m    163\u001b[0m         \u001b[1;32melse\u001b[0m\u001b[1;33m:\u001b[0m\u001b[1;33m\u001b[0m\u001b[1;33m\u001b[0m\u001b[0m\n\u001b[0;32m    164\u001b[0m             \u001b[1;32mif\u001b[0m \u001b[0mhasattr\u001b[0m\u001b[1;33m(\u001b[0m\u001b[0msys\u001b[0m\u001b[1;33m.\u001b[0m\u001b[0mstdout\u001b[0m\u001b[1;33m,\u001b[0m \u001b[1;34m'encoding'\u001b[0m\u001b[1;33m)\u001b[0m\u001b[1;33m:\u001b[0m\u001b[1;33m\u001b[0m\u001b[1;33m\u001b[0m\u001b[0m\n",
      "\u001b[1;32mC:\\ProgramData\\Anaconda3\\lib\\site-packages\\torch\\_tensor_str.py\u001b[0m in \u001b[0;36m_str\u001b[1;34m(self)\u001b[0m\n\u001b[0;32m    313\u001b[0m                 \u001b[0mtensor_str\u001b[0m \u001b[1;33m=\u001b[0m \u001b[0m_tensor_str\u001b[0m\u001b[1;33m(\u001b[0m\u001b[0mself\u001b[0m\u001b[1;33m.\u001b[0m\u001b[0mto_dense\u001b[0m\u001b[1;33m(\u001b[0m\u001b[1;33m)\u001b[0m\u001b[1;33m,\u001b[0m \u001b[0mindent\u001b[0m\u001b[1;33m)\u001b[0m\u001b[1;33m\u001b[0m\u001b[1;33m\u001b[0m\u001b[0m\n\u001b[0;32m    314\u001b[0m             \u001b[1;32melse\u001b[0m\u001b[1;33m:\u001b[0m\u001b[1;33m\u001b[0m\u001b[1;33m\u001b[0m\u001b[0m\n\u001b[1;32m--> 315\u001b[1;33m                 \u001b[0mtensor_str\u001b[0m \u001b[1;33m=\u001b[0m \u001b[0m_tensor_str\u001b[0m\u001b[1;33m(\u001b[0m\u001b[0mself\u001b[0m\u001b[1;33m,\u001b[0m \u001b[0mindent\u001b[0m\u001b[1;33m)\u001b[0m\u001b[1;33m\u001b[0m\u001b[1;33m\u001b[0m\u001b[0m\n\u001b[0m\u001b[0;32m    316\u001b[0m \u001b[1;33m\u001b[0m\u001b[0m\n\u001b[0;32m    317\u001b[0m     \u001b[1;32mif\u001b[0m \u001b[0mself\u001b[0m\u001b[1;33m.\u001b[0m\u001b[0mlayout\u001b[0m \u001b[1;33m!=\u001b[0m \u001b[0mtorch\u001b[0m\u001b[1;33m.\u001b[0m\u001b[0mstrided\u001b[0m\u001b[1;33m:\u001b[0m\u001b[1;33m\u001b[0m\u001b[1;33m\u001b[0m\u001b[0m\n",
      "\u001b[1;32mC:\\ProgramData\\Anaconda3\\lib\\site-packages\\torch\\_tensor_str.py\u001b[0m in \u001b[0;36m_tensor_str\u001b[1;34m(self, indent)\u001b[0m\n\u001b[0;32m    211\u001b[0m     \u001b[1;32mif\u001b[0m \u001b[0mself\u001b[0m\u001b[1;33m.\u001b[0m\u001b[0mdtype\u001b[0m \u001b[1;32mis\u001b[0m \u001b[0mtorch\u001b[0m\u001b[1;33m.\u001b[0m\u001b[0mfloat16\u001b[0m \u001b[1;32mor\u001b[0m \u001b[0mself\u001b[0m\u001b[1;33m.\u001b[0m\u001b[0mdtype\u001b[0m \u001b[1;32mis\u001b[0m \u001b[0mtorch\u001b[0m\u001b[1;33m.\u001b[0m\u001b[0mbfloat16\u001b[0m\u001b[1;33m:\u001b[0m\u001b[1;33m\u001b[0m\u001b[1;33m\u001b[0m\u001b[0m\n\u001b[0;32m    212\u001b[0m         \u001b[0mself\u001b[0m \u001b[1;33m=\u001b[0m \u001b[0mself\u001b[0m\u001b[1;33m.\u001b[0m\u001b[0mfloat\u001b[0m\u001b[1;33m(\u001b[0m\u001b[1;33m)\u001b[0m\u001b[1;33m\u001b[0m\u001b[1;33m\u001b[0m\u001b[0m\n\u001b[1;32m--> 213\u001b[1;33m     \u001b[0mformatter\u001b[0m \u001b[1;33m=\u001b[0m \u001b[0m_Formatter\u001b[0m\u001b[1;33m(\u001b[0m\u001b[0mget_summarized_data\u001b[0m\u001b[1;33m(\u001b[0m\u001b[0mself\u001b[0m\u001b[1;33m)\u001b[0m \u001b[1;32mif\u001b[0m \u001b[0msummarize\u001b[0m \u001b[1;32melse\u001b[0m \u001b[0mself\u001b[0m\u001b[1;33m)\u001b[0m\u001b[1;33m\u001b[0m\u001b[1;33m\u001b[0m\u001b[0m\n\u001b[0m\u001b[0;32m    214\u001b[0m     \u001b[1;32mreturn\u001b[0m \u001b[0m_tensor_str_with_formatter\u001b[0m\u001b[1;33m(\u001b[0m\u001b[0mself\u001b[0m\u001b[1;33m,\u001b[0m \u001b[0mindent\u001b[0m\u001b[1;33m,\u001b[0m \u001b[0mformatter\u001b[0m\u001b[1;33m,\u001b[0m \u001b[0msummarize\u001b[0m\u001b[1;33m)\u001b[0m\u001b[1;33m\u001b[0m\u001b[1;33m\u001b[0m\u001b[0m\n\u001b[0;32m    215\u001b[0m \u001b[1;33m\u001b[0m\u001b[0m\n",
      "\u001b[1;32mC:\\ProgramData\\Anaconda3\\lib\\site-packages\\torch\\_tensor_str.py\u001b[0m in \u001b[0;36mget_summarized_data\u001b[1;34m(self)\u001b[0m\n\u001b[0;32m    244\u001b[0m         end = ([self[i]\n\u001b[0;32m    245\u001b[0m                for i in range(len(self) - PRINT_OPTS.edgeitems, len(self))])\n\u001b[1;32m--> 246\u001b[1;33m         \u001b[1;32mreturn\u001b[0m \u001b[0mtorch\u001b[0m\u001b[1;33m.\u001b[0m\u001b[0mstack\u001b[0m\u001b[1;33m(\u001b[0m\u001b[1;33m[\u001b[0m\u001b[0mget_summarized_data\u001b[0m\u001b[1;33m(\u001b[0m\u001b[0mx\u001b[0m\u001b[1;33m)\u001b[0m \u001b[1;32mfor\u001b[0m \u001b[0mx\u001b[0m \u001b[1;32min\u001b[0m \u001b[1;33m(\u001b[0m\u001b[0mstart\u001b[0m \u001b[1;33m+\u001b[0m \u001b[0mend\u001b[0m\u001b[1;33m)\u001b[0m\u001b[1;33m]\u001b[0m\u001b[1;33m)\u001b[0m\u001b[1;33m\u001b[0m\u001b[1;33m\u001b[0m\u001b[0m\n\u001b[0m\u001b[0;32m    247\u001b[0m     \u001b[1;32melse\u001b[0m\u001b[1;33m:\u001b[0m\u001b[1;33m\u001b[0m\u001b[1;33m\u001b[0m\u001b[0m\n\u001b[0;32m    248\u001b[0m         \u001b[1;32mreturn\u001b[0m \u001b[0mtorch\u001b[0m\u001b[1;33m.\u001b[0m\u001b[0mstack\u001b[0m\u001b[1;33m(\u001b[0m\u001b[1;33m[\u001b[0m\u001b[0mget_summarized_data\u001b[0m\u001b[1;33m(\u001b[0m\u001b[0mx\u001b[0m\u001b[1;33m)\u001b[0m \u001b[1;32mfor\u001b[0m \u001b[0mx\u001b[0m \u001b[1;32min\u001b[0m \u001b[0mself\u001b[0m\u001b[1;33m]\u001b[0m\u001b[1;33m)\u001b[0m\u001b[1;33m\u001b[0m\u001b[1;33m\u001b[0m\u001b[0m\n",
      "\u001b[1;32mC:\\ProgramData\\Anaconda3\\lib\\site-packages\\torch\\_tensor_str.py\u001b[0m in \u001b[0;36m<listcomp>\u001b[1;34m(.0)\u001b[0m\n\u001b[0;32m    244\u001b[0m         end = ([self[i]\n\u001b[0;32m    245\u001b[0m                for i in range(len(self) - PRINT_OPTS.edgeitems, len(self))])\n\u001b[1;32m--> 246\u001b[1;33m         \u001b[1;32mreturn\u001b[0m \u001b[0mtorch\u001b[0m\u001b[1;33m.\u001b[0m\u001b[0mstack\u001b[0m\u001b[1;33m(\u001b[0m\u001b[1;33m[\u001b[0m\u001b[0mget_summarized_data\u001b[0m\u001b[1;33m(\u001b[0m\u001b[0mx\u001b[0m\u001b[1;33m)\u001b[0m \u001b[1;32mfor\u001b[0m \u001b[0mx\u001b[0m \u001b[1;32min\u001b[0m \u001b[1;33m(\u001b[0m\u001b[0mstart\u001b[0m \u001b[1;33m+\u001b[0m \u001b[0mend\u001b[0m\u001b[1;33m)\u001b[0m\u001b[1;33m]\u001b[0m\u001b[1;33m)\u001b[0m\u001b[1;33m\u001b[0m\u001b[1;33m\u001b[0m\u001b[0m\n\u001b[0m\u001b[0;32m    247\u001b[0m     \u001b[1;32melse\u001b[0m\u001b[1;33m:\u001b[0m\u001b[1;33m\u001b[0m\u001b[1;33m\u001b[0m\u001b[0m\n\u001b[0;32m    248\u001b[0m         \u001b[1;32mreturn\u001b[0m \u001b[0mtorch\u001b[0m\u001b[1;33m.\u001b[0m\u001b[0mstack\u001b[0m\u001b[1;33m(\u001b[0m\u001b[1;33m[\u001b[0m\u001b[0mget_summarized_data\u001b[0m\u001b[1;33m(\u001b[0m\u001b[0mx\u001b[0m\u001b[1;33m)\u001b[0m \u001b[1;32mfor\u001b[0m \u001b[0mx\u001b[0m \u001b[1;32min\u001b[0m \u001b[0mself\u001b[0m\u001b[1;33m]\u001b[0m\u001b[1;33m)\u001b[0m\u001b[1;33m\u001b[0m\u001b[1;33m\u001b[0m\u001b[0m\n",
      "\u001b[1;32mC:\\ProgramData\\Anaconda3\\lib\\site-packages\\torch\\_tensor_str.py\u001b[0m in \u001b[0;36mget_summarized_data\u001b[1;34m(self)\u001b[0m\n\u001b[0;32m    237\u001b[0m     \u001b[1;32mif\u001b[0m \u001b[0mdim\u001b[0m \u001b[1;33m==\u001b[0m \u001b[1;36m1\u001b[0m\u001b[1;33m:\u001b[0m\u001b[1;33m\u001b[0m\u001b[1;33m\u001b[0m\u001b[0m\n\u001b[0;32m    238\u001b[0m         \u001b[1;32mif\u001b[0m \u001b[0mself\u001b[0m\u001b[1;33m.\u001b[0m\u001b[0msize\u001b[0m\u001b[1;33m(\u001b[0m\u001b[1;36m0\u001b[0m\u001b[1;33m)\u001b[0m \u001b[1;33m>\u001b[0m \u001b[1;36m2\u001b[0m \u001b[1;33m*\u001b[0m \u001b[0mPRINT_OPTS\u001b[0m\u001b[1;33m.\u001b[0m\u001b[0medgeitems\u001b[0m\u001b[1;33m:\u001b[0m\u001b[1;33m\u001b[0m\u001b[1;33m\u001b[0m\u001b[0m\n\u001b[1;32m--> 239\u001b[1;33m             \u001b[1;32mreturn\u001b[0m \u001b[0mtorch\u001b[0m\u001b[1;33m.\u001b[0m\u001b[0mcat\u001b[0m\u001b[1;33m(\u001b[0m\u001b[1;33m(\u001b[0m\u001b[0mself\u001b[0m\u001b[1;33m[\u001b[0m\u001b[1;33m:\u001b[0m\u001b[0mPRINT_OPTS\u001b[0m\u001b[1;33m.\u001b[0m\u001b[0medgeitems\u001b[0m\u001b[1;33m]\u001b[0m\u001b[1;33m,\u001b[0m \u001b[0mself\u001b[0m\u001b[1;33m[\u001b[0m\u001b[1;33m-\u001b[0m\u001b[0mPRINT_OPTS\u001b[0m\u001b[1;33m.\u001b[0m\u001b[0medgeitems\u001b[0m\u001b[1;33m:\u001b[0m\u001b[1;33m]\u001b[0m\u001b[1;33m)\u001b[0m\u001b[1;33m)\u001b[0m\u001b[1;33m\u001b[0m\u001b[1;33m\u001b[0m\u001b[0m\n\u001b[0m\u001b[0;32m    240\u001b[0m         \u001b[1;32melse\u001b[0m\u001b[1;33m:\u001b[0m\u001b[1;33m\u001b[0m\u001b[1;33m\u001b[0m\u001b[0m\n\u001b[0;32m    241\u001b[0m             \u001b[1;32mreturn\u001b[0m \u001b[0mself\u001b[0m\u001b[1;33m\u001b[0m\u001b[1;33m\u001b[0m\u001b[0m\n",
      "\u001b[1;31mRuntimeError\u001b[0m: cuda runtime error (710) : device-side assert triggered at ..\\aten\\src\\THC\\THCCachingHostAllocator.cpp:278"
     ]
    }
   ],
   "source": [
    "pp"
   ]
  },
  {
   "cell_type": "code",
   "execution_count": 15,
   "metadata": {},
   "outputs": [],
   "source": [
    "frame = 1"
   ]
  },
  {
   "cell_type": "code",
   "execution_count": null,
   "metadata": {},
   "outputs": [],
   "source": []
  },
  {
   "cell_type": "code",
   "execution_count": 22,
   "metadata": {},
   "outputs": [
    {
     "name": "stdout",
     "output_type": "stream",
     "text": [
      "1 1\n",
      "2 2\n",
      "3 3\n",
      "3 4\n",
      "4 5\n",
      "5 6\n",
      "6 7\n",
      "6 8\n",
      "7 9\n",
      "7 10\n",
      "8 11\n",
      "9 12\n",
      "9 13\n",
      "9 14\n",
      "10 15\n",
      "10 16\n",
      "10 17\n",
      "10 18\n",
      "10 19\n",
      "10 20\n"
     ]
    },
    {
     "data": {
      "text/plain": [
       "0.5"
      ]
     },
     "execution_count": 22,
     "metadata": {},
     "output_type": "execute_result"
    }
   ],
   "source": [
    "pit(MultiMCTS(nparallel=10, nsearches=100, net=net), MiniMax(maxdepth=2), n=20, nrnd=2, frame=frame, verbose=1)"
   ]
  },
  {
   "cell_type": "code",
   "execution_count": null,
   "metadata": {},
   "outputs": [],
   "source": [
    "# Dateien zusammenfügen"
   ]
  },
  {
   "cell_type": "code",
   "execution_count": 6,
   "metadata": {
    "ExecuteTime": {
     "end_time": "2023-10-16T19:38:50.234011Z",
     "start_time": "2023-10-16T19:38:48.515215Z"
    }
   },
   "outputs": [
    {
     "ename": "FileNotFoundError",
     "evalue": "[Errno 2] No such file or directory: 'temp/selfplay563.dat'",
     "output_type": "error",
     "traceback": [
      "\u001b[1;31m---------------------------------------------------------------------------\u001b[0m",
      "\u001b[1;31mFileNotFoundError\u001b[0m                         Traceback (most recent call last)",
      "\u001b[1;32m<ipython-input-6-863680025d57>\u001b[0m in \u001b[0;36m<module>\u001b[1;34m\u001b[0m\n\u001b[0;32m      1\u001b[0m \u001b[0mgamerecords\u001b[0m \u001b[1;33m=\u001b[0m \u001b[1;33m[\u001b[0m\u001b[1;33m]\u001b[0m\u001b[1;33m\u001b[0m\u001b[1;33m\u001b[0m\u001b[0m\n\u001b[0;32m      2\u001b[0m \u001b[1;32mfor\u001b[0m \u001b[0mi\u001b[0m \u001b[1;32min\u001b[0m \u001b[0mrange\u001b[0m\u001b[1;33m(\u001b[0m\u001b[1;36m10000\u001b[0m\u001b[1;33m)\u001b[0m\u001b[1;33m:\u001b[0m\u001b[1;33m\u001b[0m\u001b[1;33m\u001b[0m\u001b[0m\n\u001b[1;32m----> 3\u001b[1;33m     \u001b[1;32mwith\u001b[0m \u001b[0mopen\u001b[0m\u001b[1;33m(\u001b[0m\u001b[1;34m'temp/selfplay%d.dat'\u001b[0m \u001b[1;33m%\u001b[0m \u001b[0mi\u001b[0m\u001b[1;33m,\u001b[0m \u001b[1;34m'rb'\u001b[0m\u001b[1;33m)\u001b[0m \u001b[1;32mas\u001b[0m \u001b[0mf\u001b[0m\u001b[1;33m:\u001b[0m\u001b[1;33m\u001b[0m\u001b[1;33m\u001b[0m\u001b[0m\n\u001b[0m\u001b[0;32m      4\u001b[0m         \u001b[0mgamerecords\u001b[0m \u001b[1;33m+=\u001b[0m \u001b[0mpkl\u001b[0m\u001b[1;33m.\u001b[0m\u001b[0mload\u001b[0m\u001b[1;33m(\u001b[0m\u001b[0mf\u001b[0m\u001b[1;33m)\u001b[0m\u001b[1;33m\u001b[0m\u001b[1;33m\u001b[0m\u001b[0m\n",
      "\u001b[1;31mFileNotFoundError\u001b[0m: [Errno 2] No such file or directory: 'temp/selfplay563.dat'"
     ]
    }
   ],
   "source": [
    "gamerecords = []\n",
    "for i in range(10000):\n",
    "    with open('temp/selfplay%d.dat' % i, 'rb') as f:\n",
    "        gamerecords += pkl.load(f)"
   ]
  },
  {
   "cell_type": "code",
   "execution_count": 7,
   "metadata": {
    "ExecuteTime": {
     "end_time": "2023-10-16T19:39:14.803777Z",
     "start_time": "2023-10-16T19:39:12.294299Z"
    }
   },
   "outputs": [],
   "source": [
    "with open('selfplay_mcts1.dat', 'wb') as f:\n",
    "    pkl.dump(gamerecords, f)"
   ]
  },
  {
   "cell_type": "code",
   "execution_count": null,
   "metadata": {},
   "outputs": [],
   "source": []
  },
  {
   "cell_type": "code",
   "execution_count": 89,
   "metadata": {},
   "outputs": [],
   "source": [
    "torch.save(net.state_dict(), 'net_temp.dat')"
   ]
  },
  {
   "cell_type": "code",
   "execution_count": null,
   "metadata": {},
   "outputs": [],
   "source": []
  },
  {
   "cell_type": "code",
   "execution_count": null,
   "metadata": {},
   "outputs": [],
   "source": [
    "pit(MultiMCTS(nparallel=10, nsearches=100, net=Net()), MiniMax(maxdepth=depthminimax), n=20, nrnd=2, frame=frame, verbose=1)"
   ]
  },
  {
   "cell_type": "code",
   "execution_count": 39,
   "metadata": {},
   "outputs": [
    {
     "data": {
      "text/plain": [
       "0.25"
      ]
     },
     "execution_count": 39,
     "metadata": {},
     "output_type": "execute_result"
    }
   ],
   "source": [
    "\n",
    "pit(MultiMCTS(nparallel=10, nsearches=100, net=net), \\\n",
    "    MultiMCTS(nparallel=10, nsearches=100, net=Net('net_temp.dat')), n=20, nrnd=2, frame=frame, verbose=0)"
   ]
  },
  {
   "cell_type": "code",
   "execution_count": 31,
   "metadata": {},
   "outputs": [
    {
     "name": "stdout",
     "output_type": "stream",
     "text": [
      "1 1\n",
      "1 2\n",
      "2 3\n",
      "3 4\n",
      "4 5\n",
      "4 6\n",
      "5 7\n",
      "5 8\n",
      "6 9\n",
      "6 10\n",
      "7 11\n",
      "8 12\n",
      "9 13\n",
      "9 14\n",
      "10 15\n",
      "10 16\n",
      "11 17\n",
      "11 18\n",
      "12 19\n",
      "12 20\n"
     ]
    },
    {
     "data": {
      "text/plain": [
       "0.6"
      ]
     },
     "execution_count": 31,
     "metadata": {},
     "output_type": "execute_result"
    }
   ],
   "source": [
    "\n",
    "pit(MultiMCTS(nparallel=10, nsearches=300, net=net, params={'cpuct': .2}),\n",
    "    MiniMax(maxdepth=2), n=20, nrnd=2, frame=frame, verbose=1)"
   ]
  },
  {
   "cell_type": "code",
   "execution_count": null,
   "metadata": {},
   "outputs": [],
   "source": []
  },
  {
   "cell_type": "code",
   "execution_count": null,
   "metadata": {},
   "outputs": [],
   "source": [
    "# Geschwindigkeit des Netzwerks messen"
   ]
  },
  {
   "cell_type": "code",
   "execution_count": 33,
   "metadata": {},
   "outputs": [],
   "source": [
    "net = NetAdaptive()"
   ]
  },
  {
   "cell_type": "code",
   "execution_count": null,
   "metadata": {},
   "outputs": [],
   "source": [
    "bg_v = batchgen(gamerecords, iend=500)"
   ]
  },
  {
   "cell_type": "code",
   "execution_count": 35,
   "metadata": {},
   "outputs": [
    {
     "name": "stdout",
     "output_type": "stream",
     "text": [
      "Wall time: 604 ms\n"
     ]
    }
   ],
   "source": [
    "%%time\n",
    "for _ in range(100):\n",
    "    b, vds, tp, tv = next(bg_v)\n",
    "    b, vds, tp, tv = batch2torch(b, vds, tp, tv)\n",
    "    #with torch.no_grad():\n",
    "    pp, pv = net(b, vds)"
   ]
  },
  {
   "cell_type": "code",
   "execution_count": null,
   "metadata": {},
   "outputs": [],
   "source": []
  },
  {
   "cell_type": "code",
   "execution_count": null,
   "metadata": {},
   "outputs": [],
   "source": []
  },
  {
   "cell_type": "code",
   "execution_count": null,
   "metadata": {},
   "outputs": [],
   "source": [
    "# gamerecords konvertieren zur version mit distribution für a"
   ]
  },
  {
   "cell_type": "code",
   "execution_count": 51,
   "metadata": {},
   "outputs": [],
   "source": [
    "newgamerecords = []\n",
    "for s, a, r in gamerecords:\n",
    "    dist = np.zeros(GameIsola.numActions)\n",
    "    dist[a] = 1.\n",
    "    newgamerecords.append((s, dist, r))"
   ]
  },
  {
   "cell_type": "code",
   "execution_count": 52,
   "metadata": {},
   "outputs": [],
   "source": [
    "with open('selfplay_depth3.dat', 'wb') as f:\n",
    "    pkl.dump(newgamerecords, f)"
   ]
  },
  {
   "cell_type": "code",
   "execution_count": null,
   "metadata": {},
   "outputs": [],
   "source": []
  },
  {
   "cell_type": "code",
   "execution_count": null,
   "metadata": {},
   "outputs": [],
   "source": []
  },
  {
   "cell_type": "code",
   "execution_count": 26,
   "metadata": {
    "scrolled": true
   },
   "outputs": [
    {
     "name": "stdout",
     "output_type": "stream",
     "text": [
      "1 1\n",
      "1 2\n",
      "1 3\n",
      "1 4\n",
      "1 5\n",
      "2 6\n",
      "3 7\n",
      "3 8\n",
      "4 9\n",
      "4 10\n",
      "4 11\n",
      "4 12\n",
      "5 13\n",
      "5 14\n",
      "5 15\n",
      "5 16\n",
      "6 17\n",
      "6 18\n",
      "7 19\n",
      "7 20\n",
      "{(0, 0, 0): 0.35}\n",
      "1 1\n",
      "2 2\n",
      "2 3\n",
      "2 4\n",
      "3 5\n",
      "3 6\n",
      "4 7\n",
      "4 8\n",
      "4 9\n",
      "4 10\n",
      "4 11\n",
      "5 12\n",
      "5 13\n",
      "5 14\n",
      "6 15\n",
      "6 16\n",
      "7 17\n",
      "7 18\n",
      "8 19\n",
      "8 20\n",
      "{(0, 0, 0): 0.35, (0, 0, 1): 0.4}\n",
      "0 1\n",
      "1 2\n",
      "1 3\n",
      "1 4\n",
      "2 5\n",
      "2 6\n",
      "3 7\n",
      "4 8\n",
      "4 9\n",
      "4 10\n",
      "5 11\n",
      "5 12\n",
      "6 13\n",
      "6 14\n",
      "7 15\n",
      "7 16\n",
      "7 17\n",
      "7 18\n",
      "8 19\n",
      "8 20\n",
      "{(0, 0, 0): 0.35, (0, 0, 1): 0.4, (0, 1, 0): 0.4}\n",
      "1 1\n",
      "1 2\n",
      "2 3\n",
      "2 4\n",
      "3 5\n",
      "3 6\n",
      "4 7\n",
      "4 8\n",
      "4 9\n",
      "4 10\n",
      "4 11\n",
      "4 12\n",
      "5 13\n",
      "5 14\n",
      "6 15\n",
      "6 16\n",
      "7 17\n",
      "8 18\n",
      "9 19\n",
      "10 20\n",
      "{(0, 0, 0): 0.35, (0, 0, 1): 0.4, (0, 1, 0): 0.4, (0, 1, 1): 0.5}\n",
      "1 1\n",
      "1 2\n",
      "2 3\n",
      "2 4\n",
      "2 5\n",
      "3 6\n",
      "4 7\n",
      "4 8\n",
      "5 9\n",
      "5 10\n",
      "5 11\n",
      "5 12\n",
      "6 13\n",
      "6 14\n",
      "6 15\n",
      "6 16\n",
      "7 17\n",
      "8 18\n",
      "8 19\n",
      "8 20\n",
      "{(0, 0, 0): 0.35, (0, 0, 1): 0.4, (0, 1, 0): 0.4, (0, 1, 1): 0.5, (0, 2, 0): 0.4}\n",
      "1 1\n",
      "1 2\n",
      "2 3\n",
      "2 4\n",
      "3 5\n",
      "4 6\n",
      "5 7\n",
      "6 8\n",
      "7 9\n",
      "7 10\n",
      "8 11\n",
      "9 12\n",
      "10 13\n",
      "10 14\n",
      "11 15\n",
      "12 16\n",
      "13 17\n",
      "14 18\n",
      "15 19\n",
      "15 20\n",
      "{(0, 0, 0): 0.35, (0, 0, 1): 0.4, (0, 1, 0): 0.4, (0, 1, 1): 0.5, (0, 2, 0): 0.4, (0, 2, 1): 0.75}\n",
      "1 1\n",
      "1 2\n",
      "2 3\n",
      "2 4\n",
      "3 5\n",
      "3 6\n",
      "3 7\n",
      "3 8\n",
      "3 9\n",
      "3 10\n",
      "4 11\n",
      "4 12\n",
      "4 13\n",
      "4 14\n",
      "5 15\n",
      "5 16\n",
      "6 17\n",
      "7 18\n",
      "7 19\n",
      "8 20\n",
      "{(0, 0, 0): 0.35, (0, 0, 1): 0.4, (0, 1, 0): 0.4, (0, 1, 1): 0.5, (0, 2, 0): 0.4, (0, 2, 1): 0.75, (1, 0, 0): 0.4}\n",
      "1 1\n",
      "1 2\n",
      "2 3\n",
      "3 4\n",
      "4 5\n",
      "4 6\n",
      "5 7\n",
      "5 8\n",
      "6 9\n",
      "6 10\n",
      "7 11\n",
      "7 12\n",
      "7 13\n",
      "8 14\n",
      "9 15\n",
      "9 16\n",
      "9 17\n",
      "10 18\n",
      "11 19\n",
      "12 20\n",
      "{(0, 0, 0): 0.35, (0, 0, 1): 0.4, (0, 1, 0): 0.4, (0, 1, 1): 0.5, (0, 2, 0): 0.4, (0, 2, 1): 0.75, (1, 0, 0): 0.4, (1, 0, 1): 0.6}\n",
      "0 1\n",
      "1 2\n",
      "2 3\n",
      "2 4\n",
      "3 5\n",
      "3 6\n",
      "4 7\n",
      "4 8\n",
      "5 9\n",
      "5 10\n",
      "6 11\n",
      "6 12\n",
      "6 13\n",
      "7 14\n",
      "7 15\n",
      "7 16\n",
      "8 17\n",
      "9 18\n",
      "10 19\n",
      "10 20\n",
      "{(0, 0, 0): 0.35, (0, 0, 1): 0.4, (0, 1, 0): 0.4, (0, 1, 1): 0.5, (0, 2, 0): 0.4, (0, 2, 1): 0.75, (1, 0, 0): 0.4, (1, 0, 1): 0.6, (1, 1, 0): 0.5}\n",
      "1 1\n",
      "2 2\n",
      "3 3\n",
      "3 4\n",
      "4 5\n",
      "5 6\n",
      "5 7\n",
      "6 8\n",
      "6 9\n",
      "7 10\n",
      "8 11\n",
      "8 12\n",
      "9 13\n",
      "10 14\n",
      "10 15\n",
      "10 16\n",
      "11 17\n",
      "12 18\n",
      "13 19\n",
      "13 20\n",
      "{(0, 0, 0): 0.35, (0, 0, 1): 0.4, (0, 1, 0): 0.4, (0, 1, 1): 0.5, (0, 2, 0): 0.4, (0, 2, 1): 0.75, (1, 0, 0): 0.4, (1, 0, 1): 0.6, (1, 1, 0): 0.5, (1, 1, 1): 0.65}\n",
      "1 1\n",
      "1 2\n",
      "2 3\n",
      "2 4\n",
      "2 5\n",
      "2 6\n",
      "3 7\n",
      "3 8\n",
      "3 9\n",
      "3 10\n",
      "4 11\n",
      "4 12\n",
      "5 13\n",
      "5 14\n",
      "6 15\n",
      "6 16\n",
      "7 17\n",
      "7 18\n",
      "8 19\n",
      "8 20\n",
      "{(0, 0, 0): 0.35, (0, 0, 1): 0.4, (0, 1, 0): 0.4, (0, 1, 1): 0.5, (0, 2, 0): 0.4, (0, 2, 1): 0.75, (1, 0, 0): 0.4, (1, 0, 1): 0.6, (1, 1, 0): 0.5, (1, 1, 1): 0.65, (1, 2, 0): 0.4}\n",
      "0 1\n",
      "0 2\n",
      "1 3\n",
      "1 4\n",
      "1 5\n",
      "2 6\n",
      "2 7\n",
      "3 8\n",
      "3 9\n",
      "4 10\n",
      "5 11\n",
      "5 12\n",
      "6 13\n",
      "6 14\n",
      "6 15\n",
      "7 16\n",
      "8 17\n",
      "8 18\n",
      "8 19\n",
      "9 20\n",
      "{(0, 0, 0): 0.35, (0, 0, 1): 0.4, (0, 1, 0): 0.4, (0, 1, 1): 0.5, (0, 2, 0): 0.4, (0, 2, 1): 0.75, (1, 0, 0): 0.4, (1, 0, 1): 0.6, (1, 1, 0): 0.5, (1, 1, 1): 0.65, (1, 2, 0): 0.4, (1, 2, 1): 0.45}\n",
      "0 1\n",
      "1 2\n",
      "1 3\n",
      "1 4\n",
      "2 5\n",
      "2 6\n",
      "2 7\n",
      "3 8\n",
      "3 9\n",
      "4 10\n",
      "5 11\n",
      "5 12\n",
      "6 13\n",
      "7 14\n",
      "8 15\n",
      "8 16\n",
      "8 17\n",
      "8 18\n",
      "9 19\n",
      "9 20\n",
      "{(0, 0, 0): 0.35, (0, 0, 1): 0.4, (0, 1, 0): 0.4, (0, 1, 1): 0.5, (0, 2, 0): 0.4, (0, 2, 1): 0.75, (1, 0, 0): 0.4, (1, 0, 1): 0.6, (1, 1, 0): 0.5, (1, 1, 1): 0.65, (1, 2, 0): 0.4, (1, 2, 1): 0.45, (2, 0, 0): 0.45}\n",
      "0 1\n",
      "0 2\n",
      "1 3\n",
      "1 4\n",
      "1 5\n",
      "2 6\n",
      "3 7\n",
      "4 8\n",
      "5 9\n",
      "6 10\n",
      "7 11\n",
      "7 12\n",
      "8 13\n",
      "8 14\n",
      "9 15\n",
      "9 16\n",
      "10 17\n",
      "11 18\n",
      "12 19\n",
      "13 20\n",
      "{(0, 0, 0): 0.35, (0, 0, 1): 0.4, (0, 1, 0): 0.4, (0, 1, 1): 0.5, (0, 2, 0): 0.4, (0, 2, 1): 0.75, (1, 0, 0): 0.4, (1, 0, 1): 0.6, (1, 1, 0): 0.5, (1, 1, 1): 0.65, (1, 2, 0): 0.4, (1, 2, 1): 0.45, (2, 0, 0): 0.45, (2, 0, 1): 0.65}\n",
      "1 1\n",
      "1 2\n",
      "2 3\n",
      "2 4\n",
      "3 5\n",
      "3 6\n",
      "4 7\n",
      "4 8\n",
      "4 9\n",
      "5 10\n",
      "6 11\n",
      "6 12\n",
      "6 13\n",
      "6 14\n",
      "7 15\n",
      "7 16\n",
      "8 17\n",
      "8 18\n",
      "9 19\n",
      "9 20\n",
      "{(0, 0, 0): 0.35, (0, 0, 1): 0.4, (0, 1, 0): 0.4, (0, 1, 1): 0.5, (0, 2, 0): 0.4, (0, 2, 1): 0.75, (1, 0, 0): 0.4, (1, 0, 1): 0.6, (1, 1, 0): 0.5, (1, 1, 1): 0.65, (1, 2, 0): 0.4, (1, 2, 1): 0.45, (2, 0, 0): 0.45, (2, 0, 1): 0.65, (2, 1, 0): 0.45}\n",
      "0 1\n",
      "1 2\n",
      "1 3\n",
      "2 4\n",
      "3 5\n",
      "3 6\n",
      "4 7\n",
      "5 8\n",
      "6 9\n",
      "7 10\n",
      "8 11\n",
      "8 12\n",
      "9 13\n",
      "9 14\n",
      "10 15\n",
      "11 16\n",
      "12 17\n",
      "12 18\n",
      "13 19\n",
      "13 20\n",
      "{(0, 0, 0): 0.35, (0, 0, 1): 0.4, (0, 1, 0): 0.4, (0, 1, 1): 0.5, (0, 2, 0): 0.4, (0, 2, 1): 0.75, (1, 0, 0): 0.4, (1, 0, 1): 0.6, (1, 1, 0): 0.5, (1, 1, 1): 0.65, (1, 2, 0): 0.4, (1, 2, 1): 0.45, (2, 0, 0): 0.45, (2, 0, 1): 0.65, (2, 1, 0): 0.45, (2, 1, 1): 0.65}\n",
      "0 1\n",
      "1 2\n",
      "2 3\n",
      "3 4\n",
      "4 5\n",
      "4 6\n",
      "5 7\n",
      "5 8\n",
      "6 9\n",
      "6 10\n",
      "7 11\n",
      "7 12\n",
      "8 13\n",
      "8 14\n",
      "9 15\n",
      "9 16\n",
      "10 17\n",
      "10 18\n",
      "11 19\n",
      "11 20\n",
      "{(0, 0, 0): 0.35, (0, 0, 1): 0.4, (0, 1, 0): 0.4, (0, 1, 1): 0.5, (0, 2, 0): 0.4, (0, 2, 1): 0.75, (1, 0, 0): 0.4, (1, 0, 1): 0.6, (1, 1, 0): 0.5, (1, 1, 1): 0.65, (1, 2, 0): 0.4, (1, 2, 1): 0.45, (2, 0, 0): 0.45, (2, 0, 1): 0.65, (2, 1, 0): 0.45, (2, 1, 1): 0.65, (2, 2, 0): 0.55}\n",
      "1 1\n",
      "1 2\n",
      "2 3\n",
      "3 4\n",
      "4 5\n",
      "4 6\n",
      "5 7\n",
      "5 8\n",
      "6 9\n",
      "7 10\n",
      "8 11\n",
      "8 12\n",
      "9 13\n",
      "9 14\n",
      "10 15\n",
      "11 16\n",
      "12 17\n",
      "12 18\n",
      "13 19\n",
      "13 20\n",
      "{(0, 0, 0): 0.35, (0, 0, 1): 0.4, (0, 1, 0): 0.4, (0, 1, 1): 0.5, (0, 2, 0): 0.4, (0, 2, 1): 0.75, (1, 0, 0): 0.4, (1, 0, 1): 0.6, (1, 1, 0): 0.5, (1, 1, 1): 0.65, (1, 2, 0): 0.4, (1, 2, 1): 0.45, (2, 0, 0): 0.45, (2, 0, 1): 0.65, (2, 1, 0): 0.45, (2, 1, 1): 0.65, (2, 2, 0): 0.55, (2, 2, 1): 0.65}\n",
      "0 1\n",
      "1 2\n",
      "1 3\n",
      "2 4\n",
      "3 5\n",
      "4 6\n",
      "5 7\n",
      "5 8\n",
      "6 9\n",
      "6 10\n",
      "7 11\n",
      "7 12\n",
      "8 13\n",
      "9 14\n",
      "10 15\n",
      "11 16\n",
      "12 17\n",
      "12 18\n",
      "12 19\n",
      "13 20\n",
      "{(0, 0, 0): 0.35, (0, 0, 1): 0.4, (0, 1, 0): 0.4, (0, 1, 1): 0.5, (0, 2, 0): 0.4, (0, 2, 1): 0.75, (1, 0, 0): 0.4, (1, 0, 1): 0.6, (1, 1, 0): 0.5, (1, 1, 1): 0.65, (1, 2, 0): 0.4, (1, 2, 1): 0.45, (2, 0, 0): 0.45, (2, 0, 1): 0.65, (2, 1, 0): 0.45, (2, 1, 1): 0.65, (2, 2, 0): 0.55, (2, 2, 1): 0.65, (3, 0, 0): 0.65}\n",
      "0 1\n",
      "1 2\n",
      "2 3\n",
      "3 4\n",
      "4 5\n",
      "4 6\n",
      "5 7\n",
      "5 8\n",
      "6 9\n",
      "7 10\n",
      "7 11\n",
      "7 12\n",
      "7 13\n",
      "8 14\n",
      "9 15\n",
      "10 16\n",
      "11 17\n",
      "11 18\n",
      "12 19\n",
      "12 20\n",
      "{(0, 0, 0): 0.35, (0, 0, 1): 0.4, (0, 1, 0): 0.4, (0, 1, 1): 0.5, (0, 2, 0): 0.4, (0, 2, 1): 0.75, (1, 0, 0): 0.4, (1, 0, 1): 0.6, (1, 1, 0): 0.5, (1, 1, 1): 0.65, (1, 2, 0): 0.4, (1, 2, 1): 0.45, (2, 0, 0): 0.45, (2, 0, 1): 0.65, (2, 1, 0): 0.45, (2, 1, 1): 0.65, (2, 2, 0): 0.55, (2, 2, 1): 0.65, (3, 0, 0): 0.65, (3, 0, 1): 0.6}\n",
      "1 1\n",
      "1 2\n",
      "2 3\n",
      "2 4\n",
      "2 5\n",
      "3 6\n",
      "4 7\n",
      "5 8\n",
      "6 9\n",
      "6 10\n",
      "6 11\n",
      "6 12\n",
      "7 13\n",
      "7 14\n",
      "8 15\n",
      "8 16\n",
      "9 17\n",
      "9 18\n",
      "10 19\n",
      "10 20\n",
      "{(0, 0, 0): 0.35, (0, 0, 1): 0.4, (0, 1, 0): 0.4, (0, 1, 1): 0.5, (0, 2, 0): 0.4, (0, 2, 1): 0.75, (1, 0, 0): 0.4, (1, 0, 1): 0.6, (1, 1, 0): 0.5, (1, 1, 1): 0.65, (1, 2, 0): 0.4, (1, 2, 1): 0.45, (2, 0, 0): 0.45, (2, 0, 1): 0.65, (2, 1, 0): 0.45, (2, 1, 1): 0.65, (2, 2, 0): 0.55, (2, 2, 1): 0.65, (3, 0, 0): 0.65, (3, 0, 1): 0.6, (3, 1, 0): 0.5}\n",
      "1 1\n",
      "1 2\n",
      "2 3\n",
      "3 4\n",
      "4 5\n",
      "4 6\n",
      "5 7\n",
      "6 8\n",
      "7 9\n",
      "7 10\n",
      "8 11\n",
      "9 12\n",
      "10 13\n",
      "10 14\n",
      "10 15\n",
      "11 16\n",
      "12 17\n",
      "12 18\n",
      "13 19\n",
      "14 20\n",
      "{(0, 0, 0): 0.35, (0, 0, 1): 0.4, (0, 1, 0): 0.4, (0, 1, 1): 0.5, (0, 2, 0): 0.4, (0, 2, 1): 0.75, (1, 0, 0): 0.4, (1, 0, 1): 0.6, (1, 1, 0): 0.5, (1, 1, 1): 0.65, (1, 2, 0): 0.4, (1, 2, 1): 0.45, (2, 0, 0): 0.45, (2, 0, 1): 0.65, (2, 1, 0): 0.45, (2, 1, 1): 0.65, (2, 2, 0): 0.55, (2, 2, 1): 0.65, (3, 0, 0): 0.65, (3, 0, 1): 0.6, (3, 1, 0): 0.5, (3, 1, 1): 0.7}\n",
      "1 1\n",
      "1 2\n",
      "2 3\n",
      "3 4\n",
      "4 5\n",
      "4 6\n",
      "5 7\n",
      "5 8\n",
      "5 9\n",
      "6 10\n",
      "6 11\n",
      "7 12\n",
      "8 13\n",
      "9 14\n",
      "10 15\n",
      "11 16\n",
      "12 17\n",
      "13 18\n",
      "13 19\n",
      "13 20\n",
      "{(0, 0, 0): 0.35, (0, 0, 1): 0.4, (0, 1, 0): 0.4, (0, 1, 1): 0.5, (0, 2, 0): 0.4, (0, 2, 1): 0.75, (1, 0, 0): 0.4, (1, 0, 1): 0.6, (1, 1, 0): 0.5, (1, 1, 1): 0.65, (1, 2, 0): 0.4, (1, 2, 1): 0.45, (2, 0, 0): 0.45, (2, 0, 1): 0.65, (2, 1, 0): 0.45, (2, 1, 1): 0.65, (2, 2, 0): 0.55, (2, 2, 1): 0.65, (3, 0, 0): 0.65, (3, 0, 1): 0.6, (3, 1, 0): 0.5, (3, 1, 1): 0.7, (3, 2, 0): 0.65}\n",
      "1 1\n",
      "2 2\n",
      "3 3\n",
      "4 4\n",
      "5 5\n",
      "6 6\n",
      "7 7\n",
      "7 8\n",
      "8 9\n",
      "9 10\n",
      "10 11\n",
      "10 12\n",
      "11 13\n",
      "11 14\n",
      "12 15\n",
      "12 16\n",
      "12 17\n",
      "13 18\n",
      "14 19\n",
      "15 20\n",
      "{(0, 0, 0): 0.35, (0, 0, 1): 0.4, (0, 1, 0): 0.4, (0, 1, 1): 0.5, (0, 2, 0): 0.4, (0, 2, 1): 0.75, (1, 0, 0): 0.4, (1, 0, 1): 0.6, (1, 1, 0): 0.5, (1, 1, 1): 0.65, (1, 2, 0): 0.4, (1, 2, 1): 0.45, (2, 0, 0): 0.45, (2, 0, 1): 0.65, (2, 1, 0): 0.45, (2, 1, 1): 0.65, (2, 2, 0): 0.55, (2, 2, 1): 0.65, (3, 0, 0): 0.65, (3, 0, 1): 0.6, (3, 1, 0): 0.5, (3, 1, 1): 0.7, (3, 2, 0): 0.65, (3, 2, 1): 0.75}\n",
      "1 1\n",
      "1 2\n",
      "2 3\n",
      "2 4\n",
      "3 5\n",
      "3 6\n",
      "4 7\n",
      "4 8\n",
      "5 9\n",
      "5 10\n",
      "6 11\n",
      "6 12\n",
      "6 13\n",
      "7 14\n",
      "8 15\n",
      "8 16\n",
      "8 17\n",
      "9 18\n",
      "10 19\n",
      "11 20\n",
      "{(0, 0, 0): 0.35, (0, 0, 1): 0.4, (0, 1, 0): 0.4, (0, 1, 1): 0.5, (0, 2, 0): 0.4, (0, 2, 1): 0.75, (1, 0, 0): 0.4, (1, 0, 1): 0.6, (1, 1, 0): 0.5, (1, 1, 1): 0.65, (1, 2, 0): 0.4, (1, 2, 1): 0.45, (2, 0, 0): 0.45, (2, 0, 1): 0.65, (2, 1, 0): 0.45, (2, 1, 1): 0.65, (2, 2, 0): 0.55, (2, 2, 1): 0.65, (3, 0, 0): 0.65, (3, 0, 1): 0.6, (3, 1, 0): 0.5, (3, 1, 1): 0.7, (3, 2, 0): 0.65, (3, 2, 1): 0.75, (4, 0, 0): 0.55}\n",
      "1 1\n",
      "1 2\n",
      "1 3\n",
      "1 4\n",
      "2 5\n",
      "2 6\n",
      "3 7\n",
      "4 8\n",
      "5 9\n",
      "6 10\n",
      "7 11\n",
      "7 12\n",
      "7 13\n",
      "8 14\n",
      "8 15\n",
      "9 16\n",
      "10 17\n",
      "10 18\n",
      "11 19\n",
      "11 20\n",
      "{(0, 0, 0): 0.35, (0, 0, 1): 0.4, (0, 1, 0): 0.4, (0, 1, 1): 0.5, (0, 2, 0): 0.4, (0, 2, 1): 0.75, (1, 0, 0): 0.4, (1, 0, 1): 0.6, (1, 1, 0): 0.5, (1, 1, 1): 0.65, (1, 2, 0): 0.4, (1, 2, 1): 0.45, (2, 0, 0): 0.45, (2, 0, 1): 0.65, (2, 1, 0): 0.45, (2, 1, 1): 0.65, (2, 2, 0): 0.55, (2, 2, 1): 0.65, (3, 0, 0): 0.65, (3, 0, 1): 0.6, (3, 1, 0): 0.5, (3, 1, 1): 0.7, (3, 2, 0): 0.65, (3, 2, 1): 0.75, (4, 0, 0): 0.55, (4, 0, 1): 0.55}\n"
     ]
    },
    {
     "name": "stdout",
     "output_type": "stream",
     "text": [
      "1 1\n",
      "2 2\n",
      "3 3\n",
      "4 4\n",
      "5 5\n",
      "5 6\n",
      "6 7\n",
      "7 8\n",
      "8 9\n",
      "8 10\n",
      "9 11\n",
      "10 12\n",
      "11 13\n",
      "11 14\n",
      "12 15\n",
      "13 16\n",
      "14 17\n",
      "14 18\n",
      "14 19\n",
      "15 20\n",
      "{(0, 0, 0): 0.35, (0, 0, 1): 0.4, (0, 1, 0): 0.4, (0, 1, 1): 0.5, (0, 2, 0): 0.4, (0, 2, 1): 0.75, (1, 0, 0): 0.4, (1, 0, 1): 0.6, (1, 1, 0): 0.5, (1, 1, 1): 0.65, (1, 2, 0): 0.4, (1, 2, 1): 0.45, (2, 0, 0): 0.45, (2, 0, 1): 0.65, (2, 1, 0): 0.45, (2, 1, 1): 0.65, (2, 2, 0): 0.55, (2, 2, 1): 0.65, (3, 0, 0): 0.65, (3, 0, 1): 0.6, (3, 1, 0): 0.5, (3, 1, 1): 0.7, (3, 2, 0): 0.65, (3, 2, 1): 0.75, (4, 0, 0): 0.55, (4, 0, 1): 0.55, (4, 1, 0): 0.75}\n",
      "1 1\n",
      "1 2\n",
      "2 3\n",
      "3 4\n",
      "4 5\n",
      "4 6\n",
      "4 7\n",
      "5 8\n",
      "6 9\n",
      "6 10\n",
      "7 11\n",
      "8 12\n",
      "9 13\n",
      "10 14\n",
      "11 15\n",
      "12 16\n",
      "13 17\n",
      "13 18\n",
      "14 19\n",
      "15 20\n",
      "{(0, 0, 0): 0.35, (0, 0, 1): 0.4, (0, 1, 0): 0.4, (0, 1, 1): 0.5, (0, 2, 0): 0.4, (0, 2, 1): 0.75, (1, 0, 0): 0.4, (1, 0, 1): 0.6, (1, 1, 0): 0.5, (1, 1, 1): 0.65, (1, 2, 0): 0.4, (1, 2, 1): 0.45, (2, 0, 0): 0.45, (2, 0, 1): 0.65, (2, 1, 0): 0.45, (2, 1, 1): 0.65, (2, 2, 0): 0.55, (2, 2, 1): 0.65, (3, 0, 0): 0.65, (3, 0, 1): 0.6, (3, 1, 0): 0.5, (3, 1, 1): 0.7, (3, 2, 0): 0.65, (3, 2, 1): 0.75, (4, 0, 0): 0.55, (4, 0, 1): 0.55, (4, 1, 0): 0.75, (4, 1, 1): 0.75}\n",
      "1 1\n",
      "2 2\n",
      "3 3\n",
      "3 4\n",
      "4 5\n",
      "4 6\n",
      "5 7\n",
      "6 8\n",
      "7 9\n",
      "7 10\n",
      "8 11\n",
      "8 12\n",
      "9 13\n",
      "9 14\n",
      "10 15\n",
      "10 16\n",
      "11 17\n",
      "11 18\n",
      "12 19\n",
      "13 20\n",
      "{(0, 0, 0): 0.35, (0, 0, 1): 0.4, (0, 1, 0): 0.4, (0, 1, 1): 0.5, (0, 2, 0): 0.4, (0, 2, 1): 0.75, (1, 0, 0): 0.4, (1, 0, 1): 0.6, (1, 1, 0): 0.5, (1, 1, 1): 0.65, (1, 2, 0): 0.4, (1, 2, 1): 0.45, (2, 0, 0): 0.45, (2, 0, 1): 0.65, (2, 1, 0): 0.45, (2, 1, 1): 0.65, (2, 2, 0): 0.55, (2, 2, 1): 0.65, (3, 0, 0): 0.65, (3, 0, 1): 0.6, (3, 1, 0): 0.5, (3, 1, 1): 0.7, (3, 2, 0): 0.65, (3, 2, 1): 0.75, (4, 0, 0): 0.55, (4, 0, 1): 0.55, (4, 1, 0): 0.75, (4, 1, 1): 0.75, (4, 2, 0): 0.65}\n",
      "1 1\n",
      "2 2\n",
      "3 3\n",
      "4 4\n",
      "5 5\n",
      "6 6\n",
      "7 7\n",
      "8 8\n",
      "9 9\n",
      "10 10\n",
      "11 11\n",
      "12 12\n",
      "13 13\n",
      "13 14\n",
      "14 15\n",
      "15 16\n",
      "16 17\n",
      "16 18\n",
      "17 19\n",
      "17 20\n",
      "{(0, 0, 0): 0.35, (0, 0, 1): 0.4, (0, 1, 0): 0.4, (0, 1, 1): 0.5, (0, 2, 0): 0.4, (0, 2, 1): 0.75, (1, 0, 0): 0.4, (1, 0, 1): 0.6, (1, 1, 0): 0.5, (1, 1, 1): 0.65, (1, 2, 0): 0.4, (1, 2, 1): 0.45, (2, 0, 0): 0.45, (2, 0, 1): 0.65, (2, 1, 0): 0.45, (2, 1, 1): 0.65, (2, 2, 0): 0.55, (2, 2, 1): 0.65, (3, 0, 0): 0.65, (3, 0, 1): 0.6, (3, 1, 0): 0.5, (3, 1, 1): 0.7, (3, 2, 0): 0.65, (3, 2, 1): 0.75, (4, 0, 0): 0.55, (4, 0, 1): 0.55, (4, 1, 0): 0.75, (4, 1, 1): 0.75, (4, 2, 0): 0.65, (4, 2, 1): 0.85}\n"
     ]
    }
   ],
   "source": [
    "# Design of experiment\n",
    "#ns = [100, 200, 400, 600, 800, 1200, 1600, 2400, 2800, 3200, 4000, 4800, 10000]\n",
    "ns = [50, 100, 200, 400, 600]\n",
    "cpucts = [4, 1, 0.2, 0.1]\n",
    "useQs = [False, True]\n",
    "ws = dict()\n",
    "\n",
    "for i, n in enumerate(ns):\n",
    "    for j, cpuct in enumerate(cpucts):\n",
    "        for k, useQ in enumerate(useQs):\n",
    "            winrate = pit(MultiMCTS(nparallel=20, nsearches=n, net=net, params={'cpuct': cpuct, 'useQ': useQ}),\n",
    "                          MiniMax(maxdepth=depthminimax), n=20, nrnd=2, frame=frame, verbose=1)\n",
    "            ws[i, j, k] = winrate\n",
    "            print(ws)"
   ]
  },
  {
   "cell_type": "code",
   "execution_count": null,
   "metadata": {},
   "outputs": [],
   "source": []
  },
  {
   "cell_type": "code",
   "execution_count": 34,
   "metadata": {},
   "outputs": [
    {
     "data": {
      "image/png": "[encoded data removed]",
      "text/plain": [
       "<Figure size 432x288 with 1 Axes>"
      ]
     },
     "metadata": {
      "needs_background": "light"
     },
     "output_type": "display_data"
    },
    {
     "data": {
      "image/png": "[encoded data removed]",
      "text/plain": [
       "<Figure size 432x288 with 1 Axes>"
      ]
     },
     "metadata": {
      "needs_background": "light"
     },
     "output_type": "display_data"
    },
    {
     "data": {
      "text/plain": [
       "Text(0, 0.5, 'wr')"
      ]
     },
     "execution_count": 34,
     "metadata": {},
     "output_type": "execute_result"
    },
    {
     "data": {
      "image/png": "[encoded data removed]",
      "text/plain": [
       "<Figure size 432x288 with 1 Axes>"
      ]
     },
     "metadata": {
      "needs_background": "light"
     },
     "output_type": "display_data"
    }
   ],
   "source": [
    "warr = np.zeros((len(ns), len(cpucts), len(useQs)))\n",
    "for i, j, k in ws.keys():\n",
    "    warr[i,j,k] = ws[i,j,k]\n",
    "\n",
    "    \n",
    "plt.errorbar(ns, warr.mean((1,2)), warr.std((1,2)))\n",
    "plt.xlabel('n')\n",
    "plt.ylabel('wr')\n",
    "plt.show()\n",
    "    \n",
    "plt.errorbar(cpucts, warr.mean((0,2)), warr.std((0,2)))\n",
    "plt.xlabel('cpuct')\n",
    "plt.ylabel('wr')\n",
    "plt.show()\n",
    "    \n",
    "plt.errorbar([0,1], warr.mean((0,1)), warr.std((0,1)))\n",
    "plt.xlabel('useQ')\n",
    "plt.ylabel('wr')"
   ]
  },
  {
   "cell_type": "code",
   "execution_count": 47,
   "metadata": {},
   "outputs": [
    {
     "data": {
      "text/plain": [
       "array([ 0.00039223, -0.02272182,  0.12333333])"
      ]
     },
     "execution_count": 47,
     "metadata": {},
     "output_type": "execute_result"
    }
   ],
   "source": [
    "from sklearn import linear_model\n",
    "md = linear_model.LinearRegression()\n",
    "md.fit([(n, cpuct, useQ) for n in ns for cpuct in cpucts for useQ in useQs], warr.flatten())\n",
    "md.coef_"
   ]
  },
  {
   "cell_type": "code",
   "execution_count": null,
   "metadata": {},
   "outputs": [],
   "source": []
  },
  {
   "cell_type": "code",
   "execution_count": null,
   "metadata": {},
   "outputs": [],
   "source": []
  },
  {
   "cell_type": "code",
   "execution_count": 23,
   "metadata": {},
   "outputs": [
    {
     "name": "stdout",
     "output_type": "stream",
     "text": [
      "1 1\n",
      "2 2\n",
      "3 3\n",
      "4 4\n",
      "5 5\n",
      "5 6\n",
      "6 7\n",
      "6 8\n",
      "7 9\n",
      "7 10\n",
      "7 11\n",
      "8 12\n",
      "8 13\n",
      "9 14\n",
      "9 15\n",
      "10 16\n",
      "10 17\n",
      "11 18\n",
      "12 19\n",
      "12 20\n",
      "0.6\n"
     ]
    }
   ],
   "source": [
    "#  300  0.45\n",
    "#  800  0.65\n",
    "# 1200  0.65\n",
    "# 1600  0.6\n",
    "# 2400  0.75\n",
    "# 2800  0.75\n",
    "# 3200  0.8\n",
    "# 3600  0.6\n",
    "# 4000  0.75\n",
    "# 4400  0.6\n",
    "# 4800  0.8\n",
    "\n",
    "winrate = pit(MultiMCTS(nparallel=20, nsearches=4400, net=net), MiniMax(maxdepth=depthminimax), n=20, nrnd=2, frame=frame, verbose=1)\n",
    "print(winrate)"
   ]
  },
  {
   "cell_type": "code",
   "execution_count": 24,
   "metadata": {},
   "outputs": [
    {
     "data": {
      "text/plain": [
       "[<matplotlib.lines.Line2D at 0x243fbe4e4c8>]"
      ]
     },
     "execution_count": 24,
     "metadata": {},
     "output_type": "execute_result"
    },
    {
     "data": {
      "image/png": "[encoded data removed]",
      "text/plain": [
       "<Figure size 432x288 with 1 Axes>"
      ]
     },
     "metadata": {
      "needs_background": "light"
     },
     "output_type": "display_data"
    }
   ],
   "source": [
    "plt.plot([100, 300, 800, 1200, 1600, 2400, 2800, 3200, 3600, 4000, 4400, 4800], [0.55, 0.45, 0.65, 0.65, 0.6, 0.75, 0.75, 0.8, 0.6, 0.75, 0.6, 0.8])"
   ]
  },
  {
   "cell_type": "code",
   "execution_count": 32,
   "metadata": {
    "ExecuteTime": {
     "end_time": "2023-10-16T21:05:42.267525Z",
     "start_time": "2023-10-16T21:04:32.464558Z"
    }
   },
   "outputs": [
    {
     "name": "stdout",
     "output_type": "stream",
     "text": [
      "0 1\n",
      "1 2\n",
      "2 3\n",
      "2 4\n",
      "3 5\n",
      "3 6\n",
      "3 7\n",
      "3 8\n",
      "4 9\n",
      "4 10\n",
      "5 11\n",
      "5 12\n",
      "6 13\n",
      "6 14\n",
      "7 15\n",
      "7 16\n",
      "7 17\n",
      "8 18\n",
      "8 19\n",
      "9 20\n",
      "9 21\n",
      "10 22\n",
      "10 23\n",
      "11 24\n",
      "11 25\n",
      "11 26\n",
      "11 27\n",
      "11 28\n",
      "12 29\n",
      "13 30\n",
      "14 31\n",
      "14 32\n",
      "15 33\n",
      "16 34\n",
      "16 35\n",
      "17 36\n",
      "17 37\n",
      "17 38\n",
      "18 39\n",
      "18 40\n",
      "19 41\n",
      "19 42\n",
      "20 43\n",
      "20 44\n",
      "21 45\n",
      "21 46\n",
      "22 47\n",
      "22 48\n",
      "22 49\n",
      "22 50\n"
     ]
    },
    {
     "data": {
      "text/plain": [
       "0.44"
      ]
     },
     "execution_count": 32,
     "metadata": {},
     "output_type": "execute_result"
    }
   ],
   "source": [
    "pit(MultiMCTS(nparallel=20, nsearches=300, net=NetAdaptive('net_temp.dat'), params={'useQ':True,'cpuct':0.2}),\n",
    "    MultiMCTS(nparallel=20, nsearches=300, net=NetAdaptive('net_depth3.dat'), params={'useQ':True,'cpuct':0.2}),\n",
    "            n=50, nrnd=2, frame=1, verbose=1)"
   ]
  },
  {
   "cell_type": "code",
   "execution_count": 9,
   "metadata": {
    "ExecuteTime": {
     "end_time": "2023-10-16T19:47:48.104242Z",
     "start_time": "2023-10-16T19:47:47.951335Z"
    }
   },
   "outputs": [
    {
     "data": {
      "text/plain": [
       "0.8200000000000001"
      ]
     },
     "execution_count": 9,
     "metadata": {},
     "output_type": "execute_result"
    }
   ],
   "source": [
    "# neu: 0.82\n",
    "# alt: 0.78"
   ]
  },
  {
   "cell_type": "code",
   "execution_count": 47,
   "metadata": {
    "ExecuteTime": {
     "end_time": "2023-10-16T21:45:34.131417Z",
     "start_time": "2023-10-16T21:45:16.951496Z"
    }
   },
   "outputs": [
    {
     "name": "stdout",
     "output_type": "stream",
     "text": [
      "1 1\n",
      "2 2\n",
      "3 3\n",
      "4 4\n",
      "5 5\n",
      "6 6\n",
      "7 7\n",
      "8 8\n",
      "9 9\n"
     ]
    },
    {
     "ename": "KeyboardInterrupt",
     "evalue": "",
     "output_type": "error",
     "traceback": [
      "\u001b[1;31m---------------------------------------------------------------------------\u001b[0m",
      "\u001b[1;31mKeyboardInterrupt\u001b[0m                         Traceback (most recent call last)",
      "\u001b[1;32m<ipython-input-47-335e5fa11274>\u001b[0m in \u001b[0;36m<module>\u001b[1;34m\u001b[0m\n\u001b[0;32m      1\u001b[0m pit(MultiMCTS(nparallel=20, nsearches=300, net=net2, params={'useQ':True,'cpuct':0.2}),\n\u001b[0;32m      2\u001b[0m     \u001b[0mMultiMCTS\u001b[0m\u001b[1;33m(\u001b[0m\u001b[0mnparallel\u001b[0m\u001b[1;33m=\u001b[0m\u001b[1;36m20\u001b[0m\u001b[1;33m,\u001b[0m \u001b[0mnsearches\u001b[0m\u001b[1;33m=\u001b[0m\u001b[1;36m300\u001b[0m\u001b[1;33m,\u001b[0m \u001b[0mnet\u001b[0m\u001b[1;33m=\u001b[0m\u001b[0mNet\u001b[0m\u001b[1;33m(\u001b[0m\u001b[1;33m)\u001b[0m\u001b[1;33m,\u001b[0m  \u001b[0mparams\u001b[0m\u001b[1;33m=\u001b[0m\u001b[1;33m{\u001b[0m\u001b[1;34m'useQ'\u001b[0m\u001b[1;33m:\u001b[0m\u001b[1;32mTrue\u001b[0m\u001b[1;33m,\u001b[0m\u001b[1;34m'cpuct'\u001b[0m\u001b[1;33m:\u001b[0m\u001b[1;36m0.2\u001b[0m\u001b[1;33m}\u001b[0m\u001b[1;33m)\u001b[0m\u001b[1;33m,\u001b[0m\u001b[1;33m\u001b[0m\u001b[1;33m\u001b[0m\u001b[0m\n\u001b[1;32m----> 3\u001b[1;33m             n=50, nrnd=2, frame=1, verbose=1)\n\u001b[0m",
      "\u001b[1;32mD:\\Anaconda-Python-3.7\\isola\\isola_selfplay.py\u001b[0m in \u001b[0;36mpit\u001b[1;34m(ai1, ai2, n, nrnd, frame, verbose)\u001b[0m\n\u001b[0;32m    152\u001b[0m             \u001b[1;32mif\u001b[0m \u001b[0ms\u001b[0m\u001b[1;33m.\u001b[0m\u001b[0mturn\u001b[0m\u001b[1;33m>\u001b[0m\u001b[1;36m0\u001b[0m\u001b[1;33m:\u001b[0m\u001b[1;33m\u001b[0m\u001b[1;33m\u001b[0m\u001b[0m\n\u001b[0;32m    153\u001b[0m                 \u001b[1;31m#'Reds turn'\u001b[0m\u001b[1;33m\u001b[0m\u001b[1;33m\u001b[0m\u001b[1;33m\u001b[0m\u001b[0m\n\u001b[1;32m--> 154\u001b[1;33m                 \u001b[0ma\u001b[0m \u001b[1;33m=\u001b[0m \u001b[0mai_red\u001b[0m\u001b[1;33m.\u001b[0m\u001b[0mfindmove\u001b[0m\u001b[1;33m(\u001b[0m\u001b[0ms\u001b[0m\u001b[1;33m)\u001b[0m\u001b[1;33m\u001b[0m\u001b[1;33m\u001b[0m\u001b[0m\n\u001b[0m\u001b[0;32m    155\u001b[0m \u001b[1;33m\u001b[0m\u001b[0m\n\u001b[0;32m    156\u001b[0m             \u001b[1;32melse\u001b[0m\u001b[1;33m:\u001b[0m\u001b[1;33m\u001b[0m\u001b[1;33m\u001b[0m\u001b[0m\n",
      "\u001b[1;32mD:\\Anaconda-Python-3.7\\isola\\isola_mcts.py\u001b[0m in \u001b[0;36mfindmove\u001b[1;34m(self, state, tau, verbose)\u001b[0m\n\u001b[0;32m    292\u001b[0m         '''\n\u001b[0;32m    293\u001b[0m         \u001b[1;31m# (1) Do the MC Tree Searches\u001b[0m\u001b[1;33m\u001b[0m\u001b[1;33m\u001b[0m\u001b[1;33m\u001b[0m\u001b[0m\n\u001b[1;32m--> 294\u001b[1;33m         \u001b[0mself\u001b[0m\u001b[1;33m.\u001b[0m\u001b[0mperform_rollouts\u001b[0m\u001b[1;33m(\u001b[0m\u001b[0mstate\u001b[0m\u001b[1;33m,\u001b[0m \u001b[0mverbose\u001b[0m\u001b[1;33m)\u001b[0m\u001b[1;33m\u001b[0m\u001b[1;33m\u001b[0m\u001b[0m\n\u001b[0m\u001b[0;32m    295\u001b[0m \u001b[1;33m\u001b[0m\u001b[0m\n\u001b[0;32m    296\u001b[0m         \u001b[1;31m# (2) Find the best move\u001b[0m\u001b[1;33m\u001b[0m\u001b[1;33m\u001b[0m\u001b[1;33m\u001b[0m\u001b[0m\n",
      "\u001b[1;32mD:\\Anaconda-Python-3.7\\isola\\isola_mcts.py\u001b[0m in \u001b[0;36mperform_rollouts\u001b[1;34m(self, state, verbose)\u001b[0m\n\u001b[0;32m    752\u001b[0m             \u001b[1;32mfor\u001b[0m \u001b[0mk\u001b[0m \u001b[1;32min\u001b[0m \u001b[0mrange\u001b[0m\u001b[1;33m(\u001b[0m\u001b[0mself\u001b[0m\u001b[1;33m.\u001b[0m\u001b[0mnparallel\u001b[0m\u001b[1;33m)\u001b[0m\u001b[1;33m:\u001b[0m\u001b[1;33m\u001b[0m\u001b[1;33m\u001b[0m\u001b[0m\n\u001b[0;32m    753\u001b[0m                 \u001b[0mself\u001b[0m\u001b[1;33m.\u001b[0m\u001b[0mactivate_worker\u001b[0m\u001b[1;33m(\u001b[0m\u001b[0mk\u001b[0m\u001b[1;33m)\u001b[0m\u001b[1;33m\u001b[0m\u001b[1;33m\u001b[0m\u001b[0m\n\u001b[1;32m--> 754\u001b[1;33m                 \u001b[0mself\u001b[0m\u001b[1;33m.\u001b[0m\u001b[0msearch_down\u001b[0m\u001b[1;33m(\u001b[0m\u001b[0mstate\u001b[0m\u001b[1;33m)\u001b[0m\u001b[1;33m\u001b[0m\u001b[1;33m\u001b[0m\u001b[0m\n\u001b[0m\u001b[0;32m    755\u001b[0m                 \u001b[0mself\u001b[0m\u001b[1;33m.\u001b[0m\u001b[0mdeactivate_worker\u001b[0m\u001b[1;33m(\u001b[0m\u001b[0mk\u001b[0m\u001b[1;33m)\u001b[0m\u001b[1;33m\u001b[0m\u001b[1;33m\u001b[0m\u001b[0m\n\u001b[0;32m    756\u001b[0m \u001b[1;33m\u001b[0m\u001b[0m\n",
      "\u001b[1;32mD:\\Anaconda-Python-3.7\\isola\\isola_mcts.py\u001b[0m in \u001b[0;36msearch_down\u001b[1;34m(self, state)\u001b[0m\n\u001b[0;32m    608\u001b[0m \u001b[1;33m\u001b[0m\u001b[0m\n\u001b[0;32m    609\u001b[0m             \u001b[1;31m# the famous cpuct formula expanded by one term\u001b[0m\u001b[1;33m\u001b[0m\u001b[1;33m\u001b[0m\u001b[1;33m\u001b[0m\u001b[0m\n\u001b[1;32m--> 610\u001b[1;33m             \u001b[0mUlist\u001b[0m \u001b[1;33m=\u001b[0m \u001b[0mQa\u001b[0m \u001b[1;33m+\u001b[0m \u001b[0mself\u001b[0m\u001b[1;33m.\u001b[0m\u001b[0mcpuct\u001b[0m \u001b[1;33m*\u001b[0m \u001b[0mp\u001b[0m \u001b[1;33m*\u001b[0m \u001b[1;33m(\u001b[0m\u001b[0msqrt_Ns\u001b[0m \u001b[1;33m+\u001b[0m \u001b[1;36m1e-8\u001b[0m\u001b[1;33m)\u001b[0m \u001b[1;33m/\u001b[0m \u001b[1;33m(\u001b[0m\u001b[0mNa\u001b[0m \u001b[1;33m+\u001b[0m \u001b[1;36m1\u001b[0m\u001b[1;33m)\u001b[0m \u001b[1;33m+\u001b[0m \u001b[0mself\u001b[0m\u001b[1;33m.\u001b[0m\u001b[0mcuncert\u001b[0m \u001b[1;33m*\u001b[0m \u001b[0mstdWa\u001b[0m\u001b[1;33m\u001b[0m\u001b[1;33m\u001b[0m\u001b[0m\n\u001b[0m\u001b[0;32m    611\u001b[0m \u001b[1;33m\u001b[0m\u001b[0m\n\u001b[0;32m    612\u001b[0m \u001b[1;33m\u001b[0m\u001b[0m\n",
      "\u001b[1;31mKeyboardInterrupt\u001b[0m: "
     ]
    }
   ],
   "source": [
    "pit(MultiMCTS(nparallel=20, nsearches=300, net=net2, params={'useQ':True,'cpuct':0.2}),\n",
    "    MultiMCTS(nparallel=20, nsearches=300, net=Net(),  params={'useQ':True,'cpuct':0.2}),\n",
    "            n=50, nrnd=2, frame=1, verbose=1)"
   ]
  },
  {
   "cell_type": "code",
   "execution_count": null,
   "metadata": {},
   "outputs": [],
   "source": []
  },
  {
   "cell_type": "code",
   "execution_count": null,
   "metadata": {},
   "outputs": [],
   "source": []
  }
 ],
 "metadata": {
  "kernelspec": {
   "display_name": "Python 3",
   "language": "python",
   "name": "python3"
  },
  "language_info": {
   "codemirror_mode": {
    "name": "ipython",
    "version": 3
   },
   "file_extension": ".py",
   "mimetype": "text/x-python",
   "name": "python",
   "nbconvert_exporter": "python",
   "pygments_lexer": "ipython3",
   "version": "3.7.7"
  },
  "varInspector": {
   "cols": {
    "lenName": 16,
    "lenType": 16,
    "lenVar": 40
   },
   "kernels_config": {
    "python": {
     "delete_cmd_postfix": "",
     "delete_cmd_prefix": "del ",
     "library": "var_list.py",
     "varRefreshCmd": "print(var_dic_list())"
    },
    "r": {
     "delete_cmd_postfix": ") ",
     "delete_cmd_prefix": "rm(",
     "library": "var_list.r",
     "varRefreshCmd": "cat(var_dic_list()) "
    }
   },
   "types_to_exclude": [
    "module",
    "function",
    "builtin_function_or_method",
    "instance",
    "_Feature"
   ],
   "window_display": false
  }
 },
 "nbformat": 4,
 "nbformat_minor": 4
}
