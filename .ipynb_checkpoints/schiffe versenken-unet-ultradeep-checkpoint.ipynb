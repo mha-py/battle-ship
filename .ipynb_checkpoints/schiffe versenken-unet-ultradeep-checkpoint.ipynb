{
 "cells": [
  {
   "cell_type": "code",
   "execution_count": 1,
   "metadata": {
    "ExecuteTime": {
     "end_time": "2023-11-05T15:18:20.451751Z",
     "start_time": "2023-11-05T15:18:16.802750Z"
    }
   },
   "outputs": [],
   "source": [
    "import numpy as np\n",
    "import matplotlib.pyplot as plt\n",
    "%matplotlib inline\n",
    "import random\n",
    "from tqdm.notebook import tqdm, trange\n",
    "import pickle as pkl\n",
    "\n",
    "%load_ext autoreload\n",
    "%autoreload 2\n",
    "\n",
    "from utils import *\n",
    "from bs_helpers import *"
   ]
  },
  {
   "cell_type": "code",
   "execution_count": 2,
   "metadata": {
    "ExecuteTime": {
     "end_time": "2023-11-05T15:18:20.611556Z",
     "start_time": "2023-11-05T15:18:20.451751Z"
    }
   },
   "outputs": [],
   "source": [
    "# Erstellt August 2020\n",
    "# (c) mha\n",
    "\n",
    "def create_sea_ships(seed=None):\n",
    "    'Creates a sea with random ships on it'\n",
    "    rng = random.Random(seed)\n",
    "    sea = np.zeros((10,10))\n",
    "    ships = np.zeros((10,10,4)) # extra information which kind of ship is where\n",
    "    for k, l in enumerate([5,4,3,2]): # Länge\n",
    "        n = 6-l # Anzahl\n",
    "        for _ in range(n):\n",
    "            # Boot mit Länge l platzieren\n",
    "            while True:\n",
    "                t = rng.random() < 0.5\n",
    "                if t:\n",
    "                    sea = sea.T # Transponieren\n",
    "                    ships = ships.transpose(1,0,2)\n",
    "                px = rng.randint(0, 10-l)\n",
    "                py = rng.randint(0, 9)\n",
    "                if sum(sea[px:px+l,py]) > 0:\n",
    "                    continue\n",
    "                sea[px:px+l, py] = 1\n",
    "                ships[px:px+l, py, k] = 1\n",
    "                if t:\n",
    "                    sea = sea.T # Transponieren\n",
    "                    ships = ships.transpose(1,0,2)\n",
    "                break\n",
    "    return sea, ships\n",
    "\n",
    "def visualize(sea, detection):\n",
    "    'Erstellt eine Veranschaulichung, 0 bzw. 4 sind detektiertes Wasser bzw. Schiff, 1 und 2 sind undetektiert.'\n",
    "    return sea + sea*detection + 1 - ((1-sea)*detection)\n",
    "\n",
    "def plot_sea(sea, det, ax=None):\n",
    "    if ax is None: ax = plt.gca()\n",
    "    #ax.imshow(visualize(sea, det), vmin=-2, cmap='plasma')\n",
    "    ax.imshow(visualize(sea, det), vmin=-1, vmax=3.15, cmap='cividis')\n",
    "    ax.axis('off')"
   ]
  },
  {
   "cell_type": "code",
   "execution_count": 3,
   "metadata": {
    "ExecuteTime": {
     "end_time": "2023-11-05T15:18:20.803416Z",
     "start_time": "2023-11-05T15:18:20.611556Z"
    }
   },
   "outputs": [],
   "source": [
    "from numba import njit, jit\n",
    "\n",
    "@njit(cache=True)\n",
    "def njit_create_sea():\n",
    "    'Creates a sea with random ships on it'\n",
    "    sea = np.zeros((10,10))\n",
    "    for l in [5,4,3,2]: # Länge\n",
    "        n = 6-l # Anzahl\n",
    "        for _ in range(n):\n",
    "            # Boot mit Länge l platzieren\n",
    "            while True:\n",
    "                t = np.random.rand() < 0.5\n",
    "                if t: sea = sea.T # Transponieren\n",
    "                px = np.random.randint(0, 11-l)\n",
    "                py = np.random.randint(0, 10)\n",
    "                if np.sum(sea[px:px+l,py]) > 0:\n",
    "                    continue\n",
    "                sea[px:px+l, py] = 1\n",
    "                if t: sea = sea.T # Transponieren\n",
    "                break\n",
    "    return sea"
   ]
  },
  {
   "cell_type": "code",
   "execution_count": 4,
   "metadata": {
    "ExecuteTime": {
     "end_time": "2023-11-05T15:18:21.135764Z",
     "start_time": "2023-11-05T15:18:20.807415Z"
    }
   },
   "outputs": [
    {
     "ename": "TypeError",
     "evalue": "create_detection() got an unexpected keyword argument 'l'",
     "output_type": "error",
     "traceback": [
      "\u001b[1;31m---------------------------------------------------------------------------\u001b[0m",
      "\u001b[1;31mTypeError\u001b[0m                                 Traceback (most recent call last)",
      "\u001b[1;32m<ipython-input-4-970b1a2e42ab>\u001b[0m in \u001b[0;36m<module>\u001b[1;34m\u001b[0m\n\u001b[0;32m      2\u001b[0m \u001b[1;31m#detection = np.zeros((10,10))\u001b[0m\u001b[1;33m\u001b[0m\u001b[1;33m\u001b[0m\u001b[1;33m\u001b[0m\u001b[0m\n\u001b[0;32m      3\u001b[0m \u001b[1;31m#detection[4, 0:5] = 1.\u001b[0m\u001b[1;33m\u001b[0m\u001b[1;33m\u001b[0m\u001b[1;33m\u001b[0m\u001b[0m\n\u001b[1;32m----> 4\u001b[1;33m \u001b[0mdet\u001b[0m \u001b[1;33m=\u001b[0m \u001b[0mcreate_detection\u001b[0m\u001b[1;33m(\u001b[0m\u001b[0ml\u001b[0m\u001b[1;33m=\u001b[0m\u001b[1;36m5\u001b[0m\u001b[1;33m,\u001b[0m \u001b[0mseed\u001b[0m\u001b[1;33m=\u001b[0m\u001b[1;36m1\u001b[0m\u001b[1;33m)\u001b[0m\u001b[1;33m\u001b[0m\u001b[1;33m\u001b[0m\u001b[0m\n\u001b[0m\u001b[0;32m      5\u001b[0m \u001b[1;31m###detected = detect(sea, det)\u001b[0m\u001b[1;33m\u001b[0m\u001b[1;33m\u001b[0m\u001b[1;33m\u001b[0m\u001b[0m\n\u001b[0;32m      6\u001b[0m \u001b[1;33m\u001b[0m\u001b[0m\n",
      "\u001b[1;31mTypeError\u001b[0m: create_detection() got an unexpected keyword argument 'l'"
     ]
    }
   ],
   "source": [
    "sea = create_sea(0)\n",
    "#detection = np.zeros((10,10))\n",
    "#detection[4, 0:5] = 1.\n",
    "det = create_detection(l=5, seed=1)\n",
    "###detected = detect(sea, det)\n",
    "\n",
    "plt.imshow(sea*255)\n",
    "plot_sea(sea, det)"
   ]
  },
  {
   "cell_type": "code",
   "execution_count": 5,
   "metadata": {
    "ExecuteTime": {
     "end_time": "2023-11-05T15:18:34.872498Z",
     "start_time": "2023-11-05T15:18:34.735140Z"
    }
   },
   "outputs": [
    {
     "ename": "NameError",
     "evalue": "name 'ships' is not defined",
     "output_type": "error",
     "traceback": [
      "\u001b[1;31m---------------------------------------------------------------------------\u001b[0m",
      "\u001b[1;31mNameError\u001b[0m                                 Traceback (most recent call last)",
      "\u001b[1;32m<ipython-input-5-25f014366c38>\u001b[0m in \u001b[0;36m<module>\u001b[1;34m\u001b[0m\n\u001b[0;32m      1\u001b[0m \u001b[1;31m#ships = create_sea_ships()[1]\u001b[0m\u001b[1;33m\u001b[0m\u001b[1;33m\u001b[0m\u001b[1;33m\u001b[0m\u001b[0m\n\u001b[1;32m----> 2\u001b[1;33m \u001b[0mplt\u001b[0m\u001b[1;33m.\u001b[0m\u001b[0mimshow\u001b[0m\u001b[1;33m(\u001b[0m\u001b[0mships\u001b[0m\u001b[1;33m[\u001b[0m\u001b[1;33m:\u001b[0m\u001b[1;33m,\u001b[0m\u001b[1;33m:\u001b[0m\u001b[1;33m,\u001b[0m\u001b[1;36m3\u001b[0m\u001b[1;33m]\u001b[0m\u001b[1;33m)\u001b[0m\u001b[1;33m\u001b[0m\u001b[1;33m\u001b[0m\u001b[0m\n\u001b[0m\u001b[0;32m      3\u001b[0m \u001b[0mplt\u001b[0m\u001b[1;33m.\u001b[0m\u001b[0mimshow\u001b[0m\u001b[1;33m(\u001b[0m\u001b[0mships\u001b[0m\u001b[1;33m.\u001b[0m\u001b[0msum\u001b[0m\u001b[1;33m(\u001b[0m\u001b[1;33m-\u001b[0m\u001b[1;36m1\u001b[0m\u001b[1;33m)\u001b[0m\u001b[1;33m)\u001b[0m\u001b[1;33m\u001b[0m\u001b[1;33m\u001b[0m\u001b[0m\n",
      "\u001b[1;31mNameError\u001b[0m: name 'ships' is not defined"
     ]
    }
   ],
   "source": [
    "#ships = create_sea_ships()[1]\n",
    "plt.imshow(ships[:,:,3])\n",
    "plt.imshow(ships.sum(-1))"
   ]
  },
  {
   "cell_type": "markdown",
   "metadata": {},
   "source": [
    "### Modell trainieren"
   ]
  },
  {
   "cell_type": "code",
   "execution_count": 6,
   "metadata": {
    "ExecuteTime": {
     "end_time": "2023-11-05T15:18:36.496020Z",
     "start_time": "2023-11-05T15:18:36.348026Z"
    }
   },
   "outputs": [],
   "source": [
    "def encode_x(sea, det):\n",
    "    'Encodes the visible information to an input to the neural network'\n",
    "    return np.stack([(1-sea)*det, (1-det), sea*det], -1)\n",
    "    \n",
    "\n",
    "def batchgen(size=50):\n",
    "    while True:\n",
    "        xs, ys1, ys2 = [], [], []\n",
    "        for _ in range(size):\n",
    "            sea, ships = create_sea_ships()\n",
    "            det = create_detection()\n",
    "            x = encode_x(sea, det)\n",
    "            xs.append(x)\n",
    "            ys1.append(sea.reshape((10,10,1)))\n",
    "            ys2.append(ships)\n",
    "        yield np.array(xs), np.asarray(ys1), np.asarray(ys2)\n",
    "        "
   ]
  },
  {
   "cell_type": "code",
   "execution_count": 7,
   "metadata": {
    "ExecuteTime": {
     "end_time": "2023-11-05T15:18:37.004177Z",
     "start_time": "2023-11-05T15:18:36.808235Z"
    }
   },
   "outputs": [],
   "source": [
    "import torch\n",
    "from torch import nn\n",
    "from utils import *"
   ]
  },
  {
   "cell_type": "code",
   "execution_count": 8,
   "metadata": {
    "ExecuteTime": {
     "end_time": "2023-11-05T15:18:39.015842Z",
     "start_time": "2023-11-05T15:18:37.412363Z"
    }
   },
   "outputs": [],
   "source": [
    "relu = torch.nn.ReLU()\n",
    "sigmoid = torch.nn.Sigmoid()\n",
    "softmax = torch.nn.Softmax2d()\n",
    "\n",
    "class bship_nnet(nn.Module):\n",
    "    def __init__(self, n=32):\n",
    "        'BattleShip CNN. More than 1 blocks didnt make a difference.'\n",
    "        super().__init__()\n",
    "        self.conv1 = nn.Conv2d(3, n, 5, padding=2) # 10x10\n",
    "        self.down1 = ResBlockDown(n, 2*n)  # 5x5\n",
    "        self.down2 = ResBlockDown(2*n, 4*n) # 3x3\n",
    "        self.down3 = ResBlockDown(4*n, 8*n) # 2x2\n",
    "        self.resblock4 = ResBlock(8*n, 8*n)\n",
    "        self.resblock42= ResBlock(8*n, 8*n)\n",
    "        self.resblock3 = ResBlock(4*n, 4*n)\n",
    "        self.resblock32= ResBlock(4*n, 4*n)\n",
    "        self.resblock2 = ResBlock(2*n, 2*n)\n",
    "        self.resblock22= ResBlock(2*n, 2*n)\n",
    "        self.resblock1 = ResBlock(n, n)\n",
    "        self.resblock12= ResBlock(n, n)\n",
    "        self.sa = AttentionLayer(n, n)\n",
    "        self.up3 = ResBlockUp(8*n, 4*n)\n",
    "        self.up2 = ResBlockUp(4*n, 2*n)\n",
    "        self.up1 = ResBlockUp(2*n, n)\n",
    "        self.conv_m1 = nn.Conv2d(n, 1, 3, padding=1)\n",
    "        self.conv_m1_ships = nn.Conv2d(n, 4, 3, padding=1)\n",
    "        \n",
    "    def forward(self, x):\n",
    "        # NHWC zu NCHW\n",
    "        x = x.permute([0, 3, 1, 2])\n",
    "        \n",
    "        x = relu(self.conv1(x))\n",
    "        xskip1 = x\n",
    "        x = expandtoeven(x)\n",
    "        x = self.down1(x)\n",
    "        xskip2 = x\n",
    "        x = expandtoeven(x)\n",
    "        x = self.down2(x)\n",
    "        xskip3 = x\n",
    "        x = expandtoeven(x)\n",
    "        x = self.down3(x)\n",
    "\n",
    "        x = self.resblock4(x)\n",
    "        x = self.resblock42(x)\n",
    "        \n",
    "        x = self.up3(x)\n",
    "        x = addskip(x, xskip3)\n",
    "        x = self.resblock3(x)\n",
    "        x = self.resblock32(x)\n",
    "        x = self.up2(x)\n",
    "        x = addskip(x, xskip2)\n",
    "        x = self.resblock2(x)\n",
    "        x = self.resblock22(x)\n",
    "        x = self.up1(x)\n",
    "        x = addskip(x, xskip1)\n",
    "        x = self.resblock1(x)\n",
    "        x = self.sa(x)\n",
    "        x = self.resblock12(x)\n",
    "        \n",
    "        y = x\n",
    "        y = self.conv_m1_ships(y)\n",
    "        #y = softmax(y)\n",
    "        y = y.permute([0, 2, 3, 1])\n",
    "        self.res_ships = y\n",
    "        \n",
    "        y = x\n",
    "        y = self.conv_m1(y)\n",
    "        y = sigmoid(y)\n",
    "        \n",
    "        # NCHW zu NHWC\n",
    "        y = y.permute([0, 2, 3, 1])\n",
    "        return y\n",
    "    \n",
    "    def predict(self, x):\n",
    "        'Takes a numpy array and give out one, i. e. 10x10 -> 10x10'\n",
    "        x = np2t(x[None,:])\n",
    "        y = self(x)\n",
    "        return t2np(y[0,:,:,0])\n",
    "    \n",
    "    \n",
    "    \n",
    "def augment(x, y):\n",
    "    r = np.random.rand\n",
    "    if r()<0.5:\n",
    "        x, y = x.flip(1), y.flip(1)\n",
    "    if r()<0.5:\n",
    "        x, y = x.flip(2), y.flip(2)\n",
    "    if r()<0.5:\n",
    "        x, y = x.transpose(1,2), y.transpose(1,2)\n",
    "    return x, y\n",
    "\n",
    "\n",
    "net = bship_nnet().cuda();\n",
    "optimizer = torch.optim.Adam(lr=1e-3, params=net.parameters())\n",
    "net.losses = []\n",
    "net.iters = 0\n",
    "\n",
    "teacher = bship_nnet().cuda()\n",
    "teacher.load_state_dict(net.state_dict());\n",
    "teacher.eval();"
   ]
  },
  {
   "cell_type": "code",
   "execution_count": 12,
   "metadata": {
    "ExecuteTime": {
     "end_time": "2023-11-05T15:21:46.386061Z",
     "start_time": "2023-11-05T15:21:46.182118Z"
    }
   },
   "outputs": [],
   "source": [
    "with open('data/__battleships_unet.dat', 'rb') as f:\n",
    "    net.load_state_dict(torch.load(f))\n",
    "    teacher.load_state_dict(torch.load(f))"
   ]
  },
  {
   "cell_type": "code",
   "execution_count": 10,
   "metadata": {
    "ExecuteTime": {
     "end_time": "2023-11-05T15:18:41.384288Z",
     "start_time": "2023-11-05T15:18:41.216336Z"
    }
   },
   "outputs": [],
   "source": [
    "optimizer = torch.optim.Adam(lr=1e-4, params=net.parameters())\n",
    "tau = 0.99\n",
    "bg = batchgen(512)"
   ]
  },
  {
   "cell_type": "code",
   "execution_count": 11,
   "metadata": {
    "ExecuteTime": {
     "end_time": "2023-11-05T15:21:42.762433Z",
     "start_time": "2023-11-05T15:18:41.909464Z"
    },
    "scrolled": true
   },
   "outputs": [
    {
     "data": {
      "application/vnd.jupyter.widget-view+json": {
       "model_id": "89ae4b5d49ed4778aae094eb72bee910",
       "version_major": 2,
       "version_minor": 0
      },
      "text/plain": [
       "  0%|          | 0/400000 [00:00<?, ?it/s]"
      ]
     },
     "metadata": {},
     "output_type": "display_data"
    },
    {
     "name": "stderr",
     "output_type": "stream",
     "text": [
      "C:\\ProgramData\\Anaconda3\\lib\\site-packages\\ipykernel_launcher.py:15: UserWarning: Implicit dimension choice for log_softmax has been deprecated. Change the call to include dim=X as an argument.\n",
      "  from ipykernel import kernelapp as app\n"
     ]
    },
    {
     "data": {
      "image/png": "[encoded data removed]",
      "text/plain": [
       "<Figure size 432x288 with 1 Axes>"
      ]
     },
     "metadata": {
      "needs_background": "light"
     },
     "output_type": "display_data"
    },
    {
     "name": "stdout",
     "output_type": "stream",
     "text": [
      "1.1142677068710327\n",
      "0.49747149910777805\n"
     ]
    },
    {
     "data": {
      "image/png": "[encoded data removed]",
      "text/plain": [
       "<Figure size 432x288 with 1 Axes>"
      ]
     },
     "metadata": {
      "needs_background": "light"
     },
     "output_type": "display_data"
    },
    {
     "name": "stdout",
     "output_type": "stream",
     "text": [
      "1.1860408782958984\n",
      "0.036722488068044186\n"
     ]
    },
    {
     "data": {
      "image/png": "[encoded data removed]",
      "text/plain": [
       "<Figure size 432x288 with 1 Axes>"
      ]
     },
     "metadata": {
      "needs_background": "light"
     },
     "output_type": "display_data"
    },
    {
     "name": "stdout",
     "output_type": "stream",
     "text": [
      "1.164207100868225\n"
     ]
    },
    {
     "ename": "KeyboardInterrupt",
     "evalue": "",
     "output_type": "error",
     "traceback": [
      "\u001b[1;31m---------------------------------------------------------------------------\u001b[0m",
      "\u001b[1;31mKeyboardInterrupt\u001b[0m                         Traceback (most recent call last)",
      "\u001b[1;32m<ipython-input-11-759fc73be777>\u001b[0m in \u001b[0;36m<module>\u001b[1;34m\u001b[0m\n\u001b[0;32m      8\u001b[0m \u001b[1;33m\u001b[0m\u001b[0m\n\u001b[0;32m      9\u001b[0m     \u001b[1;31m# Supervised Learning\u001b[0m\u001b[1;33m\u001b[0m\u001b[1;33m\u001b[0m\u001b[1;33m\u001b[0m\u001b[0m\n\u001b[1;32m---> 10\u001b[1;33m     \u001b[0mx\u001b[0m\u001b[1;33m,\u001b[0m \u001b[0myt1\u001b[0m\u001b[1;33m,\u001b[0m \u001b[0myt2\u001b[0m \u001b[1;33m=\u001b[0m \u001b[0mnext\u001b[0m\u001b[1;33m(\u001b[0m\u001b[0mbg\u001b[0m\u001b[1;33m)\u001b[0m\u001b[1;33m\u001b[0m\u001b[1;33m\u001b[0m\u001b[0m\n\u001b[0m\u001b[0;32m     11\u001b[0m     \u001b[0mx\u001b[0m\u001b[1;33m,\u001b[0m \u001b[0myt1\u001b[0m\u001b[1;33m,\u001b[0m \u001b[0myt2\u001b[0m \u001b[1;33m=\u001b[0m \u001b[0mnp2t\u001b[0m\u001b[1;33m(\u001b[0m\u001b[0mx\u001b[0m\u001b[1;33m,\u001b[0m \u001b[0myt1\u001b[0m\u001b[1;33m,\u001b[0m \u001b[0myt2\u001b[0m\u001b[1;33m)\u001b[0m\u001b[1;33m\u001b[0m\u001b[1;33m\u001b[0m\u001b[0m\n\u001b[0;32m     12\u001b[0m     \u001b[0myp\u001b[0m \u001b[1;33m=\u001b[0m \u001b[0mnet\u001b[0m\u001b[1;33m(\u001b[0m\u001b[0mx\u001b[0m\u001b[1;33m)\u001b[0m\u001b[1;33m\u001b[0m\u001b[1;33m\u001b[0m\u001b[0m\n",
      "\u001b[1;32m<ipython-input-6-b0ea8c011a03>\u001b[0m in \u001b[0;36mbatchgen\u001b[1;34m(size)\u001b[0m\n\u001b[0;32m     10\u001b[0m             \u001b[0msea\u001b[0m\u001b[1;33m,\u001b[0m \u001b[0mships\u001b[0m \u001b[1;33m=\u001b[0m \u001b[0mcreate_sea_ships\u001b[0m\u001b[1;33m(\u001b[0m\u001b[1;33m)\u001b[0m\u001b[1;33m\u001b[0m\u001b[1;33m\u001b[0m\u001b[0m\n\u001b[0;32m     11\u001b[0m             \u001b[0mdet\u001b[0m \u001b[1;33m=\u001b[0m \u001b[0mcreate_detection\u001b[0m\u001b[1;33m(\u001b[0m\u001b[1;33m)\u001b[0m\u001b[1;33m\u001b[0m\u001b[1;33m\u001b[0m\u001b[0m\n\u001b[1;32m---> 12\u001b[1;33m             \u001b[0mx\u001b[0m \u001b[1;33m=\u001b[0m \u001b[0mencode_x\u001b[0m\u001b[1;33m(\u001b[0m\u001b[0msea\u001b[0m\u001b[1;33m,\u001b[0m \u001b[0mdet\u001b[0m\u001b[1;33m)\u001b[0m\u001b[1;33m\u001b[0m\u001b[1;33m\u001b[0m\u001b[0m\n\u001b[0m\u001b[0;32m     13\u001b[0m             \u001b[0mxs\u001b[0m\u001b[1;33m.\u001b[0m\u001b[0mappend\u001b[0m\u001b[1;33m(\u001b[0m\u001b[0mx\u001b[0m\u001b[1;33m)\u001b[0m\u001b[1;33m\u001b[0m\u001b[1;33m\u001b[0m\u001b[0m\n\u001b[0;32m     14\u001b[0m             \u001b[0mys1\u001b[0m\u001b[1;33m.\u001b[0m\u001b[0mappend\u001b[0m\u001b[1;33m(\u001b[0m\u001b[0msea\u001b[0m\u001b[1;33m.\u001b[0m\u001b[0mreshape\u001b[0m\u001b[1;33m(\u001b[0m\u001b[1;33m(\u001b[0m\u001b[1;36m10\u001b[0m\u001b[1;33m,\u001b[0m\u001b[1;36m10\u001b[0m\u001b[1;33m,\u001b[0m\u001b[1;36m1\u001b[0m\u001b[1;33m)\u001b[0m\u001b[1;33m)\u001b[0m\u001b[1;33m)\u001b[0m\u001b[1;33m\u001b[0m\u001b[1;33m\u001b[0m\u001b[0m\n",
      "\u001b[1;32m<ipython-input-6-b0ea8c011a03>\u001b[0m in \u001b[0;36mencode_x\u001b[1;34m(sea, det)\u001b[0m\n\u001b[0;32m      1\u001b[0m \u001b[1;32mdef\u001b[0m \u001b[0mencode_x\u001b[0m\u001b[1;33m(\u001b[0m\u001b[0msea\u001b[0m\u001b[1;33m,\u001b[0m \u001b[0mdet\u001b[0m\u001b[1;33m)\u001b[0m\u001b[1;33m:\u001b[0m\u001b[1;33m\u001b[0m\u001b[1;33m\u001b[0m\u001b[0m\n\u001b[0;32m      2\u001b[0m     \u001b[1;34m'Encodes the visible information to an input to the neural network'\u001b[0m\u001b[1;33m\u001b[0m\u001b[1;33m\u001b[0m\u001b[0m\n\u001b[1;32m----> 3\u001b[1;33m     \u001b[1;32mreturn\u001b[0m \u001b[0mnp\u001b[0m\u001b[1;33m.\u001b[0m\u001b[0mstack\u001b[0m\u001b[1;33m(\u001b[0m\u001b[1;33m[\u001b[0m\u001b[1;33m(\u001b[0m\u001b[1;36m1\u001b[0m\u001b[1;33m-\u001b[0m\u001b[0msea\u001b[0m\u001b[1;33m)\u001b[0m\u001b[1;33m*\u001b[0m\u001b[0mdet\u001b[0m\u001b[1;33m,\u001b[0m \u001b[1;33m(\u001b[0m\u001b[1;36m1\u001b[0m\u001b[1;33m-\u001b[0m\u001b[0mdet\u001b[0m\u001b[1;33m)\u001b[0m\u001b[1;33m,\u001b[0m \u001b[0msea\u001b[0m\u001b[1;33m*\u001b[0m\u001b[0mdet\u001b[0m\u001b[1;33m]\u001b[0m\u001b[1;33m,\u001b[0m \u001b[1;33m-\u001b[0m\u001b[1;36m1\u001b[0m\u001b[1;33m)\u001b[0m\u001b[1;33m\u001b[0m\u001b[1;33m\u001b[0m\u001b[0m\n\u001b[0m\u001b[0;32m      4\u001b[0m \u001b[1;33m\u001b[0m\u001b[0m\n\u001b[0;32m      5\u001b[0m \u001b[1;33m\u001b[0m\u001b[0m\n",
      "\u001b[1;32m<__array_function__ internals>\u001b[0m in \u001b[0;36mstack\u001b[1;34m(*args, **kwargs)\u001b[0m\n",
      "\u001b[1;32mC:\\ProgramData\\Anaconda3\\lib\\site-packages\\numpy\\core\\shape_base.py\u001b[0m in \u001b[0;36mstack\u001b[1;34m(arrays, axis, out)\u001b[0m\n\u001b[0;32m    431\u001b[0m     \u001b[0msl\u001b[0m \u001b[1;33m=\u001b[0m \u001b[1;33m(\u001b[0m\u001b[0mslice\u001b[0m\u001b[1;33m(\u001b[0m\u001b[1;32mNone\u001b[0m\u001b[1;33m)\u001b[0m\u001b[1;33m,\u001b[0m\u001b[1;33m)\u001b[0m \u001b[1;33m*\u001b[0m \u001b[0maxis\u001b[0m \u001b[1;33m+\u001b[0m \u001b[1;33m(\u001b[0m\u001b[0m_nx\u001b[0m\u001b[1;33m.\u001b[0m\u001b[0mnewaxis\u001b[0m\u001b[1;33m,\u001b[0m\u001b[1;33m)\u001b[0m\u001b[1;33m\u001b[0m\u001b[1;33m\u001b[0m\u001b[0m\n\u001b[0;32m    432\u001b[0m     \u001b[0mexpanded_arrays\u001b[0m \u001b[1;33m=\u001b[0m \u001b[1;33m[\u001b[0m\u001b[0marr\u001b[0m\u001b[1;33m[\u001b[0m\u001b[0msl\u001b[0m\u001b[1;33m]\u001b[0m \u001b[1;32mfor\u001b[0m \u001b[0marr\u001b[0m \u001b[1;32min\u001b[0m \u001b[0marrays\u001b[0m\u001b[1;33m]\u001b[0m\u001b[1;33m\u001b[0m\u001b[1;33m\u001b[0m\u001b[0m\n\u001b[1;32m--> 433\u001b[1;33m     \u001b[1;32mreturn\u001b[0m \u001b[0m_nx\u001b[0m\u001b[1;33m.\u001b[0m\u001b[0mconcatenate\u001b[0m\u001b[1;33m(\u001b[0m\u001b[0mexpanded_arrays\u001b[0m\u001b[1;33m,\u001b[0m \u001b[0maxis\u001b[0m\u001b[1;33m=\u001b[0m\u001b[0maxis\u001b[0m\u001b[1;33m,\u001b[0m \u001b[0mout\u001b[0m\u001b[1;33m=\u001b[0m\u001b[0mout\u001b[0m\u001b[1;33m)\u001b[0m\u001b[1;33m\u001b[0m\u001b[1;33m\u001b[0m\u001b[0m\n\u001b[0m\u001b[0;32m    434\u001b[0m \u001b[1;33m\u001b[0m\u001b[0m\n\u001b[0;32m    435\u001b[0m \u001b[1;33m\u001b[0m\u001b[0m\n",
      "\u001b[1;32m<__array_function__ internals>\u001b[0m in \u001b[0;36mconcatenate\u001b[1;34m(*args, **kwargs)\u001b[0m\n",
      "\u001b[1;31mKeyboardInterrupt\u001b[0m: "
     ]
    }
   ],
   "source": [
    "BCE = nn.BCELoss()\n",
    "MSE = nn.MSELoss()\n",
    "LogSoftmax = nn.LogSoftmax()\n",
    "losses = []\n",
    "slosses = []\n",
    "\n",
    "for _ in trange(400000):\n",
    "    \n",
    "    # Supervised Learning\n",
    "    x, yt1, yt2 = next(bg)\n",
    "    x, yt1, yt2 = np2t(x, yt1, yt2)\n",
    "    yp = net(x)\n",
    "    yp = yp * x[:,:,:,[1]] + 0.5 * (1-x[:,:,:,[1]])\n",
    "    loss = BCE(yp.view(-1), yt1.view(-1))\n",
    "    loss2 = -torch.mean(torch.sum(LogSoftmax(net.res_ships) * yt2, axis=[1]))\n",
    "    losses += [loss.item()]\n",
    "    (loss+loss2).backward()\n",
    "        \n",
    "    # Semisupervised Learning\n",
    "    x, _, _ = next(bg)\n",
    "    x = np2t(x)\n",
    "    with torch.no_grad():\n",
    "        y = teacher(x)\n",
    "    x, y = augment(x, y)\n",
    "    y2 = net(x)\n",
    "    sloss = 50*MSE(y, y2)\n",
    "    sloss.backward()\n",
    "    slosses += [sloss.item()]\n",
    "    \n",
    "    optimizer.step()\n",
    "    optimizer.zero_grad()\n",
    "    update_mt(teacher, net, tau)\n",
    "    \n",
    "    if len(losses) == 100:\n",
    "        #print(np.mean(losses))\n",
    "        print(np.mean(slosses))\n",
    "        net.losses.append((net.iters, np.mean(losses)))\n",
    "        losses = []\n",
    "        slosses = []\n",
    "        \n",
    "    if net.iters % 100 == 0:\n",
    "        plt.plot(*zip(*net.losses))\n",
    "        #plt.ylim([0.58, 0.6])\n",
    "        plt.grid()\n",
    "        plt.show()\n",
    "        print(loss2.item())\n",
    "        \n",
    "    if net.iters % 1000 == 0:\n",
    "        with open('data/__battleships_unet.dat', 'wb') as f:\n",
    "            torch.save(net.state_dict(), f)\n",
    "        \n",
    "    net.iters += 1\n",
    "        "
   ]
  },
  {
   "cell_type": "code",
   "execution_count": null,
   "metadata": {
    "ExecuteTime": {
     "end_time": "2023-11-05T15:18:21.159757Z",
     "start_time": "2023-11-05T15:18:16.840Z"
    }
   },
   "outputs": [],
   "source": [
    "net.losses"
   ]
  },
  {
   "cell_type": "code",
   "execution_count": null,
   "metadata": {
    "ExecuteTime": {
     "end_time": "2023-11-05T15:18:21.159757Z",
     "start_time": "2023-11-05T15:18:16.842Z"
    }
   },
   "outputs": [],
   "source": [
    "sea = njit_create_sea()\n",
    "#det = create_detection()\n",
    "det = np.random.rand(10,10) < 0.75\n",
    "prob = net.predict(encode_x(sea, det))\n",
    "prob[det > 0] = 0\n",
    "plt.imshow(visualize(sea, det))\n",
    "plt.show()\n",
    "plt.imshow(prob, vmax=1.)\n",
    "plt.colorbar()\n",
    "plt.show()"
   ]
  },
  {
   "cell_type": "code",
   "execution_count": null,
   "metadata": {
    "ExecuteTime": {
     "end_time": "2023-11-05T15:18:21.163756Z",
     "start_time": "2023-11-05T15:18:16.844Z"
    },
    "run_control": {
     "marked": false
    }
   },
   "outputs": [],
   "source": [
    "sea = njit_create_sea()\n",
    "prob = net.predict(encode_x(sea, det))\n",
    "plt.imshow(prob)"
   ]
  },
  {
   "cell_type": "code",
   "execution_count": null,
   "metadata": {
    "ExecuteTime": {
     "end_time": "2023-11-05T15:18:21.163756Z",
     "start_time": "2023-11-05T15:18:16.846Z"
    },
    "scrolled": false
   },
   "outputs": [],
   "source": [
    "sea = np.zeros((10,10))\n",
    "det = np.zeros((10,10))\n",
    "while np.any(1-det):\n",
    "    prob = net.predict(encode_x(sea, det))\n",
    "    prob[det > 0] = 0\n",
    "    ij = np.random.choice(range(100), p=prob.flatten()/np.sum(prob))\n",
    "    i, j = divmod(ij, 10)\n",
    "    det[i,j] = 1\n",
    "    sea[i,j] = 1 if np.random.rand()<prob[i,j] else 0\n",
    "\n",
    "    #plt.imshow(visualize(sea, det))\n",
    "    #plt.show()\n",
    "    #plt.imshow(prob, vmax=1.)\n",
    "    #plt.show()\n",
    "    \n",
    "plt.imshow(visualize(sea, det))"
   ]
  },
  {
   "cell_type": "markdown",
   "metadata": {},
   "source": [
    "### AI spielt"
   ]
  },
  {
   "cell_type": "code",
   "execution_count": null,
   "metadata": {
    "ExecuteTime": {
     "end_time": "2023-11-05T15:18:21.163756Z",
     "start_time": "2023-11-05T15:18:16.849Z"
    }
   },
   "outputs": [],
   "source": [
    "from vidcapture import *"
   ]
  },
  {
   "cell_type": "code",
   "execution_count": null,
   "metadata": {
    "ExecuteTime": {
     "end_time": "2023-11-05T15:18:21.167754Z",
     "start_time": "2023-11-05T15:18:16.853Z"
    }
   },
   "outputs": [],
   "source": [
    "# gegeben: sea, model\n",
    "det = np.zeros((10,10))\n",
    "sea = create_sea(100)\n",
    "##det = create_detection()\n",
    "i,j = [],[]\n",
    "#vc = vidcapture('F:/$Daten/vidcaptures/battleships cnn/frame%05d.png')\n",
    "\n",
    "while True:\n",
    "    prob = net.predict(encode_x(sea, det))\n",
    "    prob[det > 0] = 0\n",
    "    percent = 0. if np.sum(det)==0 else 100*np.sum(det*sea)/(np.sum(det)+1e-2)\n",
    "    text = f'Hits: %d, Shots: %d, Percentage: %.1f %%' % (np.sum(det*sea), np.sum(det), percent)\n",
    "    \n",
    "    fig, (ax1, ax2) = plt.subplots(1, 2, figsize=(12, 8))\n",
    "    ax1.title.set_text('Map')\n",
    "    ax2.title.set_text('Neural Network prediction')\n",
    "    ##fig.text(1/2,0.8, text, fontdict={})\n",
    "    ax1.axis('off')\n",
    "    #ax1.imshow(visualize(sea, det), vmin=0., vmax=3.)\n",
    "    plot_sea(sea, det, ax1)\n",
    "    ax1.scatter(j, i, c='black', alpha=1, s=150)\n",
    "    ax2.axis('off')\n",
    "    ax2.imshow(prob)\n",
    "    #plt.title(text)\n",
    "    #vc.capture()\n",
    "    plt.show()\n",
    "    \n",
    "    if np.sum(det*sea) >= np.sum(sea): break\n",
    "        \n",
    "    # Welchen Detektieren??\n",
    "    m = prob.argmax()\n",
    "    i, j = m//10, m%10\n",
    "    det[i,j] = 1.\n",
    "\n",
    "    "
   ]
  },
  {
   "cell_type": "code",
   "execution_count": 13,
   "metadata": {
    "ExecuteTime": {
     "end_time": "2023-11-05T15:24:48.901245Z",
     "start_time": "2023-11-05T15:21:53.819962Z"
    }
   },
   "outputs": [
    {
     "data": {
      "application/vnd.jupyter.widget-view+json": {
       "model_id": "3ccd9e7f5898460e8f9c46c279e0295a",
       "version_major": 2,
       "version_minor": 0
      },
      "text/plain": [
       "  0%|          | 0/100 [00:00<?, ?it/s]"
      ]
     },
     "metadata": {},
     "output_type": "display_data"
    }
   ],
   "source": [
    "\n",
    "# Viele Spiele spielen und score sehen\n",
    "from bs_gameclass import *\n",
    "\n",
    "rs = []\n",
    "for _ in trange(100):\n",
    "    s = GameState()\n",
    "    h = create_sea()\n",
    "    r = 0\n",
    "    while not GameClass.getEnded(s):\n",
    "        prob = net.predict(encode_x(s.sea, s.det))\n",
    "        prob[s.det==1] = 0\n",
    "        ij = argmax2d(prob)\n",
    "        s = GameClass.getNextState(s, ij, h)\n",
    "        r += h[ij]*np.mean(1-s.det)\n",
    "        #plot_state(s)\n",
    "        #plt.show()\n",
    "    rs.append(r)"
   ]
  },
  {
   "cell_type": "code",
   "execution_count": 14,
   "metadata": {
    "ExecuteTime": {
     "end_time": "2023-11-05T15:25:04.607335Z",
     "start_time": "2023-11-05T15:25:02.813221Z"
    }
   },
   "outputs": [
    {
     "data": {
      "text/plain": [
       "(19.9358, 1.0499201683937696)"
      ]
     },
     "execution_count": 14,
     "metadata": {},
     "output_type": "execute_result"
    },
    {
     "data": {
      "image/png": "[encoded data removed]",
      "text/plain": [
       "<Figure size 432x288 with 1 Axes>"
      ]
     },
     "metadata": {
      "needs_background": "light"
     },
     "output_type": "display_data"
    }
   ],
   "source": [
    "import seaborn as sns\n",
    "plt.hist(rs)\n",
    "np.mean(rs), np.std(rs)"
   ]
  },
  {
   "cell_type": "code",
   "execution_count": null,
   "metadata": {},
   "outputs": [],
   "source": []
  }
 ],
 "metadata": {
  "kernelspec": {
   "display_name": "Python 3",
   "language": "python",
   "name": "python3"
  },
  "language_info": {
   "codemirror_mode": {
    "name": "ipython",
    "version": 3
   },
   "file_extension": ".py",
   "mimetype": "text/x-python",
   "name": "python",
   "nbconvert_exporter": "python",
   "pygments_lexer": "ipython3",
   "version": "3.7.7"
  },
  "varInspector": {
   "cols": {
    "lenName": 16,
    "lenType": 16,
    "lenVar": 40
   },
   "kernels_config": {
    "python": {
     "delete_cmd_postfix": "",
     "delete_cmd_prefix": "del ",
     "library": "var_list.py",
     "varRefreshCmd": "print(var_dic_list())"
    },
    "r": {
     "delete_cmd_postfix": ") ",
     "delete_cmd_prefix": "rm(",
     "library": "var_list.r",
     "varRefreshCmd": "cat(var_dic_list()) "
    }
   },
   "types_to_exclude": [
    "module",
    "function",
    "builtin_function_or_method",
    "instance",
    "_Feature"
   ],
   "window_display": false
  }
 },
 "nbformat": 4,
 "nbformat_minor": 2
}
