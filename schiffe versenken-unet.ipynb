{
 "cells": [
  {
   "cell_type": "code",
   "execution_count": 12,
   "metadata": {
    "ExecuteTime": {
     "end_time": "2023-10-24T19:53:15.378224Z",
     "start_time": "2023-10-24T19:53:14.599454Z"
    }
   },
   "outputs": [],
   "source": [
    "import numpy as np\n",
    "import matplotlib.pyplot as plt\n",
    "%matplotlib inline\n",
    "import random\n",
    "from tqdm.notebook import tqdm, trange\n",
    "import pickle as pkl\n",
    "%load_ext autoreload\n",
    "%autoreload 2"
   ]
  },
  {
   "cell_type": "code",
   "execution_count": null,
   "metadata": {
    "ExecuteTime": {
     "end_time": "2023-10-24T21:17:53.947749Z",
     "start_time": "2023-10-24T20:40:03.396Z"
    }
   },
   "outputs": [],
   "source": [
    "# Erstellt August 2020\n",
    "# (c) mha\n",
    "\n",
    "def create_sea_ships(seed=None):\n",
    "    'Creates a sea with random ships on it'\n",
    "    rng = random.Random(seed)\n",
    "    sea = np.zeros((10,10))\n",
    "    ships = np.zeros((10,10,4)) # extra information which kind of ship is where\n",
    "    for k, l in enumerate([5,4,3,2]): # Länge\n",
    "        n = 6-l # Anzahl\n",
    "        for _ in range(n):\n",
    "            # Boot mit Länge l platzieren\n",
    "            while True:\n",
    "                t = rng.random() < 0.5\n",
    "                if t:\n",
    "                    sea = sea.T # Transponieren\n",
    "                    ships = ships.transpose(1,0,2)\n",
    "                px = rng.randint(0, 10-l)\n",
    "                py = rng.randint(0, 9)\n",
    "                if sum(sea[px:px+l,py]) > 0:\n",
    "                    continue\n",
    "                sea[px:px+l, py] = 1\n",
    "                ships[px:px+l, py, k] = 1\n",
    "                if t:\n",
    "                    sea = sea.T # Transponieren\n",
    "                    ships = ships.transpose(1,0,2)\n",
    "                break\n",
    "    return sea, ships\n",
    "\n",
    "def create_detection(seed=None, l=5):\n",
    "    'Creates a random detected array (for test purposes)'\n",
    "    rng = random.Random(seed)\n",
    "    det = np.zeros((10,10))\n",
    "    px = rng.randint(0, 10-l)\n",
    "    py = rng.randint(0, 9)\n",
    "    det[px:px+l, py] = 1\n",
    "    \n",
    "    if rng.random() < 0.5: \n",
    "        det = det.T\n",
    "    return det\n",
    "\n",
    "def visualize(sea, detection):\n",
    "    'Erstellt eine Veranschaulichung, 0 bzw. 4 sind detektiertes Wasser bzw. Schiff, 1 und 2 sind undetektiert.'\n",
    "    return sea + sea*detection + 1 - ((1-sea)*detection)\n",
    "\n",
    "def plot_sea(sea, det, ax=None):\n",
    "    if ax is None: ax = plt.gca()\n",
    "    #ax.imshow(visualize(sea, det), vmin=-2, cmap='plasma')\n",
    "    ax.imshow(visualize(sea, det), vmin=-1, vmax=3.15, cmap='cividis')\n",
    "    ax.axis('off')"
   ]
  },
  {
   "cell_type": "code",
   "execution_count": 34,
   "metadata": {
    "ExecuteTime": {
     "end_time": "2023-10-24T19:58:21.735870Z",
     "start_time": "2023-10-24T19:58:21.567849Z"
    }
   },
   "outputs": [],
   "source": [
    "from numba import njit, jit\n",
    "\n",
    "@njit(cache=True)\n",
    "def njit_create_sea():\n",
    "    'Creates a sea with random ships on it'\n",
    "    sea = np.zeros((10,10))\n",
    "    for l in [5,4,3,2]: # Länge\n",
    "        n = 6-l # Anzahl\n",
    "        for _ in range(n):\n",
    "            # Boot mit Länge l platzieren\n",
    "            while True:\n",
    "                t = np.random.rand() < 0.5\n",
    "                if t: sea = sea.T # Transponieren\n",
    "                px = np.random.randint(0, 11-l)\n",
    "                py = np.random.randint(0, 10)\n",
    "                if np.sum(sea[px:px+l,py]) > 0:\n",
    "                    continue\n",
    "                sea[px:px+l, py] = 1\n",
    "                if t: sea = sea.T # Transponieren\n",
    "                break\n",
    "    return sea"
   ]
  },
  {
   "cell_type": "code",
   "execution_count": 8,
   "metadata": {
    "ExecuteTime": {
     "end_time": "2023-10-22T20:38:44.323364Z",
     "start_time": "2023-10-22T20:38:44.123416Z"
    }
   },
   "outputs": [
    {
     "data": {
      "image/png": "[encoded data removed]",
      "text/plain": [
       "<Figure size 432x288 with 1 Axes>"
      ]
     },
     "metadata": {
      "needs_background": "light"
     },
     "output_type": "display_data"
    }
   ],
   "source": [
    "sea = create_sea(0)\n",
    "#detection = np.zeros((10,10))\n",
    "#detection[4, 0:5] = 1.\n",
    "det = create_detection(l=5, seed=1)\n",
    "###detected = detect(sea, det)\n",
    "\n",
    "plt.imshow(sea*255)\n",
    "plot_sea(sea, det)"
   ]
  },
  {
   "cell_type": "code",
   "execution_count": 44,
   "metadata": {
    "ExecuteTime": {
     "end_time": "2023-10-24T19:59:55.998059Z",
     "start_time": "2023-10-24T19:59:55.729120Z"
    }
   },
   "outputs": [
    {
     "data": {
      "text/plain": [
       "<matplotlib.image.AxesImage at 0x15bb5b49108>"
      ]
     },
     "execution_count": 44,
     "metadata": {},
     "output_type": "execute_result"
    },
    {
     "data": {
      "image/png": "[encoded data removed]",
      "text/plain": [
       "<Figure size 432x288 with 1 Axes>"
      ]
     },
     "metadata": {
      "needs_background": "light"
     },
     "output_type": "display_data"
    }
   ],
   "source": [
    "#ships = create_sea_ships()[1]\n",
    "plt.imshow(ships[:,:,3])\n",
    "plt.imshow(ships.sum(-1))"
   ]
  },
  {
   "cell_type": "markdown",
   "metadata": {},
   "source": [
    "### Modell trainieren"
   ]
  },
  {
   "cell_type": "code",
   "execution_count": 19,
   "metadata": {
    "ExecuteTime": {
     "end_time": "2023-10-24T19:54:28.028211Z",
     "start_time": "2023-10-24T19:54:27.871796Z"
    }
   },
   "outputs": [],
   "source": [
    "def encode_x(sea, det):\n",
    "    'Encodes the visible information to an input to the neural network'\n",
    "    return np.stack([(1-sea)*det, (1-det), sea*det], -1)\n",
    "    \n",
    "\n",
    "def batchgen(size=50):\n",
    "    while True:\n",
    "        xs, ys1, ys2 = [], [], []\n",
    "        for _ in range(size):\n",
    "            sea, ships = create_sea_ships()\n",
    "            r = np.random.rand()\n",
    "            if r < 0.25:\n",
    "                det = np.random.rand(10,10) < np.random.rand()\n",
    "            elif r < 0.5:\n",
    "                det = np.random.rand(10,10) < 1/30*np.random.rand()\n",
    "            elif r < 0.75:\n",
    "                det = np.random.rand(10,10) < 1/6*np.random.rand()\n",
    "            else:\n",
    "                det = np.random.rand(10,10) < 0.5*np.random.rand()\n",
    "            x = encode_x(sea, det)\n",
    "            xs.append(x)\n",
    "            ys1.append(sea.reshape((10,10,1)))\n",
    "            ys2.append(ships)\n",
    "        yield np.array(xs), np.asarray(ys1), np.asarray(ys2)\n",
    "        "
   ]
  },
  {
   "cell_type": "code",
   "execution_count": 4,
   "metadata": {
    "ExecuteTime": {
     "end_time": "2023-10-24T19:41:55.104423Z",
     "start_time": "2023-10-24T19:41:51.164836Z"
    }
   },
   "outputs": [],
   "source": [
    "import torch\n",
    "from torch import nn\n",
    "from utils import *"
   ]
  },
  {
   "cell_type": "code",
   "execution_count": 59,
   "metadata": {
    "ExecuteTime": {
     "end_time": "2023-10-24T20:05:47.259747Z",
     "start_time": "2023-10-24T20:05:47.018179Z"
    }
   },
   "outputs": [],
   "source": [
    "relu = torch.nn.ReLU()\n",
    "sigmoid = torch.nn.Sigmoid()\n",
    "softmax = torch.nn.Softmax2d()\n",
    "\n",
    "class bship_nnet(nn.Module):\n",
    "    def __init__(self, n=32):\n",
    "        'BattleShip CNN. More than 1 blocks didnt make a difference.'\n",
    "        super().__init__()\n",
    "        self.conv1 = nn.Conv2d(3, n, 5, padding=2) # 10x10\n",
    "        self.down1 = ResBlockDown(n, 2*n)  # 5x5\n",
    "        self.down2 = ResBlockDown(2*n, 4*n) # 3x3\n",
    "        self.down3 = ResBlockDown(4*n, 8*n) # 2x2\n",
    "        self.resblock4 = ResBlock(8*n, 8*n)\n",
    "        self.resblock3 = ResBlock(4*n, 4*n)\n",
    "        self.resblock2 = ResBlock(2*n, 2*n)\n",
    "        self.resblock1 = ResBlock(n, n)\n",
    "        self.up3 = ResBlockUp(8*n, 4*n)\n",
    "        self.up2 = ResBlockUp(4*n, 2*n)\n",
    "        self.up1 = ResBlockUp(2*n, n)\n",
    "        self.conv_m1 = nn.Conv2d(n, 1, 3, padding=1)\n",
    "        self.conv_m1_ships = nn.Conv2d(n, 4, 3, padding=1)\n",
    "        \n",
    "    def forward(self, x):\n",
    "        # NHWC zu NCHW\n",
    "        x = x.permute([0, 3, 1, 2])\n",
    "        \n",
    "        x = relu(self.conv1(x))\n",
    "        #print(x.shape)\n",
    "        xskip1 = x\n",
    "        x = expandtoeven(x)\n",
    "        x = self.down1(x)\n",
    "        #print(x.shape)\n",
    "        xskip2 = x\n",
    "        x = expandtoeven(x)\n",
    "        x = self.down2(x)\n",
    "        #print(x.shape)\n",
    "        xskip3 = x\n",
    "        x = expandtoeven(x)\n",
    "        x = self.down3(x)\n",
    "        #print(x.shape)\n",
    "\n",
    "        x = self.resblock4(x)\n",
    "        #print(x.shape)\n",
    "        \n",
    "        x = self.up3(x)\n",
    "        x = addskip(x, xskip3)\n",
    "        x = self.resblock3(x)\n",
    "        #print(x.shape)\n",
    "        x = self.up2(x)\n",
    "        x = addskip(x, xskip2)\n",
    "        x = self.resblock2(x)\n",
    "        #print(x.shape)\n",
    "        x = self.up1(x)\n",
    "        #print(x.shape, xskip1.shape)\n",
    "        x = addskip(x, xskip1)\n",
    "        x = self.resblock1(x)\n",
    "        #print(x.shape)\n",
    "        \n",
    "        y = x\n",
    "        y = self.conv_m1_ships(y)\n",
    "        #y = softmax(y)\n",
    "        y = y.permute([0, 2, 3, 1])\n",
    "        self.res_ships = y\n",
    "        \n",
    "        y = x\n",
    "        y = self.conv_m1(y)\n",
    "        y = sigmoid(y)\n",
    "        \n",
    "        # NCHW zu NHWC\n",
    "        y = y.permute([0, 2, 3, 1])\n",
    "        return y\n",
    "    \n",
    "    def predict(self, x):\n",
    "        'Takes a numpy array and give out one, i. e. 10x10 -> 10x10'\n",
    "        x = np2t(x[None,:])\n",
    "        y = self(x)\n",
    "        return t2np(y[0,:,:,0])\n",
    "    \n",
    "    \n",
    "    \n",
    "def augment(x, y):\n",
    "    r = np.random.rand\n",
    "    if r()<0.5:\n",
    "        x, y = x.flip(1), y.flip(1)\n",
    "    if r()<0.5:\n",
    "        x, y = x.flip(2), y.flip(2)\n",
    "    if r()<0.5:\n",
    "        x, y = x.transpose(1,2), y.transpose(1,2)\n",
    "    return x, y\n",
    "\n",
    "\n",
    "net = bship_nnet().cuda();\n",
    "optimizer = torch.optim.Adam(lr=1e-3, params=net.parameters())\n",
    "net.losses = []\n",
    "net.iters = 0\n",
    "\n",
    "teacher = bship_nnet().cuda()\n",
    "teacher.load_state_dict(net.state_dict());\n",
    "teacher.eval();"
   ]
  },
  {
   "cell_type": "code",
   "execution_count": 12,
   "metadata": {
    "ExecuteTime": {
     "end_time": "2023-10-22T20:38:47.563607Z",
     "start_time": "2023-10-22T20:38:47.353610Z"
    },
    "deletable": false,
    "editable": false,
    "run_control": {
     "frozen": true
    }
   },
   "outputs": [],
   "source": [
    "with open('data/battleships_unet.pkl', 'rb') as f:\n",
    "    net.load_state_dict(torch.load(f))"
   ]
  },
  {
   "cell_type": "code",
   "execution_count": 99,
   "metadata": {
    "ExecuteTime": {
     "end_time": "2023-10-25T21:13:10.186518Z",
     "start_time": "2023-10-25T21:13:06.556861Z"
    }
   },
   "outputs": [],
   "source": [
    "optimizer = torch.optim.Adam(lr=1e-5, params=net.parameters())\n",
    "tau = 0.99\n",
    "bg = batchgen(512)"
   ]
  },
  {
   "cell_type": "code",
   "execution_count": null,
   "metadata": {
    "ExecuteTime": {
     "start_time": "2023-10-25T21:13:15.111Z"
    },
    "scrolled": true
   },
   "outputs": [
    {
     "data": {
      "application/vnd.jupyter.widget-view+json": {
       "model_id": "fe724695026348c19da820bc6a7c56a1",
       "version_major": 2,
       "version_minor": 0
      },
      "text/plain": [
       "  0%|          | 0/400000 [00:00<?, ?it/s]"
      ]
     },
     "metadata": {},
     "output_type": "display_data"
    },
    {
     "name": "stderr",
     "output_type": "stream",
     "text": [
      "C:\\ProgramData\\Anaconda3\\lib\\site-packages\\ipykernel_launcher.py:15: UserWarning: Implicit dimension choice for log_softmax has been deprecated. Change the call to include dim=X as an argument.\n",
      "  from ipykernel import kernelapp as app\n"
     ]
    },
    {
     "data": {
      "image/png": "[encoded data removed]",
      "text/plain": [
       "<Figure size 432x288 with 1 Axes>"
      ]
     },
     "metadata": {
      "needs_background": "light"
     },
     "output_type": "display_data"
    },
    {
     "name": "stdout",
     "output_type": "stream",
     "text": [
      "1.4841827154159546\n",
      "0.0022049599717138334\n"
     ]
    },
    {
     "data": {
      "image/png": "[encoded data removed]",
      "text/plain": [
       "<Figure size 432x288 with 1 Axes>"
      ]
     },
     "metadata": {
      "needs_background": "light"
     },
     "output_type": "display_data"
    },
    {
     "name": "stdout",
     "output_type": "stream",
     "text": [
      "1.499693512916565\n",
      "0.0021917021493936773\n"
     ]
    },
    {
     "data": {
      "image/png": "[encoded data removed]",
      "text/plain": [
       "<Figure size 432x288 with 1 Axes>"
      ]
     },
     "metadata": {
      "needs_background": "light"
     },
     "output_type": "display_data"
    },
    {
     "name": "stdout",
     "output_type": "stream",
     "text": [
      "1.47972571849823\n",
      "0.002066812898447097\n"
     ]
    },
    {
     "data": {
      "image/png": "[encoded data removed]",
      "text/plain": [
       "<Figure size 432x288 with 1 Axes>"
      ]
     },
     "metadata": {
      "needs_background": "light"
     },
     "output_type": "display_data"
    },
    {
     "name": "stdout",
     "output_type": "stream",
     "text": [
      "1.4574097394943237\n",
      "0.0021507983495394002\n"
     ]
    },
    {
     "data": {
      "image/png": "[encoded data removed]",
      "text/plain": [
       "<Figure size 432x288 with 1 Axes>"
      ]
     },
     "metadata": {
      "needs_background": "light"
     },
     "output_type": "display_data"
    },
    {
     "name": "stdout",
     "output_type": "stream",
     "text": [
      "1.487322449684143\n",
      "0.002222418135461339\n"
     ]
    },
    {
     "data": {
      "image/png": "[encoded data removed]",
      "text/plain": [
       "<Figure size 432x288 with 1 Axes>"
      ]
     },
     "metadata": {
      "needs_background": "light"
     },
     "output_type": "display_data"
    },
    {
     "name": "stdout",
     "output_type": "stream",
     "text": [
      "1.4676378965377808\n"
     ]
    }
   ],
   "source": [
    "BCE = nn.BCELoss()\n",
    "MSE = nn.MSELoss()\n",
    "LogSoftmax = nn.LogSoftmax()\n",
    "losses = []\n",
    "slosses = []\n",
    "\n",
    "for _ in trange(400000):\n",
    "    \n",
    "    # Supervised Learning\n",
    "    x, yt1, yt2 = next(bg)\n",
    "    x, yt1, yt2 = np2t(x, yt1, yt2)\n",
    "    yp = net(x)\n",
    "    yp = yp * x[:,:,:,[1]] + 0.5 * (1-x[:,:,:,[1]])\n",
    "    loss = BCE(yp.view(-1), yt1.view(-1))\n",
    "    loss2 = -torch.mean(torch.sum(LogSoftmax(net.res_ships) * yt2, axis=[1]))\n",
    "    losses += [loss.item()]\n",
    "    (loss+loss2).backward()\n",
    "        \n",
    "    # Semisupervised Learning\n",
    "    x, _, _ = next(bg)\n",
    "    x = np2t(x)\n",
    "    with torch.no_grad():\n",
    "        y = teacher(x)\n",
    "    x, y = augment(x, y)\n",
    "    y2 = net(x)\n",
    "    sloss = 50*MSE(y, y2)\n",
    "    sloss.backward()\n",
    "    slosses += [sloss.item()]\n",
    "    \n",
    "    optimizer.step()\n",
    "    optimizer.zero_grad()\n",
    "    update_mt(teacher, net, tau)\n",
    "    \n",
    "    if len(losses) == 100:\n",
    "        #print(np.mean(losses))\n",
    "        print(np.mean(slosses))\n",
    "        net.losses.append((net.iters, np.mean(losses)))\n",
    "        losses = []\n",
    "        slosses = []\n",
    "        \n",
    "    if net.iters % 100 == 0:\n",
    "        plt.plot(*zip(*net.losses))\n",
    "        #plt.ylim([0.58, 0.6])\n",
    "        plt.grid()\n",
    "        plt.show()\n",
    "        print(loss2.item())\n",
    "        \n",
    "    if net.iters % 1000 == 0:\n",
    "        with open('data/__battleships_unet.dat', 'wb') as f:\n",
    "            torch.save(net.state_dict(), f)\n",
    "        \n",
    "    net.iters += 1\n",
    "        \n",
    "# 120000: tau->0.99, bs->1024, lr->1e-5"
   ]
  },
  {
   "cell_type": "code",
   "execution_count": 55,
   "metadata": {
    "ExecuteTime": {
     "end_time": "2023-10-24T20:05:03.441626Z",
     "start_time": "2023-10-24T20:05:03.315386Z"
    }
   },
   "outputs": [
    {
     "name": "stderr",
     "output_type": "stream",
     "text": [
      "C:\\ProgramData\\Anaconda3\\lib\\site-packages\\ipykernel_launcher.py:1: UserWarning: Implicit dimension choice for log_softmax has been deprecated. Change the call to include dim=X as an argument.\n",
      "  \"\"\"Entry point for launching an IPython kernel.\n"
     ]
    },
    {
     "data": {
      "text/plain": [
       "torch.Size([512, 4, 10, 10])"
      ]
     },
     "execution_count": 55,
     "metadata": {},
     "output_type": "execute_result"
    }
   ],
   "source": [
    "LogSoftmax(net.res_ships).shape#* yt2"
   ]
  },
  {
   "cell_type": "code",
   "execution_count": 97,
   "metadata": {
    "ExecuteTime": {
     "end_time": "2023-10-25T19:38:12.256065Z",
     "start_time": "2023-10-25T19:38:08.810189Z"
    }
   },
   "outputs": [
    {
     "data": {
      "image/png": "[encoded data removed]",
      "text/plain": [
       "<Figure size 432x288 with 1 Axes>"
      ]
     },
     "metadata": {
      "needs_background": "light"
     },
     "output_type": "display_data"
    },
    {
     "data": {
      "image/png": "[encoded data removed]",
      "text/plain": [
       "<Figure size 432x288 with 2 Axes>"
      ]
     },
     "metadata": {
      "needs_background": "light"
     },
     "output_type": "display_data"
    }
   ],
   "source": [
    "sea = njit_create_sea()\n",
    "#det = create_detection()\n",
    "det = np.random.rand(10,10) < 0.75\n",
    "prob = net.predict(encode_x(sea, det))\n",
    "prob[det > 0] = 0\n",
    "plt.imshow(visualize(sea, det))\n",
    "plt.show()\n",
    "plt.imshow(prob, vmax=1.)\n",
    "plt.colorbar()\n",
    "plt.show()"
   ]
  },
  {
   "cell_type": "code",
   "execution_count": 98,
   "metadata": {
    "ExecuteTime": {
     "end_time": "2023-10-25T19:38:13.546758Z",
     "start_time": "2023-10-25T19:38:13.192591Z"
    },
    "run_control": {
     "marked": false
    }
   },
   "outputs": [
    {
     "data": {
      "text/plain": [
       "<matplotlib.image.AxesImage at 0x15bf4007648>"
      ]
     },
     "execution_count": 98,
     "metadata": {},
     "output_type": "execute_result"
    },
    {
     "data": {
      "image/png": "[encoded data removed]",
      "text/plain": [
       "<Figure size 432x288 with 1 Axes>"
      ]
     },
     "metadata": {
      "needs_background": "light"
     },
     "output_type": "display_data"
    }
   ],
   "source": [
    "sea = njit_create_sea()\n",
    "prob = net.predict(encode_x(sea, det))\n",
    "plt.imshow(prob)"
   ]
  },
  {
   "cell_type": "code",
   "execution_count": 89,
   "metadata": {
    "ExecuteTime": {
     "end_time": "2023-10-25T10:00:26.427852Z",
     "start_time": "2023-10-25T10:00:22.470331Z"
    },
    "scrolled": false
   },
   "outputs": [
    {
     "data": {
      "text/plain": [
       "<matplotlib.image.AxesImage at 0x15bc5b2f108>"
      ]
     },
     "execution_count": 89,
     "metadata": {},
     "output_type": "execute_result"
    },
    {
     "data": {
      "image/png": "[encoded data removed]",
      "text/plain": [
       "<Figure size 432x288 with 1 Axes>"
      ]
     },
     "metadata": {
      "needs_background": "light"
     },
     "output_type": "display_data"
    }
   ],
   "source": [
    "sea = np.zeros((10,10))\n",
    "det = np.zeros((10,10))\n",
    "while np.any(1-det):\n",
    "    prob = net.predict(encode_x(sea, det))\n",
    "    prob[det > 0] = 0\n",
    "    ij = np.random.choice(range(100), p=prob.flatten()/np.sum(prob))\n",
    "    i, j = divmod(ij, 10)\n",
    "    det[i,j] = 1\n",
    "    sea[i,j] = 1 if np.random.rand()<prob[i,j] else 0\n",
    "\n",
    "    #plt.imshow(visualize(sea, det))\n",
    "    #plt.show()\n",
    "    #plt.imshow(prob, vmax=1.)\n",
    "    #plt.show()\n",
    "    \n",
    "plt.imshow(visualize(sea, det))"
   ]
  },
  {
   "cell_type": "markdown",
   "metadata": {},
   "source": [
    "### AI spielt"
   ]
  },
  {
   "cell_type": "code",
   "execution_count": null,
   "metadata": {
    "ExecuteTime": {
     "end_time": "2023-10-22T19:56:50.782432Z",
     "start_time": "2023-10-22T19:56:50.449Z"
    }
   },
   "outputs": [],
   "source": [
    "# gegeben: sea, model\n",
    "det = np.zeros((10,10))\n",
    "##det = create_detection()\n",
    "i,j = [],[]\n",
    "\n",
    "\n",
    "while True:\n",
    "    prob = net.predict(encode_x(sea, det))\n",
    "    prob[det > 0] = 0\n",
    "    percent = 0. if np.sum(det)==0 else 100*np.sum(det*sea)/(np.sum(det)+1e-2)\n",
    "    text = f'Hits: %d, Shots: %d, Percentage: %.1f %%' % (np.sum(det*sea), np.sum(det), percent)\n",
    "    \n",
    "    fig, (ax1, ax2) = plt.subplots(1, 2, figsize=(12, 8))\n",
    "    fig.text(1/2,0.8, text, fontdict={})\n",
    "    ax1.axis('off')\n",
    "    #ax1.imshow(visualize(sea, det), vmin=0., vmax=3.)\n",
    "    plot_sea(sea, det, ax1)\n",
    "    ax1.scatter(j, i, c='black', alpha=1, s=150)\n",
    "    ax2.axis('off')\n",
    "    ax2.imshow(prob)\n",
    "    #plt.title(text)\n",
    "    plt.show()\n",
    "    \n",
    "    # Welchen Detektieren??\n",
    "    m = prob.argmax()\n",
    "    i, j = m//10, m%10\n",
    "    det[i,j] = 1.\n",
    "    \n",
    "    #print('______________________________')\n",
    "    #if (sea[i,j]):\n",
    "    #    print('Hit him!')\n",
    "    #else:\n",
    "    #    print('Failed!')\n",
    "    #print(f'Hits: {np.sum(det*sea)}/{np.sum(sea)}, Shots: {np.sum(det)}, Percentage: {100*np.sum(det*sea)/np.sum(det)}%')\n",
    "    \n",
    "    if np.sum(det*sea) >= np.sum(sea): break\n",
    "    \n",
    "    "
   ]
  },
  {
   "cell_type": "code",
   "execution_count": null,
   "metadata": {},
   "outputs": [],
   "source": []
  },
  {
   "cell_type": "code",
   "execution_count": null,
   "metadata": {},
   "outputs": [],
   "source": []
  }
 ],
 "metadata": {
  "kernelspec": {
   "display_name": "Python 3",
   "language": "python",
   "name": "python3"
  },
  "language_info": {
   "codemirror_mode": {
    "name": "ipython",
    "version": 3
   },
   "file_extension": ".py",
   "mimetype": "text/x-python",
   "name": "python",
   "nbconvert_exporter": "python",
   "pygments_lexer": "ipython3",
   "version": "3.7.7"
  },
  "varInspector": {
   "cols": {
    "lenName": 16,
    "lenType": 16,
    "lenVar": 40
   },
   "kernels_config": {
    "python": {
     "delete_cmd_postfix": "",
     "delete_cmd_prefix": "del ",
     "library": "var_list.py",
     "varRefreshCmd": "print(var_dic_list())"
    },
    "r": {
     "delete_cmd_postfix": ") ",
     "delete_cmd_prefix": "rm(",
     "library": "var_list.r",
     "varRefreshCmd": "cat(var_dic_list()) "
    }
   },
   "types_to_exclude": [
    "module",
    "function",
    "builtin_function_or_method",
    "instance",
    "_Feature"
   ],
   "window_display": false
  }
 },
 "nbformat": 4,
 "nbformat_minor": 2
}
