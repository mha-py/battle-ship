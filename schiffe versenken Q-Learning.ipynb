{
 "cells": [
  {
   "cell_type": "code",
   "execution_count": 1,
   "id": "61f0c29b",
   "metadata": {
    "ExecuteTime": {
     "end_time": "2023-10-31T22:35:39.853497Z",
     "start_time": "2023-10-31T22:35:38.558919Z"
    },
    "run_control": {
     "marked": true
    }
   },
   "outputs": [],
   "source": [
    "\n",
    "import numpy as np\n",
    "import matplotlib.pyplot as plt\n",
    "from tqdm.notebook import tqdm, trange"
   ]
  },
  {
   "cell_type": "code",
   "execution_count": 5,
   "id": "8be65768",
   "metadata": {
    "ExecuteTime": {
     "end_time": "2023-10-31T22:36:12.799455Z",
     "start_time": "2023-10-31T22:36:07.396862Z"
    }
   },
   "outputs": [
    {
     "name": "stdout",
     "output_type": "stream",
     "text": [
      "The autoreload extension is already loaded. To reload it, use:\n",
      "  %reload_ext autoreload\n"
     ]
    }
   ],
   "source": [
    "%load_ext autoreload\n",
    "%autoreload 2\n",
    "\n",
    "from bs_helpers import *\n",
    "from bs_gameclass import *\n",
    "from utils import *"
   ]
  },
  {
   "cell_type": "code",
   "execution_count": 6,
   "id": "ee967836",
   "metadata": {
    "ExecuteTime": {
     "end_time": "2023-10-31T22:36:14.498904Z",
     "start_time": "2023-10-31T22:36:14.248561Z"
    }
   },
   "outputs": [],
   "source": [
    "net = bs_unet()\n",
    "#net.load_state_dict(torch.load('data/battleships_unet.dat'))\n",
    "net.optim = torch.optim.Adam(lr=0.001, betas=(0., 0.999), params=net.parameters())"
   ]
  },
  {
   "cell_type": "code",
   "execution_count": 7,
   "id": "956e1e08",
   "metadata": {
    "ExecuteTime": {
     "end_time": "2023-10-31T22:36:15.281088Z",
     "start_time": "2023-10-31T22:36:15.117133Z"
    },
    "run_control": {
     "marked": true
    }
   },
   "outputs": [],
   "source": [
    "gamma = 0.8"
   ]
  },
  {
   "cell_type": "code",
   "execution_count": 8,
   "id": "e8714f44",
   "metadata": {
    "ExecuteTime": {
     "end_time": "2023-10-31T22:36:16.421411Z",
     "start_time": "2023-10-31T22:36:16.253462Z"
    }
   },
   "outputs": [],
   "source": [
    "def batchgen(games, size, verbose=1):\n",
    "    \n",
    "    while True:\n",
    "        indlist = np.random.permutation(range(len(games)))\n",
    "        minibatches = [ indlist[k*size:(k+1)*size] for k in range(len(indlist)//size) ]\n",
    "        \n",
    "        for mb in minibatches:\n",
    "            xs = np.zeros((size, SX, SY, 3))\n",
    "            ys = np.zeros((size, SX, SY, 1))\n",
    "            rs = np.zeros((size))\n",
    "            for k, l in enumerate(mb):\n",
    "                s, (i,j), qmax, r = games[l]\n",
    "                xs[k] = encode_x(s.sea, s.det)\n",
    "                ys[k, i, j] = 1.\n",
    "                if np.random.rand()<.5:\n",
    "                    xs[k] = xs[k,:,::-1]\n",
    "                    ys[k] = ys[k,:,::-1]\n",
    "                if np.random.rand()<.5:\n",
    "                    xs[k] = xs[k,::-1]\n",
    "                    ys[k] = ys[k,::-1]\n",
    "                if np.random.rand()<.5:\n",
    "                    xs[k] = xs[k].transpose(1,0,2)\n",
    "                    ys[k] = ys[k].transpose(1,0,2)\n",
    "                rs[k] = r + gamma*qmax\n",
    "            yield xs, ys, rs\n",
    "        if verbose:\n",
    "            print('Finished one batchgen epoch!')"
   ]
  },
  {
   "cell_type": "code",
   "execution_count": null,
   "id": "56ef195d",
   "metadata": {
    "ExecuteTime": {
     "start_time": "2023-10-31T22:36:21.084Z"
    }
   },
   "outputs": [
    {
     "data": {
      "application/vnd.jupyter.widget-view+json": {
       "model_id": "f1f3716f2b0644aebc46525a3263387f",
       "version_major": 2,
       "version_minor": 0
      },
      "text/plain": [
       "  0%|          | 0/100 [00:00<?, ?it/s]"
      ]
     },
     "metadata": {},
     "output_type": "display_data"
    },
    {
     "name": "stdout",
     "output_type": "stream",
     "text": [
      "Game length mean 97.61\n"
     ]
    },
    {
     "data": {
      "application/vnd.jupyter.widget-view+json": {
       "model_id": "cbdf0250d6064ee8985b3264209cdb4d",
       "version_major": 2,
       "version_minor": 0
      },
      "text/plain": [
       "  0%|          | 0/1000 [00:00<?, ?it/s]"
      ]
     },
     "metadata": {},
     "output_type": "display_data"
    },
    {
     "name": "stdout",
     "output_type": "stream",
     "text": [
      "0.822239339351654\n",
      "0.29377289399504664\n",
      "0.22943088859319688\n",
      "0.22336354568600655\n",
      "Finished one batchgen epoch!\n",
      "0.20833134055137634\n",
      "0.20364635340869428\n",
      "0.2053680918365717\n",
      "Finished one batchgen epoch!\n",
      "0.19291525095701217\n",
      "0.19506750755012037\n"
     ]
    }
   ],
   "source": [
    "\n",
    "for epoch in range(9999999):\n",
    "\n",
    "    # Play some games\n",
    "    games = []\n",
    "    glengths = []\n",
    "    slast = 0\n",
    "    for _ in trange(100):\n",
    "        s = GameState()\n",
    "        h = create_sea()\n",
    "        single_game = []\n",
    "        while not GameClass.getEnded(s):\n",
    "            #plot_sea(s.sea, s.det)\n",
    "            #plt.show()\n",
    "            net.predict(encode_x(s.sea, s.det))\n",
    "            Qa = t2np(net.p[0,:,:,0])   # p ist der pre activation output des unets\n",
    "            i, j = argmax2d(Qa-10000*s.det)\n",
    "            Qmax = np.max(Qa)\n",
    "            if np.random.rand() < 0.1:\n",
    "                vms = GameClass.getValidActions(s)\n",
    "                l = np.random.choice(len(vms))\n",
    "                i, j = vms[l]\n",
    "            r = h[i,j] # reward\n",
    "            \n",
    "            if slast:\n",
    "                single_game.append((slast, alast, Qmax, rlast))\n",
    "            slast = s\n",
    "            alast = (i, j)\n",
    "            rlast = r\n",
    "            \n",
    "            s = GameClass.getNextState(s, (i,j), hidden=h)\n",
    "        games += single_game\n",
    "        '''\n",
    "        # Cumulate reward\n",
    "        cr = 0.\n",
    "        for s, (i,j), r in reversed(single_game):\n",
    "            cr = gamma*cr + r\n",
    "            games.append((s, (i,j), cr))'''\n",
    "        glengths.append(len(single_game))\n",
    "    \n",
    "    print('Game length mean', np.mean(glengths))\n",
    "    \n",
    "    \n",
    "    # train the nnet\n",
    "    bg = batchgen(games, size=32)\n",
    "    losses = []\n",
    "    \n",
    "    #raise\n",
    "    for k in trange(1000): \n",
    "        xs, ys, qs = next(bg)\n",
    "        xs, ys, qs = np2t(xs, ys, qs)\n",
    "        net(xs)\n",
    "        qp = net.p\n",
    "        qp = torch.sum(qp * ys, dim=(1,2,3))\n",
    "        loss = torch.mean((qp-qs)**2)\n",
    "        #print(loss)\n",
    "        loss.backward()\n",
    "        net.optim.step()\n",
    "        net.optim.zero_grad()\n",
    "        losses.append(loss.item())\n",
    "        if k%100 == 0:\n",
    "            print(np.mean(losses))\n",
    "            losses = []"
   ]
  },
  {
   "cell_type": "code",
   "execution_count": 18,
   "id": "55d6162d",
   "metadata": {
    "ExecuteTime": {
     "end_time": "2023-10-30T15:11:15.373025Z",
     "start_time": "2023-10-30T15:11:15.219380Z"
    }
   },
   "outputs": [
    {
     "data": {
      "text/plain": [
       "torch.Size([32])"
      ]
     },
     "execution_count": 18,
     "metadata": {},
     "output_type": "execute_result"
    }
   ],
   "source": [
    "qs.shape"
   ]
  },
  {
   "cell_type": "code",
   "execution_count": 29,
   "id": "0f7ad236",
   "metadata": {
    "ExecuteTime": {
     "end_time": "2023-10-30T16:25:54.352087Z",
     "start_time": "2023-10-30T16:25:54.121607Z"
    },
    "scrolled": true
   },
   "outputs": [
    {
     "ename": "NameError",
     "evalue": "name 'vidcapture' is not defined",
     "output_type": "error",
     "traceback": [
      "\u001b[1;31m---------------------------------------------------------------------------\u001b[0m",
      "\u001b[1;31mNameError\u001b[0m                                 Traceback (most recent call last)",
      "\u001b[1;32m<ipython-input-29-c1e559576b42>\u001b[0m in \u001b[0;36m<module>\u001b[1;34m\u001b[0m\n\u001b[0;32m      4\u001b[0m \u001b[1;31m##det = create_detection()\u001b[0m\u001b[1;33m\u001b[0m\u001b[1;33m\u001b[0m\u001b[1;33m\u001b[0m\u001b[0m\n\u001b[0;32m      5\u001b[0m \u001b[0mi\u001b[0m\u001b[1;33m,\u001b[0m\u001b[0mj\u001b[0m \u001b[1;33m=\u001b[0m \u001b[1;33m[\u001b[0m\u001b[1;33m]\u001b[0m\u001b[1;33m,\u001b[0m\u001b[1;33m[\u001b[0m\u001b[1;33m]\u001b[0m\u001b[1;33m\u001b[0m\u001b[1;33m\u001b[0m\u001b[0m\n\u001b[1;32m----> 6\u001b[1;33m \u001b[0mvc\u001b[0m \u001b[1;33m=\u001b[0m \u001b[0mvidcapture\u001b[0m\u001b[1;33m(\u001b[0m\u001b[1;34m'F:/$Daten/vidcaptures/battleships qlearning/frame%05d.png'\u001b[0m\u001b[1;33m)\u001b[0m\u001b[1;33m\u001b[0m\u001b[1;33m\u001b[0m\u001b[0m\n\u001b[0m\u001b[0;32m      7\u001b[0m \u001b[1;33m\u001b[0m\u001b[0m\n\u001b[0;32m      8\u001b[0m \u001b[1;32mwhile\u001b[0m \u001b[1;32mTrue\u001b[0m\u001b[1;33m:\u001b[0m\u001b[1;33m\u001b[0m\u001b[1;33m\u001b[0m\u001b[0m\n",
      "\u001b[1;31mNameError\u001b[0m: name 'vidcapture' is not defined"
     ]
    }
   ],
   "source": [
    "vc = vidcapture('F:/$Daten/vidcaptures/battleships cnn/frame%05d.png')\n",
    "\n",
    "s = GameState()\n",
    "hdn = create_sea()\n",
    "while not GameClass.getEnded(s):\n",
    "    fig, (ax1, ax2) = plt.subplots(1, 2, figsize=(12, 8))\n",
    "    plot_sea(hdn, s.det, ax=ax1)\n",
    "    x = encode_x(s.sea, s.det)\n",
    "    net.predict(x)\n",
    "    p = net.p\n",
    "    p = t2np(p)[0,:,:,0]\n",
    "    i, j = argmax2d(p-s.det*9999)\n",
    "    s = GameClass.getNextState(s, (i,j), hdn)\n",
    "    ax2.imshow(p)\n",
    "    ax2.axis('off')\n",
    "    ax2.scatter(j, i, c='black', alpha=1, s=150)\n",
    "    plt.show()"
   ]
  },
  {
   "cell_type": "code",
   "execution_count": null,
   "id": "feee3db4",
   "metadata": {},
   "outputs": [],
   "source": [
    "# gegeben: sea, model\n",
    "det = np.zeros((10,10))\n",
    "sea = create_sea(100)\n",
    "##det = create_detection()\n",
    "i,j = [],[]\n",
    "from vidcapture import *\n",
    "vc = vidcapture('F:/$Daten/vidcaptures/battleships qlearning/frame%05d.png')\n",
    "\n",
    "while True:\n",
    "    prob = net.predict(encode_x(sea, det))\n",
    "    prob[det > 0] = 0\n",
    "    \n",
    "    fig, (ax1, ax2) = plt.subplots(1, 2, figsize=(12, 8))\n",
    "    ax1.title.set_text('Map')\n",
    "    ax2.title.set_text('Neural Network prediction')\n",
    "    ax1.axis('off')\n",
    "    #ax1.imshow(visualize(sea, det), vmin=0., vmax=3.)\n",
    "    plot_sea(sea, det, ax1)\n",
    "    ax1.scatter(j, i, c='black', alpha=1, s=150)\n",
    "    ax2.axis('off')\n",
    "    ax2.imshow(prob)\n",
    "    #plt.title(text)\n",
    "    vc.capture()\n",
    "    plt.show()\n",
    "    \n",
    "    if np.sum(det*sea) >= np.sum(sea): break\n",
    "        \n",
    "    # Welchen Detektieren??\n",
    "    x = encode_x(s.sea, s.det)\n",
    "    net.predict(x)\n",
    "    p = net.p\n",
    "    p = t2np(p)[0,:,:,0]\n",
    "    i, j = argmax2d(p-s.det*9999)\n",
    "    "
   ]
  },
  {
   "cell_type": "code",
   "execution_count": null,
   "id": "2683e560",
   "metadata": {},
   "outputs": [],
   "source": []
  }
 ],
 "metadata": {
  "kernelspec": {
   "display_name": "Python 3",
   "language": "python",
   "name": "python3"
  },
  "language_info": {
   "codemirror_mode": {
    "name": "ipython",
    "version": 3
   },
   "file_extension": ".py",
   "mimetype": "text/x-python",
   "name": "python",
   "nbconvert_exporter": "python",
   "pygments_lexer": "ipython3",
   "version": "3.7.7"
  },
  "varInspector": {
   "cols": {
    "lenName": 16,
    "lenType": 16,
    "lenVar": 40
   },
   "kernels_config": {
    "python": {
     "delete_cmd_postfix": "",
     "delete_cmd_prefix": "del ",
     "library": "var_list.py",
     "varRefreshCmd": "print(var_dic_list())"
    },
    "r": {
     "delete_cmd_postfix": ") ",
     "delete_cmd_prefix": "rm(",
     "library": "var_list.r",
     "varRefreshCmd": "cat(var_dic_list()) "
    }
   },
   "types_to_exclude": [
    "module",
    "function",
    "builtin_function_or_method",
    "instance",
    "_Feature"
   ],
   "window_display": false
  }
 },
 "nbformat": 4,
 "nbformat_minor": 5
}
