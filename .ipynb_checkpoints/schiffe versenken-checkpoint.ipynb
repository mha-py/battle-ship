{
 "cells": [
  {
   "cell_type": "code",
   "execution_count": 1,
   "id": "33f2f0e2",
   "metadata": {
    "ExecuteTime": {
     "end_time": "2023-10-23T15:08:11.617833Z",
     "start_time": "2023-10-23T15:08:11.163418Z"
    }
   },
   "outputs": [],
   "source": [
    "import numpy as np\n",
    "import matplotlib.pyplot as plt\n",
    "%matplotlib inline\n",
    "import random\n",
    "from tqdm.notebook import tqdm, trange\n",
    "import pickle as pkl\n",
    "\n",
    "%load_ext autoreload\n",
    "%autoreload 2"
   ]
  },
  {
   "cell_type": "code",
   "execution_count": 3,
   "id": "a5a8da1f",
   "metadata": {
    "ExecuteTime": {
     "end_time": "2023-10-23T15:08:20.174983Z",
     "start_time": "2023-10-23T15:08:20.022209Z"
    }
   },
   "outputs": [],
   "source": [
    "from bs_helpers import *\n",
    "from bs_gameclass import *\n"
   ]
  },
  {
   "cell_type": "code",
   "execution_count": null,
   "id": "8d0afe7a",
   "metadata": {},
   "outputs": [],
   "source": []
  },
  {
   "cell_type": "code",
   "execution_count": null,
   "id": "57cdf705",
   "metadata": {
    "run_control": {
     "marked": false
    }
   },
   "outputs": [],
   "source": []
  },
  {
   "cell_type": "code",
   "execution_count": 4,
   "id": "74264942",
   "metadata": {
    "ExecuteTime": {
     "end_time": "2023-10-23T15:08:23.305655Z",
     "start_time": "2023-10-23T15:08:23.158525Z"
    }
   },
   "outputs": [],
   "source": [
    "s = GameState()\n",
    "\n",
    "vm = GameClass.getValidActions(s)\n",
    "#s = GameClass.getNextState(s, vm[4])"
   ]
  },
  {
   "cell_type": "code",
   "execution_count": 18,
   "id": "3f6f4d92",
   "metadata": {
    "ExecuteTime": {
     "end_time": "2023-10-23T15:22:31.032830Z",
     "start_time": "2023-10-23T15:22:30.863565Z"
    }
   },
   "outputs": [],
   "source": [
    "class TrivialPlayer:\n",
    "    def findmove(self, s):\n",
    "        va = GameClass.getValidActions(s)\n",
    "        len(va)\n",
    "        return va[np.random.choice(len(va))]\n",
    "    \n",
    "class UnetPlayer:\n",
    "    def findmove(self, s):\n",
    "        prob = net.predict(encode_x(s.sea, s.det))\n",
    "        prob[s.det > 0] = 0\n",
    "        ij = prob.argmax()\n",
    "        i, j = ij//SX, ij%SX\n",
    "        return i, j"
   ]
  },
  {
   "cell_type": "code",
   "execution_count": 28,
   "id": "d2c3672a",
   "metadata": {
    "ExecuteTime": {
     "end_time": "2023-10-23T20:41:18.721652Z",
     "start_time": "2023-10-23T20:41:08.759711Z"
    },
    "run_control": {
     "marked": true
    }
   },
   "outputs": [
    {
     "data": {
      "application/vnd.jupyter.widget-view+json": {
       "model_id": "fcf71dee3ef24e688293cd31d3ce0710",
       "version_major": 2,
       "version_minor": 0
      },
      "text/plain": [
       "  0%|          | 0/1000 [00:00<?, ?it/s]"
      ]
     },
     "metadata": {},
     "output_type": "display_data"
    }
   ],
   "source": [
    "ai = TrivialPlayer()\n",
    "#ai = UnetPlayer()\n",
    "rs = []\n",
    "for _ in trange(1000):\n",
    "    s = GameState()\n",
    "    hidden = create_sea()\n",
    "    r = None\n",
    "    while not r:\n",
    "        a = ai.findmove(s)\n",
    "        s = GameClass.getNextState(s, a, hidden)\n",
    "        r = GameClass.getEnded(s)\n",
    "    rs += [r]"
   ]
  },
  {
   "cell_type": "code",
   "execution_count": 29,
   "id": "0e5a5678",
   "metadata": {
    "ExecuteTime": {
     "end_time": "2023-10-23T20:41:23.475712Z",
     "start_time": "2023-10-23T20:41:22.450703Z"
    }
   },
   "outputs": [
    {
     "name": "stderr",
     "output_type": "stream",
     "text": [
      "C:\\ProgramData\\Anaconda3\\lib\\site-packages\\seaborn\\distributions.py:2557: FutureWarning: `distplot` is a deprecated function and will be removed in a future version. Please adapt your code to use either `displot` (a figure-level function with similar flexibility) or `histplot` (an axes-level function for histograms).\n",
      "  warnings.warn(msg, FutureWarning)\n"
     ]
    },
    {
     "data": {
      "text/plain": [
       "<AxesSubplot:ylabel='Density'>"
      ]
     },
     "execution_count": 29,
     "metadata": {},
     "output_type": "execute_result"
    },
    {
     "data": {
      "image/png": "[encoded data removed]",
      "text/plain": [
       "<Figure size 432x288 with 1 Axes>"
      ]
     },
     "metadata": {
      "needs_background": "light"
     },
     "output_type": "display_data"
    }
   ],
   "source": [
    "import seaborn as sns\n",
    "sns.distplot(rs)"
   ]
  },
  {
   "cell_type": "code",
   "execution_count": 30,
   "id": "c6693ae4",
   "metadata": {
    "ExecuteTime": {
     "end_time": "2023-10-23T20:41:27.520766Z",
     "start_time": "2023-10-23T20:41:27.349722Z"
    }
   },
   "outputs": [
    {
     "data": {
      "text/plain": [
       "(0.3071884162802528, 0.009056939019579421)"
      ]
     },
     "execution_count": 30,
     "metadata": {},
     "output_type": "execute_result"
    }
   ],
   "source": [
    "np.mean(rs), np.std(rs)\n",
    "                    \n",
    "# Trivial: Score von 0.307\n",
    "# Unet: Score von 0.427"
   ]
  }
 ],
 "metadata": {
  "kernelspec": {
   "display_name": "Python 3",
   "language": "python",
   "name": "python3"
  },
  "language_info": {
   "codemirror_mode": {
    "name": "ipython",
    "version": 3
   },
   "file_extension": ".py",
   "mimetype": "text/x-python",
   "name": "python",
   "nbconvert_exporter": "python",
   "pygments_lexer": "ipython3",
   "version": "3.7.7"
  },
  "varInspector": {
   "cols": {
    "lenName": 16,
    "lenType": 16,
    "lenVar": 40
   },
   "kernels_config": {
    "python": {
     "delete_cmd_postfix": "",
     "delete_cmd_prefix": "del ",
     "library": "var_list.py",
     "varRefreshCmd": "print(var_dic_list())"
    },
    "r": {
     "delete_cmd_postfix": ") ",
     "delete_cmd_prefix": "rm(",
     "library": "var_list.r",
     "varRefreshCmd": "cat(var_dic_list()) "
    }
   },
   "types_to_exclude": [
    "module",
    "function",
    "builtin_function_or_method",
    "instance",
    "_Feature"
   ],
   "window_display": false
  }
 },
 "nbformat": 4,
 "nbformat_minor": 5
}
