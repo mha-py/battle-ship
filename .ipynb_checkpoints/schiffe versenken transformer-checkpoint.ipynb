{
 "cells": [
  {
   "cell_type": "code",
   "execution_count": 1,
   "id": "25c83938",
   "metadata": {
    "ExecuteTime": {
     "end_time": "2023-10-31T20:34:15.637832Z",
     "start_time": "2023-10-31T20:34:14.372215Z"
    }
   },
   "outputs": [],
   "source": [
    "\n",
    "import numpy as np\n",
    "import matplotlib.pyplot as plt\n",
    "from tqdm.notebook import tqdm, trange"
   ]
  },
  {
   "cell_type": "code",
   "execution_count": 2,
   "id": "f8c2d2ee",
   "metadata": {
    "ExecuteTime": {
     "end_time": "2023-10-31T20:34:27.260884Z",
     "start_time": "2023-10-31T20:34:20.203105Z"
    }
   },
   "outputs": [],
   "source": [
    "%load_ext autoreload\n",
    "%autoreload 2\n",
    "\n",
    "from bs_helpers import *\n",
    "from bs_gameclass import *\n",
    "from utils import *"
   ]
  },
  {
   "cell_type": "code",
   "execution_count": 3,
   "id": "894e2440",
   "metadata": {
    "ExecuteTime": {
     "end_time": "2023-10-31T20:39:33.726142Z",
     "start_time": "2023-10-31T20:39:33.563399Z"
    }
   },
   "outputs": [],
   "source": [
    "\n",
    "def create_sea_ships(seed=None): # diese funktion ist anders als die bei unet!!\n",
    "    'Creates a sea with random ships on it'\n",
    "    rng = random.Random(seed)\n",
    "    sea = np.zeros((10,10))\n",
    "    ships = np.zeros((10,10,10)) # extra information which kind of ship is where\n",
    "    k = 0\n",
    "    for l in [5,4,3,2]: # Länge\n",
    "        n = 6-l # Anzahl\n",
    "        for _ in range(n):\n",
    "            # Boot mit Länge l platzieren\n",
    "            while True:\n",
    "                t = rng.random() < 0.5\n",
    "                if t:\n",
    "                    sea = sea.T # Transponieren\n",
    "                    ships = ships.transpose(1,0,2)\n",
    "                px = rng.randint(0, 10-l)\n",
    "                py = rng.randint(0, 9)\n",
    "                if sum(sea[px:px+l,py]) > 0:\n",
    "                    continue\n",
    "                sea[px:px+l, py] = 1\n",
    "                ships[px:px+l, py, k] = 1\n",
    "                if t:\n",
    "                    sea = sea.T # Transponieren\n",
    "                    ships = ships.transpose(1,0,2)\n",
    "                k += 1\n",
    "                break\n",
    "    return sea, ships"
   ]
  },
  {
   "cell_type": "code",
   "execution_count": 8,
   "id": "459b79b7",
   "metadata": {
    "ExecuteTime": {
     "end_time": "2023-10-31T20:40:15.267957Z",
     "start_time": "2023-10-31T20:40:14.978152Z"
    },
    "run_control": {
     "marked": true
    }
   },
   "outputs": [
    {
     "data": {
      "text/plain": [
       "<matplotlib.image.AxesImage at 0x158031f5048>"
      ]
     },
     "execution_count": 8,
     "metadata": {},
     "output_type": "execute_result"
    },
    {
     "data": {
      "image/png": "[encoded data removed]",
      "text/plain": [
       "<Figure size 432x288 with 1 Axes>"
      ]
     },
     "metadata": {
      "needs_background": "light"
     },
     "output_type": "display_data"
    }
   ],
   "source": []
  },
  {
   "cell_type": "code",
   "execution_count": 22,
   "id": "9cfa25ca",
   "metadata": {
    "ExecuteTime": {
     "end_time": "2023-10-31T20:55:39.321239Z",
     "start_time": "2023-10-31T20:55:34.827857Z"
    }
   },
   "outputs": [
    {
     "data": {
      "image/png": "[encoded data removed]",
      "text/plain": [
       "<Figure size 432x288 with 1 Axes>"
      ]
     },
     "metadata": {
      "needs_background": "light"
     },
     "output_type": "display_data"
    },
    {
     "data": {
      "image/png": "[encoded data removed]",
      "text/plain": [
       "<Figure size 432x288 with 1 Axes>"
      ]
     },
     "metadata": {
      "needs_background": "light"
     },
     "output_type": "display_data"
    },
    {
     "data": {
      "image/png": "[encoded data removed]",
      "text/plain": [
       "<Figure size 432x288 with 1 Axes>"
      ]
     },
     "metadata": {
      "needs_background": "light"
     },
     "output_type": "display_data"
    },
    {
     "data": {
      "image/png": "[encoded data removed]",
      "text/plain": [
       "<Figure size 432x288 with 1 Axes>"
      ]
     },
     "metadata": {
      "needs_background": "light"
     },
     "output_type": "display_data"
    },
    {
     "data": {
      "image/png": "[encoded data removed]",
      "text/plain": [
       "<Figure size 432x288 with 1 Axes>"
      ]
     },
     "metadata": {
      "needs_background": "light"
     },
     "output_type": "display_data"
    },
    {
     "data": {
      "image/png": "[encoded data removed]",
      "text/plain": [
       "<Figure size 432x288 with 1 Axes>"
      ]
     },
     "metadata": {
      "needs_background": "light"
     },
     "output_type": "display_data"
    },
    {
     "data": {
      "image/png": "[encoded data removed]",
      "text/plain": [
       "<Figure size 432x288 with 1 Axes>"
      ]
     },
     "metadata": {
      "needs_background": "light"
     },
     "output_type": "display_data"
    },
    {
     "data": {
      "image/png": "[encoded data removed]",
      "text/plain": [
       "<Figure size 432x288 with 1 Axes>"
      ]
     },
     "metadata": {
      "needs_background": "light"
     },
     "output_type": "display_data"
    },
    {
     "data": {
      "image/png": "[encoded data removed]",
      "text/plain": [
       "<Figure size 432x288 with 1 Axes>"
      ]
     },
     "metadata": {
      "needs_background": "light"
     },
     "output_type": "display_data"
    },
    {
     "data": {
      "image/png": "[encoded data removed]",
      "text/plain": [
       "<Figure size 432x288 with 1 Axes>"
      ]
     },
     "metadata": {
      "needs_background": "light"
     },
     "output_type": "display_data"
    },
    {
     "ename": "ValueError",
     "evalue": "'a' cannot be empty unless no samples are taken",
     "output_type": "error",
     "traceback": [
      "\u001b[1;31m---------------------------------------------------------------------------\u001b[0m",
      "\u001b[1;31mValueError\u001b[0m                                Traceback (most recent call last)",
      "\u001b[1;32m<ipython-input-22-2aa90be3572d>\u001b[0m in \u001b[0;36m<module>\u001b[1;34m\u001b[0m\n\u001b[0;32m      6\u001b[0m \u001b[1;32mwhile\u001b[0m \u001b[1;32mnot\u001b[0m \u001b[0mGameClass\u001b[0m\u001b[1;33m.\u001b[0m\u001b[0mgetEnded\u001b[0m\u001b[1;33m(\u001b[0m\u001b[0ms\u001b[0m\u001b[1;33m)\u001b[0m\u001b[1;33m:\u001b[0m\u001b[1;33m\u001b[0m\u001b[1;33m\u001b[0m\u001b[0m\n\u001b[0;32m      7\u001b[0m     \u001b[0mvms\u001b[0m \u001b[1;33m=\u001b[0m \u001b[0mGameClass\u001b[0m\u001b[1;33m.\u001b[0m\u001b[0mgetValidActions\u001b[0m\u001b[1;33m(\u001b[0m\u001b[0ms\u001b[0m\u001b[1;33m)\u001b[0m\u001b[1;33m\u001b[0m\u001b[1;33m\u001b[0m\u001b[0m\n\u001b[1;32m----> 8\u001b[1;33m     \u001b[0mk\u001b[0m \u001b[1;33m=\u001b[0m \u001b[0mnp\u001b[0m\u001b[1;33m.\u001b[0m\u001b[0mrandom\u001b[0m\u001b[1;33m.\u001b[0m\u001b[0mchoice\u001b[0m\u001b[1;33m(\u001b[0m\u001b[0mrange\u001b[0m\u001b[1;33m(\u001b[0m\u001b[0mlen\u001b[0m\u001b[1;33m(\u001b[0m\u001b[0mvms\u001b[0m\u001b[1;33m)\u001b[0m\u001b[1;33m)\u001b[0m\u001b[1;33m)\u001b[0m\u001b[1;33m\u001b[0m\u001b[1;33m\u001b[0m\u001b[0m\n\u001b[0m\u001b[0;32m      9\u001b[0m     \u001b[0ma\u001b[0m \u001b[1;33m=\u001b[0m \u001b[0mvms\u001b[0m\u001b[1;33m[\u001b[0m\u001b[0mk\u001b[0m\u001b[1;33m]\u001b[0m\u001b[1;33m\u001b[0m\u001b[1;33m\u001b[0m\u001b[0m\n\u001b[0;32m     10\u001b[0m     \u001b[0ms\u001b[0m \u001b[1;33m=\u001b[0m \u001b[0mGameClass\u001b[0m\u001b[1;33m.\u001b[0m\u001b[0mgetNextState\u001b[0m\u001b[1;33m(\u001b[0m\u001b[0ms\u001b[0m\u001b[1;33m,\u001b[0m \u001b[0ma\u001b[0m\u001b[1;33m)\u001b[0m\u001b[1;33m\u001b[0m\u001b[1;33m\u001b[0m\u001b[0m\n",
      "\u001b[1;32mmtrand.pyx\u001b[0m in \u001b[0;36mnumpy.random.mtrand.RandomState.choice\u001b[1;34m()\u001b[0m\n",
      "\u001b[1;31mValueError\u001b[0m: 'a' cannot be empty unless no samples are taken"
     ]
    }
   ],
   "source": [
    "sea, ships = create_sea_ships()\n",
    "s = GameState()\n",
    "moves = []\n",
    "rewards = []\n",
    "sunken = [] # wenn ein schiff komplett versinkt\n",
    "while not GameClass.getEnded(s):\n",
    "    vms = GameClass.getValidActions(s)\n",
    "    k = np.random.choice(range(len(vms)))\n",
    "    a = vms[k]\n",
    "    s = GameClass.getNextState(s, a, sea)\n",
    "    r = sea[a]\n",
    "    sn = 0\n",
    "    for l in range(10):\n",
    "        if ships[a][l]:\n",
    "            if np.sum(ships[:,:,l] * (1-s.det)) == 0:\n",
    "                sn = 1\n",
    "    moves.append(a)\n",
    "    rewards.append(r)\n",
    "    sunken.append(s)\n",
    "    if sn:\n",
    "        plot_sea(sea, s.det)\n",
    "        plt.show()"
   ]
  },
  {
   "cell_type": "code",
   "execution_count": 14,
   "id": "e2cd929e",
   "metadata": {
    "ExecuteTime": {
     "end_time": "2023-10-31T20:51:54.793635Z",
     "start_time": "2023-10-31T20:51:54.632709Z"
    }
   },
   "outputs": [
    {
     "data": {
      "text/plain": [
       "1.0"
      ]
     },
     "execution_count": 14,
     "metadata": {},
     "output_type": "execute_result"
    }
   ],
   "source": [
    "ships[a][l]"
   ]
  },
  {
   "cell_type": "code",
   "execution_count": 12,
   "id": "7c4f6021",
   "metadata": {
    "ExecuteTime": {
     "end_time": "2023-10-31T20:51:40.265494Z",
     "start_time": "2023-10-31T20:51:40.080656Z"
    }
   },
   "outputs": [
    {
     "data": {
      "text/plain": [
       "array([1., 0., 0., 0., 0., 0., 0., 0., 0., 0.])"
      ]
     },
     "execution_count": 12,
     "metadata": {},
     "output_type": "execute_result"
    }
   ],
   "source": [
    "ships[a]"
   ]
  },
  {
   "cell_type": "code",
   "execution_count": 13,
   "id": "e1b2c85a",
   "metadata": {
    "ExecuteTime": {
     "end_time": "2023-10-31T20:51:48.123592Z",
     "start_time": "2023-10-31T20:51:47.976451Z"
    }
   },
   "outputs": [
    {
     "data": {
      "text/plain": [
       "0"
      ]
     },
     "execution_count": 13,
     "metadata": {},
     "output_type": "execute_result"
    }
   ],
   "source": [
    "l"
   ]
  }
 ],
 "metadata": {
  "kernelspec": {
   "display_name": "Python 3",
   "language": "python",
   "name": "python3"
  },
  "language_info": {
   "codemirror_mode": {
    "name": "ipython",
    "version": 3
   },
   "file_extension": ".py",
   "mimetype": "text/x-python",
   "name": "python",
   "nbconvert_exporter": "python",
   "pygments_lexer": "ipython3",
   "version": "3.7.7"
  },
  "varInspector": {
   "cols": {
    "lenName": 16,
    "lenType": 16,
    "lenVar": 40
   },
   "kernels_config": {
    "python": {
     "delete_cmd_postfix": "",
     "delete_cmd_prefix": "del ",
     "library": "var_list.py",
     "varRefreshCmd": "print(var_dic_list())"
    },
    "r": {
     "delete_cmd_postfix": ") ",
     "delete_cmd_prefix": "rm(",
     "library": "var_list.r",
     "varRefreshCmd": "cat(var_dic_list()) "
    }
   },
   "types_to_exclude": [
    "module",
    "function",
    "builtin_function_or_method",
    "instance",
    "_Feature"
   ],
   "window_display": false
  }
 },
 "nbformat": 4,
 "nbformat_minor": 5
}
