{
 "cells": [
  {
   "cell_type": "code",
   "execution_count": 1,
   "metadata": {
    "ExecuteTime": {
     "end_time": "2023-10-24T08:57:45.143018Z",
     "start_time": "2023-10-24T08:57:42.332089Z"
    }
   },
   "outputs": [],
   "source": [
    "import numpy as np\n",
    "import matplotlib.pyplot as plt\n",
    "import matplotlib.patches as patches\n",
    "%matplotlib inline\n",
    "from tqdm.notebook import tqdm, trange"
   ]
  },
  {
   "cell_type": "code",
   "execution_count": 2,
   "metadata": {
    "ExecuteTime": {
     "end_time": "2023-10-24T08:58:00.591708Z",
     "start_time": "2023-10-24T08:57:47.486835Z"
    }
   },
   "outputs": [],
   "source": [
    "%load_ext autoreload\n",
    "%autoreload 2\n",
    "\n",
    "from bs_transfer import *\n",
    "from bs_net import *\n",
    "from bs_gameclass import *\n",
    "from bs_helpers import *\n",
    "from bs_selfplay import *"
   ]
  },
  {
   "cell_type": "markdown",
   "metadata": {},
   "source": [
    "## Training"
   ]
  },
  {
   "cell_type": "code",
   "execution_count": 3,
   "metadata": {
    "ExecuteTime": {
     "end_time": "2023-10-23T16:17:42.595051Z",
     "start_time": "2023-10-23T16:17:42.432295Z"
    }
   },
   "outputs": [],
   "source": [
    "\n",
    "# Batch generator for neural network training\n",
    "\n",
    "\n",
    "def batchgen(gamerecords, size=50, istart=0, iend=0, augment=True, verbose=None):\n",
    "    '''size: minibatchsize\n",
    "    istart, iend: Start- und Endindex der herausgegebenen Samples\n",
    "    verbose: Wenn überschrieben, dann mit einem String des Batchgen Namens (z. B. Supervised)'''\n",
    "    ep = 0\n",
    "    if not iend: iend = len(gamerecords)\n",
    "    while True:\n",
    "        ilist = range(istart, iend)\n",
    "        ilist = np.random.permutation(ilist)\n",
    "        minibatches = [ ilist[k*size:(k+1)*size] for k in range(len(ilist)//size) ]\n",
    "        for mb in minibatches:\n",
    "            xs = np.zeros((size, SX, SY, 3))\n",
    "            ps = np.zeros((size, SX, SY, 1))\n",
    "            vs = np.zeros((size, 1))\n",
    "            for i, k in enumerate(mb):\n",
    "                s, a, r = gamerecords[k]\n",
    "                \n",
    "                '''\n",
    "                if np.random.rand()<.5:\n",
    "                    s = GameIsola.mirrorx_state(s)\n",
    "                    adist = mirrorx_dist(adist)\n",
    "                if np.random.rand()<.5:\n",
    "                    s = GameIsola.mirrory_state(s)\n",
    "                    adist = mirrorx_dist(adist)'''\n",
    "                    \n",
    "                xs[i] = encode_x(s.sea, s.det)\n",
    "                ps[i, a] = 1.\n",
    "                vs[i] = r\n",
    "                    \n",
    "            yield xs, ps, vs\n",
    "        if verbose:\n",
    "            print(f'{verbose}: finished one epoch ({ep})!')\n",
    "        ep += 1\n",
    "         \n",
    "        \n",
    "        \n",
    "        \n",
    "\n",
    "def train(net, gamerecords, gamerecords_legacy=None, iterations=4000, verbose=0):\n",
    "    '''Trainiert das Netz'''\n",
    "\n",
    "    try: net.optimizer\n",
    "    except:\n",
    "        net.optimizer = torch.optim.Adam(lr=3e-4, params=net.parameters(), weight_decay=0e-4)\n",
    "    optimizer = net.optimizer\n",
    "    bg_v = batchgen(gamerecords, iend=500, size=500)\n",
    "    bg_s = batchgen(gamerecords, istart=500, size=200, verbose='supervised')\n",
    "    #bg_u = batchgen(gamerecords_legacy, size=400)\n",
    "    celoss = nn.CrossEntropyLoss()\n",
    "    MSE = nn.MSELoss()\n",
    "    L1Loss = nn.L1Loss()\n",
    "    LogLoss = lambda yp, yt: torch.mean(torch.sum(-yt*torch.log(yp+1e-12), dim=1))\n",
    "    losses1 = []\n",
    "    losses2 = []\n",
    "    ###semlosses = []\n",
    "    ###mtlosses = []\n",
    "\n",
    "\n",
    "    def valloss():\n",
    "        x, tp, tv = next(bg_v)\n",
    "        x, tp, tv = np2t(x, tp, tv)\n",
    "        pp, pv = net(x)\n",
    "\n",
    "        loss1 = LogLoss(pp, tp)\n",
    "        loss2 = MSE(pv[:,0], tv[:,0])\n",
    "        return loss1.item(), loss2.item()\n",
    "\n",
    "    \n",
    "    for k in trange(iterations):\n",
    "        x, tp, tv = next(bg_s)\n",
    "        x, tp, tv = np2t(x, tp, tv)\n",
    "        pp, pv = net(x)\n",
    "        #tp = tp.type(torch.long)\n",
    "\n",
    "        loss1 = LogLoss(pp, tp)\n",
    "        loss2 = MSE(pv[:,0], tv[:,0])\n",
    "        loss = loss1 + loss2\n",
    "        loss.backward()\n",
    "\n",
    "        # do the training step on the network\n",
    "        optimizer.step()\n",
    "        optimizer.zero_grad()\n",
    "\n",
    "        # Statistic\n",
    "        losses1 += [loss1.item()]\n",
    "        losses2 += [loss2.item()]\n",
    "\n",
    "        # Verbose output, measure minimum val loss\n",
    "        if len(losses1) == 100:\n",
    "            vloss1, vloss2 = valloss()\n",
    "            if verbose>=1:\n",
    "                print('Loss1=%f, Loss12=%f, ValLoss1=%f, ValLoss2=%f'% (np.mean(losses1), np.mean(losses2), vloss1, vloss2))\n",
    "            losses1, losses2 = [], []\n",
    "            \n",
    "    return net"
   ]
  },
  {
   "cell_type": "code",
   "execution_count": 128,
   "metadata": {
    "deletable": false,
    "editable": false,
    "run_control": {
     "frozen": true
    },
    "scrolled": false
   },
   "outputs": [
    {
     "data": {
      "application/vnd.jupyter.widget-view+json": {
       "model_id": "865a468c7b9842aaaf3ef09f0cee8ff9",
       "version_major": 2,
       "version_minor": 0
      },
      "text/plain": [
       "HBox(children=(FloatProgress(value=0.0, max=200.0), HTML(value='')))"
      ]
     },
     "metadata": {},
     "output_type": "display_data"
    },
    {
     "name": "stdout",
     "output_type": "stream",
     "text": [
      "\n"
     ]
    }
   ],
   "source": [
    "#newgames = selfplay(MultiMCTS(nparallel=1, nsearches=50, net=net), ngames=200, verbose=1)  # 25 min für 200 games!\n",
    "#newgames = selfplay(MultiMCTS(nparallel=10, nsearches=50, net=net), ngames=200, verbose=1)  #  5 min für 200 games! batching verschlechtert spielperformance ein wenig!\n",
    "#newgames = selfplay_batched(BatchMCTS(nparallel=20, nsearches=50, net=net), ngames=200, verbose=1) # 3 min für 200 games!"
   ]
  },
  {
   "cell_type": "code",
   "execution_count": 4,
   "metadata": {
    "ExecuteTime": {
     "end_time": "2023-10-17T17:27:46.673423Z",
     "start_time": "2023-10-17T17:27:45.382591Z"
    }
   },
   "outputs": [
    {
     "name": "stdout",
     "output_type": "stream",
     "text": [
      "Game record has length 0\n"
     ]
    }
   ],
   "source": [
    "from isola_net import NetAdaptive as Net\n",
    "\n",
    "net = Net()\n",
    "frame = 1\n",
    "game_rec = []\n",
    "winrates = []\n",
    "mmdepths=[]\n",
    "depthminimax = 2\n",
    "stage = 0\n",
    "\n",
    "print(f'Game record has length {len(game_rec)}')"
   ]
  },
  {
   "cell_type": "code",
   "execution_count": 5,
   "metadata": {
    "ExecuteTime": {
     "end_time": "2023-10-23T17:17:25.378626Z",
     "start_time": "2023-10-23T17:17:25.046602Z"
    },
    "run_control": {
     "marked": true
    },
    "scrolled": false
   },
   "outputs": [
    {
     "name": "stdout",
     "output_type": "stream",
     "text": [
      "Selfplay\n"
     ]
    },
    {
     "ename": "NameError",
     "evalue": "name 'BatchMCTS' is not defined",
     "output_type": "error",
     "traceback": [
      "\u001b[1;31m---------------------------------------------------------------------------\u001b[0m",
      "\u001b[1;31mNameError\u001b[0m                                 Traceback (most recent call last)",
      "\u001b[1;32m<ipython-input-5-8fef195f52b5>\u001b[0m in \u001b[0;36m<module>\u001b[1;34m\u001b[0m\n\u001b[0;32m     26\u001b[0m         \u001b[0mprint\u001b[0m\u001b[1;33m(\u001b[0m\u001b[1;34m'Selfplay'\u001b[0m\u001b[1;33m)\u001b[0m\u001b[1;33m\u001b[0m\u001b[1;33m\u001b[0m\u001b[0m\n\u001b[0;32m     27\u001b[0m         \u001b[1;31m#newgames = selfplay(MultiMCTS(nparallel=5, nsearches=50, net=net), ngames=200, verbose=1)\u001b[0m\u001b[1;33m\u001b[0m\u001b[1;33m\u001b[0m\u001b[1;33m\u001b[0m\u001b[0m\n\u001b[1;32m---> 28\u001b[1;33m         \u001b[0mnewgames\u001b[0m \u001b[1;33m=\u001b[0m \u001b[0mselfplay_batched\u001b[0m\u001b[1;33m(\u001b[0m\u001b[0mBatchMCTS\u001b[0m\u001b[1;33m(\u001b[0m\u001b[0mnparallel\u001b[0m\u001b[1;33m=\u001b[0m\u001b[1;36m15\u001b[0m\u001b[1;33m,\u001b[0m \u001b[0mnsearches\u001b[0m\u001b[1;33m=\u001b[0m\u001b[1;36m500\u001b[0m\u001b[1;33m,\u001b[0m \u001b[0mnet\u001b[0m\u001b[1;33m=\u001b[0m\u001b[0mnet\u001b[0m\u001b[1;33m,\u001b[0m \u001b[0mparams\u001b[0m\u001b[1;33m=\u001b[0m\u001b[1;33m{\u001b[0m\u001b[1;34m'useQ'\u001b[0m\u001b[1;33m:\u001b[0m\u001b[1;32mTrue\u001b[0m\u001b[1;33m,\u001b[0m\u001b[1;34m'cpuct'\u001b[0m\u001b[1;33m:\u001b[0m\u001b[1;36m0.2\u001b[0m\u001b[1;33m}\u001b[0m\u001b[1;33m)\u001b[0m\u001b[1;33m,\u001b[0m \u001b[0mngames\u001b[0m\u001b[1;33m=\u001b[0m\u001b[1;36m50\u001b[0m\u001b[1;33m,\u001b[0m \u001b[0mverbose\u001b[0m\u001b[1;33m=\u001b[0m\u001b[1;36m1\u001b[0m\u001b[1;33m)\u001b[0m \u001b[1;31m#50\u001b[0m\u001b[1;33m\u001b[0m\u001b[1;33m\u001b[0m\u001b[0m\n\u001b[0m\u001b[0;32m     29\u001b[0m         \u001b[0mnewgames\u001b[0m \u001b[1;33m+=\u001b[0m \u001b[0mload_selfplay\u001b[0m\u001b[1;33m(\u001b[0m\u001b[1;33m)\u001b[0m\u001b[1;33m\u001b[0m\u001b[1;33m\u001b[0m\u001b[0m\n\u001b[0;32m     30\u001b[0m         \u001b[0mgame_rec\u001b[0m \u001b[1;33m=\u001b[0m \u001b[0mnewgames\u001b[0m \u001b[1;33m+\u001b[0m \u001b[0mgame_rec\u001b[0m\u001b[1;33m\u001b[0m\u001b[1;33m\u001b[0m\u001b[0m\n",
      "\u001b[1;31mNameError\u001b[0m: name 'BatchMCTS' is not defined"
     ]
    }
   ],
   "source": [
    "\n",
    "\n",
    "depthminimax = 3\n",
    "frame = 1\n",
    "stage = 1\n",
    "\n",
    "while True:\n",
    "\n",
    "    \n",
    "    # Evaluate/Pit\n",
    "    if stage==0:\n",
    "        print('Pitting')\n",
    "        winrate = pit(MultiMCTS(nparallel=1, nsearches=100, net=net), MiniMax(maxdepth=depthminimax), n=20, nrnd=2, frame=frame, verbose=1)\n",
    "        print(winrate)\n",
    "        winrates.append(winrate)\n",
    "        mmdepths.append(depthminimax)\n",
    "        plt.plot(winrates, 'C2')\n",
    "        plt.plot(np.array(mmdepths)/10, 'C0o-', lw=0.5)\n",
    "        plt.show()\n",
    "        if winrate>=1.0 and depthminimax<2:\n",
    "            depthminimax += 1\n",
    "            print(f'Changing minimax depth to {depthminimax}')\n",
    "        stage = 1\n",
    "    \n",
    "    \n",
    "    # Selfplay\n",
    "    if stage==1:\n",
    "        print('Selfplay')\n",
    "        #newgames = selfplay(MultiMCTS(nparallel=5, nsearches=50, net=net), ngames=200, verbose=1)\n",
    "        newgames = selfplay_batched(BatchMCTS(nparallel=15, nsearches=500, net=net, params={'useQ':True,'cpuct':0.2}), ngames=50, verbose=1) #50\n",
    "        newgames += load_selfplay()\n",
    "        game_rec = newgames + game_rec\n",
    "        print('number of new states:', len(newgames))\n",
    "        print('size of game rec:', len(game_rec))\n",
    "        stage=2\n",
    "    \n",
    "    # Train\n",
    "    if stage==2:\n",
    "        print('Training')          #30000\n",
    "        net = train(net, game_rec[:5000], game_rec[150000:400000], iterations=50, verbose=1)\n",
    "        w = pit(MultiMCTS(nparallel=10, nsearches=100, net=net), \\\n",
    "                MultiMCTS(nparallel=10, nsearches=100, net=Net('net_temp.dat')), n=50, nrnd=2, frame=frame, verbose=0)\n",
    "        print('Winrate of new network: ', w)\n",
    "        if w > 0.55:\n",
    "            torch.save(net.state_dict(), 'net_temp.dat')\n",
    "            print('<=== SAVING NETWORK ===>')\n",
    "        stage = 0\n",
    "    "
   ]
  },
  {
   "cell_type": "code",
   "execution_count": 8,
   "metadata": {
    "ExecuteTime": {
     "end_time": "2023-10-17T17:33:34.485568Z",
     "start_time": "2023-10-17T17:33:34.363644Z"
    }
   },
   "outputs": [
    {
     "data": {
      "text/plain": [
       "47012"
      ]
     },
     "execution_count": 8,
     "metadata": {},
     "output_type": "execute_result"
    }
   ],
   "source": [
    "len(game_rec)"
   ]
  },
  {
   "cell_type": "code",
   "execution_count": 23,
   "metadata": {},
   "outputs": [
    {
     "data": {
      "application/vnd.jupyter.widget-view+json": {
       "model_id": "520ef5b0bd594361b54713bdd2c5f511",
       "version_major": 2,
       "version_minor": 0
      },
      "text/plain": [
       "  0%|          | 0/1000 [00:00<?, ?it/s]"
      ]
     },
     "metadata": {},
     "output_type": "display_data"
    },
    {
     "name": "stdout",
     "output_type": "stream",
     "text": [
      "supervised: finished one epoch (0)!\n"
     ]
    },
    {
     "ename": "KeyboardInterrupt",
     "evalue": "",
     "output_type": "error",
     "traceback": [
      "\u001b[1;31m---------------------------------------------------------------------------\u001b[0m",
      "\u001b[1;31mKeyboardInterrupt\u001b[0m                         Traceback (most recent call last)",
      "\u001b[1;32m<ipython-input-23-78c00f8cd6cb>\u001b[0m in \u001b[0;36m<module>\u001b[1;34m\u001b[0m\n\u001b[1;32m----> 1\u001b[1;33m \u001b[0mnet\u001b[0m \u001b[1;33m=\u001b[0m \u001b[0mtrain\u001b[0m\u001b[1;33m(\u001b[0m\u001b[0mnet\u001b[0m\u001b[1;33m,\u001b[0m \u001b[0mgame_rec\u001b[0m\u001b[1;33m[\u001b[0m\u001b[1;33m:\u001b[0m\u001b[1;36m3000\u001b[0m\u001b[1;33m]\u001b[0m\u001b[1;33m,\u001b[0m \u001b[0mgame_rec\u001b[0m\u001b[1;33m[\u001b[0m\u001b[1;36m150000\u001b[0m\u001b[1;33m:\u001b[0m\u001b[1;36m400000\u001b[0m\u001b[1;33m]\u001b[0m\u001b[1;33m,\u001b[0m \u001b[0miterations\u001b[0m\u001b[1;33m=\u001b[0m\u001b[1;36m1000\u001b[0m\u001b[1;33m,\u001b[0m \u001b[0mverbose\u001b[0m\u001b[1;33m=\u001b[0m\u001b[1;36m1\u001b[0m\u001b[1;33m)\u001b[0m\u001b[1;33m\u001b[0m\u001b[1;33m\u001b[0m\u001b[0m\n\u001b[0m\u001b[0;32m      2\u001b[0m w = pit(MultiMCTS(nparallel=1, nsearches=1, net=net), \\\n\u001b[0;32m      3\u001b[0m         MultiMCTS(nparallel=1, nsearches=1, net=Net('net_temp.dat')), n=100, nrnd=1, frame=frame, verbose=0)\n\u001b[0;32m      4\u001b[0m \u001b[0mprint\u001b[0m\u001b[1;33m(\u001b[0m\u001b[1;34m'Winrate of new network: '\u001b[0m\u001b[1;33m,\u001b[0m \u001b[0mw\u001b[0m\u001b[1;33m)\u001b[0m\u001b[1;33m\u001b[0m\u001b[1;33m\u001b[0m\u001b[0m\n\u001b[0;32m      5\u001b[0m \u001b[1;32mif\u001b[0m \u001b[0mw\u001b[0m \u001b[1;33m>\u001b[0m \u001b[1;36m0.55\u001b[0m\u001b[1;33m:\u001b[0m\u001b[1;33m\u001b[0m\u001b[1;33m\u001b[0m\u001b[0m\n",
      "\u001b[1;32m<ipython-input-4-70b6529cbbab>\u001b[0m in \u001b[0;36mtrain\u001b[1;34m(net, gamerecords, gamerecords_legacy, iterations, verbose)\u001b[0m\n\u001b[0;32m     89\u001b[0m \u001b[1;33m\u001b[0m\u001b[0m\n\u001b[0;32m     90\u001b[0m         \u001b[1;31m# do the training step on the network\u001b[0m\u001b[1;33m\u001b[0m\u001b[1;33m\u001b[0m\u001b[1;33m\u001b[0m\u001b[0m\n\u001b[1;32m---> 91\u001b[1;33m         \u001b[0moptimizer\u001b[0m\u001b[1;33m.\u001b[0m\u001b[0mstep\u001b[0m\u001b[1;33m(\u001b[0m\u001b[1;33m)\u001b[0m\u001b[1;33m\u001b[0m\u001b[1;33m\u001b[0m\u001b[0m\n\u001b[0m\u001b[0;32m     92\u001b[0m         \u001b[0moptimizer\u001b[0m\u001b[1;33m.\u001b[0m\u001b[0mzero_grad\u001b[0m\u001b[1;33m(\u001b[0m\u001b[1;33m)\u001b[0m\u001b[1;33m\u001b[0m\u001b[1;33m\u001b[0m\u001b[0m\n\u001b[0;32m     93\u001b[0m \u001b[1;33m\u001b[0m\u001b[0m\n",
      "\u001b[1;32mC:\\ProgramData\\Anaconda3\\lib\\site-packages\\torch\\autograd\\grad_mode.py\u001b[0m in \u001b[0;36mdecorate_context\u001b[1;34m(*args, **kwargs)\u001b[0m\n\u001b[0;32m     13\u001b[0m         \u001b[1;32mdef\u001b[0m \u001b[0mdecorate_context\u001b[0m\u001b[1;33m(\u001b[0m\u001b[1;33m*\u001b[0m\u001b[0margs\u001b[0m\u001b[1;33m,\u001b[0m \u001b[1;33m**\u001b[0m\u001b[0mkwargs\u001b[0m\u001b[1;33m)\u001b[0m\u001b[1;33m:\u001b[0m\u001b[1;33m\u001b[0m\u001b[1;33m\u001b[0m\u001b[0m\n\u001b[0;32m     14\u001b[0m             \u001b[1;32mwith\u001b[0m \u001b[0mself\u001b[0m\u001b[1;33m:\u001b[0m\u001b[1;33m\u001b[0m\u001b[1;33m\u001b[0m\u001b[0m\n\u001b[1;32m---> 15\u001b[1;33m                 \u001b[1;32mreturn\u001b[0m \u001b[0mfunc\u001b[0m\u001b[1;33m(\u001b[0m\u001b[1;33m*\u001b[0m\u001b[0margs\u001b[0m\u001b[1;33m,\u001b[0m \u001b[1;33m**\u001b[0m\u001b[0mkwargs\u001b[0m\u001b[1;33m)\u001b[0m\u001b[1;33m\u001b[0m\u001b[1;33m\u001b[0m\u001b[0m\n\u001b[0m\u001b[0;32m     16\u001b[0m         \u001b[1;32mreturn\u001b[0m \u001b[0mdecorate_context\u001b[0m\u001b[1;33m\u001b[0m\u001b[1;33m\u001b[0m\u001b[0m\n\u001b[0;32m     17\u001b[0m \u001b[1;33m\u001b[0m\u001b[0m\n",
      "\u001b[1;32mC:\\ProgramData\\Anaconda3\\lib\\site-packages\\torch\\optim\\adam.py\u001b[0m in \u001b[0;36mstep\u001b[1;34m(self, closure)\u001b[0m\n\u001b[0;32m     97\u001b[0m \u001b[1;33m\u001b[0m\u001b[0m\n\u001b[0;32m     98\u001b[0m                 \u001b[1;31m# Decay the first and second moment running average coefficient\u001b[0m\u001b[1;33m\u001b[0m\u001b[1;33m\u001b[0m\u001b[1;33m\u001b[0m\u001b[0m\n\u001b[1;32m---> 99\u001b[1;33m                 \u001b[0mexp_avg\u001b[0m\u001b[1;33m.\u001b[0m\u001b[0mmul_\u001b[0m\u001b[1;33m(\u001b[0m\u001b[0mbeta1\u001b[0m\u001b[1;33m)\u001b[0m\u001b[1;33m.\u001b[0m\u001b[0madd_\u001b[0m\u001b[1;33m(\u001b[0m\u001b[0mgrad\u001b[0m\u001b[1;33m,\u001b[0m \u001b[0malpha\u001b[0m\u001b[1;33m=\u001b[0m\u001b[1;36m1\u001b[0m \u001b[1;33m-\u001b[0m \u001b[0mbeta1\u001b[0m\u001b[1;33m)\u001b[0m\u001b[1;33m\u001b[0m\u001b[1;33m\u001b[0m\u001b[0m\n\u001b[0m\u001b[0;32m    100\u001b[0m                 \u001b[0mexp_avg_sq\u001b[0m\u001b[1;33m.\u001b[0m\u001b[0mmul_\u001b[0m\u001b[1;33m(\u001b[0m\u001b[0mbeta2\u001b[0m\u001b[1;33m)\u001b[0m\u001b[1;33m.\u001b[0m\u001b[0maddcmul_\u001b[0m\u001b[1;33m(\u001b[0m\u001b[0mgrad\u001b[0m\u001b[1;33m,\u001b[0m \u001b[0mgrad\u001b[0m\u001b[1;33m,\u001b[0m \u001b[0mvalue\u001b[0m\u001b[1;33m=\u001b[0m\u001b[1;36m1\u001b[0m \u001b[1;33m-\u001b[0m \u001b[0mbeta2\u001b[0m\u001b[1;33m)\u001b[0m\u001b[1;33m\u001b[0m\u001b[1;33m\u001b[0m\u001b[0m\n\u001b[0;32m    101\u001b[0m                 \u001b[1;32mif\u001b[0m \u001b[0mamsgrad\u001b[0m\u001b[1;33m:\u001b[0m\u001b[1;33m\u001b[0m\u001b[1;33m\u001b[0m\u001b[0m\n",
      "\u001b[1;31mKeyboardInterrupt\u001b[0m: "
     ]
    }
   ],
   "source": [
    "\n",
    "net = train(net, game_rec[:3000], game_rec[150000:400000], iterations=1000, verbose=1)\n",
    "w = pit(MultiMCTS(nparallel=1, nsearches=1, net=net), \\\n",
    "        MultiMCTS(nparallel=1, nsearches=1, net=Net('net_temp.dat')), n=100, nrnd=1, frame=frame, verbose=0)\n",
    "print('Winrate of new network: ', w)\n",
    "if w > 0.55:\n",
    "    torch.save(net.state_dict(), 'net_temp.dat')"
   ]
  },
  {
   "cell_type": "code",
   "execution_count": 230,
   "metadata": {},
   "outputs": [
    {
     "name": "stdout",
     "output_type": "stream",
     "text": [
      "Warning! Performing at least 50 rollouts since nparallel is this value!\n",
      "Warning! Performing at least 50 rollouts since nparallel is this value!\n"
     ]
    },
    {
     "data": {
      "text/plain": [
       "0.49"
      ]
     },
     "execution_count": 230,
     "metadata": {},
     "output_type": "execute_result"
    }
   ],
   "source": [
    "pit(MultiMCTS(nparallel=50, nsearches=1, net=net), MultiMCTS(nparallel=50, nsearches=1, net=Net('net_temp.dat')), n=100, nrnd=1, frame=frame, verbose=0)"
   ]
  },
  {
   "cell_type": "code",
   "execution_count": 6,
   "metadata": {
    "ExecuteTime": {
     "end_time": "2023-10-17T17:28:16.724696Z",
     "start_time": "2023-10-17T17:28:16.572604Z"
    }
   },
   "outputs": [],
   "source": [
    "net = NetAdaptive('net_depth3.dat')"
   ]
  },
  {
   "cell_type": "code",
   "execution_count": 40,
   "metadata": {
    "ExecuteTime": {
     "end_time": "2023-10-16T21:34:18.210227Z",
     "start_time": "2023-10-16T21:34:18.004356Z"
    }
   },
   "outputs": [],
   "source": [
    "net = NetAdaptive()"
   ]
  },
  {
   "cell_type": "code",
   "execution_count": 5,
   "metadata": {
    "ExecuteTime": {
     "end_time": "2023-10-17T17:27:56.927200Z",
     "start_time": "2023-10-17T17:27:55.959029Z"
    }
   },
   "outputs": [],
   "source": [
    "with open('selfplay_mcts1.dat', 'rb') as f:\n",
    "    game_rec = pkl.load(f)"
   ]
  },
  {
   "cell_type": "code",
   "execution_count": 7,
   "metadata": {
    "ExecuteTime": {
     "end_time": "2023-10-17T17:28:49.834039Z",
     "start_time": "2023-10-17T17:28:30.250511Z"
    }
   },
   "outputs": [
    {
     "data": {
      "application/vnd.jupyter.widget-view+json": {
       "model_id": "3556310819d14410a13f0094408d7b3a",
       "version_major": 2,
       "version_minor": 0
      },
      "text/plain": [
       "  0%|          | 0/300 [00:00<?, ?it/s]"
      ]
     },
     "metadata": {},
     "output_type": "display_data"
    },
    {
     "name": "stdout",
     "output_type": "stream",
     "text": [
      "Loss1=9.685635, Loss12=0.313692, ValLoss1=10.365581, ValLoss2=0.130258\n",
      "Loss1=9.625525, Loss12=0.295609, ValLoss1=10.146382, ValLoss2=0.147009\n",
      "supervised: finished one epoch (0)!\n",
      "Loss1=9.589412, Loss12=0.278828, ValLoss1=10.264499, ValLoss2=0.156977\n"
     ]
    },
    {
     "data": {
      "application/vnd.jupyter.widget-view+json": {
       "model_id": "75f8219913f64e1bbee278ab44816a25",
       "version_major": 2,
       "version_minor": 0
      },
      "text/plain": [
       "  0%|          | 0/300 [00:00<?, ?it/s]"
      ]
     },
     "metadata": {},
     "output_type": "display_data"
    },
    {
     "ename": "KeyboardInterrupt",
     "evalue": "",
     "output_type": "error",
     "traceback": [
      "\u001b[1;31m---------------------------------------------------------------------------\u001b[0m",
      "\u001b[1;31mKeyboardInterrupt\u001b[0m                         Traceback (most recent call last)",
      "\u001b[1;32m<ipython-input-7-dafbad5f6b2b>\u001b[0m in \u001b[0;36m<module>\u001b[1;34m\u001b[0m\n\u001b[0;32m      1\u001b[0m \u001b[1;32mwhile\u001b[0m \u001b[1;32mTrue\u001b[0m\u001b[1;33m:\u001b[0m\u001b[1;33m\u001b[0m\u001b[1;33m\u001b[0m\u001b[0m\n\u001b[1;32m----> 2\u001b[1;33m     \u001b[0mnet\u001b[0m \u001b[1;33m=\u001b[0m \u001b[0mtrain\u001b[0m\u001b[1;33m(\u001b[0m\u001b[0mnet\u001b[0m\u001b[1;33m,\u001b[0m \u001b[0mgame_rec\u001b[0m\u001b[1;33m[\u001b[0m\u001b[1;33m:\u001b[0m\u001b[1;33m]\u001b[0m\u001b[1;33m,\u001b[0m \u001b[0mgame_rec\u001b[0m\u001b[1;33m[\u001b[0m\u001b[1;36m100000\u001b[0m\u001b[1;33m:\u001b[0m\u001b[1;33m]\u001b[0m\u001b[1;33m,\u001b[0m \u001b[0miterations\u001b[0m\u001b[1;33m=\u001b[0m\u001b[1;36m300\u001b[0m\u001b[1;33m,\u001b[0m \u001b[0mverbose\u001b[0m\u001b[1;33m=\u001b[0m\u001b[1;36m1\u001b[0m\u001b[1;33m)\u001b[0m\u001b[1;33m\u001b[0m\u001b[1;33m\u001b[0m\u001b[0m\n\u001b[0m\u001b[0;32m      3\u001b[0m     \u001b[0mtorch\u001b[0m\u001b[1;33m.\u001b[0m\u001b[0msave\u001b[0m\u001b[1;33m(\u001b[0m\u001b[0mnet\u001b[0m\u001b[1;33m.\u001b[0m\u001b[0mstate_dict\u001b[0m\u001b[1;33m(\u001b[0m\u001b[1;33m)\u001b[0m\u001b[1;33m,\u001b[0m \u001b[1;34m'net_temp.dat'\u001b[0m\u001b[1;33m)\u001b[0m\u001b[1;33m\u001b[0m\u001b[1;33m\u001b[0m\u001b[0m\n",
      "\u001b[1;32m<ipython-input-3-70b6529cbbab>\u001b[0m in \u001b[0;36mtrain\u001b[1;34m(net, gamerecords, gamerecords_legacy, iterations, verbose)\u001b[0m\n\u001b[0;32m     78\u001b[0m \u001b[1;33m\u001b[0m\u001b[0m\n\u001b[0;32m     79\u001b[0m     \u001b[1;32mfor\u001b[0m \u001b[0mk\u001b[0m \u001b[1;32min\u001b[0m \u001b[0mtrange\u001b[0m\u001b[1;33m(\u001b[0m\u001b[0miterations\u001b[0m\u001b[1;33m)\u001b[0m\u001b[1;33m:\u001b[0m\u001b[1;33m\u001b[0m\u001b[1;33m\u001b[0m\u001b[0m\n\u001b[1;32m---> 80\u001b[1;33m         \u001b[0mb\u001b[0m\u001b[1;33m,\u001b[0m \u001b[0mvds\u001b[0m\u001b[1;33m,\u001b[0m \u001b[0mtp\u001b[0m\u001b[1;33m,\u001b[0m \u001b[0mtv\u001b[0m \u001b[1;33m=\u001b[0m \u001b[0mnext\u001b[0m\u001b[1;33m(\u001b[0m\u001b[0mbg_s\u001b[0m\u001b[1;33m)\u001b[0m\u001b[1;33m\u001b[0m\u001b[1;33m\u001b[0m\u001b[0m\n\u001b[0m\u001b[0;32m     81\u001b[0m         \u001b[0mb\u001b[0m\u001b[1;33m,\u001b[0m \u001b[0mvds\u001b[0m\u001b[1;33m,\u001b[0m \u001b[0mtp\u001b[0m\u001b[1;33m,\u001b[0m \u001b[0mtv\u001b[0m \u001b[1;33m=\u001b[0m \u001b[0mbatch2torch\u001b[0m\u001b[1;33m(\u001b[0m\u001b[0mb\u001b[0m\u001b[1;33m,\u001b[0m \u001b[0mvds\u001b[0m\u001b[1;33m,\u001b[0m \u001b[0mtp\u001b[0m\u001b[1;33m,\u001b[0m \u001b[0mtv\u001b[0m\u001b[1;33m)\u001b[0m\u001b[1;33m\u001b[0m\u001b[1;33m\u001b[0m\u001b[0m\n\u001b[0;32m     82\u001b[0m         \u001b[0mpp\u001b[0m\u001b[1;33m,\u001b[0m \u001b[0mpv\u001b[0m \u001b[1;33m=\u001b[0m \u001b[0mnet\u001b[0m\u001b[1;33m(\u001b[0m\u001b[0mb\u001b[0m\u001b[1;33m,\u001b[0m \u001b[0mvds\u001b[0m\u001b[1;33m)\u001b[0m\u001b[1;33m\u001b[0m\u001b[1;33m\u001b[0m\u001b[0m\n",
      "\u001b[1;32m<ipython-input-3-70b6529cbbab>\u001b[0m in \u001b[0;36mbatchgen\u001b[1;34m(gamerecords, size, istart, iend, augment, verbose)\u001b[0m\n\u001b[0;32m     33\u001b[0m                     \u001b[0mr\u001b[0m \u001b[1;33m*=\u001b[0m \u001b[1;33m-\u001b[0m\u001b[1;36m1\u001b[0m\u001b[1;33m\u001b[0m\u001b[1;33m\u001b[0m\u001b[0m\n\u001b[0;32m     34\u001b[0m \u001b[1;33m\u001b[0m\u001b[0m\n\u001b[1;32m---> 35\u001b[1;33m                 \u001b[0mxs\u001b[0m\u001b[1;33m[\u001b[0m\u001b[0mi\u001b[0m\u001b[1;33m]\u001b[0m\u001b[1;33m,\u001b[0m \u001b[0mvds\u001b[0m\u001b[1;33m[\u001b[0m\u001b[0mi\u001b[0m\u001b[1;33m]\u001b[0m \u001b[1;33m=\u001b[0m \u001b[0mnet\u001b[0m\u001b[1;33m.\u001b[0m\u001b[0mpreprocess\u001b[0m\u001b[1;33m(\u001b[0m\u001b[0ms\u001b[0m\u001b[1;33m,\u001b[0m \u001b[0mvalid\u001b[0m\u001b[1;33m)\u001b[0m\u001b[1;33m\u001b[0m\u001b[1;33m\u001b[0m\u001b[0m\n\u001b[0m\u001b[0;32m     36\u001b[0m                 \u001b[0mps\u001b[0m\u001b[1;33m[\u001b[0m\u001b[0mi\u001b[0m\u001b[1;33m]\u001b[0m \u001b[1;33m=\u001b[0m \u001b[0madist\u001b[0m\u001b[1;33m\u001b[0m\u001b[1;33m\u001b[0m\u001b[0m\n\u001b[0;32m     37\u001b[0m                 \u001b[0mvs\u001b[0m\u001b[1;33m[\u001b[0m\u001b[0mi\u001b[0m\u001b[1;33m]\u001b[0m \u001b[1;33m=\u001b[0m \u001b[0mr\u001b[0m\u001b[1;33m\u001b[0m\u001b[1;33m\u001b[0m\u001b[0m\n",
      "\u001b[1;32mD:\\Anaconda-Python-3.7\\isola - single stage\\isola_net.py\u001b[0m in \u001b[0;36mpreprocess\u001b[1;34m(self, state, valid)\u001b[0m\n\u001b[0;32m    176\u001b[0m         \u001b[0mx\u001b[0m\u001b[1;33m[\u001b[0m\u001b[1;36m2\u001b[0m\u001b[1;33m,\u001b[0m \u001b[0mr\u001b[0m\u001b[1;33m[\u001b[0m\u001b[1;36m0\u001b[0m\u001b[1;33m]\u001b[0m\u001b[1;33m,\u001b[0m \u001b[0mr\u001b[0m\u001b[1;33m[\u001b[0m\u001b[1;36m1\u001b[0m\u001b[1;33m]\u001b[0m\u001b[1;33m]\u001b[0m \u001b[1;33m=\u001b[0m \u001b[1;36m1.\u001b[0m\u001b[1;33m\u001b[0m\u001b[1;33m\u001b[0m\u001b[0m\n\u001b[0;32m    177\u001b[0m         \u001b[0mx\u001b[0m\u001b[1;33m[\u001b[0m\u001b[1;36m3\u001b[0m\u001b[1;33m,\u001b[0m \u001b[0mb\u001b[0m\u001b[1;33m[\u001b[0m\u001b[1;36m0\u001b[0m\u001b[1;33m]\u001b[0m\u001b[1;33m,\u001b[0m \u001b[0mb\u001b[0m\u001b[1;33m[\u001b[0m\u001b[1;36m1\u001b[0m\u001b[1;33m]\u001b[0m\u001b[1;33m]\u001b[0m \u001b[1;33m=\u001b[0m \u001b[1;36m1.\u001b[0m\u001b[1;33m\u001b[0m\u001b[1;33m\u001b[0m\u001b[0m\n\u001b[1;32m--> 178\u001b[1;33m         \u001b[0mvd\u001b[0m \u001b[1;33m=\u001b[0m \u001b[0mnp\u001b[0m\u001b[1;33m.\u001b[0m\u001b[0mzeros\u001b[0m\u001b[1;33m(\u001b[0m\u001b[0mnum_actions\u001b[0m\u001b[1;33m)\u001b[0m\u001b[1;33m\u001b[0m\u001b[1;33m\u001b[0m\u001b[0m\n\u001b[0m\u001b[0;32m    179\u001b[0m         \u001b[1;32mfor\u001b[0m \u001b[0mk\u001b[0m \u001b[1;32min\u001b[0m \u001b[0mvalid\u001b[0m\u001b[1;33m:\u001b[0m\u001b[1;33m\u001b[0m\u001b[1;33m\u001b[0m\u001b[0m\n\u001b[0;32m    180\u001b[0m             \u001b[0mvd\u001b[0m\u001b[1;33m[\u001b[0m\u001b[0mk\u001b[0m\u001b[1;33m]\u001b[0m \u001b[1;33m=\u001b[0m \u001b[1;36m1.\u001b[0m\u001b[1;33m\u001b[0m\u001b[1;33m\u001b[0m\u001b[0m\n",
      "\u001b[1;31mKeyboardInterrupt\u001b[0m: "
     ]
    }
   ],
   "source": [
    "while True:\n",
    "    net = train(net, game_rec[:], game_rec[100000:], iterations=300, verbose=1)\n",
    "    torch.save(net.state_dict(), 'net_temp.dat')"
   ]
  },
  {
   "cell_type": "code",
   "execution_count": 39,
   "metadata": {
    "ExecuteTime": {
     "end_time": "2023-10-16T21:34:00.271567Z",
     "start_time": "2023-10-16T21:34:00.126108Z"
    }
   },
   "outputs": [],
   "source": [
    "net2 = net"
   ]
  },
  {
   "cell_type": "code",
   "execution_count": null,
   "metadata": {},
   "outputs": [],
   "source": []
  },
  {
   "cell_type": "code",
   "execution_count": 67,
   "metadata": {},
   "outputs": [
    {
     "name": "stdout",
     "output_type": "stream",
     "text": [
      "0 1\n",
      "1 2\n",
      "2 3\n",
      "2 4\n",
      "3 5\n",
      "3 6\n",
      "4 7\n",
      "4 8\n",
      "5 9\n",
      "6 10\n",
      "7 11\n",
      "7 12\n",
      "8 13\n",
      "8 14\n",
      "8 15\n",
      "9 16\n",
      "10 17\n",
      "10 18\n",
      "11 19\n",
      "11 20\n"
     ]
    },
    {
     "data": {
      "text/plain": [
       "0.55"
      ]
     },
     "execution_count": 67,
     "metadata": {},
     "output_type": "execute_result"
    }
   ],
   "source": [
    "ai1 = MultiMCTS(net, nparallel=15, nsearches=100, params={'useQ':True, 'cpuct': 1})\n",
    "ai2 = MultiMCTS(net, nparallel=15, nsearches=100, params={'useQ':False, 'cpuct': 4})\n",
    "\n",
    "pit(ai1, ai2, n=20, nrnd=2, verbose=1)"
   ]
  },
  {
   "cell_type": "code",
   "execution_count": 84,
   "metadata": {},
   "outputs": [
    {
     "name": "stdout",
     "output_type": "stream",
     "text": [
      "\u001b[43m~ \u001b[47m~ \u001b[43m~ \u001b[41mr \u001b[43m~ \u001b[47m~ \n",
      "\u001b[43m~ \u001b[47m~ \u001b[47m~ \u001b[47m~ \u001b[43m~ \u001b[47m~ \n",
      "\u001b[43m~ \u001b[44mb \u001b[43m~ \u001b[47m~ \u001b[43m~ \u001b[47m~ \n",
      "\u001b[47m~ \u001b[47m~ \u001b[47m~ \u001b[47m~ \u001b[47m~ \u001b[47m~ \n",
      "\u001b[49m\n",
      "[0. 0. 0. 0. 0. 0. 0. 0. 0. 0. 0. 0. 0. 0. 0. 0. 0. 0. 0. 0. 0. 0. 0. 0.\n",
      " 0. 0. 0. 0. 0. 0. 0. 0. 0. 0. 0. 0. 0. 0. 0. 0. 0. 0. 0. 0. 0. 0. 0. 0.\n",
      " 0. 0. 0. 0. 0. 0. 0. 0. 0. 0. 0. 0. 0. 0. 1. 0. 0. 0. 0. 0. 0. 0. 0. 0.\n",
      " 0. 0. 0. 0. 0. 0. 0. 0. 0. 0. 0. 0. 0. 0. 0. 0. 0. 0. 0. 0. 0. 0. 0. 0.\n",
      " 0. 0. 0. 0. 0. 0. 0. 0. 0. 0. 0. 0. 0. 0. 0. 0. 0. 0. 0. 0. 0. 0. 0. 0.\n",
      " 0. 0. 0. 0. 0. 0. 0. 0. 0. 0. 0. 0. 0. 0. 0. 0. 0. 0. 0. 0. 0. 0. 0. 0.\n",
      " 0. 0. 0. 0. 0. 0. 0. 0. 0. 0. 0. 0. 0. 0. 0. 0. 0. 0. 0. 0. 0. 0. 0. 0.\n",
      " 0. 0. 0. 0. 0. 0. 0. 0. 0. 0. 0. 0. 0. 0. 0. 0. 0. 0. 0. 0. 0. 0. 0. 0.\n",
      " 0. 0. 0. 0. 0. 0. 0. 0. 0. 0. 0. 0. 0. 0. 0. 0. 0. 0. 0. 0. 0. 0. 0. 0.] 1\n"
     ]
    },
    {
     "ename": "ValueError",
     "evalue": "setting an array element with a sequence.",
     "output_type": "error",
     "traceback": [
      "\u001b[1;31m---------------------------------------------------------------------------\u001b[0m",
      "\u001b[1;31mTypeError\u001b[0m                                 Traceback (most recent call last)",
      "\u001b[1;31mTypeError\u001b[0m: only size-1 arrays can be converted to Python scalars",
      "\nThe above exception was the direct cause of the following exception:\n",
      "\u001b[1;31mValueError\u001b[0m                                Traceback (most recent call last)",
      "\u001b[1;32m<ipython-input-84-40ad90276c6d>\u001b[0m in \u001b[0;36m<module>\u001b[1;34m\u001b[0m\n\u001b[0;32m     19\u001b[0m \u001b[1;33m\u001b[0m\u001b[0m\n\u001b[0;32m     20\u001b[0m \u001b[0mxs\u001b[0m\u001b[1;33m[\u001b[0m\u001b[0mi\u001b[0m\u001b[1;33m]\u001b[0m\u001b[1;33m,\u001b[0m \u001b[0mvds\u001b[0m\u001b[1;33m[\u001b[0m\u001b[0mi\u001b[0m\u001b[1;33m]\u001b[0m \u001b[1;33m=\u001b[0m \u001b[0mnet\u001b[0m\u001b[1;33m.\u001b[0m\u001b[0mpreprocess\u001b[0m\u001b[1;33m(\u001b[0m\u001b[0ms\u001b[0m\u001b[1;33m,\u001b[0m \u001b[0mGameIsola\u001b[0m\u001b[1;33m.\u001b[0m\u001b[0mgetValidActions\u001b[0m\u001b[1;33m(\u001b[0m\u001b[0ms\u001b[0m\u001b[1;33m)\u001b[0m\u001b[1;33m)\u001b[0m\u001b[1;33m\u001b[0m\u001b[1;33m\u001b[0m\u001b[0m\n\u001b[1;32m---> 21\u001b[1;33m \u001b[0my1s\u001b[0m\u001b[1;33m[\u001b[0m\u001b[0mi\u001b[0m\u001b[1;33m]\u001b[0m \u001b[1;33m=\u001b[0m \u001b[0ma\u001b[0m\u001b[1;33m\u001b[0m\u001b[1;33m\u001b[0m\u001b[0m\n\u001b[0m\u001b[0;32m     22\u001b[0m \u001b[0my2s\u001b[0m\u001b[1;33m[\u001b[0m\u001b[0mi\u001b[0m\u001b[1;33m]\u001b[0m \u001b[1;33m=\u001b[0m \u001b[0mr\u001b[0m\u001b[1;33m\u001b[0m\u001b[1;33m\u001b[0m\u001b[0m\n",
      "\u001b[1;31mValueError\u001b[0m: setting an array element with a sequence."
     ]
    }
   ],
   "source": [
    "\n",
    "\n",
    "with open('selfplay_depth3.dat', 'rb') as f:\n",
    "    gamerecords = pkl.load(f)\n",
    "    gamerecords_legacy = gamerecords\n",
    "\n",
    "s, a, r = gamerecords[1]\n",
    "if s.turn<0:\n",
    "    s = GameIsola.exchangePlayers(s)\n",
    "    r *= -1\n",
    "print_state(s)\n",
    "print(a, r)\n",
    "\n",
    "size=50\n",
    "i = 0\n",
    "\n",
    "xs = np.zeros((size, 4, boardsize[0], boardsize[1]))\n",
    "vds = np.zeros((size, GameIsola.numActions))\n",
    "y1s = np.zeros(size, dtype=int)\n",
    "y2s = np.zeros((size, 1))\n",
    "\n",
    "xs[i], vds[i] = net.preprocess(s, GameIsola.getValidActions(s))\n",
    "y1s[i] = a\n",
    "y2s[i] = r"
   ]
  },
  {
   "cell_type": "code",
   "execution_count": 12,
   "metadata": {
    "ExecuteTime": {
     "end_time": "2023-10-23T17:18:49.144686Z",
     "start_time": "2023-10-23T17:18:48.985852Z"
    }
   },
   "outputs": [],
   "source": [
    "\n",
    "\n",
    "\n",
    "def batchgen(gamerecords, size=50, istart=0, iend=0, augment=True, verbose=None):\n",
    "    '''size: minibatchsize\n",
    "    istart, iend: Start- und Endindex der herausgegebenen Samples\n",
    "    verbose: Wenn überschrieben, dann mit einem String des Batchgen Namens (z. B. Supervised)'''\n",
    "    ep = 0\n",
    "    if not iend: iend = len(gamerecords)\n",
    "    while True:\n",
    "        ilist = range(istart, iend)\n",
    "        ilist = np.random.permutation(ilist)\n",
    "        minibatches = [ ilist[k*size:(k+1)*size] for k in range(len(ilist)//size) ]\n",
    "        for mb in minibatches:\n",
    "            xs = np.zeros((size, SX, SY, 3))\n",
    "            ps = np.zeros((size, SX, SY, 1))\n",
    "            vs = np.zeros((size, 1))\n",
    "            for i, k in enumerate(mb):\n",
    "                s, a, r = gamerecords[k]\n",
    "                \n",
    "                '''\n",
    "                if np.random.rand()<.5:\n",
    "                    s = GameIsola.mirrorx_state(s)\n",
    "                    adist = mirrorx_dist(adist)\n",
    "                if np.random.rand()<.5:\n",
    "                    s = GameIsola.mirrory_state(s)\n",
    "                    adist = mirrorx_dist(adist)'''\n",
    "                    \n",
    "                xs[i] = encode_x(s.sea, s.det)\n",
    "                ps[i, a] = 1.\n",
    "                vs[i] = r\n",
    "                    \n",
    "            yield xs, ps, vs\n",
    "        if verbose:\n",
    "            print(f'{verbose}: finished one epoch ({ep})!')\n",
    "        ep += 1\n",
    "        "
   ]
  },
  {
   "cell_type": "code",
   "execution_count": 13,
   "metadata": {
    "ExecuteTime": {
     "end_time": "2023-10-23T17:18:53.049575Z",
     "start_time": "2023-10-23T17:18:52.548546Z"
    }
   },
   "outputs": [
    {
     "data": {
      "text/plain": [
       "(array([[[[0., 1., 0.],\n",
       "          [0., 1., 0.],\n",
       "          [1., 0., 0.],\n",
       "          ...,\n",
       "          [0., 1., 0.],\n",
       "          [0., 1., 0.],\n",
       "          [0., 1., 0.]],\n",
       " \n",
       "         [[0., 1., 0.],\n",
       "          [0., 1., 0.],\n",
       "          [0., 1., 0.],\n",
       "          ...,\n",
       "          [0., 1., 0.],\n",
       "          [0., 1., 0.],\n",
       "          [0., 1., 0.]],\n",
       " \n",
       "         [[0., 1., 0.],\n",
       "          [0., 1., 0.],\n",
       "          [0., 1., 0.],\n",
       "          ...,\n",
       "          [0., 1., 0.],\n",
       "          [0., 1., 0.],\n",
       "          [0., 1., 0.]],\n",
       " \n",
       "         ...,\n",
       " \n",
       "         [[1., 0., 0.],\n",
       "          [1., 0., 0.],\n",
       "          [0., 1., 0.],\n",
       "          ...,\n",
       "          [0., 1., 0.],\n",
       "          [0., 1., 0.],\n",
       "          [0., 1., 0.]],\n",
       " \n",
       "         [[0., 1., 0.],\n",
       "          [0., 1., 0.],\n",
       "          [0., 1., 0.],\n",
       "          ...,\n",
       "          [1., 0., 0.],\n",
       "          [1., 0., 0.],\n",
       "          [0., 1., 0.]],\n",
       " \n",
       "         [[1., 0., 0.],\n",
       "          [0., 1., 0.],\n",
       "          [0., 1., 0.],\n",
       "          ...,\n",
       "          [0., 1., 0.],\n",
       "          [0., 1., 0.],\n",
       "          [0., 1., 0.]]],\n",
       " \n",
       " \n",
       "        [[[1., 0., 0.],\n",
       "          [1., 0., 0.],\n",
       "          [0., 1., 0.],\n",
       "          ...,\n",
       "          [1., 0., 0.],\n",
       "          [0., 1., 0.],\n",
       "          [0., 1., 0.]],\n",
       " \n",
       "         [[0., 1., 0.],\n",
       "          [0., 1., 0.],\n",
       "          [0., 0., 1.],\n",
       "          ...,\n",
       "          [1., 0., 0.],\n",
       "          [1., 0., 0.],\n",
       "          [0., 1., 0.]],\n",
       " \n",
       "         [[0., 1., 0.],\n",
       "          [1., 0., 0.],\n",
       "          [0., 1., 0.],\n",
       "          ...,\n",
       "          [0., 0., 1.],\n",
       "          [0., 0., 1.],\n",
       "          [0., 1., 0.]],\n",
       " \n",
       "         ...,\n",
       " \n",
       "         [[0., 0., 1.],\n",
       "          [1., 0., 0.],\n",
       "          [0., 1., 0.],\n",
       "          ...,\n",
       "          [0., 1., 0.],\n",
       "          [1., 0., 0.],\n",
       "          [0., 1., 0.]],\n",
       " \n",
       "         [[0., 1., 0.],\n",
       "          [0., 0., 1.],\n",
       "          [0., 1., 0.],\n",
       "          ...,\n",
       "          [0., 1., 0.],\n",
       "          [1., 0., 0.],\n",
       "          [1., 0., 0.]],\n",
       " \n",
       "         [[0., 1., 0.],\n",
       "          [0., 1., 0.],\n",
       "          [1., 0., 0.],\n",
       "          ...,\n",
       "          [1., 0., 0.],\n",
       "          [0., 1., 0.],\n",
       "          [0., 1., 0.]]],\n",
       " \n",
       " \n",
       "        [[[0., 0., 1.],\n",
       "          [0., 1., 0.],\n",
       "          [0., 1., 0.],\n",
       "          ...,\n",
       "          [0., 0., 1.],\n",
       "          [0., 1., 0.],\n",
       "          [1., 0., 0.]],\n",
       " \n",
       "         [[0., 0., 1.],\n",
       "          [0., 1., 0.],\n",
       "          [1., 0., 0.],\n",
       "          ...,\n",
       "          [1., 0., 0.],\n",
       "          [1., 0., 0.],\n",
       "          [1., 0., 0.]],\n",
       " \n",
       "         [[0., 1., 0.],\n",
       "          [1., 0., 0.],\n",
       "          [1., 0., 0.],\n",
       "          ...,\n",
       "          [0., 1., 0.],\n",
       "          [0., 1., 0.],\n",
       "          [0., 1., 0.]],\n",
       " \n",
       "         ...,\n",
       " \n",
       "         [[0., 1., 0.],\n",
       "          [0., 1., 0.],\n",
       "          [0., 1., 0.],\n",
       "          ...,\n",
       "          [0., 1., 0.],\n",
       "          [1., 0., 0.],\n",
       "          [0., 1., 0.]],\n",
       " \n",
       "         [[1., 0., 0.],\n",
       "          [0., 1., 0.],\n",
       "          [1., 0., 0.],\n",
       "          ...,\n",
       "          [0., 1., 0.],\n",
       "          [1., 0., 0.],\n",
       "          [0., 1., 0.]],\n",
       " \n",
       "         [[0., 1., 0.],\n",
       "          [0., 1., 0.],\n",
       "          [1., 0., 0.],\n",
       "          ...,\n",
       "          [1., 0., 0.],\n",
       "          [0., 1., 0.],\n",
       "          [0., 1., 0.]]],\n",
       " \n",
       " \n",
       "        ...,\n",
       " \n",
       " \n",
       "        [[[0., 1., 0.],\n",
       "          [0., 1., 0.],\n",
       "          [0., 1., 0.],\n",
       "          ...,\n",
       "          [0., 1., 0.],\n",
       "          [0., 1., 0.],\n",
       "          [0., 1., 0.]],\n",
       " \n",
       "         [[0., 1., 0.],\n",
       "          [0., 1., 0.],\n",
       "          [0., 1., 0.],\n",
       "          ...,\n",
       "          [1., 0., 0.],\n",
       "          [0., 1., 0.],\n",
       "          [0., 1., 0.]],\n",
       " \n",
       "         [[0., 1., 0.],\n",
       "          [0., 1., 0.],\n",
       "          [0., 1., 0.],\n",
       "          ...,\n",
       "          [0., 1., 0.],\n",
       "          [0., 1., 0.],\n",
       "          [0., 1., 0.]],\n",
       " \n",
       "         ...,\n",
       " \n",
       "         [[0., 1., 0.],\n",
       "          [0., 1., 0.],\n",
       "          [1., 0., 0.],\n",
       "          ...,\n",
       "          [0., 1., 0.],\n",
       "          [0., 1., 0.],\n",
       "          [0., 1., 0.]],\n",
       " \n",
       "         [[1., 0., 0.],\n",
       "          [0., 1., 0.],\n",
       "          [0., 1., 0.],\n",
       "          ...,\n",
       "          [0., 1., 0.],\n",
       "          [1., 0., 0.],\n",
       "          [0., 1., 0.]],\n",
       " \n",
       "         [[0., 1., 0.],\n",
       "          [0., 1., 0.],\n",
       "          [0., 1., 0.],\n",
       "          ...,\n",
       "          [0., 1., 0.],\n",
       "          [0., 1., 0.],\n",
       "          [0., 1., 0.]]],\n",
       " \n",
       " \n",
       "        [[[0., 1., 0.],\n",
       "          [1., 0., 0.],\n",
       "          [0., 1., 0.],\n",
       "          ...,\n",
       "          [1., 0., 0.],\n",
       "          [0., 1., 0.],\n",
       "          [1., 0., 0.]],\n",
       " \n",
       "         [[1., 0., 0.],\n",
       "          [0., 1., 0.],\n",
       "          [0., 1., 0.],\n",
       "          ...,\n",
       "          [0., 1., 0.],\n",
       "          [1., 0., 0.],\n",
       "          [0., 1., 0.]],\n",
       " \n",
       "         [[0., 1., 0.],\n",
       "          [0., 1., 0.],\n",
       "          [0., 1., 0.],\n",
       "          ...,\n",
       "          [0., 1., 0.],\n",
       "          [0., 0., 1.],\n",
       "          [0., 1., 0.]],\n",
       " \n",
       "         ...,\n",
       " \n",
       "         [[0., 1., 0.],\n",
       "          [0., 1., 0.],\n",
       "          [0., 0., 1.],\n",
       "          ...,\n",
       "          [0., 1., 0.],\n",
       "          [0., 1., 0.],\n",
       "          [0., 1., 0.]],\n",
       " \n",
       "         [[0., 1., 0.],\n",
       "          [1., 0., 0.],\n",
       "          [0., 1., 0.],\n",
       "          ...,\n",
       "          [0., 1., 0.],\n",
       "          [0., 1., 0.],\n",
       "          [0., 1., 0.]],\n",
       " \n",
       "         [[0., 1., 0.],\n",
       "          [1., 0., 0.],\n",
       "          [0., 1., 0.],\n",
       "          ...,\n",
       "          [0., 1., 0.],\n",
       "          [0., 1., 0.],\n",
       "          [0., 1., 0.]]],\n",
       " \n",
       " \n",
       "        [[[1., 0., 0.],\n",
       "          [1., 0., 0.],\n",
       "          [0., 1., 0.],\n",
       "          ...,\n",
       "          [1., 0., 0.],\n",
       "          [1., 0., 0.],\n",
       "          [1., 0., 0.]],\n",
       " \n",
       "         [[1., 0., 0.],\n",
       "          [1., 0., 0.],\n",
       "          [0., 0., 1.],\n",
       "          ...,\n",
       "          [0., 1., 0.],\n",
       "          [0., 0., 1.],\n",
       "          [0., 0., 1.]],\n",
       " \n",
       "         [[0., 1., 0.],\n",
       "          [0., 1., 0.],\n",
       "          [0., 0., 1.],\n",
       "          ...,\n",
       "          [1., 0., 0.],\n",
       "          [1., 0., 0.],\n",
       "          [0., 1., 0.]],\n",
       " \n",
       "         ...,\n",
       " \n",
       "         [[0., 1., 0.],\n",
       "          [1., 0., 0.],\n",
       "          [1., 0., 0.],\n",
       "          ...,\n",
       "          [1., 0., 0.],\n",
       "          [0., 1., 0.],\n",
       "          [1., 0., 0.]],\n",
       " \n",
       "         [[0., 1., 0.],\n",
       "          [0., 1., 0.],\n",
       "          [0., 0., 1.],\n",
       "          ...,\n",
       "          [1., 0., 0.],\n",
       "          [0., 0., 1.],\n",
       "          [1., 0., 0.]],\n",
       " \n",
       "         [[1., 0., 0.],\n",
       "          [1., 0., 0.],\n",
       "          [0., 1., 0.],\n",
       "          ...,\n",
       "          [1., 0., 0.],\n",
       "          [1., 0., 0.],\n",
       "          [0., 1., 0.]]]]),\n",
       " array([[[[0.],\n",
       "          [0.],\n",
       "          [0.],\n",
       "          ...,\n",
       "          [0.],\n",
       "          [0.],\n",
       "          [0.]],\n",
       " \n",
       "         [[0.],\n",
       "          [0.],\n",
       "          [0.],\n",
       "          ...,\n",
       "          [0.],\n",
       "          [0.],\n",
       "          [0.]],\n",
       " \n",
       "         [[0.],\n",
       "          [0.],\n",
       "          [0.],\n",
       "          ...,\n",
       "          [0.],\n",
       "          [0.],\n",
       "          [0.]],\n",
       " \n",
       "         ...,\n",
       " \n",
       "         [[0.],\n",
       "          [0.],\n",
       "          [0.],\n",
       "          ...,\n",
       "          [0.],\n",
       "          [0.],\n",
       "          [0.]],\n",
       " \n",
       "         [[1.],\n",
       "          [1.],\n",
       "          [1.],\n",
       "          ...,\n",
       "          [1.],\n",
       "          [1.],\n",
       "          [1.]],\n",
       " \n",
       "         [[0.],\n",
       "          [0.],\n",
       "          [0.],\n",
       "          ...,\n",
       "          [0.],\n",
       "          [0.],\n",
       "          [0.]]],\n",
       " \n",
       " \n",
       "        [[[0.],\n",
       "          [0.],\n",
       "          [0.],\n",
       "          ...,\n",
       "          [0.],\n",
       "          [0.],\n",
       "          [0.]],\n",
       " \n",
       "         [[0.],\n",
       "          [0.],\n",
       "          [0.],\n",
       "          ...,\n",
       "          [0.],\n",
       "          [0.],\n",
       "          [0.]],\n",
       " \n",
       "         [[0.],\n",
       "          [0.],\n",
       "          [0.],\n",
       "          ...,\n",
       "          [0.],\n",
       "          [0.],\n",
       "          [0.]],\n",
       " \n",
       "         ...,\n",
       " \n",
       "         [[0.],\n",
       "          [0.],\n",
       "          [0.],\n",
       "          ...,\n",
       "          [0.],\n",
       "          [0.],\n",
       "          [0.]],\n",
       " \n",
       "         [[0.],\n",
       "          [0.],\n",
       "          [0.],\n",
       "          ...,\n",
       "          [0.],\n",
       "          [0.],\n",
       "          [0.]],\n",
       " \n",
       "         [[0.],\n",
       "          [0.],\n",
       "          [0.],\n",
       "          ...,\n",
       "          [0.],\n",
       "          [0.],\n",
       "          [0.]]],\n",
       " \n",
       " \n",
       "        [[[0.],\n",
       "          [0.],\n",
       "          [0.],\n",
       "          ...,\n",
       "          [0.],\n",
       "          [0.],\n",
       "          [0.]],\n",
       " \n",
       "         [[0.],\n",
       "          [0.],\n",
       "          [0.],\n",
       "          ...,\n",
       "          [0.],\n",
       "          [0.],\n",
       "          [0.]],\n",
       " \n",
       "         [[0.],\n",
       "          [0.],\n",
       "          [0.],\n",
       "          ...,\n",
       "          [0.],\n",
       "          [0.],\n",
       "          [0.]],\n",
       " \n",
       "         ...,\n",
       " \n",
       "         [[0.],\n",
       "          [0.],\n",
       "          [0.],\n",
       "          ...,\n",
       "          [0.],\n",
       "          [0.],\n",
       "          [0.]],\n",
       " \n",
       "         [[0.],\n",
       "          [0.],\n",
       "          [0.],\n",
       "          ...,\n",
       "          [0.],\n",
       "          [0.],\n",
       "          [0.]],\n",
       " \n",
       "         [[1.],\n",
       "          [1.],\n",
       "          [1.],\n",
       "          ...,\n",
       "          [1.],\n",
       "          [1.],\n",
       "          [1.]]],\n",
       " \n",
       " \n",
       "        ...,\n",
       " \n",
       " \n",
       "        [[[0.],\n",
       "          [0.],\n",
       "          [0.],\n",
       "          ...,\n",
       "          [0.],\n",
       "          [0.],\n",
       "          [0.]],\n",
       " \n",
       "         [[1.],\n",
       "          [1.],\n",
       "          [1.],\n",
       "          ...,\n",
       "          [1.],\n",
       "          [1.],\n",
       "          [1.]],\n",
       " \n",
       "         [[0.],\n",
       "          [0.],\n",
       "          [0.],\n",
       "          ...,\n",
       "          [0.],\n",
       "          [0.],\n",
       "          [0.]],\n",
       " \n",
       "         ...,\n",
       " \n",
       "         [[0.],\n",
       "          [0.],\n",
       "          [0.],\n",
       "          ...,\n",
       "          [0.],\n",
       "          [0.],\n",
       "          [0.]],\n",
       " \n",
       "         [[0.],\n",
       "          [0.],\n",
       "          [0.],\n",
       "          ...,\n",
       "          [0.],\n",
       "          [0.],\n",
       "          [0.]],\n",
       " \n",
       "         [[0.],\n",
       "          [0.],\n",
       "          [0.],\n",
       "          ...,\n",
       "          [0.],\n",
       "          [0.],\n",
       "          [0.]]],\n",
       " \n",
       " \n",
       "        [[[0.],\n",
       "          [0.],\n",
       "          [0.],\n",
       "          ...,\n",
       "          [0.],\n",
       "          [0.],\n",
       "          [0.]],\n",
       " \n",
       "         [[0.],\n",
       "          [0.],\n",
       "          [0.],\n",
       "          ...,\n",
       "          [0.],\n",
       "          [0.],\n",
       "          [0.]],\n",
       " \n",
       "         [[0.],\n",
       "          [0.],\n",
       "          [0.],\n",
       "          ...,\n",
       "          [0.],\n",
       "          [0.],\n",
       "          [0.]],\n",
       " \n",
       "         ...,\n",
       " \n",
       "         [[0.],\n",
       "          [0.],\n",
       "          [0.],\n",
       "          ...,\n",
       "          [0.],\n",
       "          [0.],\n",
       "          [0.]],\n",
       " \n",
       "         [[1.],\n",
       "          [1.],\n",
       "          [1.],\n",
       "          ...,\n",
       "          [1.],\n",
       "          [1.],\n",
       "          [1.]],\n",
       " \n",
       "         [[1.],\n",
       "          [1.],\n",
       "          [1.],\n",
       "          ...,\n",
       "          [1.],\n",
       "          [1.],\n",
       "          [1.]]],\n",
       " \n",
       " \n",
       "        [[[0.],\n",
       "          [0.],\n",
       "          [0.],\n",
       "          ...,\n",
       "          [0.],\n",
       "          [0.],\n",
       "          [0.]],\n",
       " \n",
       "         [[0.],\n",
       "          [0.],\n",
       "          [0.],\n",
       "          ...,\n",
       "          [0.],\n",
       "          [0.],\n",
       "          [0.]],\n",
       " \n",
       "         [[1.],\n",
       "          [1.],\n",
       "          [1.],\n",
       "          ...,\n",
       "          [1.],\n",
       "          [1.],\n",
       "          [1.]],\n",
       " \n",
       "         ...,\n",
       " \n",
       "         [[0.],\n",
       "          [0.],\n",
       "          [0.],\n",
       "          ...,\n",
       "          [0.],\n",
       "          [0.],\n",
       "          [0.]],\n",
       " \n",
       "         [[0.],\n",
       "          [0.],\n",
       "          [0.],\n",
       "          ...,\n",
       "          [0.],\n",
       "          [0.],\n",
       "          [0.]],\n",
       " \n",
       "         [[1.],\n",
       "          [1.],\n",
       "          [1.],\n",
       "          ...,\n",
       "          [1.],\n",
       "          [1.],\n",
       "          [1.]]]]),\n",
       " array([[0.30612245],\n",
       "        [0.30927835],\n",
       "        [0.3030303 ],\n",
       "        [0.3030303 ],\n",
       "        [0.3       ],\n",
       "        [0.3030303 ],\n",
       "        [0.30612245],\n",
       "        [0.3       ],\n",
       "        [0.3       ],\n",
       "        [0.3       ],\n",
       "        [0.3125    ],\n",
       "        [0.31578947],\n",
       "        [0.30927835],\n",
       "        [0.3030303 ],\n",
       "        [0.31578947],\n",
       "        [0.32258065],\n",
       "        [0.3       ],\n",
       "        [0.3       ],\n",
       "        [0.3030303 ],\n",
       "        [0.3030303 ],\n",
       "        [0.3       ],\n",
       "        [0.3030303 ],\n",
       "        [0.30612245],\n",
       "        [0.3125    ],\n",
       "        [0.3       ],\n",
       "        [0.3030303 ],\n",
       "        [0.3030303 ],\n",
       "        [0.32967033],\n",
       "        [0.3030303 ],\n",
       "        [0.3       ],\n",
       "        [0.3       ],\n",
       "        [0.3030303 ],\n",
       "        [0.3125    ],\n",
       "        [0.3       ],\n",
       "        [0.3       ],\n",
       "        [0.3       ],\n",
       "        [0.31578947],\n",
       "        [0.3       ],\n",
       "        [0.32608696],\n",
       "        [0.3030303 ],\n",
       "        [0.32608696],\n",
       "        [0.3030303 ],\n",
       "        [0.3       ],\n",
       "        [0.33707865],\n",
       "        [0.3       ],\n",
       "        [0.3       ],\n",
       "        [0.3       ],\n",
       "        [0.3       ],\n",
       "        [0.3030303 ],\n",
       "        [0.3       ]]))"
      ]
     },
     "execution_count": 13,
     "metadata": {},
     "output_type": "execute_result"
    }
   ],
   "source": [
    "bg = batchgen(gamerecords)\n",
    "next(bg)"
   ]
  },
  {
   "cell_type": "code",
   "execution_count": 78,
   "metadata": {},
   "outputs": [
    {
     "data": {
      "text/plain": [
       "6"
      ]
     },
     "execution_count": 78,
     "metadata": {},
     "output_type": "execute_result"
    }
   ],
   "source": [
    "len(gamerecords)"
   ]
  },
  {
   "cell_type": "code",
   "execution_count": 5,
   "metadata": {
    "ExecuteTime": {
     "end_time": "2023-10-24T08:59:26.840906Z",
     "start_time": "2023-10-24T08:59:22.647053Z"
    },
    "run_control": {
     "marked": true
    }
   },
   "outputs": [],
   "source": [
    "# Netzwerk trainieren\n",
    "\n",
    "with open('data/selfplay_unet.dat', 'rb') as f:\n",
    "    gamerecords = pkl.load(f)\n",
    "    game_rec = gamerecords"
   ]
  },
  {
   "cell_type": "code",
   "execution_count": 18,
   "metadata": {
    "ExecuteTime": {
     "end_time": "2023-10-16T19:57:06.490326Z",
     "start_time": "2023-10-16T19:57:06.298443Z"
    },
    "run_control": {
     "marked": true
    }
   },
   "outputs": [],
   "source": [
    "net = NetAdaptive()"
   ]
  },
  {
   "cell_type": "code",
   "execution_count": 78,
   "metadata": {
    "run_control": {
     "marked": true
    },
    "scrolled": true
   },
   "outputs": [
    {
     "data": {
      "application/vnd.jupyter.widget-view+json": {
       "model_id": "3c5b8db0da2c45cd978aa019ed233a49",
       "version_major": 2,
       "version_minor": 0
      },
      "text/plain": [
       "  0%|          | 0/10000000 [00:00<?, ?it/s]"
      ]
     },
     "metadata": {},
     "output_type": "display_data"
    },
    {
     "name": "stdout",
     "output_type": "stream",
     "text": [
      "0 1\n",
      "0 2\n",
      "0 3\n",
      "0 4\n",
      "0 5\n",
      "0 6\n",
      "0 7\n",
      "0 8\n",
      "0 9\n",
      "0 10\n",
      "0 11\n",
      "0 12\n",
      "0 13\n",
      "0 14\n",
      "0 15\n",
      "0 16\n",
      "0 17\n",
      "0 18\n",
      "0 19\n",
      "0 20\n",
      "Loss1=13.960388, Loss12=0.996118, ValLoss1=13.361937, ValLoss2=0.992096\n",
      "Loss1=14.130828, Loss12=0.984971, ValLoss1=12.208862, ValLoss2=0.971813\n",
      "Loss1=14.005686, Loss12=0.963207, ValLoss1=13.817179, ValLoss2=0.938954\n",
      "Loss1=14.081721, Loss12=0.845104, ValLoss1=14.067407, ValLoss2=0.722690\n",
      "Loss1=13.993216, Loss12=0.690289, ValLoss1=13.523207, ValLoss2=0.657920\n",
      "Loss1=13.942542, Loss12=0.617258, ValLoss1=14.078746, ValLoss2=0.641271\n",
      "Loss1=13.865055, Loss12=0.562019, ValLoss1=13.153264, ValLoss2=0.597267\n",
      "Loss1=13.998991, Loss12=0.542928, ValLoss1=13.613127, ValLoss2=0.591780\n",
      "Loss1=13.817384, Loss12=0.517102, ValLoss1=13.422512, ValLoss2=0.568232\n",
      "Loss1=13.900682, Loss12=0.508616, ValLoss1=13.625265, ValLoss2=0.662962\n",
      "0 1\n",
      "0 2\n",
      "1 3\n",
      "2 4\n",
      "3 5\n",
      "3 6\n",
      "4 7\n",
      "4 8\n",
      "5 9\n",
      "5 10\n",
      "6 11\n",
      "6 12\n",
      "6 13\n",
      "6 14\n",
      "7 15\n",
      "8 16\n",
      "9 17\n",
      "10 18\n",
      "11 19\n",
      "11 20\n",
      "Loss1=13.927172, Loss12=0.485401, ValLoss1=14.458287, ValLoss2=0.529289\n",
      "supervised: finished one epoch (0)!\n",
      "Loss1=13.848407, Loss12=0.481801, ValLoss1=13.205155, ValLoss2=0.523904\n",
      "Loss1=13.768235, Loss12=0.452956, ValLoss1=14.045248, ValLoss2=0.472428\n",
      "Loss1=13.889281, Loss12=0.443545, ValLoss1=12.932475, ValLoss2=0.487064\n",
      "Loss1=13.968475, Loss12=0.444651, ValLoss1=13.880774, ValLoss2=0.492595\n",
      "Loss1=13.839038, Loss12=0.427460, ValLoss1=13.218138, ValLoss2=0.476975\n",
      "Loss1=13.775862, Loss12=0.439511, ValLoss1=14.376045, ValLoss2=0.484490\n",
      "Loss1=13.627514, Loss12=0.422318, ValLoss1=14.076431, ValLoss2=0.439465\n",
      "Loss1=13.880385, Loss12=0.420096, ValLoss1=13.939549, ValLoss2=0.451892\n",
      "Loss1=13.717328, Loss12=0.406130, ValLoss1=14.738832, ValLoss2=0.423698\n",
      "1 1\n",
      "2 2\n",
      "3 3\n",
      "3 4\n",
      "3 5\n",
      "3 6\n",
      "4 7\n",
      "5 8\n",
      "5 9\n",
      "6 10\n",
      "7 11\n",
      "7 12\n",
      "7 13\n",
      "8 14\n",
      "9 15\n",
      "10 16\n",
      "10 17\n",
      "11 18\n",
      "12 19\n",
      "12 20\n"
     ]
    },
    {
     "ename": "KeyboardInterrupt",
     "evalue": "",
     "output_type": "error",
     "traceback": [
      "\u001b[1;31m---------------------------------------------------------------------------\u001b[0m",
      "\u001b[1;31mKeyboardInterrupt\u001b[0m                         Traceback (most recent call last)",
      "\u001b[1;32m<ipython-input-78-928afe20382c>\u001b[0m in \u001b[0;36m<module>\u001b[1;34m\u001b[0m\n\u001b[0;32m     28\u001b[0m \u001b[0miterations\u001b[0m \u001b[1;33m=\u001b[0m \u001b[1;36m10000000\u001b[0m\u001b[1;33m\u001b[0m\u001b[1;33m\u001b[0m\u001b[0m\n\u001b[0;32m     29\u001b[0m \u001b[1;32mfor\u001b[0m \u001b[0mk\u001b[0m \u001b[1;32min\u001b[0m \u001b[0mtrange\u001b[0m\u001b[1;33m(\u001b[0m\u001b[0miterations\u001b[0m\u001b[1;33m)\u001b[0m\u001b[1;33m:\u001b[0m\u001b[1;33m\u001b[0m\u001b[1;33m\u001b[0m\u001b[0m\n\u001b[1;32m---> 30\u001b[1;33m     \u001b[0mb\u001b[0m\u001b[1;33m,\u001b[0m \u001b[0mvds\u001b[0m\u001b[1;33m,\u001b[0m \u001b[0mtp\u001b[0m\u001b[1;33m,\u001b[0m \u001b[0mtv\u001b[0m \u001b[1;33m=\u001b[0m \u001b[0mnext\u001b[0m\u001b[1;33m(\u001b[0m\u001b[0mbg_s\u001b[0m\u001b[1;33m)\u001b[0m\u001b[1;33m\u001b[0m\u001b[1;33m\u001b[0m\u001b[0m\n\u001b[0m\u001b[0;32m     31\u001b[0m     \u001b[0mb\u001b[0m\u001b[1;33m,\u001b[0m \u001b[0mvds\u001b[0m\u001b[1;33m,\u001b[0m \u001b[0mtp\u001b[0m\u001b[1;33m,\u001b[0m \u001b[0mtv\u001b[0m \u001b[1;33m=\u001b[0m \u001b[0mbatch2torch\u001b[0m\u001b[1;33m(\u001b[0m\u001b[0mb\u001b[0m\u001b[1;33m,\u001b[0m \u001b[0mvds\u001b[0m\u001b[1;33m,\u001b[0m \u001b[0mtp\u001b[0m\u001b[1;33m,\u001b[0m \u001b[0mtv\u001b[0m\u001b[1;33m)\u001b[0m\u001b[1;33m\u001b[0m\u001b[1;33m\u001b[0m\u001b[0m\n\u001b[0;32m     32\u001b[0m     \u001b[0mpp\u001b[0m\u001b[1;33m,\u001b[0m \u001b[0mpv\u001b[0m \u001b[1;33m=\u001b[0m \u001b[0mnet\u001b[0m\u001b[1;33m(\u001b[0m\u001b[0mb\u001b[0m\u001b[1;33m,\u001b[0m \u001b[0mvds\u001b[0m\u001b[1;33m)\u001b[0m\u001b[1;33m\u001b[0m\u001b[1;33m\u001b[0m\u001b[0m\n",
      "\u001b[1;32m<ipython-input-61-72ee3c34a089>\u001b[0m in \u001b[0;36mbatchgen\u001b[1;34m(gamerecords, size, istart, iend, augment, verbose)\u001b[0m\n\u001b[0;32m     30\u001b[0m \u001b[1;33m\u001b[0m\u001b[0m\n\u001b[0;32m     31\u001b[0m                 \u001b[0mxs\u001b[0m\u001b[1;33m[\u001b[0m\u001b[0mi\u001b[0m\u001b[1;33m]\u001b[0m\u001b[1;33m,\u001b[0m \u001b[0mvds\u001b[0m\u001b[1;33m[\u001b[0m\u001b[0mi\u001b[0m\u001b[1;33m]\u001b[0m \u001b[1;33m=\u001b[0m \u001b[0mnet\u001b[0m\u001b[1;33m.\u001b[0m\u001b[0mpreprocess\u001b[0m\u001b[1;33m(\u001b[0m\u001b[0ms\u001b[0m\u001b[1;33m,\u001b[0m \u001b[0mvalid\u001b[0m\u001b[1;33m)\u001b[0m\u001b[1;33m\u001b[0m\u001b[1;33m\u001b[0m\u001b[0m\n\u001b[1;32m---> 32\u001b[1;33m                 \u001b[0mps\u001b[0m\u001b[1;33m[\u001b[0m\u001b[0mi\u001b[0m\u001b[1;33m]\u001b[0m \u001b[1;33m=\u001b[0m \u001b[0madist\u001b[0m\u001b[1;33m\u001b[0m\u001b[1;33m\u001b[0m\u001b[0m\n\u001b[0m\u001b[0;32m     33\u001b[0m                 \u001b[0mvs\u001b[0m\u001b[1;33m[\u001b[0m\u001b[0mi\u001b[0m\u001b[1;33m]\u001b[0m \u001b[1;33m=\u001b[0m \u001b[0mr\u001b[0m\u001b[1;33m\u001b[0m\u001b[1;33m\u001b[0m\u001b[0m\n\u001b[0;32m     34\u001b[0m \u001b[1;33m\u001b[0m\u001b[0m\n",
      "\u001b[1;31mKeyboardInterrupt\u001b[0m: "
     ]
    }
   ],
   "source": [
    "try: net.optimizer\n",
    "except:\n",
    "    net.optimizer = torch.optim.Adam(lr=3e-4, params=net.parameters(), weight_decay=1e-4)\n",
    "optimizer = net.optimizer\n",
    "bg_v = batchgen(gamerecords, iend=500, size=500)\n",
    "bg_s = batchgen(gamerecords, istart=500, size=200, verbose='supervised')\n",
    "bg_u = batchgen(gamerecords_legacy, size=400)\n",
    "#celoss = nn.CrossEntropyLoss()\n",
    "#celoss = lambda pp, tp: nn.functional.nll_loss(-torch.log(pp+1e-12)**2, tp)\n",
    "MSE = nn.MSELoss()\n",
    "L1Loss = nn.L1Loss()\n",
    "LogLoss = lambda yp, yt: torch.mean(torch.sum(-yt*torch.log(yp+1e-12), dim=1))\n",
    "losses1 = []\n",
    "losses2 = []\n",
    "    \n",
    "\n",
    "def valloss():\n",
    "    b, vds, tp, tv = next(bg_v)\n",
    "    b, vds, tp, tv = batch2torch(b, vds, tp, tv)\n",
    "    pp, pv = net(b, vds)\n",
    "    tp = tp.type(torch.long)\n",
    "\n",
    "    loss1 = LogLoss(pp, tp)\n",
    "    loss2 = MSE(pv[:,0], tv[:,0])\n",
    "    return loss1.item(), loss2.item()\n",
    "\n",
    "\n",
    "iterations = 10000000\n",
    "for k in trange(iterations):\n",
    "    b, vds, tp, tv = next(bg_s)\n",
    "    b, vds, tp, tv = batch2torch(b, vds, tp, tv)\n",
    "    pp, pv = net(b, vds)\n",
    "    tp = tp.type(torch.long)\n",
    "\n",
    "    loss1 = LogLoss(pp, tp)\n",
    "    loss2 = MSE(pv[:,0], tv[:,0])\n",
    "    loss = loss1 + loss2\n",
    "    loss.backward()\n",
    "\n",
    "    # do the training step on the network\n",
    "    optimizer.step()\n",
    "    optimizer.zero_grad()\n",
    "\n",
    "    # Statistic\n",
    "    losses1 += [loss1.item()]\n",
    "    losses2 += [loss2.item()]\n",
    "\n",
    "    # Verbose output, measure minimum val loss\n",
    "    if len(losses1) == 100:\n",
    "        vloss1, vloss2 = valloss()\n",
    "        if 2>=1:\n",
    "            print('Loss1=%f, Loss12=%f, ValLoss1=%f, ValLoss2=%f'% (np.mean(losses1), np.mean(losses2), vloss1, vloss2))\n",
    "        losses1, losses2 = [], []\n",
    "    if k%1000 == 0:\n",
    "        pit(MultiMCTS(nparallel=10, nsearches=100, net=net), MiniMax(maxdepth=3), n=20, nrnd=2, frame=frame, verbose=1)\n",
    "\n"
   ]
  },
  {
   "cell_type": "code",
   "execution_count": null,
   "metadata": {
    "run_control": {
     "marked": true
    },
    "scrolled": false
   },
   "outputs": [],
   "source": [
    "\n",
    "b, vds, tp, tv = next(bg_v)\n",
    "b, vds, tp, tv = batch2torch(b, vds, tp, tv)\n",
    "pp, pv = net(b, vds)\n",
    "tp = tp.type(torch.long)\n",
    "\n",
    "i = 4\n",
    "#t2np(pp[i])\n",
    "plt.plot(t2np(pp[i]))\n",
    "print(pp[i, tp[i]])\n",
    "\n",
    "\n",
    "b, r = projectprobabilites(t2np(pp[i]))\n",
    "\n",
    "fig, (ax1, ax2) = plt.subplots(1,2)\n",
    "ax1.matshow(b)\n",
    "ax2.matshow(r)\n",
    "plt.show()"
   ]
  },
  {
   "cell_type": "code",
   "execution_count": null,
   "metadata": {},
   "outputs": [],
   "source": [
    "t2np(pp[i])"
   ]
  },
  {
   "cell_type": "code",
   "execution_count": 12,
   "metadata": {},
   "outputs": [
    {
     "ename": "RuntimeError",
     "evalue": "cuda runtime error (710) : device-side assert triggered at ..\\aten\\src\\THC\\THCCachingHostAllocator.cpp:278",
     "output_type": "error",
     "traceback": [
      "\u001b[1;31m---------------------------------------------------------------------------\u001b[0m",
      "\u001b[1;31mRuntimeError\u001b[0m                              Traceback (most recent call last)",
      "\u001b[1;32mC:\\ProgramData\\Anaconda3\\lib\\site-packages\\IPython\\core\\formatters.py\u001b[0m in \u001b[0;36m__call__\u001b[1;34m(self, obj)\u001b[0m\n\u001b[0;32m    700\u001b[0m                 \u001b[0mtype_pprinters\u001b[0m\u001b[1;33m=\u001b[0m\u001b[0mself\u001b[0m\u001b[1;33m.\u001b[0m\u001b[0mtype_printers\u001b[0m\u001b[1;33m,\u001b[0m\u001b[1;33m\u001b[0m\u001b[1;33m\u001b[0m\u001b[0m\n\u001b[0;32m    701\u001b[0m                 deferred_pprinters=self.deferred_printers)\n\u001b[1;32m--> 702\u001b[1;33m             \u001b[0mprinter\u001b[0m\u001b[1;33m.\u001b[0m\u001b[0mpretty\u001b[0m\u001b[1;33m(\u001b[0m\u001b[0mobj\u001b[0m\u001b[1;33m)\u001b[0m\u001b[1;33m\u001b[0m\u001b[1;33m\u001b[0m\u001b[0m\n\u001b[0m\u001b[0;32m    703\u001b[0m             \u001b[0mprinter\u001b[0m\u001b[1;33m.\u001b[0m\u001b[0mflush\u001b[0m\u001b[1;33m(\u001b[0m\u001b[1;33m)\u001b[0m\u001b[1;33m\u001b[0m\u001b[1;33m\u001b[0m\u001b[0m\n\u001b[0;32m    704\u001b[0m             \u001b[1;32mreturn\u001b[0m \u001b[0mstream\u001b[0m\u001b[1;33m.\u001b[0m\u001b[0mgetvalue\u001b[0m\u001b[1;33m(\u001b[0m\u001b[1;33m)\u001b[0m\u001b[1;33m\u001b[0m\u001b[1;33m\u001b[0m\u001b[0m\n",
      "\u001b[1;32mC:\\ProgramData\\Anaconda3\\lib\\site-packages\\IPython\\lib\\pretty.py\u001b[0m in \u001b[0;36mpretty\u001b[1;34m(self, obj)\u001b[0m\n\u001b[0;32m    392\u001b[0m                         \u001b[1;32mif\u001b[0m \u001b[0mcls\u001b[0m \u001b[1;32mis\u001b[0m \u001b[1;32mnot\u001b[0m \u001b[0mobject\u001b[0m\u001b[0;31m \u001b[0m\u001b[0;31m\\\u001b[0m\u001b[1;33m\u001b[0m\u001b[1;33m\u001b[0m\u001b[0m\n\u001b[0;32m    393\u001b[0m                                 \u001b[1;32mand\u001b[0m \u001b[0mcallable\u001b[0m\u001b[1;33m(\u001b[0m\u001b[0mcls\u001b[0m\u001b[1;33m.\u001b[0m\u001b[0m__dict__\u001b[0m\u001b[1;33m.\u001b[0m\u001b[0mget\u001b[0m\u001b[1;33m(\u001b[0m\u001b[1;34m'__repr__'\u001b[0m\u001b[1;33m)\u001b[0m\u001b[1;33m)\u001b[0m\u001b[1;33m:\u001b[0m\u001b[1;33m\u001b[0m\u001b[1;33m\u001b[0m\u001b[0m\n\u001b[1;32m--> 394\u001b[1;33m                             \u001b[1;32mreturn\u001b[0m \u001b[0m_repr_pprint\u001b[0m\u001b[1;33m(\u001b[0m\u001b[0mobj\u001b[0m\u001b[1;33m,\u001b[0m \u001b[0mself\u001b[0m\u001b[1;33m,\u001b[0m \u001b[0mcycle\u001b[0m\u001b[1;33m)\u001b[0m\u001b[1;33m\u001b[0m\u001b[1;33m\u001b[0m\u001b[0m\n\u001b[0m\u001b[0;32m    395\u001b[0m \u001b[1;33m\u001b[0m\u001b[0m\n\u001b[0;32m    396\u001b[0m             \u001b[1;32mreturn\u001b[0m \u001b[0m_default_pprint\u001b[0m\u001b[1;33m(\u001b[0m\u001b[0mobj\u001b[0m\u001b[1;33m,\u001b[0m \u001b[0mself\u001b[0m\u001b[1;33m,\u001b[0m \u001b[0mcycle\u001b[0m\u001b[1;33m)\u001b[0m\u001b[1;33m\u001b[0m\u001b[1;33m\u001b[0m\u001b[0m\n",
      "\u001b[1;32mC:\\ProgramData\\Anaconda3\\lib\\site-packages\\IPython\\lib\\pretty.py\u001b[0m in \u001b[0;36m_repr_pprint\u001b[1;34m(obj, p, cycle)\u001b[0m\n\u001b[0;32m    698\u001b[0m     \u001b[1;34m\"\"\"A pprint that just redirects to the normal repr function.\"\"\"\u001b[0m\u001b[1;33m\u001b[0m\u001b[1;33m\u001b[0m\u001b[0m\n\u001b[0;32m    699\u001b[0m     \u001b[1;31m# Find newlines and replace them with p.break_()\u001b[0m\u001b[1;33m\u001b[0m\u001b[1;33m\u001b[0m\u001b[1;33m\u001b[0m\u001b[0m\n\u001b[1;32m--> 700\u001b[1;33m     \u001b[0moutput\u001b[0m \u001b[1;33m=\u001b[0m \u001b[0mrepr\u001b[0m\u001b[1;33m(\u001b[0m\u001b[0mobj\u001b[0m\u001b[1;33m)\u001b[0m\u001b[1;33m\u001b[0m\u001b[1;33m\u001b[0m\u001b[0m\n\u001b[0m\u001b[0;32m    701\u001b[0m     \u001b[0mlines\u001b[0m \u001b[1;33m=\u001b[0m \u001b[0moutput\u001b[0m\u001b[1;33m.\u001b[0m\u001b[0msplitlines\u001b[0m\u001b[1;33m(\u001b[0m\u001b[1;33m)\u001b[0m\u001b[1;33m\u001b[0m\u001b[1;33m\u001b[0m\u001b[0m\n\u001b[0;32m    702\u001b[0m     \u001b[1;32mwith\u001b[0m \u001b[0mp\u001b[0m\u001b[1;33m.\u001b[0m\u001b[0mgroup\u001b[0m\u001b[1;33m(\u001b[0m\u001b[1;33m)\u001b[0m\u001b[1;33m:\u001b[0m\u001b[1;33m\u001b[0m\u001b[1;33m\u001b[0m\u001b[0m\n",
      "\u001b[1;32mC:\\ProgramData\\Anaconda3\\lib\\site-packages\\torch\\tensor.py\u001b[0m in \u001b[0;36m__repr__\u001b[1;34m(self)\u001b[0m\n\u001b[0;32m    160\u001b[0m         \u001b[1;31m# characters to replace unicode characters with.\u001b[0m\u001b[1;33m\u001b[0m\u001b[1;33m\u001b[0m\u001b[1;33m\u001b[0m\u001b[0m\n\u001b[0;32m    161\u001b[0m         \u001b[1;32mif\u001b[0m \u001b[0msys\u001b[0m\u001b[1;33m.\u001b[0m\u001b[0mversion_info\u001b[0m \u001b[1;33m>\u001b[0m \u001b[1;33m(\u001b[0m\u001b[1;36m3\u001b[0m\u001b[1;33m,\u001b[0m\u001b[1;33m)\u001b[0m\u001b[1;33m:\u001b[0m\u001b[1;33m\u001b[0m\u001b[1;33m\u001b[0m\u001b[0m\n\u001b[1;32m--> 162\u001b[1;33m             \u001b[1;32mreturn\u001b[0m \u001b[0mtorch\u001b[0m\u001b[1;33m.\u001b[0m\u001b[0m_tensor_str\u001b[0m\u001b[1;33m.\u001b[0m\u001b[0m_str\u001b[0m\u001b[1;33m(\u001b[0m\u001b[0mself\u001b[0m\u001b[1;33m)\u001b[0m\u001b[1;33m\u001b[0m\u001b[1;33m\u001b[0m\u001b[0m\n\u001b[0m\u001b[0;32m    163\u001b[0m         \u001b[1;32melse\u001b[0m\u001b[1;33m:\u001b[0m\u001b[1;33m\u001b[0m\u001b[1;33m\u001b[0m\u001b[0m\n\u001b[0;32m    164\u001b[0m             \u001b[1;32mif\u001b[0m \u001b[0mhasattr\u001b[0m\u001b[1;33m(\u001b[0m\u001b[0msys\u001b[0m\u001b[1;33m.\u001b[0m\u001b[0mstdout\u001b[0m\u001b[1;33m,\u001b[0m \u001b[1;34m'encoding'\u001b[0m\u001b[1;33m)\u001b[0m\u001b[1;33m:\u001b[0m\u001b[1;33m\u001b[0m\u001b[1;33m\u001b[0m\u001b[0m\n",
      "\u001b[1;32mC:\\ProgramData\\Anaconda3\\lib\\site-packages\\torch\\_tensor_str.py\u001b[0m in \u001b[0;36m_str\u001b[1;34m(self)\u001b[0m\n\u001b[0;32m    313\u001b[0m                 \u001b[0mtensor_str\u001b[0m \u001b[1;33m=\u001b[0m \u001b[0m_tensor_str\u001b[0m\u001b[1;33m(\u001b[0m\u001b[0mself\u001b[0m\u001b[1;33m.\u001b[0m\u001b[0mto_dense\u001b[0m\u001b[1;33m(\u001b[0m\u001b[1;33m)\u001b[0m\u001b[1;33m,\u001b[0m \u001b[0mindent\u001b[0m\u001b[1;33m)\u001b[0m\u001b[1;33m\u001b[0m\u001b[1;33m\u001b[0m\u001b[0m\n\u001b[0;32m    314\u001b[0m             \u001b[1;32melse\u001b[0m\u001b[1;33m:\u001b[0m\u001b[1;33m\u001b[0m\u001b[1;33m\u001b[0m\u001b[0m\n\u001b[1;32m--> 315\u001b[1;33m                 \u001b[0mtensor_str\u001b[0m \u001b[1;33m=\u001b[0m \u001b[0m_tensor_str\u001b[0m\u001b[1;33m(\u001b[0m\u001b[0mself\u001b[0m\u001b[1;33m,\u001b[0m \u001b[0mindent\u001b[0m\u001b[1;33m)\u001b[0m\u001b[1;33m\u001b[0m\u001b[1;33m\u001b[0m\u001b[0m\n\u001b[0m\u001b[0;32m    316\u001b[0m \u001b[1;33m\u001b[0m\u001b[0m\n\u001b[0;32m    317\u001b[0m     \u001b[1;32mif\u001b[0m \u001b[0mself\u001b[0m\u001b[1;33m.\u001b[0m\u001b[0mlayout\u001b[0m \u001b[1;33m!=\u001b[0m \u001b[0mtorch\u001b[0m\u001b[1;33m.\u001b[0m\u001b[0mstrided\u001b[0m\u001b[1;33m:\u001b[0m\u001b[1;33m\u001b[0m\u001b[1;33m\u001b[0m\u001b[0m\n",
      "\u001b[1;32mC:\\ProgramData\\Anaconda3\\lib\\site-packages\\torch\\_tensor_str.py\u001b[0m in \u001b[0;36m_tensor_str\u001b[1;34m(self, indent)\u001b[0m\n\u001b[0;32m    211\u001b[0m     \u001b[1;32mif\u001b[0m \u001b[0mself\u001b[0m\u001b[1;33m.\u001b[0m\u001b[0mdtype\u001b[0m \u001b[1;32mis\u001b[0m \u001b[0mtorch\u001b[0m\u001b[1;33m.\u001b[0m\u001b[0mfloat16\u001b[0m \u001b[1;32mor\u001b[0m \u001b[0mself\u001b[0m\u001b[1;33m.\u001b[0m\u001b[0mdtype\u001b[0m \u001b[1;32mis\u001b[0m \u001b[0mtorch\u001b[0m\u001b[1;33m.\u001b[0m\u001b[0mbfloat16\u001b[0m\u001b[1;33m:\u001b[0m\u001b[1;33m\u001b[0m\u001b[1;33m\u001b[0m\u001b[0m\n\u001b[0;32m    212\u001b[0m         \u001b[0mself\u001b[0m \u001b[1;33m=\u001b[0m \u001b[0mself\u001b[0m\u001b[1;33m.\u001b[0m\u001b[0mfloat\u001b[0m\u001b[1;33m(\u001b[0m\u001b[1;33m)\u001b[0m\u001b[1;33m\u001b[0m\u001b[1;33m\u001b[0m\u001b[0m\n\u001b[1;32m--> 213\u001b[1;33m     \u001b[0mformatter\u001b[0m \u001b[1;33m=\u001b[0m \u001b[0m_Formatter\u001b[0m\u001b[1;33m(\u001b[0m\u001b[0mget_summarized_data\u001b[0m\u001b[1;33m(\u001b[0m\u001b[0mself\u001b[0m\u001b[1;33m)\u001b[0m \u001b[1;32mif\u001b[0m \u001b[0msummarize\u001b[0m \u001b[1;32melse\u001b[0m \u001b[0mself\u001b[0m\u001b[1;33m)\u001b[0m\u001b[1;33m\u001b[0m\u001b[1;33m\u001b[0m\u001b[0m\n\u001b[0m\u001b[0;32m    214\u001b[0m     \u001b[1;32mreturn\u001b[0m \u001b[0m_tensor_str_with_formatter\u001b[0m\u001b[1;33m(\u001b[0m\u001b[0mself\u001b[0m\u001b[1;33m,\u001b[0m \u001b[0mindent\u001b[0m\u001b[1;33m,\u001b[0m \u001b[0mformatter\u001b[0m\u001b[1;33m,\u001b[0m \u001b[0msummarize\u001b[0m\u001b[1;33m)\u001b[0m\u001b[1;33m\u001b[0m\u001b[1;33m\u001b[0m\u001b[0m\n\u001b[0;32m    215\u001b[0m \u001b[1;33m\u001b[0m\u001b[0m\n",
      "\u001b[1;32mC:\\ProgramData\\Anaconda3\\lib\\site-packages\\torch\\_tensor_str.py\u001b[0m in \u001b[0;36mget_summarized_data\u001b[1;34m(self)\u001b[0m\n\u001b[0;32m    244\u001b[0m         end = ([self[i]\n\u001b[0;32m    245\u001b[0m                for i in range(len(self) - PRINT_OPTS.edgeitems, len(self))])\n\u001b[1;32m--> 246\u001b[1;33m         \u001b[1;32mreturn\u001b[0m \u001b[0mtorch\u001b[0m\u001b[1;33m.\u001b[0m\u001b[0mstack\u001b[0m\u001b[1;33m(\u001b[0m\u001b[1;33m[\u001b[0m\u001b[0mget_summarized_data\u001b[0m\u001b[1;33m(\u001b[0m\u001b[0mx\u001b[0m\u001b[1;33m)\u001b[0m \u001b[1;32mfor\u001b[0m \u001b[0mx\u001b[0m \u001b[1;32min\u001b[0m \u001b[1;33m(\u001b[0m\u001b[0mstart\u001b[0m \u001b[1;33m+\u001b[0m \u001b[0mend\u001b[0m\u001b[1;33m)\u001b[0m\u001b[1;33m]\u001b[0m\u001b[1;33m)\u001b[0m\u001b[1;33m\u001b[0m\u001b[1;33m\u001b[0m\u001b[0m\n\u001b[0m\u001b[0;32m    247\u001b[0m     \u001b[1;32melse\u001b[0m\u001b[1;33m:\u001b[0m\u001b[1;33m\u001b[0m\u001b[1;33m\u001b[0m\u001b[0m\n\u001b[0;32m    248\u001b[0m         \u001b[1;32mreturn\u001b[0m \u001b[0mtorch\u001b[0m\u001b[1;33m.\u001b[0m\u001b[0mstack\u001b[0m\u001b[1;33m(\u001b[0m\u001b[1;33m[\u001b[0m\u001b[0mget_summarized_data\u001b[0m\u001b[1;33m(\u001b[0m\u001b[0mx\u001b[0m\u001b[1;33m)\u001b[0m \u001b[1;32mfor\u001b[0m \u001b[0mx\u001b[0m \u001b[1;32min\u001b[0m \u001b[0mself\u001b[0m\u001b[1;33m]\u001b[0m\u001b[1;33m)\u001b[0m\u001b[1;33m\u001b[0m\u001b[1;33m\u001b[0m\u001b[0m\n",
      "\u001b[1;32mC:\\ProgramData\\Anaconda3\\lib\\site-packages\\torch\\_tensor_str.py\u001b[0m in \u001b[0;36m<listcomp>\u001b[1;34m(.0)\u001b[0m\n\u001b[0;32m    244\u001b[0m         end = ([self[i]\n\u001b[0;32m    245\u001b[0m                for i in range(len(self) - PRINT_OPTS.edgeitems, len(self))])\n\u001b[1;32m--> 246\u001b[1;33m         \u001b[1;32mreturn\u001b[0m \u001b[0mtorch\u001b[0m\u001b[1;33m.\u001b[0m\u001b[0mstack\u001b[0m\u001b[1;33m(\u001b[0m\u001b[1;33m[\u001b[0m\u001b[0mget_summarized_data\u001b[0m\u001b[1;33m(\u001b[0m\u001b[0mx\u001b[0m\u001b[1;33m)\u001b[0m \u001b[1;32mfor\u001b[0m \u001b[0mx\u001b[0m \u001b[1;32min\u001b[0m \u001b[1;33m(\u001b[0m\u001b[0mstart\u001b[0m \u001b[1;33m+\u001b[0m \u001b[0mend\u001b[0m\u001b[1;33m)\u001b[0m\u001b[1;33m]\u001b[0m\u001b[1;33m)\u001b[0m\u001b[1;33m\u001b[0m\u001b[1;33m\u001b[0m\u001b[0m\n\u001b[0m\u001b[0;32m    247\u001b[0m     \u001b[1;32melse\u001b[0m\u001b[1;33m:\u001b[0m\u001b[1;33m\u001b[0m\u001b[1;33m\u001b[0m\u001b[0m\n\u001b[0;32m    248\u001b[0m         \u001b[1;32mreturn\u001b[0m \u001b[0mtorch\u001b[0m\u001b[1;33m.\u001b[0m\u001b[0mstack\u001b[0m\u001b[1;33m(\u001b[0m\u001b[1;33m[\u001b[0m\u001b[0mget_summarized_data\u001b[0m\u001b[1;33m(\u001b[0m\u001b[0mx\u001b[0m\u001b[1;33m)\u001b[0m \u001b[1;32mfor\u001b[0m \u001b[0mx\u001b[0m \u001b[1;32min\u001b[0m \u001b[0mself\u001b[0m\u001b[1;33m]\u001b[0m\u001b[1;33m)\u001b[0m\u001b[1;33m\u001b[0m\u001b[1;33m\u001b[0m\u001b[0m\n",
      "\u001b[1;32mC:\\ProgramData\\Anaconda3\\lib\\site-packages\\torch\\_tensor_str.py\u001b[0m in \u001b[0;36mget_summarized_data\u001b[1;34m(self)\u001b[0m\n\u001b[0;32m    237\u001b[0m     \u001b[1;32mif\u001b[0m \u001b[0mdim\u001b[0m \u001b[1;33m==\u001b[0m \u001b[1;36m1\u001b[0m\u001b[1;33m:\u001b[0m\u001b[1;33m\u001b[0m\u001b[1;33m\u001b[0m\u001b[0m\n\u001b[0;32m    238\u001b[0m         \u001b[1;32mif\u001b[0m \u001b[0mself\u001b[0m\u001b[1;33m.\u001b[0m\u001b[0msize\u001b[0m\u001b[1;33m(\u001b[0m\u001b[1;36m0\u001b[0m\u001b[1;33m)\u001b[0m \u001b[1;33m>\u001b[0m \u001b[1;36m2\u001b[0m \u001b[1;33m*\u001b[0m \u001b[0mPRINT_OPTS\u001b[0m\u001b[1;33m.\u001b[0m\u001b[0medgeitems\u001b[0m\u001b[1;33m:\u001b[0m\u001b[1;33m\u001b[0m\u001b[1;33m\u001b[0m\u001b[0m\n\u001b[1;32m--> 239\u001b[1;33m             \u001b[1;32mreturn\u001b[0m \u001b[0mtorch\u001b[0m\u001b[1;33m.\u001b[0m\u001b[0mcat\u001b[0m\u001b[1;33m(\u001b[0m\u001b[1;33m(\u001b[0m\u001b[0mself\u001b[0m\u001b[1;33m[\u001b[0m\u001b[1;33m:\u001b[0m\u001b[0mPRINT_OPTS\u001b[0m\u001b[1;33m.\u001b[0m\u001b[0medgeitems\u001b[0m\u001b[1;33m]\u001b[0m\u001b[1;33m,\u001b[0m \u001b[0mself\u001b[0m\u001b[1;33m[\u001b[0m\u001b[1;33m-\u001b[0m\u001b[0mPRINT_OPTS\u001b[0m\u001b[1;33m.\u001b[0m\u001b[0medgeitems\u001b[0m\u001b[1;33m:\u001b[0m\u001b[1;33m]\u001b[0m\u001b[1;33m)\u001b[0m\u001b[1;33m)\u001b[0m\u001b[1;33m\u001b[0m\u001b[1;33m\u001b[0m\u001b[0m\n\u001b[0m\u001b[0;32m    240\u001b[0m         \u001b[1;32melse\u001b[0m\u001b[1;33m:\u001b[0m\u001b[1;33m\u001b[0m\u001b[1;33m\u001b[0m\u001b[0m\n\u001b[0;32m    241\u001b[0m             \u001b[1;32mreturn\u001b[0m \u001b[0mself\u001b[0m\u001b[1;33m\u001b[0m\u001b[1;33m\u001b[0m\u001b[0m\n",
      "\u001b[1;31mRuntimeError\u001b[0m: cuda runtime error (710) : device-side assert triggered at ..\\aten\\src\\THC\\THCCachingHostAllocator.cpp:278"
     ]
    }
   ],
   "source": [
    "pp"
   ]
  },
  {
   "cell_type": "code",
   "execution_count": 15,
   "metadata": {},
   "outputs": [],
   "source": [
    "frame = 1"
   ]
  },
  {
   "cell_type": "code",
   "execution_count": null,
   "metadata": {},
   "outputs": [],
   "source": []
  },
  {
   "cell_type": "code",
   "execution_count": 22,
   "metadata": {},
   "outputs": [
    {
     "name": "stdout",
     "output_type": "stream",
     "text": [
      "1 1\n",
      "2 2\n",
      "3 3\n",
      "3 4\n",
      "4 5\n",
      "5 6\n",
      "6 7\n",
      "6 8\n",
      "7 9\n",
      "7 10\n",
      "8 11\n",
      "9 12\n",
      "9 13\n",
      "9 14\n",
      "10 15\n",
      "10 16\n",
      "10 17\n",
      "10 18\n",
      "10 19\n",
      "10 20\n"
     ]
    },
    {
     "data": {
      "text/plain": [
       "0.5"
      ]
     },
     "execution_count": 22,
     "metadata": {},
     "output_type": "execute_result"
    }
   ],
   "source": [
    "pit(MultiMCTS(nparallel=10, nsearches=100, net=net), MiniMax(maxdepth=2), n=20, nrnd=2, frame=frame, verbose=1)"
   ]
  },
  {
   "cell_type": "code",
   "execution_count": null,
   "metadata": {},
   "outputs": [],
   "source": [
    "# Dateien zusammenfügen"
   ]
  },
  {
   "cell_type": "code",
   "execution_count": 6,
   "metadata": {
    "ExecuteTime": {
     "end_time": "2023-10-16T19:38:50.234011Z",
     "start_time": "2023-10-16T19:38:48.515215Z"
    }
   },
   "outputs": [
    {
     "ename": "FileNotFoundError",
     "evalue": "[Errno 2] No such file or directory: 'temp/selfplay563.dat'",
     "output_type": "error",
     "traceback": [
      "\u001b[1;31m---------------------------------------------------------------------------\u001b[0m",
      "\u001b[1;31mFileNotFoundError\u001b[0m                         Traceback (most recent call last)",
      "\u001b[1;32m<ipython-input-6-863680025d57>\u001b[0m in \u001b[0;36m<module>\u001b[1;34m\u001b[0m\n\u001b[0;32m      1\u001b[0m \u001b[0mgamerecords\u001b[0m \u001b[1;33m=\u001b[0m \u001b[1;33m[\u001b[0m\u001b[1;33m]\u001b[0m\u001b[1;33m\u001b[0m\u001b[1;33m\u001b[0m\u001b[0m\n\u001b[0;32m      2\u001b[0m \u001b[1;32mfor\u001b[0m \u001b[0mi\u001b[0m \u001b[1;32min\u001b[0m \u001b[0mrange\u001b[0m\u001b[1;33m(\u001b[0m\u001b[1;36m10000\u001b[0m\u001b[1;33m)\u001b[0m\u001b[1;33m:\u001b[0m\u001b[1;33m\u001b[0m\u001b[1;33m\u001b[0m\u001b[0m\n\u001b[1;32m----> 3\u001b[1;33m     \u001b[1;32mwith\u001b[0m \u001b[0mopen\u001b[0m\u001b[1;33m(\u001b[0m\u001b[1;34m'temp/selfplay%d.dat'\u001b[0m \u001b[1;33m%\u001b[0m \u001b[0mi\u001b[0m\u001b[1;33m,\u001b[0m \u001b[1;34m'rb'\u001b[0m\u001b[1;33m)\u001b[0m \u001b[1;32mas\u001b[0m \u001b[0mf\u001b[0m\u001b[1;33m:\u001b[0m\u001b[1;33m\u001b[0m\u001b[1;33m\u001b[0m\u001b[0m\n\u001b[0m\u001b[0;32m      4\u001b[0m         \u001b[0mgamerecords\u001b[0m \u001b[1;33m+=\u001b[0m \u001b[0mpkl\u001b[0m\u001b[1;33m.\u001b[0m\u001b[0mload\u001b[0m\u001b[1;33m(\u001b[0m\u001b[0mf\u001b[0m\u001b[1;33m)\u001b[0m\u001b[1;33m\u001b[0m\u001b[1;33m\u001b[0m\u001b[0m\n",
      "\u001b[1;31mFileNotFoundError\u001b[0m: [Errno 2] No such file or directory: 'temp/selfplay563.dat'"
     ]
    }
   ],
   "source": [
    "gamerecords = []\n",
    "for i in range(10000):\n",
    "    with open('temp/selfplay%d.dat' % i, 'rb') as f:\n",
    "        gamerecords += pkl.load(f)"
   ]
  },
  {
   "cell_type": "code",
   "execution_count": 7,
   "metadata": {
    "ExecuteTime": {
     "end_time": "2023-10-16T19:39:14.803777Z",
     "start_time": "2023-10-16T19:39:12.294299Z"
    }
   },
   "outputs": [],
   "source": [
    "with open('selfplay_mcts1.dat', 'wb') as f:\n",
    "    pkl.dump(gamerecords, f)"
   ]
  },
  {
   "cell_type": "code",
   "execution_count": null,
   "metadata": {},
   "outputs": [],
   "source": []
  },
  {
   "cell_type": "code",
   "execution_count": 89,
   "metadata": {},
   "outputs": [],
   "source": [
    "torch.save(net.state_dict(), 'net_temp.dat')"
   ]
  },
  {
   "cell_type": "code",
   "execution_count": null,
   "metadata": {},
   "outputs": [],
   "source": []
  },
  {
   "cell_type": "code",
   "execution_count": null,
   "metadata": {},
   "outputs": [],
   "source": [
    "pit(MultiMCTS(nparallel=10, nsearches=100, net=Net()), MiniMax(maxdepth=depthminimax), n=20, nrnd=2, frame=frame, verbose=1)"
   ]
  },
  {
   "cell_type": "code",
   "execution_count": 39,
   "metadata": {},
   "outputs": [
    {
     "data": {
      "text/plain": [
       "0.25"
      ]
     },
     "execution_count": 39,
     "metadata": {},
     "output_type": "execute_result"
    }
   ],
   "source": [
    "\n",
    "pit(MultiMCTS(nparallel=10, nsearches=100, net=net), \\\n",
    "    MultiMCTS(nparallel=10, nsearches=100, net=Net('net_temp.dat')), n=20, nrnd=2, frame=frame, verbose=0)"
   ]
  },
  {
   "cell_type": "code",
   "execution_count": 31,
   "metadata": {},
   "outputs": [
    {
     "name": "stdout",
     "output_type": "stream",
     "text": [
      "1 1\n",
      "1 2\n",
      "2 3\n",
      "3 4\n",
      "4 5\n",
      "4 6\n",
      "5 7\n",
      "5 8\n",
      "6 9\n",
      "6 10\n",
      "7 11\n",
      "8 12\n",
      "9 13\n",
      "9 14\n",
      "10 15\n",
      "10 16\n",
      "11 17\n",
      "11 18\n",
      "12 19\n",
      "12 20\n"
     ]
    },
    {
     "data": {
      "text/plain": [
       "0.6"
      ]
     },
     "execution_count": 31,
     "metadata": {},
     "output_type": "execute_result"
    }
   ],
   "source": [
    "\n",
    "pit(MultiMCTS(nparallel=10, nsearches=300, net=net, params={'cpuct': .2}),\n",
    "    MiniMax(maxdepth=2), n=20, nrnd=2, frame=frame, verbose=1)"
   ]
  },
  {
   "cell_type": "code",
   "execution_count": null,
   "metadata": {},
   "outputs": [],
   "source": []
  },
  {
   "cell_type": "code",
   "execution_count": null,
   "metadata": {},
   "outputs": [],
   "source": [
    "# Geschwindigkeit des Netzwerks messen"
   ]
  },
  {
   "cell_type": "code",
   "execution_count": 33,
   "metadata": {},
   "outputs": [],
   "source": [
    "net = NetAdaptive()"
   ]
  },
  {
   "cell_type": "code",
   "execution_count": null,
   "metadata": {},
   "outputs": [],
   "source": [
    "bg_v = batchgen(gamerecords, iend=500)"
   ]
  },
  {
   "cell_type": "code",
   "execution_count": 35,
   "metadata": {},
   "outputs": [
    {
     "name": "stdout",
     "output_type": "stream",
     "text": [
      "Wall time: 604 ms\n"
     ]
    }
   ],
   "source": [
    "%%time\n",
    "for _ in range(100):\n",
    "    b, vds, tp, tv = next(bg_v)\n",
    "    b, vds, tp, tv = batch2torch(b, vds, tp, tv)\n",
    "    #with torch.no_grad():\n",
    "    pp, pv = net(b, vds)"
   ]
  },
  {
   "cell_type": "code",
   "execution_count": null,
   "metadata": {},
   "outputs": [],
   "source": []
  },
  {
   "cell_type": "code",
   "execution_count": null,
   "metadata": {},
   "outputs": [],
   "source": []
  },
  {
   "cell_type": "code",
   "execution_count": null,
   "metadata": {},
   "outputs": [],
   "source": [
    "# gamerecords konvertieren zur version mit distribution für a"
   ]
  },
  {
   "cell_type": "code",
   "execution_count": 51,
   "metadata": {},
   "outputs": [],
   "source": [
    "newgamerecords = []\n",
    "for s, a, r in gamerecords:\n",
    "    dist = np.zeros(GameIsola.numActions)\n",
    "    dist[a] = 1.\n",
    "    newgamerecords.append((s, dist, r))"
   ]
  },
  {
   "cell_type": "code",
   "execution_count": 52,
   "metadata": {},
   "outputs": [],
   "source": [
    "with open('selfplay_depth3.dat', 'wb') as f:\n",
    "    pkl.dump(newgamerecords, f)"
   ]
  },
  {
   "cell_type": "code",
   "execution_count": null,
   "metadata": {},
   "outputs": [],
   "source": []
  },
  {
   "cell_type": "code",
   "execution_count": null,
   "metadata": {},
   "outputs": [],
   "source": []
  },
  {
   "cell_type": "code",
   "execution_count": 26,
   "metadata": {
    "scrolled": true
   },
   "outputs": [
    {
     "name": "stdout",
     "output_type": "stream",
     "text": [
      "1 1\n",
      "1 2\n",
      "1 3\n",
      "1 4\n",
      "1 5\n",
      "2 6\n",
      "3 7\n",
      "3 8\n",
      "4 9\n",
      "4 10\n",
      "4 11\n",
      "4 12\n",
      "5 13\n",
      "5 14\n",
      "5 15\n",
      "5 16\n",
      "6 17\n",
      "6 18\n",
      "7 19\n",
      "7 20\n",
      "{(0, 0, 0): 0.35}\n",
      "1 1\n",
      "2 2\n",
      "2 3\n",
      "2 4\n",
      "3 5\n",
      "3 6\n",
      "4 7\n",
      "4 8\n",
      "4 9\n",
      "4 10\n",
      "4 11\n",
      "5 12\n",
      "5 13\n",
      "5 14\n",
      "6 15\n",
      "6 16\n",
      "7 17\n",
      "7 18\n",
      "8 19\n",
      "8 20\n",
      "{(0, 0, 0): 0.35, (0, 0, 1): 0.4}\n",
      "0 1\n",
      "1 2\n",
      "1 3\n",
      "1 4\n",
      "2 5\n",
      "2 6\n",
      "3 7\n",
      "4 8\n",
      "4 9\n",
      "4 10\n",
      "5 11\n",
      "5 12\n",
      "6 13\n",
      "6 14\n",
      "7 15\n",
      "7 16\n",
      "7 17\n",
      "7 18\n",
      "8 19\n",
      "8 20\n",
      "{(0, 0, 0): 0.35, (0, 0, 1): 0.4, (0, 1, 0): 0.4}\n",
      "1 1\n",
      "1 2\n",
      "2 3\n",
      "2 4\n",
      "3 5\n",
      "3 6\n",
      "4 7\n",
      "4 8\n",
      "4 9\n",
      "4 10\n",
      "4 11\n",
      "4 12\n",
      "5 13\n",
      "5 14\n",
      "6 15\n",
      "6 16\n",
      "7 17\n",
      "8 18\n",
      "9 19\n",
      "10 20\n",
      "{(0, 0, 0): 0.35, (0, 0, 1): 0.4, (0, 1, 0): 0.4, (0, 1, 1): 0.5}\n",
      "1 1\n",
      "1 2\n",
      "2 3\n",
      "2 4\n",
      "2 5\n",
      "3 6\n",
      "4 7\n",
      "4 8\n",
      "5 9\n",
      "5 10\n",
      "5 11\n",
      "5 12\n",
      "6 13\n",
      "6 14\n",
      "6 15\n",
      "6 16\n",
      "7 17\n",
      "8 18\n",
      "8 19\n",
      "8 20\n",
      "{(0, 0, 0): 0.35, (0, 0, 1): 0.4, (0, 1, 0): 0.4, (0, 1, 1): 0.5, (0, 2, 0): 0.4}\n",
      "1 1\n",
      "1 2\n",
      "2 3\n",
      "2 4\n",
      "3 5\n",
      "4 6\n",
      "5 7\n",
      "6 8\n",
      "7 9\n",
      "7 10\n",
      "8 11\n",
      "9 12\n",
      "10 13\n",
      "10 14\n",
      "11 15\n",
      "12 16\n",
      "13 17\n",
      "14 18\n",
      "15 19\n",
      "15 20\n",
      "{(0, 0, 0): 0.35, (0, 0, 1): 0.4, (0, 1, 0): 0.4, (0, 1, 1): 0.5, (0, 2, 0): 0.4, (0, 2, 1): 0.75}\n",
      "1 1\n",
      "1 2\n",
      "2 3\n",
      "2 4\n",
      "3 5\n",
      "3 6\n",
      "3 7\n",
      "3 8\n",
      "3 9\n",
      "3 10\n",
      "4 11\n",
      "4 12\n",
      "4 13\n",
      "4 14\n",
      "5 15\n",
      "5 16\n",
      "6 17\n",
      "7 18\n",
      "7 19\n",
      "8 20\n",
      "{(0, 0, 0): 0.35, (0, 0, 1): 0.4, (0, 1, 0): 0.4, (0, 1, 1): 0.5, (0, 2, 0): 0.4, (0, 2, 1): 0.75, (1, 0, 0): 0.4}\n",
      "1 1\n",
      "1 2\n",
      "2 3\n",
      "3 4\n",
      "4 5\n",
      "4 6\n",
      "5 7\n",
      "5 8\n",
      "6 9\n",
      "6 10\n",
      "7 11\n",
      "7 12\n",
      "7 13\n",
      "8 14\n",
      "9 15\n",
      "9 16\n",
      "9 17\n",
      "10 18\n",
      "11 19\n",
      "12 20\n",
      "{(0, 0, 0): 0.35, (0, 0, 1): 0.4, (0, 1, 0): 0.4, (0, 1, 1): 0.5, (0, 2, 0): 0.4, (0, 2, 1): 0.75, (1, 0, 0): 0.4, (1, 0, 1): 0.6}\n",
      "0 1\n",
      "1 2\n",
      "2 3\n",
      "2 4\n",
      "3 5\n",
      "3 6\n",
      "4 7\n",
      "4 8\n",
      "5 9\n",
      "5 10\n",
      "6 11\n",
      "6 12\n",
      "6 13\n",
      "7 14\n",
      "7 15\n",
      "7 16\n",
      "8 17\n",
      "9 18\n",
      "10 19\n",
      "10 20\n",
      "{(0, 0, 0): 0.35, (0, 0, 1): 0.4, (0, 1, 0): 0.4, (0, 1, 1): 0.5, (0, 2, 0): 0.4, (0, 2, 1): 0.75, (1, 0, 0): 0.4, (1, 0, 1): 0.6, (1, 1, 0): 0.5}\n",
      "1 1\n",
      "2 2\n",
      "3 3\n",
      "3 4\n",
      "4 5\n",
      "5 6\n",
      "5 7\n",
      "6 8\n",
      "6 9\n",
      "7 10\n",
      "8 11\n",
      "8 12\n",
      "9 13\n",
      "10 14\n",
      "10 15\n",
      "10 16\n",
      "11 17\n",
      "12 18\n",
      "13 19\n",
      "13 20\n",
      "{(0, 0, 0): 0.35, (0, 0, 1): 0.4, (0, 1, 0): 0.4, (0, 1, 1): 0.5, (0, 2, 0): 0.4, (0, 2, 1): 0.75, (1, 0, 0): 0.4, (1, 0, 1): 0.6, (1, 1, 0): 0.5, (1, 1, 1): 0.65}\n",
      "1 1\n",
      "1 2\n",
      "2 3\n",
      "2 4\n",
      "2 5\n",
      "2 6\n",
      "3 7\n",
      "3 8\n",
      "3 9\n",
      "3 10\n",
      "4 11\n",
      "4 12\n",
      "5 13\n",
      "5 14\n",
      "6 15\n",
      "6 16\n",
      "7 17\n",
      "7 18\n",
      "8 19\n",
      "8 20\n",
      "{(0, 0, 0): 0.35, (0, 0, 1): 0.4, (0, 1, 0): 0.4, (0, 1, 1): 0.5, (0, 2, 0): 0.4, (0, 2, 1): 0.75, (1, 0, 0): 0.4, (1, 0, 1): 0.6, (1, 1, 0): 0.5, (1, 1, 1): 0.65, (1, 2, 0): 0.4}\n",
      "0 1\n",
      "0 2\n",
      "1 3\n",
      "1 4\n",
      "1 5\n",
      "2 6\n",
      "2 7\n",
      "3 8\n",
      "3 9\n",
      "4 10\n",
      "5 11\n",
      "5 12\n",
      "6 13\n",
      "6 14\n",
      "6 15\n",
      "7 16\n",
      "8 17\n",
      "8 18\n",
      "8 19\n",
      "9 20\n",
      "{(0, 0, 0): 0.35, (0, 0, 1): 0.4, (0, 1, 0): 0.4, (0, 1, 1): 0.5, (0, 2, 0): 0.4, (0, 2, 1): 0.75, (1, 0, 0): 0.4, (1, 0, 1): 0.6, (1, 1, 0): 0.5, (1, 1, 1): 0.65, (1, 2, 0): 0.4, (1, 2, 1): 0.45}\n",
      "0 1\n",
      "1 2\n",
      "1 3\n",
      "1 4\n",
      "2 5\n",
      "2 6\n",
      "2 7\n",
      "3 8\n",
      "3 9\n",
      "4 10\n",
      "5 11\n",
      "5 12\n",
      "6 13\n",
      "7 14\n",
      "8 15\n",
      "8 16\n",
      "8 17\n",
      "8 18\n",
      "9 19\n",
      "9 20\n",
      "{(0, 0, 0): 0.35, (0, 0, 1): 0.4, (0, 1, 0): 0.4, (0, 1, 1): 0.5, (0, 2, 0): 0.4, (0, 2, 1): 0.75, (1, 0, 0): 0.4, (1, 0, 1): 0.6, (1, 1, 0): 0.5, (1, 1, 1): 0.65, (1, 2, 0): 0.4, (1, 2, 1): 0.45, (2, 0, 0): 0.45}\n",
      "0 1\n",
      "0 2\n",
      "1 3\n",
      "1 4\n",
      "1 5\n",
      "2 6\n",
      "3 7\n",
      "4 8\n",
      "5 9\n",
      "6 10\n",
      "7 11\n",
      "7 12\n",
      "8 13\n",
      "8 14\n",
      "9 15\n",
      "9 16\n",
      "10 17\n",
      "11 18\n",
      "12 19\n",
      "13 20\n",
      "{(0, 0, 0): 0.35, (0, 0, 1): 0.4, (0, 1, 0): 0.4, (0, 1, 1): 0.5, (0, 2, 0): 0.4, (0, 2, 1): 0.75, (1, 0, 0): 0.4, (1, 0, 1): 0.6, (1, 1, 0): 0.5, (1, 1, 1): 0.65, (1, 2, 0): 0.4, (1, 2, 1): 0.45, (2, 0, 0): 0.45, (2, 0, 1): 0.65}\n",
      "1 1\n",
      "1 2\n",
      "2 3\n",
      "2 4\n",
      "3 5\n",
      "3 6\n",
      "4 7\n",
      "4 8\n",
      "4 9\n",
      "5 10\n",
      "6 11\n",
      "6 12\n",
      "6 13\n",
      "6 14\n",
      "7 15\n",
      "7 16\n",
      "8 17\n",
      "8 18\n",
      "9 19\n",
      "9 20\n",
      "{(0, 0, 0): 0.35, (0, 0, 1): 0.4, (0, 1, 0): 0.4, (0, 1, 1): 0.5, (0, 2, 0): 0.4, (0, 2, 1): 0.75, (1, 0, 0): 0.4, (1, 0, 1): 0.6, (1, 1, 0): 0.5, (1, 1, 1): 0.65, (1, 2, 0): 0.4, (1, 2, 1): 0.45, (2, 0, 0): 0.45, (2, 0, 1): 0.65, (2, 1, 0): 0.45}\n",
      "0 1\n",
      "1 2\n",
      "1 3\n",
      "2 4\n",
      "3 5\n",
      "3 6\n",
      "4 7\n",
      "5 8\n",
      "6 9\n",
      "7 10\n",
      "8 11\n",
      "8 12\n",
      "9 13\n",
      "9 14\n",
      "10 15\n",
      "11 16\n",
      "12 17\n",
      "12 18\n",
      "13 19\n",
      "13 20\n",
      "{(0, 0, 0): 0.35, (0, 0, 1): 0.4, (0, 1, 0): 0.4, (0, 1, 1): 0.5, (0, 2, 0): 0.4, (0, 2, 1): 0.75, (1, 0, 0): 0.4, (1, 0, 1): 0.6, (1, 1, 0): 0.5, (1, 1, 1): 0.65, (1, 2, 0): 0.4, (1, 2, 1): 0.45, (2, 0, 0): 0.45, (2, 0, 1): 0.65, (2, 1, 0): 0.45, (2, 1, 1): 0.65}\n",
      "0 1\n",
      "1 2\n",
      "2 3\n",
      "3 4\n",
      "4 5\n",
      "4 6\n",
      "5 7\n",
      "5 8\n",
      "6 9\n",
      "6 10\n",
      "7 11\n",
      "7 12\n",
      "8 13\n",
      "8 14\n",
      "9 15\n",
      "9 16\n",
      "10 17\n",
      "10 18\n",
      "11 19\n",
      "11 20\n",
      "{(0, 0, 0): 0.35, (0, 0, 1): 0.4, (0, 1, 0): 0.4, (0, 1, 1): 0.5, (0, 2, 0): 0.4, (0, 2, 1): 0.75, (1, 0, 0): 0.4, (1, 0, 1): 0.6, (1, 1, 0): 0.5, (1, 1, 1): 0.65, (1, 2, 0): 0.4, (1, 2, 1): 0.45, (2, 0, 0): 0.45, (2, 0, 1): 0.65, (2, 1, 0): 0.45, (2, 1, 1): 0.65, (2, 2, 0): 0.55}\n",
      "1 1\n",
      "1 2\n",
      "2 3\n",
      "3 4\n",
      "4 5\n",
      "4 6\n",
      "5 7\n",
      "5 8\n",
      "6 9\n",
      "7 10\n",
      "8 11\n",
      "8 12\n",
      "9 13\n",
      "9 14\n",
      "10 15\n",
      "11 16\n",
      "12 17\n",
      "12 18\n",
      "13 19\n",
      "13 20\n",
      "{(0, 0, 0): 0.35, (0, 0, 1): 0.4, (0, 1, 0): 0.4, (0, 1, 1): 0.5, (0, 2, 0): 0.4, (0, 2, 1): 0.75, (1, 0, 0): 0.4, (1, 0, 1): 0.6, (1, 1, 0): 0.5, (1, 1, 1): 0.65, (1, 2, 0): 0.4, (1, 2, 1): 0.45, (2, 0, 0): 0.45, (2, 0, 1): 0.65, (2, 1, 0): 0.45, (2, 1, 1): 0.65, (2, 2, 0): 0.55, (2, 2, 1): 0.65}\n",
      "0 1\n",
      "1 2\n",
      "1 3\n",
      "2 4\n",
      "3 5\n",
      "4 6\n",
      "5 7\n",
      "5 8\n",
      "6 9\n",
      "6 10\n",
      "7 11\n",
      "7 12\n",
      "8 13\n",
      "9 14\n",
      "10 15\n",
      "11 16\n",
      "12 17\n",
      "12 18\n",
      "12 19\n",
      "13 20\n",
      "{(0, 0, 0): 0.35, (0, 0, 1): 0.4, (0, 1, 0): 0.4, (0, 1, 1): 0.5, (0, 2, 0): 0.4, (0, 2, 1): 0.75, (1, 0, 0): 0.4, (1, 0, 1): 0.6, (1, 1, 0): 0.5, (1, 1, 1): 0.65, (1, 2, 0): 0.4, (1, 2, 1): 0.45, (2, 0, 0): 0.45, (2, 0, 1): 0.65, (2, 1, 0): 0.45, (2, 1, 1): 0.65, (2, 2, 0): 0.55, (2, 2, 1): 0.65, (3, 0, 0): 0.65}\n",
      "0 1\n",
      "1 2\n",
      "2 3\n",
      "3 4\n",
      "4 5\n",
      "4 6\n",
      "5 7\n",
      "5 8\n",
      "6 9\n",
      "7 10\n",
      "7 11\n",
      "7 12\n",
      "7 13\n",
      "8 14\n",
      "9 15\n",
      "10 16\n",
      "11 17\n",
      "11 18\n",
      "12 19\n",
      "12 20\n",
      "{(0, 0, 0): 0.35, (0, 0, 1): 0.4, (0, 1, 0): 0.4, (0, 1, 1): 0.5, (0, 2, 0): 0.4, (0, 2, 1): 0.75, (1, 0, 0): 0.4, (1, 0, 1): 0.6, (1, 1, 0): 0.5, (1, 1, 1): 0.65, (1, 2, 0): 0.4, (1, 2, 1): 0.45, (2, 0, 0): 0.45, (2, 0, 1): 0.65, (2, 1, 0): 0.45, (2, 1, 1): 0.65, (2, 2, 0): 0.55, (2, 2, 1): 0.65, (3, 0, 0): 0.65, (3, 0, 1): 0.6}\n",
      "1 1\n",
      "1 2\n",
      "2 3\n",
      "2 4\n",
      "2 5\n",
      "3 6\n",
      "4 7\n",
      "5 8\n",
      "6 9\n",
      "6 10\n",
      "6 11\n",
      "6 12\n",
      "7 13\n",
      "7 14\n",
      "8 15\n",
      "8 16\n",
      "9 17\n",
      "9 18\n",
      "10 19\n",
      "10 20\n",
      "{(0, 0, 0): 0.35, (0, 0, 1): 0.4, (0, 1, 0): 0.4, (0, 1, 1): 0.5, (0, 2, 0): 0.4, (0, 2, 1): 0.75, (1, 0, 0): 0.4, (1, 0, 1): 0.6, (1, 1, 0): 0.5, (1, 1, 1): 0.65, (1, 2, 0): 0.4, (1, 2, 1): 0.45, (2, 0, 0): 0.45, (2, 0, 1): 0.65, (2, 1, 0): 0.45, (2, 1, 1): 0.65, (2, 2, 0): 0.55, (2, 2, 1): 0.65, (3, 0, 0): 0.65, (3, 0, 1): 0.6, (3, 1, 0): 0.5}\n",
      "1 1\n",
      "1 2\n",
      "2 3\n",
      "3 4\n",
      "4 5\n",
      "4 6\n",
      "5 7\n",
      "6 8\n",
      "7 9\n",
      "7 10\n",
      "8 11\n",
      "9 12\n",
      "10 13\n",
      "10 14\n",
      "10 15\n",
      "11 16\n",
      "12 17\n",
      "12 18\n",
      "13 19\n",
      "14 20\n",
      "{(0, 0, 0): 0.35, (0, 0, 1): 0.4, (0, 1, 0): 0.4, (0, 1, 1): 0.5, (0, 2, 0): 0.4, (0, 2, 1): 0.75, (1, 0, 0): 0.4, (1, 0, 1): 0.6, (1, 1, 0): 0.5, (1, 1, 1): 0.65, (1, 2, 0): 0.4, (1, 2, 1): 0.45, (2, 0, 0): 0.45, (2, 0, 1): 0.65, (2, 1, 0): 0.45, (2, 1, 1): 0.65, (2, 2, 0): 0.55, (2, 2, 1): 0.65, (3, 0, 0): 0.65, (3, 0, 1): 0.6, (3, 1, 0): 0.5, (3, 1, 1): 0.7}\n",
      "1 1\n",
      "1 2\n",
      "2 3\n",
      "3 4\n",
      "4 5\n",
      "4 6\n",
      "5 7\n",
      "5 8\n",
      "5 9\n",
      "6 10\n",
      "6 11\n",
      "7 12\n",
      "8 13\n",
      "9 14\n",
      "10 15\n",
      "11 16\n",
      "12 17\n",
      "13 18\n",
      "13 19\n",
      "13 20\n",
      "{(0, 0, 0): 0.35, (0, 0, 1): 0.4, (0, 1, 0): 0.4, (0, 1, 1): 0.5, (0, 2, 0): 0.4, (0, 2, 1): 0.75, (1, 0, 0): 0.4, (1, 0, 1): 0.6, (1, 1, 0): 0.5, (1, 1, 1): 0.65, (1, 2, 0): 0.4, (1, 2, 1): 0.45, (2, 0, 0): 0.45, (2, 0, 1): 0.65, (2, 1, 0): 0.45, (2, 1, 1): 0.65, (2, 2, 0): 0.55, (2, 2, 1): 0.65, (3, 0, 0): 0.65, (3, 0, 1): 0.6, (3, 1, 0): 0.5, (3, 1, 1): 0.7, (3, 2, 0): 0.65}\n",
      "1 1\n",
      "2 2\n",
      "3 3\n",
      "4 4\n",
      "5 5\n",
      "6 6\n",
      "7 7\n",
      "7 8\n",
      "8 9\n",
      "9 10\n",
      "10 11\n",
      "10 12\n",
      "11 13\n",
      "11 14\n",
      "12 15\n",
      "12 16\n",
      "12 17\n",
      "13 18\n",
      "14 19\n",
      "15 20\n",
      "{(0, 0, 0): 0.35, (0, 0, 1): 0.4, (0, 1, 0): 0.4, (0, 1, 1): 0.5, (0, 2, 0): 0.4, (0, 2, 1): 0.75, (1, 0, 0): 0.4, (1, 0, 1): 0.6, (1, 1, 0): 0.5, (1, 1, 1): 0.65, (1, 2, 0): 0.4, (1, 2, 1): 0.45, (2, 0, 0): 0.45, (2, 0, 1): 0.65, (2, 1, 0): 0.45, (2, 1, 1): 0.65, (2, 2, 0): 0.55, (2, 2, 1): 0.65, (3, 0, 0): 0.65, (3, 0, 1): 0.6, (3, 1, 0): 0.5, (3, 1, 1): 0.7, (3, 2, 0): 0.65, (3, 2, 1): 0.75}\n",
      "1 1\n",
      "1 2\n",
      "2 3\n",
      "2 4\n",
      "3 5\n",
      "3 6\n",
      "4 7\n",
      "4 8\n",
      "5 9\n",
      "5 10\n",
      "6 11\n",
      "6 12\n",
      "6 13\n",
      "7 14\n",
      "8 15\n",
      "8 16\n",
      "8 17\n",
      "9 18\n",
      "10 19\n",
      "11 20\n",
      "{(0, 0, 0): 0.35, (0, 0, 1): 0.4, (0, 1, 0): 0.4, (0, 1, 1): 0.5, (0, 2, 0): 0.4, (0, 2, 1): 0.75, (1, 0, 0): 0.4, (1, 0, 1): 0.6, (1, 1, 0): 0.5, (1, 1, 1): 0.65, (1, 2, 0): 0.4, (1, 2, 1): 0.45, (2, 0, 0): 0.45, (2, 0, 1): 0.65, (2, 1, 0): 0.45, (2, 1, 1): 0.65, (2, 2, 0): 0.55, (2, 2, 1): 0.65, (3, 0, 0): 0.65, (3, 0, 1): 0.6, (3, 1, 0): 0.5, (3, 1, 1): 0.7, (3, 2, 0): 0.65, (3, 2, 1): 0.75, (4, 0, 0): 0.55}\n",
      "1 1\n",
      "1 2\n",
      "1 3\n",
      "1 4\n",
      "2 5\n",
      "2 6\n",
      "3 7\n",
      "4 8\n",
      "5 9\n",
      "6 10\n",
      "7 11\n",
      "7 12\n",
      "7 13\n",
      "8 14\n",
      "8 15\n",
      "9 16\n",
      "10 17\n",
      "10 18\n",
      "11 19\n",
      "11 20\n",
      "{(0, 0, 0): 0.35, (0, 0, 1): 0.4, (0, 1, 0): 0.4, (0, 1, 1): 0.5, (0, 2, 0): 0.4, (0, 2, 1): 0.75, (1, 0, 0): 0.4, (1, 0, 1): 0.6, (1, 1, 0): 0.5, (1, 1, 1): 0.65, (1, 2, 0): 0.4, (1, 2, 1): 0.45, (2, 0, 0): 0.45, (2, 0, 1): 0.65, (2, 1, 0): 0.45, (2, 1, 1): 0.65, (2, 2, 0): 0.55, (2, 2, 1): 0.65, (3, 0, 0): 0.65, (3, 0, 1): 0.6, (3, 1, 0): 0.5, (3, 1, 1): 0.7, (3, 2, 0): 0.65, (3, 2, 1): 0.75, (4, 0, 0): 0.55, (4, 0, 1): 0.55}\n"
     ]
    },
    {
     "name": "stdout",
     "output_type": "stream",
     "text": [
      "1 1\n",
      "2 2\n",
      "3 3\n",
      "4 4\n",
      "5 5\n",
      "5 6\n",
      "6 7\n",
      "7 8\n",
      "8 9\n",
      "8 10\n",
      "9 11\n",
      "10 12\n",
      "11 13\n",
      "11 14\n",
      "12 15\n",
      "13 16\n",
      "14 17\n",
      "14 18\n",
      "14 19\n",
      "15 20\n",
      "{(0, 0, 0): 0.35, (0, 0, 1): 0.4, (0, 1, 0): 0.4, (0, 1, 1): 0.5, (0, 2, 0): 0.4, (0, 2, 1): 0.75, (1, 0, 0): 0.4, (1, 0, 1): 0.6, (1, 1, 0): 0.5, (1, 1, 1): 0.65, (1, 2, 0): 0.4, (1, 2, 1): 0.45, (2, 0, 0): 0.45, (2, 0, 1): 0.65, (2, 1, 0): 0.45, (2, 1, 1): 0.65, (2, 2, 0): 0.55, (2, 2, 1): 0.65, (3, 0, 0): 0.65, (3, 0, 1): 0.6, (3, 1, 0): 0.5, (3, 1, 1): 0.7, (3, 2, 0): 0.65, (3, 2, 1): 0.75, (4, 0, 0): 0.55, (4, 0, 1): 0.55, (4, 1, 0): 0.75}\n",
      "1 1\n",
      "1 2\n",
      "2 3\n",
      "3 4\n",
      "4 5\n",
      "4 6\n",
      "4 7\n",
      "5 8\n",
      "6 9\n",
      "6 10\n",
      "7 11\n",
      "8 12\n",
      "9 13\n",
      "10 14\n",
      "11 15\n",
      "12 16\n",
      "13 17\n",
      "13 18\n",
      "14 19\n",
      "15 20\n",
      "{(0, 0, 0): 0.35, (0, 0, 1): 0.4, (0, 1, 0): 0.4, (0, 1, 1): 0.5, (0, 2, 0): 0.4, (0, 2, 1): 0.75, (1, 0, 0): 0.4, (1, 0, 1): 0.6, (1, 1, 0): 0.5, (1, 1, 1): 0.65, (1, 2, 0): 0.4, (1, 2, 1): 0.45, (2, 0, 0): 0.45, (2, 0, 1): 0.65, (2, 1, 0): 0.45, (2, 1, 1): 0.65, (2, 2, 0): 0.55, (2, 2, 1): 0.65, (3, 0, 0): 0.65, (3, 0, 1): 0.6, (3, 1, 0): 0.5, (3, 1, 1): 0.7, (3, 2, 0): 0.65, (3, 2, 1): 0.75, (4, 0, 0): 0.55, (4, 0, 1): 0.55, (4, 1, 0): 0.75, (4, 1, 1): 0.75}\n",
      "1 1\n",
      "2 2\n",
      "3 3\n",
      "3 4\n",
      "4 5\n",
      "4 6\n",
      "5 7\n",
      "6 8\n",
      "7 9\n",
      "7 10\n",
      "8 11\n",
      "8 12\n",
      "9 13\n",
      "9 14\n",
      "10 15\n",
      "10 16\n",
      "11 17\n",
      "11 18\n",
      "12 19\n",
      "13 20\n",
      "{(0, 0, 0): 0.35, (0, 0, 1): 0.4, (0, 1, 0): 0.4, (0, 1, 1): 0.5, (0, 2, 0): 0.4, (0, 2, 1): 0.75, (1, 0, 0): 0.4, (1, 0, 1): 0.6, (1, 1, 0): 0.5, (1, 1, 1): 0.65, (1, 2, 0): 0.4, (1, 2, 1): 0.45, (2, 0, 0): 0.45, (2, 0, 1): 0.65, (2, 1, 0): 0.45, (2, 1, 1): 0.65, (2, 2, 0): 0.55, (2, 2, 1): 0.65, (3, 0, 0): 0.65, (3, 0, 1): 0.6, (3, 1, 0): 0.5, (3, 1, 1): 0.7, (3, 2, 0): 0.65, (3, 2, 1): 0.75, (4, 0, 0): 0.55, (4, 0, 1): 0.55, (4, 1, 0): 0.75, (4, 1, 1): 0.75, (4, 2, 0): 0.65}\n",
      "1 1\n",
      "2 2\n",
      "3 3\n",
      "4 4\n",
      "5 5\n",
      "6 6\n",
      "7 7\n",
      "8 8\n",
      "9 9\n",
      "10 10\n",
      "11 11\n",
      "12 12\n",
      "13 13\n",
      "13 14\n",
      "14 15\n",
      "15 16\n",
      "16 17\n",
      "16 18\n",
      "17 19\n",
      "17 20\n",
      "{(0, 0, 0): 0.35, (0, 0, 1): 0.4, (0, 1, 0): 0.4, (0, 1, 1): 0.5, (0, 2, 0): 0.4, (0, 2, 1): 0.75, (1, 0, 0): 0.4, (1, 0, 1): 0.6, (1, 1, 0): 0.5, (1, 1, 1): 0.65, (1, 2, 0): 0.4, (1, 2, 1): 0.45, (2, 0, 0): 0.45, (2, 0, 1): 0.65, (2, 1, 0): 0.45, (2, 1, 1): 0.65, (2, 2, 0): 0.55, (2, 2, 1): 0.65, (3, 0, 0): 0.65, (3, 0, 1): 0.6, (3, 1, 0): 0.5, (3, 1, 1): 0.7, (3, 2, 0): 0.65, (3, 2, 1): 0.75, (4, 0, 0): 0.55, (4, 0, 1): 0.55, (4, 1, 0): 0.75, (4, 1, 1): 0.75, (4, 2, 0): 0.65, (4, 2, 1): 0.85}\n"
     ]
    }
   ],
   "source": [
    "# Design of experiment\n",
    "#ns = [100, 200, 400, 600, 800, 1200, 1600, 2400, 2800, 3200, 4000, 4800, 10000]\n",
    "ns = [50, 100, 200, 400, 600]\n",
    "cpucts = [4, 1, 0.2, 0.1]\n",
    "useQs = [False, True]\n",
    "ws = dict()\n",
    "\n",
    "for i, n in enumerate(ns):\n",
    "    for j, cpuct in enumerate(cpucts):\n",
    "        for k, useQ in enumerate(useQs):\n",
    "            winrate = pit(MultiMCTS(nparallel=20, nsearches=n, net=net, params={'cpuct': cpuct, 'useQ': useQ}),\n",
    "                          MiniMax(maxdepth=depthminimax), n=20, nrnd=2, frame=frame, verbose=1)\n",
    "            ws[i, j, k] = winrate\n",
    "            print(ws)"
   ]
  },
  {
   "cell_type": "code",
   "execution_count": null,
   "metadata": {},
   "outputs": [],
   "source": []
  },
  {
   "cell_type": "code",
   "execution_count": 34,
   "metadata": {},
   "outputs": [
    {
     "data": {
      "image/png": "[encoded data removed]",
      "text/plain": [
       "<Figure size 432x288 with 1 Axes>"
      ]
     },
     "metadata": {
      "needs_background": "light"
     },
     "output_type": "display_data"
    },
    {
     "data": {
      "image/png": "[encoded data removed]",
      "text/plain": [
       "<Figure size 432x288 with 1 Axes>"
      ]
     },
     "metadata": {
      "needs_background": "light"
     },
     "output_type": "display_data"
    },
    {
     "data": {
      "text/plain": [
       "Text(0, 0.5, 'wr')"
      ]
     },
     "execution_count": 34,
     "metadata": {},
     "output_type": "execute_result"
    },
    {
     "data": {
      "image/png": "[encoded data removed]",
      "text/plain": [
       "<Figure size 432x288 with 1 Axes>"
      ]
     },
     "metadata": {
      "needs_background": "light"
     },
     "output_type": "display_data"
    }
   ],
   "source": [
    "warr = np.zeros((len(ns), len(cpucts), len(useQs)))\n",
    "for i, j, k in ws.keys():\n",
    "    warr[i,j,k] = ws[i,j,k]\n",
    "\n",
    "    \n",
    "plt.errorbar(ns, warr.mean((1,2)), warr.std((1,2)))\n",
    "plt.xlabel('n')\n",
    "plt.ylabel('wr')\n",
    "plt.show()\n",
    "    \n",
    "plt.errorbar(cpucts, warr.mean((0,2)), warr.std((0,2)))\n",
    "plt.xlabel('cpuct')\n",
    "plt.ylabel('wr')\n",
    "plt.show()\n",
    "    \n",
    "plt.errorbar([0,1], warr.mean((0,1)), warr.std((0,1)))\n",
    "plt.xlabel('useQ')\n",
    "plt.ylabel('wr')"
   ]
  },
  {
   "cell_type": "code",
   "execution_count": 47,
   "metadata": {},
   "outputs": [
    {
     "data": {
      "text/plain": [
       "array([ 0.00039223, -0.02272182,  0.12333333])"
      ]
     },
     "execution_count": 47,
     "metadata": {},
     "output_type": "execute_result"
    }
   ],
   "source": [
    "from sklearn import linear_model\n",
    "md = linear_model.LinearRegression()\n",
    "md.fit([(n, cpuct, useQ) for n in ns for cpuct in cpucts for useQ in useQs], warr.flatten())\n",
    "md.coef_"
   ]
  },
  {
   "cell_type": "code",
   "execution_count": null,
   "metadata": {},
   "outputs": [],
   "source": []
  },
  {
   "cell_type": "code",
   "execution_count": null,
   "metadata": {},
   "outputs": [],
   "source": []
  },
  {
   "cell_type": "code",
   "execution_count": 23,
   "metadata": {},
   "outputs": [
    {
     "name": "stdout",
     "output_type": "stream",
     "text": [
      "1 1\n",
      "2 2\n",
      "3 3\n",
      "4 4\n",
      "5 5\n",
      "5 6\n",
      "6 7\n",
      "6 8\n",
      "7 9\n",
      "7 10\n",
      "7 11\n",
      "8 12\n",
      "8 13\n",
      "9 14\n",
      "9 15\n",
      "10 16\n",
      "10 17\n",
      "11 18\n",
      "12 19\n",
      "12 20\n",
      "0.6\n"
     ]
    }
   ],
   "source": [
    "#  300  0.45\n",
    "#  800  0.65\n",
    "# 1200  0.65\n",
    "# 1600  0.6\n",
    "# 2400  0.75\n",
    "# 2800  0.75\n",
    "# 3200  0.8\n",
    "# 3600  0.6\n",
    "# 4000  0.75\n",
    "# 4400  0.6\n",
    "# 4800  0.8\n",
    "\n",
    "winrate = pit(MultiMCTS(nparallel=20, nsearches=4400, net=net), MiniMax(maxdepth=depthminimax), n=20, nrnd=2, frame=frame, verbose=1)\n",
    "print(winrate)"
   ]
  },
  {
   "cell_type": "code",
   "execution_count": 24,
   "metadata": {},
   "outputs": [
    {
     "data": {
      "text/plain": [
       "[<matplotlib.lines.Line2D at 0x243fbe4e4c8>]"
      ]
     },
     "execution_count": 24,
     "metadata": {},
     "output_type": "execute_result"
    },
    {
     "data": {
      "image/png": "[encoded data removed]",
      "text/plain": [
       "<Figure size 432x288 with 1 Axes>"
      ]
     },
     "metadata": {
      "needs_background": "light"
     },
     "output_type": "display_data"
    }
   ],
   "source": [
    "plt.plot([100, 300, 800, 1200, 1600, 2400, 2800, 3200, 3600, 4000, 4400, 4800], [0.55, 0.45, 0.65, 0.65, 0.6, 0.75, 0.75, 0.8, 0.6, 0.75, 0.6, 0.8])"
   ]
  },
  {
   "cell_type": "code",
   "execution_count": 32,
   "metadata": {
    "ExecuteTime": {
     "end_time": "2023-10-16T21:05:42.267525Z",
     "start_time": "2023-10-16T21:04:32.464558Z"
    }
   },
   "outputs": [
    {
     "name": "stdout",
     "output_type": "stream",
     "text": [
      "0 1\n",
      "1 2\n",
      "2 3\n",
      "2 4\n",
      "3 5\n",
      "3 6\n",
      "3 7\n",
      "3 8\n",
      "4 9\n",
      "4 10\n",
      "5 11\n",
      "5 12\n",
      "6 13\n",
      "6 14\n",
      "7 15\n",
      "7 16\n",
      "7 17\n",
      "8 18\n",
      "8 19\n",
      "9 20\n",
      "9 21\n",
      "10 22\n",
      "10 23\n",
      "11 24\n",
      "11 25\n",
      "11 26\n",
      "11 27\n",
      "11 28\n",
      "12 29\n",
      "13 30\n",
      "14 31\n",
      "14 32\n",
      "15 33\n",
      "16 34\n",
      "16 35\n",
      "17 36\n",
      "17 37\n",
      "17 38\n",
      "18 39\n",
      "18 40\n",
      "19 41\n",
      "19 42\n",
      "20 43\n",
      "20 44\n",
      "21 45\n",
      "21 46\n",
      "22 47\n",
      "22 48\n",
      "22 49\n",
      "22 50\n"
     ]
    },
    {
     "data": {
      "text/plain": [
       "0.44"
      ]
     },
     "execution_count": 32,
     "metadata": {},
     "output_type": "execute_result"
    }
   ],
   "source": [
    "pit(MultiMCTS(nparallel=20, nsearches=300, net=NetAdaptive('net_temp.dat'), params={'useQ':True,'cpuct':0.2}),\n",
    "    MultiMCTS(nparallel=20, nsearches=300, net=NetAdaptive('net_depth3.dat'), params={'useQ':True,'cpuct':0.2}),\n",
    "            n=50, nrnd=2, frame=1, verbose=1)"
   ]
  },
  {
   "cell_type": "code",
   "execution_count": 9,
   "metadata": {
    "ExecuteTime": {
     "end_time": "2023-10-16T19:47:48.104242Z",
     "start_time": "2023-10-16T19:47:47.951335Z"
    }
   },
   "outputs": [
    {
     "data": {
      "text/plain": [
       "0.8200000000000001"
      ]
     },
     "execution_count": 9,
     "metadata": {},
     "output_type": "execute_result"
    }
   ],
   "source": [
    "# neu: 0.82\n",
    "# alt: 0.78"
   ]
  },
  {
   "cell_type": "code",
   "execution_count": 47,
   "metadata": {
    "ExecuteTime": {
     "end_time": "2023-10-16T21:45:34.131417Z",
     "start_time": "2023-10-16T21:45:16.951496Z"
    }
   },
   "outputs": [
    {
     "name": "stdout",
     "output_type": "stream",
     "text": [
      "1 1\n",
      "2 2\n",
      "3 3\n",
      "4 4\n",
      "5 5\n",
      "6 6\n",
      "7 7\n",
      "8 8\n",
      "9 9\n"
     ]
    },
    {
     "ename": "KeyboardInterrupt",
     "evalue": "",
     "output_type": "error",
     "traceback": [
      "\u001b[1;31m---------------------------------------------------------------------------\u001b[0m",
      "\u001b[1;31mKeyboardInterrupt\u001b[0m                         Traceback (most recent call last)",
      "\u001b[1;32m<ipython-input-47-335e5fa11274>\u001b[0m in \u001b[0;36m<module>\u001b[1;34m\u001b[0m\n\u001b[0;32m      1\u001b[0m pit(MultiMCTS(nparallel=20, nsearches=300, net=net2, params={'useQ':True,'cpuct':0.2}),\n\u001b[0;32m      2\u001b[0m     \u001b[0mMultiMCTS\u001b[0m\u001b[1;33m(\u001b[0m\u001b[0mnparallel\u001b[0m\u001b[1;33m=\u001b[0m\u001b[1;36m20\u001b[0m\u001b[1;33m,\u001b[0m \u001b[0mnsearches\u001b[0m\u001b[1;33m=\u001b[0m\u001b[1;36m300\u001b[0m\u001b[1;33m,\u001b[0m \u001b[0mnet\u001b[0m\u001b[1;33m=\u001b[0m\u001b[0mNet\u001b[0m\u001b[1;33m(\u001b[0m\u001b[1;33m)\u001b[0m\u001b[1;33m,\u001b[0m  \u001b[0mparams\u001b[0m\u001b[1;33m=\u001b[0m\u001b[1;33m{\u001b[0m\u001b[1;34m'useQ'\u001b[0m\u001b[1;33m:\u001b[0m\u001b[1;32mTrue\u001b[0m\u001b[1;33m,\u001b[0m\u001b[1;34m'cpuct'\u001b[0m\u001b[1;33m:\u001b[0m\u001b[1;36m0.2\u001b[0m\u001b[1;33m}\u001b[0m\u001b[1;33m)\u001b[0m\u001b[1;33m,\u001b[0m\u001b[1;33m\u001b[0m\u001b[1;33m\u001b[0m\u001b[0m\n\u001b[1;32m----> 3\u001b[1;33m             n=50, nrnd=2, frame=1, verbose=1)\n\u001b[0m",
      "\u001b[1;32mD:\\Anaconda-Python-3.7\\isola\\isola_selfplay.py\u001b[0m in \u001b[0;36mpit\u001b[1;34m(ai1, ai2, n, nrnd, frame, verbose)\u001b[0m\n\u001b[0;32m    152\u001b[0m             \u001b[1;32mif\u001b[0m \u001b[0ms\u001b[0m\u001b[1;33m.\u001b[0m\u001b[0mturn\u001b[0m\u001b[1;33m>\u001b[0m\u001b[1;36m0\u001b[0m\u001b[1;33m:\u001b[0m\u001b[1;33m\u001b[0m\u001b[1;33m\u001b[0m\u001b[0m\n\u001b[0;32m    153\u001b[0m                 \u001b[1;31m#'Reds turn'\u001b[0m\u001b[1;33m\u001b[0m\u001b[1;33m\u001b[0m\u001b[1;33m\u001b[0m\u001b[0m\n\u001b[1;32m--> 154\u001b[1;33m                 \u001b[0ma\u001b[0m \u001b[1;33m=\u001b[0m \u001b[0mai_red\u001b[0m\u001b[1;33m.\u001b[0m\u001b[0mfindmove\u001b[0m\u001b[1;33m(\u001b[0m\u001b[0ms\u001b[0m\u001b[1;33m)\u001b[0m\u001b[1;33m\u001b[0m\u001b[1;33m\u001b[0m\u001b[0m\n\u001b[0m\u001b[0;32m    155\u001b[0m \u001b[1;33m\u001b[0m\u001b[0m\n\u001b[0;32m    156\u001b[0m             \u001b[1;32melse\u001b[0m\u001b[1;33m:\u001b[0m\u001b[1;33m\u001b[0m\u001b[1;33m\u001b[0m\u001b[0m\n",
      "\u001b[1;32mD:\\Anaconda-Python-3.7\\isola\\isola_mcts.py\u001b[0m in \u001b[0;36mfindmove\u001b[1;34m(self, state, tau, verbose)\u001b[0m\n\u001b[0;32m    292\u001b[0m         '''\n\u001b[0;32m    293\u001b[0m         \u001b[1;31m# (1) Do the MC Tree Searches\u001b[0m\u001b[1;33m\u001b[0m\u001b[1;33m\u001b[0m\u001b[1;33m\u001b[0m\u001b[0m\n\u001b[1;32m--> 294\u001b[1;33m         \u001b[0mself\u001b[0m\u001b[1;33m.\u001b[0m\u001b[0mperform_rollouts\u001b[0m\u001b[1;33m(\u001b[0m\u001b[0mstate\u001b[0m\u001b[1;33m,\u001b[0m \u001b[0mverbose\u001b[0m\u001b[1;33m)\u001b[0m\u001b[1;33m\u001b[0m\u001b[1;33m\u001b[0m\u001b[0m\n\u001b[0m\u001b[0;32m    295\u001b[0m \u001b[1;33m\u001b[0m\u001b[0m\n\u001b[0;32m    296\u001b[0m         \u001b[1;31m# (2) Find the best move\u001b[0m\u001b[1;33m\u001b[0m\u001b[1;33m\u001b[0m\u001b[1;33m\u001b[0m\u001b[0m\n",
      "\u001b[1;32mD:\\Anaconda-Python-3.7\\isola\\isola_mcts.py\u001b[0m in \u001b[0;36mperform_rollouts\u001b[1;34m(self, state, verbose)\u001b[0m\n\u001b[0;32m    752\u001b[0m             \u001b[1;32mfor\u001b[0m \u001b[0mk\u001b[0m \u001b[1;32min\u001b[0m \u001b[0mrange\u001b[0m\u001b[1;33m(\u001b[0m\u001b[0mself\u001b[0m\u001b[1;33m.\u001b[0m\u001b[0mnparallel\u001b[0m\u001b[1;33m)\u001b[0m\u001b[1;33m:\u001b[0m\u001b[1;33m\u001b[0m\u001b[1;33m\u001b[0m\u001b[0m\n\u001b[0;32m    753\u001b[0m                 \u001b[0mself\u001b[0m\u001b[1;33m.\u001b[0m\u001b[0mactivate_worker\u001b[0m\u001b[1;33m(\u001b[0m\u001b[0mk\u001b[0m\u001b[1;33m)\u001b[0m\u001b[1;33m\u001b[0m\u001b[1;33m\u001b[0m\u001b[0m\n\u001b[1;32m--> 754\u001b[1;33m                 \u001b[0mself\u001b[0m\u001b[1;33m.\u001b[0m\u001b[0msearch_down\u001b[0m\u001b[1;33m(\u001b[0m\u001b[0mstate\u001b[0m\u001b[1;33m)\u001b[0m\u001b[1;33m\u001b[0m\u001b[1;33m\u001b[0m\u001b[0m\n\u001b[0m\u001b[0;32m    755\u001b[0m                 \u001b[0mself\u001b[0m\u001b[1;33m.\u001b[0m\u001b[0mdeactivate_worker\u001b[0m\u001b[1;33m(\u001b[0m\u001b[0mk\u001b[0m\u001b[1;33m)\u001b[0m\u001b[1;33m\u001b[0m\u001b[1;33m\u001b[0m\u001b[0m\n\u001b[0;32m    756\u001b[0m \u001b[1;33m\u001b[0m\u001b[0m\n",
      "\u001b[1;32mD:\\Anaconda-Python-3.7\\isola\\isola_mcts.py\u001b[0m in \u001b[0;36msearch_down\u001b[1;34m(self, state)\u001b[0m\n\u001b[0;32m    608\u001b[0m \u001b[1;33m\u001b[0m\u001b[0m\n\u001b[0;32m    609\u001b[0m             \u001b[1;31m# the famous cpuct formula expanded by one term\u001b[0m\u001b[1;33m\u001b[0m\u001b[1;33m\u001b[0m\u001b[1;33m\u001b[0m\u001b[0m\n\u001b[1;32m--> 610\u001b[1;33m             \u001b[0mUlist\u001b[0m \u001b[1;33m=\u001b[0m \u001b[0mQa\u001b[0m \u001b[1;33m+\u001b[0m \u001b[0mself\u001b[0m\u001b[1;33m.\u001b[0m\u001b[0mcpuct\u001b[0m \u001b[1;33m*\u001b[0m \u001b[0mp\u001b[0m \u001b[1;33m*\u001b[0m \u001b[1;33m(\u001b[0m\u001b[0msqrt_Ns\u001b[0m \u001b[1;33m+\u001b[0m \u001b[1;36m1e-8\u001b[0m\u001b[1;33m)\u001b[0m \u001b[1;33m/\u001b[0m \u001b[1;33m(\u001b[0m\u001b[0mNa\u001b[0m \u001b[1;33m+\u001b[0m \u001b[1;36m1\u001b[0m\u001b[1;33m)\u001b[0m \u001b[1;33m+\u001b[0m \u001b[0mself\u001b[0m\u001b[1;33m.\u001b[0m\u001b[0mcuncert\u001b[0m \u001b[1;33m*\u001b[0m \u001b[0mstdWa\u001b[0m\u001b[1;33m\u001b[0m\u001b[1;33m\u001b[0m\u001b[0m\n\u001b[0m\u001b[0;32m    611\u001b[0m \u001b[1;33m\u001b[0m\u001b[0m\n\u001b[0;32m    612\u001b[0m \u001b[1;33m\u001b[0m\u001b[0m\n",
      "\u001b[1;31mKeyboardInterrupt\u001b[0m: "
     ]
    }
   ],
   "source": [
    "pit(MultiMCTS(nparallel=20, nsearches=300, net=net2, params={'useQ':True,'cpuct':0.2}),\n",
    "    MultiMCTS(nparallel=20, nsearches=300, net=Net(),  params={'useQ':True,'cpuct':0.2}),\n",
    "            n=50, nrnd=2, frame=1, verbose=1)"
   ]
  },
  {
   "cell_type": "code",
   "execution_count": null,
   "metadata": {},
   "outputs": [],
   "source": []
  },
  {
   "cell_type": "code",
   "execution_count": 36,
   "metadata": {
    "ExecuteTime": {
     "end_time": "2023-10-24T09:08:03.845976Z",
     "start_time": "2023-10-24T09:08:03.667591Z"
    }
   },
   "outputs": [],
   "source": [
    "\n",
    "# Batch generator for neural network training\n",
    "\n",
    "\n",
    "\n",
    "\n",
    "\n",
    "def batchgen(gamerecords, size=50, istart=0, iend=0, augment=True, verbose=None):\n",
    "    '''size: minibatchsize\n",
    "    istart, iend: Start- und Endindex der herausgegebenen Samples\n",
    "    verbose: Wenn überschrieben, dann mit einem String des Batchgen Namens (z. B. Supervised)'''\n",
    "    ep = 0\n",
    "    if not iend: iend = len(gamerecords)\n",
    "    while True:\n",
    "        ilist = range(istart, iend)\n",
    "        ilist = np.random.permutation(ilist)\n",
    "        minibatches = [ ilist[k*size:(k+1)*size] for k in range(len(ilist)//size) ]\n",
    "        for mb in minibatches:\n",
    "            xs = np.zeros((size, SX, SY, 3))\n",
    "            ps = np.zeros((size, SX, SY, 1))\n",
    "            vs = np.zeros((size, 1))\n",
    "            for i, k in enumerate(mb):\n",
    "                s, a, r = gamerecords[k]\n",
    "                s = s.copy()\n",
    "                \n",
    "                rnd = np.random.rand\n",
    "                if rnd()<.5:\n",
    "                    s = GameClass.mirrorx_state(s)\n",
    "                    a = GameClass.mirrorx_action(a)\n",
    "                if rnd()<.5:\n",
    "                    s = GameClass.mirrory_state(s)\n",
    "                    a = GameClass.mirrorx_action(a)\n",
    "                if rnd()<.5:\n",
    "                    s = GameClass.mirror_transpose_state(s)\n",
    "                    a = GameClass.mirror_transpose_action(a)\n",
    "                    \n",
    "                xs[i] = encode_x(s.sea, s.det)\n",
    "                ps[i, a] = 1.\n",
    "                vs[i] = r\n",
    "                    \n",
    "            yield xs, ps, vs\n",
    "        if verbose:\n",
    "            print(f'{verbose}: finished one epoch ({ep})!')\n",
    "        ep += 1\n",
    "         \n",
    "        \n",
    "        \n",
    "        \n",
    "\n",
    "def train(net, gamerecords, gamerecords_legacy=None, iterations=4000, verbose=0):\n",
    "    '''Trainiert das Netz'''\n",
    "\n",
    "    try: net.optimizer\n",
    "    except:\n",
    "        net.optimizer = torch.optim.Adam(lr=3e-4, params=net.parameters(), weight_decay=0e-4)\n",
    "    optimizer = net.optimizer\n",
    "    bg_v = batchgen(gamerecords, iend=500, size=500)\n",
    "    bg_s = batchgen(gamerecords, istart=500, size=200, verbose='supervised')\n",
    "    #bg_u = batchgen(gamerecords_legacy, size=400)\n",
    "    celoss = nn.CrossEntropyLoss()\n",
    "    MSE = nn.MSELoss()\n",
    "    L1Loss = nn.L1Loss()\n",
    "    LogLoss = lambda yp, yt: torch.mean(torch.sum(-yt*torch.log(yp+1e-12), dim=1))\n",
    "    losses1 = []\n",
    "    losses2 = []\n",
    "    ###semlosses = []\n",
    "    ###mtlosses = []\n",
    "\n",
    "\n",
    "    def valloss():\n",
    "        x, tp, tv = next(bg_v)\n",
    "        x, tp, tv = np2t(x, tp, tv)\n",
    "        pp, pv = net(x)\n",
    "\n",
    "        loss1 = LogLoss(pp, tp)\n",
    "        loss2 = 100*MSE(pv[:,0], tv[:,0])\n",
    "        return loss1.item(), loss2.item()\n",
    "\n",
    "    \n",
    "    for k in trange(iterations):\n",
    "        x, tp, tv = next(bg_s)\n",
    "        x, tp, tv = np2t(x, tp, tv)\n",
    "        pp, pv = net(x)\n",
    "        #tp = tp.type(torch.long)\n",
    "\n",
    "        loss1 = LogLoss(pp, tp)\n",
    "        loss2 = 100*MSE(pv[:,0], tv[:,0])\n",
    "        loss = loss1 + loss2\n",
    "        loss.backward()\n",
    "\n",
    "        # do the training step on the network\n",
    "        optimizer.step()\n",
    "        optimizer.zero_grad()\n",
    "\n",
    "        # Statistic\n",
    "        losses1 += [loss1.item()]\n",
    "        losses2 += [loss2.item()]\n",
    "\n",
    "        # Verbose output, measure minimum val loss\n",
    "        if len(losses1) == 100:\n",
    "            vloss1, vloss2 = valloss()\n",
    "            if verbose>=1:\n",
    "                print('Loss1=%f, Loss12=%f, ValLoss1=%f, ValLoss2=%f'% (np.mean(losses1), np.mean(losses2), vloss1, vloss2))\n",
    "            losses1, losses2 = [], []\n",
    "            \n",
    "    return net"
   ]
  },
  {
   "cell_type": "code",
   "execution_count": 41,
   "metadata": {
    "ExecuteTime": {
     "end_time": "2023-10-24T11:39:15.773237Z",
     "start_time": "2023-10-24T09:12:08.679049Z"
    }
   },
   "outputs": [
    {
     "data": {
      "application/vnd.jupyter.widget-view+json": {
       "model_id": "85a38d9f75014f6a96e1e495ec5b4d5b",
       "version_major": 2,
       "version_minor": 0
      },
      "text/plain": [
       "  0%|          | 0/40000 [00:00<?, ?it/s]"
      ]
     },
     "metadata": {},
     "output_type": "display_data"
    },
    {
     "name": "stdout",
     "output_type": "stream",
     "text": [
      "Loss1=8.767430, Loss12=5.025565, ValLoss1=8.806741, ValLoss2=0.158186\n",
      "Loss1=8.755844, Loss12=0.120487, ValLoss1=8.805899, ValLoss2=0.154036\n",
      "Loss1=8.746100, Loss12=0.113613, ValLoss1=8.796365, ValLoss2=0.143642\n",
      "Loss1=8.744250, Loss12=0.108822, ValLoss1=8.759356, ValLoss2=0.144971\n",
      "Loss1=8.749644, Loss12=0.104961, ValLoss1=8.731627, ValLoss2=0.140736\n",
      "Loss1=8.759925, Loss12=0.113140, ValLoss1=8.823671, ValLoss2=0.182018\n",
      "Loss1=8.733390, Loss12=0.103275, ValLoss1=8.842050, ValLoss2=0.145089\n",
      "Loss1=8.755458, Loss12=0.102693, ValLoss1=8.786756, ValLoss2=0.135412\n",
      "Loss1=8.772931, Loss12=0.100614, ValLoss1=8.805155, ValLoss2=0.148131\n",
      "Loss1=8.757024, Loss12=0.101777, ValLoss1=8.740667, ValLoss2=0.146493\n",
      "Loss1=8.763917, Loss12=0.102073, ValLoss1=8.851178, ValLoss2=0.133322\n",
      "Loss1=8.755617, Loss12=0.101920, ValLoss1=8.722224, ValLoss2=0.194886\n",
      "Loss1=8.753306, Loss12=0.104590, ValLoss1=8.722218, ValLoss2=0.188637\n",
      "Loss1=8.739715, Loss12=0.099554, ValLoss1=8.786685, ValLoss2=0.141630\n",
      "Loss1=8.762045, Loss12=0.100726, ValLoss1=8.786680, ValLoss2=0.159175\n",
      "supervised: finished one epoch (0)!\n",
      "Loss1=8.759047, Loss12=0.095208, ValLoss1=8.897201, ValLoss2=0.134825\n",
      "Loss1=8.745920, Loss12=0.093150, ValLoss1=8.749832, ValLoss2=0.143551\n",
      "Loss1=8.765950, Loss12=0.097081, ValLoss1=8.832724, ValLoss2=0.138705\n",
      "Loss1=8.749600, Loss12=0.096499, ValLoss1=8.841932, ValLoss2=0.144143\n",
      "Loss1=8.755124, Loss12=0.097890, ValLoss1=8.823510, ValLoss2=0.140965\n",
      "Loss1=8.739926, Loss12=0.094598, ValLoss1=8.759037, ValLoss2=0.140864\n",
      "Loss1=8.775385, Loss12=0.099693, ValLoss1=8.786667, ValLoss2=0.155017\n",
      "Loss1=8.752589, Loss12=0.094344, ValLoss1=8.786666, ValLoss2=0.144908\n",
      "Loss1=8.757423, Loss12=0.096700, ValLoss1=8.759035, ValLoss2=0.145653\n",
      "Loss1=8.761107, Loss12=0.093551, ValLoss1=8.869558, ValLoss2=0.153489\n",
      "Loss1=8.769166, Loss12=0.102976, ValLoss1=8.851137, ValLoss2=0.162415\n",
      "Loss1=8.758804, Loss12=0.094780, ValLoss1=8.786665, ValLoss2=0.144511\n",
      "Loss1=8.746830, Loss12=0.093895, ValLoss1=8.832716, ValLoss2=0.142368\n",
      "Loss1=8.760185, Loss12=0.093231, ValLoss1=8.823506, ValLoss2=0.160711\n",
      "Loss1=8.767323, Loss12=0.091968, ValLoss1=8.777454, ValLoss2=0.137903\n",
      "Loss1=8.750054, Loss12=0.093989, ValLoss1=8.924820, ValLoss2=0.179082\n",
      "supervised: finished one epoch (1)!\n",
      "Loss1=8.742455, Loss12=0.090116, ValLoss1=8.795875, ValLoss2=0.142922\n",
      "Loss1=8.756731, Loss12=0.090135, ValLoss1=8.777454, ValLoss2=0.144994\n",
      "Loss1=8.748672, Loss12=0.089714, ValLoss1=8.805085, ValLoss2=0.137715\n",
      "Loss1=8.763178, Loss12=0.089368, ValLoss1=8.832716, ValLoss2=0.137162\n",
      "Loss1=8.748672, Loss12=0.093166, ValLoss1=8.860348, ValLoss2=0.134570\n",
      "Loss1=8.747981, Loss12=0.088848, ValLoss1=8.740613, ValLoss2=0.136001\n",
      "Loss1=8.756040, Loss12=0.089858, ValLoss1=8.832716, ValLoss2=0.141426\n",
      "Loss1=8.749363, Loss12=0.086914, ValLoss1=8.805085, ValLoss2=0.136784\n",
      "Loss1=8.759034, Loss12=0.089995, ValLoss1=8.786665, ValLoss2=0.141676\n",
      "Loss1=8.750744, Loss12=0.089574, ValLoss1=8.814296, ValLoss2=0.125661\n",
      "Loss1=8.753507, Loss12=0.087414, ValLoss1=8.740613, ValLoss2=0.159664\n",
      "Loss1=8.758573, Loss12=0.088652, ValLoss1=8.759033, ValLoss2=0.139113\n",
      "Loss1=8.757882, Loss12=0.087250, ValLoss1=8.759033, ValLoss2=0.134375\n",
      "Loss1=8.754659, Loss12=0.088989, ValLoss1=8.841927, ValLoss2=0.154766\n",
      "Loss1=8.757882, Loss12=0.087117, ValLoss1=8.832716, ValLoss2=0.158642\n",
      "Loss1=8.754198, Loss12=0.085279, ValLoss1=8.777453, ValLoss2=0.140941\n",
      "supervised: finished one epoch (2)!\n",
      "Loss1=8.766632, Loss12=0.084607, ValLoss1=8.759033, ValLoss2=0.176595\n",
      "Loss1=8.746830, Loss12=0.084904, ValLoss1=8.777453, ValLoss2=0.133431\n",
      "Loss1=8.755810, Loss12=0.082317, ValLoss1=8.841928, ValLoss2=0.135666\n",
      "Loss1=8.759955, Loss12=0.082179, ValLoss1=8.814296, ValLoss2=0.146979\n",
      "Loss1=8.763409, Loss12=0.082580, ValLoss1=8.878769, ValLoss2=0.161768\n",
      "Loss1=8.768244, Loss12=0.080494, ValLoss1=8.851137, ValLoss2=0.131303\n",
      "Loss1=8.761797, Loss12=0.083581, ValLoss1=8.759033, ValLoss2=0.171049\n",
      "Loss1=8.742225, Loss12=0.085618, ValLoss1=8.805085, ValLoss2=0.146404\n",
      "Loss1=8.753047, Loss12=0.077622, ValLoss1=8.786665, ValLoss2=0.152951\n",
      "Loss1=8.760415, Loss12=0.079978, ValLoss1=8.749824, ValLoss2=0.147262\n",
      "Loss1=8.757192, Loss12=0.083075, ValLoss1=8.814297, ValLoss2=0.174300\n",
      "Loss1=8.751436, Loss12=0.080369, ValLoss1=8.841928, ValLoss2=0.133014\n",
      "Loss1=8.759725, Loss12=0.083611, ValLoss1=8.832716, ValLoss2=0.139083\n",
      "Loss1=8.740383, Loss12=0.076742, ValLoss1=8.860348, ValLoss2=0.163727\n",
      "Loss1=8.753968, Loss12=0.081312, ValLoss1=8.897189, ValLoss2=0.150574\n",
      "supervised: finished one epoch (3)!\n",
      "Loss1=8.767554, Loss12=0.078034, ValLoss1=8.832716, ValLoss2=0.141448\n",
      "Loss1=8.760646, Loss12=0.074262, ValLoss1=8.777454, ValLoss2=0.147601\n",
      "Loss1=8.776073, Loss12=0.075287, ValLoss1=8.768245, ValLoss2=0.145044\n",
      "Loss1=8.762027, Loss12=0.072677, ValLoss1=8.759033, ValLoss2=0.162151\n",
      "Loss1=8.747751, Loss12=0.076286, ValLoss1=8.722192, ValLoss2=0.138533\n",
      "Loss1=8.759264, Loss12=0.078410, ValLoss1=8.749825, ValLoss2=0.168802\n",
      "Loss1=8.749594, Loss12=0.073195, ValLoss1=8.823507, ValLoss2=0.141523\n",
      "Loss1=8.752126, Loss12=0.070759, ValLoss1=8.786665, ValLoss2=0.140722\n",
      "Loss1=8.768705, Loss12=0.076250, ValLoss1=8.731402, ValLoss2=0.151358\n",
      "Loss1=8.760415, Loss12=0.072420, ValLoss1=8.841928, ValLoss2=0.161200\n",
      "Loss1=8.752587, Loss12=0.073881, ValLoss1=8.832717, ValLoss2=0.171397\n",
      "Loss1=8.757653, Loss12=0.077145, ValLoss1=8.823507, ValLoss2=0.148742\n",
      "Loss1=8.760416, Loss12=0.072676, ValLoss1=8.768245, ValLoss2=0.121820\n",
      "Loss1=8.736468, Loss12=0.073989, ValLoss1=8.878768, ValLoss2=0.153751\n",
      "Loss1=8.748902, Loss12=0.070361, ValLoss1=8.795877, ValLoss2=0.147679\n",
      "Loss1=8.746140, Loss12=0.072264, ValLoss1=8.749825, ValLoss2=0.162875\n",
      "supervised: finished one epoch (4)!\n",
      "Loss1=8.739693, Loss12=0.071021, ValLoss1=8.805086, ValLoss2=0.135313\n",
      "Loss1=8.769165, Loss12=0.070436, ValLoss1=8.832716, ValLoss2=0.167455\n",
      "Loss1=8.762488, Loss12=0.070110, ValLoss1=8.795877, ValLoss2=0.131496\n",
      "Loss1=8.768935, Loss12=0.066691, ValLoss1=8.749823, ValLoss2=0.153541\n",
      "Loss1=8.748902, Loss12=0.065439, ValLoss1=8.860348, ValLoss2=0.143442\n",
      "Loss1=8.764100, Loss12=0.071166, ValLoss1=8.740614, ValLoss2=0.163652\n",
      "Loss1=8.742225, Loss12=0.065229, ValLoss1=8.768244, ValLoss2=0.137990\n",
      "Loss1=8.750284, Loss12=0.067440, ValLoss1=8.731402, ValLoss2=0.148381\n",
      "Loss1=8.756731, Loss12=0.067056, ValLoss1=8.777454, ValLoss2=0.142716\n",
      "Loss1=8.759955, Loss12=0.063264, ValLoss1=8.759033, ValLoss2=0.169833\n",
      "Loss1=8.753507, Loss12=0.066332, ValLoss1=8.768244, ValLoss2=0.183451\n",
      "Loss1=8.753047, Loss12=0.072082, ValLoss1=8.805086, ValLoss2=0.151191\n",
      "Loss1=8.751205, Loss12=0.065330, ValLoss1=8.823506, ValLoss2=0.170948\n",
      "Loss1=8.762257, Loss12=0.064183, ValLoss1=8.786665, ValLoss2=0.162207\n",
      "Loss1=8.742225, Loss12=0.062570, ValLoss1=8.768244, ValLoss2=0.149015\n",
      "Loss1=8.746600, Loss12=0.066425, ValLoss1=8.740614, ValLoss2=0.143112\n",
      "supervised: finished one epoch (5)!\n",
      "Loss1=8.771699, Loss12=0.063409, ValLoss1=8.749825, ValLoss2=0.182026\n",
      "Loss1=8.736700, Loss12=0.060323, ValLoss1=8.805086, ValLoss2=0.170149\n",
      "Loss1=8.753278, Loss12=0.058390, ValLoss1=8.878769, ValLoss2=0.143625\n",
      "Loss1=8.733936, Loss12=0.060617, ValLoss1=8.777455, ValLoss2=0.148686\n",
      "Loss1=8.747752, Loss12=0.059838, ValLoss1=8.768245, ValLoss2=0.154261\n",
      "Loss1=8.765251, Loss12=0.060744, ValLoss1=8.740613, ValLoss2=0.138179\n",
      "Loss1=8.758803, Loss12=0.061649, ValLoss1=8.832717, ValLoss2=0.156720\n",
      "Loss1=8.765252, Loss12=0.065840, ValLoss1=8.759034, ValLoss2=0.157109\n",
      "Loss1=8.747061, Loss12=0.057749, ValLoss1=8.768244, ValLoss2=0.144823\n",
      "Loss1=8.753277, Loss12=0.061023, ValLoss1=8.851137, ValLoss2=0.131834\n",
      "Loss1=8.778375, Loss12=0.057353, ValLoss1=8.712982, ValLoss2=0.144076\n",
      "Loss1=8.745679, Loss12=0.056235, ValLoss1=8.851137, ValLoss2=0.164982\n",
      "Loss1=8.761106, Loss12=0.057079, ValLoss1=8.814297, ValLoss2=0.154883\n",
      "Loss1=8.752817, Loss12=0.055677, ValLoss1=8.786665, ValLoss2=0.137600\n",
      "Loss1=8.748673, Loss12=0.056551, ValLoss1=8.878769, ValLoss2=0.158712\n",
      "supervised: finished one epoch (6)!\n",
      "Loss1=8.766633, Loss12=0.056508, ValLoss1=8.841928, ValLoss2=0.155075\n",
      "Loss1=8.752817, Loss12=0.054984, ValLoss1=8.768245, ValLoss2=0.151273\n",
      "Loss1=8.758113, Loss12=0.052047, ValLoss1=8.823506, ValLoss2=0.153233\n",
      "Loss1=8.765251, Loss12=0.051800, ValLoss1=8.832717, ValLoss2=0.137482\n",
      "Loss1=8.771928, Loss12=0.054732, ValLoss1=8.777454, ValLoss2=0.154182\n"
     ]
    },
    {
     "name": "stdout",
     "output_type": "stream",
     "text": [
      "Loss1=8.747060, Loss12=0.053791, ValLoss1=8.841926, ValLoss2=0.152130\n",
      "Loss1=8.764560, Loss12=0.053322, ValLoss1=8.832716, ValLoss2=0.166024\n",
      "Loss1=8.757191, Loss12=0.052398, ValLoss1=8.768245, ValLoss2=0.153209\n",
      "Loss1=8.742455, Loss12=0.052958, ValLoss1=8.841928, ValLoss2=0.165741\n",
      "Loss1=8.767783, Loss12=0.052242, ValLoss1=8.869558, ValLoss2=0.142994\n",
      "Loss1=8.779526, Loss12=0.056527, ValLoss1=8.777454, ValLoss2=0.175535\n",
      "Loss1=8.763408, Loss12=0.052823, ValLoss1=8.841928, ValLoss2=0.142722\n",
      "Loss1=8.737159, Loss12=0.055802, ValLoss1=8.823506, ValLoss2=0.175291\n",
      "Loss1=8.755349, Loss12=0.057643, ValLoss1=8.795875, ValLoss2=0.172945\n",
      "Loss1=8.752817, Loss12=0.050573, ValLoss1=8.777454, ValLoss2=0.181568\n",
      "Loss1=8.770086, Loss12=0.052936, ValLoss1=8.777454, ValLoss2=0.139648\n",
      "supervised: finished one epoch (7)!\n",
      "Loss1=8.746600, Loss12=0.049227, ValLoss1=8.795875, ValLoss2=0.154095\n",
      "Loss1=8.763869, Loss12=0.050685, ValLoss1=8.795876, ValLoss2=0.158564\n",
      "Loss1=8.741995, Loss12=0.046011, ValLoss1=8.814296, ValLoss2=0.176078\n",
      "Loss1=8.757192, Loss12=0.048996, ValLoss1=8.740614, ValLoss2=0.159635\n",
      "Loss1=8.765481, Loss12=0.050864, ValLoss1=8.759033, ValLoss2=0.158424\n",
      "Loss1=8.759034, Loss12=0.049307, ValLoss1=8.832717, ValLoss2=0.148865\n",
      "Loss1=8.756040, Loss12=0.047559, ValLoss1=8.777454, ValLoss2=0.167663\n",
      "Loss1=8.770086, Loss12=0.047351, ValLoss1=8.712982, ValLoss2=0.151509\n",
      "Loss1=8.765481, Loss12=0.047306, ValLoss1=8.860348, ValLoss2=0.179922\n",
      "Loss1=8.750744, Loss12=0.045956, ValLoss1=8.777454, ValLoss2=0.172152\n",
      "Loss1=8.741304, Loss12=0.045313, ValLoss1=8.860349, ValLoss2=0.152847\n",
      "Loss1=8.744759, Loss12=0.047118, ValLoss1=8.777455, ValLoss2=0.159806\n",
      "Loss1=8.758573, Loss12=0.049837, ValLoss1=8.795875, ValLoss2=0.141451\n",
      "Loss1=8.765711, Loss12=0.050112, ValLoss1=8.749825, ValLoss2=0.148674\n",
      "Loss1=8.750975, Loss12=0.045441, ValLoss1=8.777453, ValLoss2=0.157075\n",
      "Loss1=8.762257, Loss12=0.045640, ValLoss1=8.814296, ValLoss2=0.170759\n",
      "supervised: finished one epoch (8)!\n",
      "Loss1=8.759034, Loss12=0.046881, ValLoss1=8.749825, ValLoss2=0.156502\n",
      "Loss1=8.753278, Loss12=0.042676, ValLoss1=8.823506, ValLoss2=0.159996\n",
      "Loss1=8.754659, Loss12=0.042379, ValLoss1=8.814296, ValLoss2=0.168304\n",
      "Loss1=8.775382, Loss12=0.045994, ValLoss1=8.768244, ValLoss2=0.153860\n",
      "Loss1=8.759724, Loss12=0.044102, ValLoss1=8.805085, ValLoss2=0.151276\n",
      "Loss1=8.750514, Loss12=0.043022, ValLoss1=8.823506, ValLoss2=0.172075\n",
      "Loss1=8.762487, Loss12=0.044401, ValLoss1=8.795875, ValLoss2=0.161939\n",
      "Loss1=8.756961, Loss12=0.042659, ValLoss1=8.823506, ValLoss2=0.155347\n",
      "Loss1=8.754199, Loss12=0.043307, ValLoss1=8.814298, ValLoss2=0.153989\n",
      "Loss1=8.758804, Loss12=0.041319, ValLoss1=8.777454, ValLoss2=0.160297\n",
      "Loss1=8.757882, Loss12=0.042256, ValLoss1=8.814296, ValLoss2=0.145276\n",
      "Loss1=8.763409, Loss12=0.042356, ValLoss1=8.786665, ValLoss2=0.153498\n",
      "Loss1=8.750521, Loss12=0.578916, ValLoss1=8.731402, ValLoss2=0.152202\n",
      "Loss1=8.746139, Loss12=0.098318, ValLoss1=8.759035, ValLoss2=0.145692\n",
      "Loss1=8.739693, Loss12=0.094255, ValLoss1=8.869558, ValLoss2=0.145582\n",
      "Loss1=8.750055, Loss12=0.090608, ValLoss1=8.777454, ValLoss2=0.160480\n",
      "supervised: finished one epoch (9)!\n",
      "Loss1=8.760186, Loss12=0.089387, ValLoss1=8.768245, ValLoss2=0.143486\n",
      "Loss1=8.750745, Loss12=0.090605, ValLoss1=8.749825, ValLoss2=0.145743\n",
      "Loss1=8.743838, Loss12=0.084931, ValLoss1=8.786665, ValLoss2=0.154415\n",
      "Loss1=8.735778, Loss12=0.082378, ValLoss1=8.795877, ValLoss2=0.230461\n",
      "Loss1=8.744067, Loss12=0.083129, ValLoss1=8.759033, ValLoss2=0.137693\n",
      "Loss1=8.742685, Loss12=0.083205, ValLoss1=8.786664, ValLoss2=0.144315\n",
      "Loss1=8.750975, Loss12=0.075258, ValLoss1=8.795877, ValLoss2=0.151790\n",
      "Loss1=8.760647, Loss12=0.073290, ValLoss1=8.722194, ValLoss2=0.144926\n",
      "Loss1=8.765252, Loss12=0.075485, ValLoss1=8.832717, ValLoss2=0.150184\n",
      "Loss1=8.755811, Loss12=0.073319, ValLoss1=8.841928, ValLoss2=0.139101\n",
      "Loss1=8.765712, Loss12=0.071228, ValLoss1=8.795877, ValLoss2=0.135030\n",
      "Loss1=8.773771, Loss12=0.067597, ValLoss1=8.878769, ValLoss2=0.149094\n",
      "Loss1=8.761337, Loss12=0.068996, ValLoss1=8.814297, ValLoss2=0.172689\n",
      "Loss1=8.759495, Loss12=0.065675, ValLoss1=8.795877, ValLoss2=0.141360\n",
      "Loss1=8.757883, Loss12=0.060830, ValLoss1=8.805086, ValLoss2=0.153477\n",
      "supervised: finished one epoch (10)!\n",
      "Loss1=8.757193, Loss12=0.058294, ValLoss1=8.823507, ValLoss2=0.136325\n",
      "Loss1=8.756962, Loss12=0.056365, ValLoss1=8.841928, ValLoss2=0.146416\n",
      "Loss1=8.743838, Loss12=0.057398, ValLoss1=8.759035, ValLoss2=0.145310\n",
      "Loss1=8.767324, Loss12=0.055472, ValLoss1=8.795877, ValLoss2=0.158864\n",
      "Loss1=8.752127, Loss12=0.055421, ValLoss1=8.814297, ValLoss2=0.148758\n",
      "Loss1=8.750745, Loss12=0.060026, ValLoss1=8.860349, ValLoss2=0.151012\n",
      "Loss1=8.751896, Loss12=0.052787, ValLoss1=8.740612, ValLoss2=0.148101\n",
      "Loss1=8.750744, Loss12=0.051759, ValLoss1=8.759035, ValLoss2=0.137368\n",
      "Loss1=8.750285, Loss12=0.048964, ValLoss1=8.860349, ValLoss2=0.153863\n",
      "Loss1=8.743606, Loss12=0.048751, ValLoss1=8.869558, ValLoss2=0.150858\n",
      "Loss1=8.756041, Loss12=0.049320, ValLoss1=8.814297, ValLoss2=0.145696\n",
      "Loss1=8.748212, Loss12=0.046826, ValLoss1=8.768245, ValLoss2=0.147620\n",
      "Loss1=8.759264, Loss12=0.045651, ValLoss1=8.795875, ValLoss2=0.142370\n",
      "Loss1=8.747751, Loss12=0.047823, ValLoss1=8.749825, ValLoss2=0.157014\n",
      "Loss1=8.759956, Loss12=0.048065, ValLoss1=8.860349, ValLoss2=0.154258\n",
      "Loss1=8.753738, Loss12=0.046004, ValLoss1=8.814296, ValLoss2=0.145145\n",
      "supervised: finished one epoch (11)!\n",
      "Loss1=8.747290, Loss12=0.042973, ValLoss1=8.786665, ValLoss2=0.142727\n",
      "Loss1=8.759034, Loss12=0.042539, ValLoss1=8.786665, ValLoss2=0.140121\n",
      "Loss1=8.756501, Loss12=0.042278, ValLoss1=8.786665, ValLoss2=0.154776\n",
      "Loss1=8.753738, Loss12=0.044951, ValLoss1=8.823506, ValLoss2=0.149636\n",
      "Loss1=8.755120, Loss12=0.044014, ValLoss1=8.768245, ValLoss2=0.138292\n",
      "Loss1=8.756961, Loss12=0.042822, ValLoss1=8.786665, ValLoss2=0.148911\n",
      "Loss1=8.749133, Loss12=0.043066, ValLoss1=8.814297, ValLoss2=0.166550\n",
      "Loss1=8.756272, Loss12=0.040742, ValLoss1=8.786666, ValLoss2=0.144197\n",
      "Loss1=8.765252, Loss12=0.042710, ValLoss1=8.768245, ValLoss2=0.142864\n",
      "Loss1=8.752127, Loss12=0.041131, ValLoss1=8.777456, ValLoss2=0.138812\n",
      "Loss1=8.749364, Loss12=0.038034, ValLoss1=8.860348, ValLoss2=0.165761\n",
      "Loss1=8.777915, Loss12=0.043624, ValLoss1=8.740613, ValLoss2=0.155564\n",
      "Loss1=8.747751, Loss12=0.040966, ValLoss1=8.749824, ValLoss2=0.178881\n",
      "Loss1=8.746139, Loss12=0.039239, ValLoss1=8.795875, ValLoss2=0.173824\n",
      "Loss1=8.745218, Loss12=0.039436, ValLoss1=8.795876, ValLoss2=0.150770\n",
      "Loss1=8.744067, Loss12=0.038768, ValLoss1=8.934031, ValLoss2=0.160681\n",
      "supervised: finished one epoch (12)!\n",
      "Loss1=8.757882, Loss12=0.036312, ValLoss1=8.786665, ValLoss2=0.159534\n",
      "Loss1=8.751896, Loss12=0.035568, ValLoss1=8.814296, ValLoss2=0.161353\n",
      "Loss1=8.758343, Loss12=0.037643, ValLoss1=8.795875, ValLoss2=0.143120\n",
      "Loss1=8.761336, Loss12=0.038262, ValLoss1=8.851137, ValLoss2=0.155725\n",
      "Loss1=8.760185, Loss12=0.035658, ValLoss1=8.869558, ValLoss2=0.166615\n",
      "Loss1=8.742225, Loss12=0.037278, ValLoss1=8.805085, ValLoss2=0.160506\n",
      "Loss1=8.759033, Loss12=0.037090, ValLoss1=8.860347, ValLoss2=0.162708\n",
      "Loss1=8.753738, Loss12=0.037808, ValLoss1=8.814296, ValLoss2=0.167230\n",
      "Loss1=8.745448, Loss12=0.039155, ValLoss1=8.759035, ValLoss2=0.155358\n",
      "Loss1=8.755119, Loss12=0.077503, ValLoss1=8.786665, ValLoss2=0.264928\n",
      "Loss1=8.765941, Loss12=0.214722, ValLoss1=8.915609, ValLoss2=0.149859\n",
      "Loss1=8.762488, Loss12=0.067068, ValLoss1=8.712982, ValLoss2=0.180354\n",
      "Loss1=8.764331, Loss12=0.055872, ValLoss1=8.795877, ValLoss2=0.142182\n",
      "Loss1=8.754430, Loss12=0.048278, ValLoss1=8.805086, ValLoss2=0.145495\n",
      "Loss1=8.764100, Loss12=0.045750, ValLoss1=8.777455, ValLoss2=0.160256\n",
      "supervised: finished one epoch (13)!\n",
      "Loss1=8.755811, Loss12=0.046180, ValLoss1=8.740614, ValLoss2=0.136673\n",
      "Loss1=8.756962, Loss12=0.040739, ValLoss1=8.768245, ValLoss2=0.151951\n",
      "Loss1=8.759725, Loss12=0.040085, ValLoss1=8.749824, ValLoss2=0.150922\n",
      "Loss1=8.752586, Loss12=0.038960, ValLoss1=8.851137, ValLoss2=0.135225\n",
      "Loss1=8.772620, Loss12=0.038964, ValLoss1=8.814298, ValLoss2=0.127671\n",
      "Loss1=8.750285, Loss12=0.037230, ValLoss1=8.786666, ValLoss2=0.150968\n",
      "Loss1=8.760416, Loss12=0.037223, ValLoss1=8.786666, ValLoss2=0.182335\n",
      "Loss1=8.753048, Loss12=0.035582, ValLoss1=8.795877, ValLoss2=0.147088\n",
      "Loss1=8.767784, Loss12=0.036550, ValLoss1=8.740613, ValLoss2=0.147417\n"
     ]
    },
    {
     "name": "stdout",
     "output_type": "stream",
     "text": [
      "Loss1=8.747521, Loss12=0.033657, ValLoss1=8.731403, ValLoss2=0.164625\n",
      "Loss1=8.744758, Loss12=0.034841, ValLoss1=8.795877, ValLoss2=0.137948\n",
      "Loss1=8.766402, Loss12=0.034826, ValLoss1=8.814296, ValLoss2=0.139861\n",
      "Loss1=8.765711, Loss12=0.035728, ValLoss1=8.786665, ValLoss2=0.145301\n",
      "Loss1=8.752817, Loss12=0.033309, ValLoss1=8.722192, ValLoss2=0.141132\n",
      "Loss1=8.754659, Loss12=0.034610, ValLoss1=8.823506, ValLoss2=0.158002\n",
      "Loss1=8.768935, Loss12=0.035046, ValLoss1=8.869558, ValLoss2=0.152263\n",
      "supervised: finished one epoch (14)!\n",
      "Loss1=8.778145, Loss12=0.032642, ValLoss1=8.851137, ValLoss2=0.145229\n",
      "Loss1=8.766402, Loss12=0.032637, ValLoss1=8.887979, ValLoss2=0.151794\n",
      "Loss1=8.745909, Loss12=0.032650, ValLoss1=8.722194, ValLoss2=0.142913\n",
      "Loss1=8.748442, Loss12=0.034602, ValLoss1=8.703771, ValLoss2=0.153961\n",
      "Loss1=8.741994, Loss12=0.033791, ValLoss1=8.777454, ValLoss2=0.141606\n",
      "Loss1=8.746139, Loss12=0.032258, ValLoss1=8.694561, ValLoss2=0.150985\n",
      "Loss1=8.740843, Loss12=0.032122, ValLoss1=8.814296, ValLoss2=0.142294\n",
      "Loss1=8.764099, Loss12=0.032108, ValLoss1=8.814296, ValLoss2=0.140551\n",
      "Loss1=8.775152, Loss12=0.033812, ValLoss1=8.777454, ValLoss2=0.152007\n",
      "Loss1=8.763178, Loss12=0.031752, ValLoss1=8.740612, ValLoss2=0.150653\n",
      "Loss1=8.752586, Loss12=0.033756, ValLoss1=8.795875, ValLoss2=0.159312\n",
      "Loss1=8.764560, Loss12=0.030870, ValLoss1=8.795875, ValLoss2=0.147346\n",
      "Loss1=8.772158, Loss12=0.034224, ValLoss1=8.841927, ValLoss2=0.161311\n",
      "Loss1=8.758573, Loss12=0.034591, ValLoss1=8.777454, ValLoss2=0.147631\n",
      "Loss1=8.749593, Loss12=0.034654, ValLoss1=8.740613, ValLoss2=0.146574\n",
      "Loss1=8.753968, Loss12=0.031626, ValLoss1=8.740612, ValLoss2=0.138447\n",
      "supervised: finished one epoch (15)!\n",
      "Loss1=8.765250, Loss12=0.031054, ValLoss1=8.805085, ValLoss2=0.150914\n",
      "Loss1=8.744988, Loss12=0.032140, ValLoss1=8.795875, ValLoss2=0.164147\n",
      "Loss1=8.756270, Loss12=0.032445, ValLoss1=8.878769, ValLoss2=0.204798\n",
      "Loss1=8.747521, Loss12=0.032978, ValLoss1=8.731402, ValLoss2=0.159258\n",
      "Loss1=8.758112, Loss12=0.030964, ValLoss1=8.869557, ValLoss2=0.147081\n",
      "Loss1=8.761336, Loss12=0.028934, ValLoss1=8.814296, ValLoss2=0.145950\n",
      "Loss1=8.758573, Loss12=0.029788, ValLoss1=8.740612, ValLoss2=0.142492\n",
      "Loss1=8.766402, Loss12=0.032018, ValLoss1=8.823506, ValLoss2=0.151482\n",
      "Loss1=8.768935, Loss12=0.031700, ValLoss1=8.722192, ValLoss2=0.161939\n",
      "Loss1=8.757652, Loss12=0.030163, ValLoss1=8.823506, ValLoss2=0.153371\n",
      "Loss1=8.746139, Loss12=0.029130, ValLoss1=8.805085, ValLoss2=0.149743\n",
      "Loss1=8.738541, Loss12=0.030861, ValLoss1=8.795875, ValLoss2=0.135830\n",
      "Loss1=8.758573, Loss12=0.030012, ValLoss1=8.814296, ValLoss2=0.148082\n",
      "Loss1=8.743146, Loss12=0.030210, ValLoss1=8.786665, ValLoss2=0.160413\n",
      "Loss1=8.746830, Loss12=0.032029, ValLoss1=8.805085, ValLoss2=0.138016\n",
      "Loss1=8.757422, Loss12=0.031543, ValLoss1=8.832716, ValLoss2=0.143955\n",
      "supervised: finished one epoch (16)!\n",
      "Loss1=8.753738, Loss12=0.030562, ValLoss1=8.722192, ValLoss2=0.155591\n",
      "Loss1=8.757422, Loss12=0.030080, ValLoss1=8.841927, ValLoss2=0.154782\n",
      "Loss1=8.751205, Loss12=0.030134, ValLoss1=8.832716, ValLoss2=0.150928\n",
      "Loss1=8.754428, Loss12=0.030184, ValLoss1=8.805085, ValLoss2=0.140291\n",
      "Loss1=8.751435, Loss12=0.028299, ValLoss1=8.906399, ValLoss2=0.160385\n",
      "Loss1=8.740152, Loss12=0.030854, ValLoss1=8.795875, ValLoss2=0.129144\n",
      "Loss1=8.757882, Loss12=0.028908, ValLoss1=8.777453, ValLoss2=0.153232\n",
      "Loss1=8.758803, Loss12=0.029373, ValLoss1=8.759033, ValLoss2=0.148925\n",
      "Loss1=8.750053, Loss12=0.030505, ValLoss1=8.814296, ValLoss2=0.149257\n",
      "Loss1=8.755119, Loss12=0.029174, ValLoss1=8.795875, ValLoss2=0.143984\n",
      "Loss1=8.762948, Loss12=0.028318, ValLoss1=8.869557, ValLoss2=0.154668\n",
      "Loss1=8.746830, Loss12=0.027865, ValLoss1=8.814296, ValLoss2=0.162453\n",
      "Loss1=8.747060, Loss12=0.029198, ValLoss1=8.860348, ValLoss2=0.141980\n",
      "Loss1=8.764560, Loss12=0.029722, ValLoss1=8.768244, ValLoss2=0.154551\n",
      "Loss1=8.740613, Loss12=0.029605, ValLoss1=8.777454, ValLoss2=0.144706\n",
      "supervised: finished one epoch (17)!\n",
      "Loss1=8.756040, Loss12=0.028446, ValLoss1=8.786665, ValLoss2=0.141005\n",
      "Loss1=8.761106, Loss12=0.027016, ValLoss1=8.712981, ValLoss2=0.142743\n",
      "Loss1=8.764790, Loss12=0.027411, ValLoss1=8.805085, ValLoss2=0.149724\n",
      "Loss1=8.745909, Loss12=0.026545, ValLoss1=8.786665, ValLoss2=0.136242\n",
      "Loss1=8.743836, Loss12=0.030045, ValLoss1=8.749824, ValLoss2=0.161198\n",
      "Loss1=8.757652, Loss12=0.027911, ValLoss1=8.768244, ValLoss2=0.137271\n",
      "Loss1=8.752586, Loss12=0.028054, ValLoss1=8.759033, ValLoss2=0.148210\n",
      "Loss1=8.773079, Loss12=0.027539, ValLoss1=8.860348, ValLoss2=0.153305\n",
      "Loss1=8.764099, Loss12=0.026793, ValLoss1=8.795875, ValLoss2=0.157727\n",
      "Loss1=8.755349, Loss12=0.026788, ValLoss1=8.759033, ValLoss2=0.150487\n",
      "Loss1=8.749593, Loss12=0.027931, ValLoss1=8.823506, ValLoss2=0.152504\n",
      "Loss1=8.746139, Loss12=0.027364, ValLoss1=8.777454, ValLoss2=0.147643\n",
      "Loss1=8.751205, Loss12=0.026263, ValLoss1=8.759033, ValLoss2=0.158454\n",
      "Loss1=8.749823, Loss12=0.027013, ValLoss1=8.786665, ValLoss2=0.149140\n",
      "Loss1=8.754428, Loss12=0.027812, ValLoss1=8.878768, ValLoss2=0.153376\n",
      "Loss1=8.753968, Loss12=0.028649, ValLoss1=8.740612, ValLoss2=0.148931\n",
      "supervised: finished one epoch (18)!\n",
      "Loss1=8.760645, Loss12=0.027647, ValLoss1=8.759033, ValLoss2=0.148439\n",
      "Loss1=8.754889, Loss12=0.026631, ValLoss1=8.786664, ValLoss2=0.158999\n",
      "Loss1=8.756040, Loss12=0.026222, ValLoss1=8.777454, ValLoss2=0.158973\n",
      "Loss1=8.750284, Loss12=0.025583, ValLoss1=8.860348, ValLoss2=0.151444\n",
      "Loss1=8.762718, Loss12=0.027394, ValLoss1=8.759033, ValLoss2=0.147082\n",
      "Loss1=8.755580, Loss12=0.025359, ValLoss1=8.795875, ValLoss2=0.136294\n",
      "Loss1=8.751665, Loss12=0.028176, ValLoss1=8.897188, ValLoss2=0.176419\n",
      "Loss1=8.756731, Loss12=0.026398, ValLoss1=8.786665, ValLoss2=0.159781\n",
      "Loss1=8.771467, Loss12=0.026170, ValLoss1=8.869557, ValLoss2=0.148399\n",
      "Loss1=8.755349, Loss12=0.025755, ValLoss1=8.851137, ValLoss2=0.138530\n",
      "Loss1=8.750053, Loss12=0.027400, ValLoss1=8.768244, ValLoss2=0.142237\n",
      "Loss1=8.759264, Loss12=0.025734, ValLoss1=8.823506, ValLoss2=0.132576\n",
      "Loss1=8.748211, Loss12=0.025676, ValLoss1=8.805085, ValLoss2=0.144898\n",
      "Loss1=8.749132, Loss12=0.025062, ValLoss1=8.832716, ValLoss2=0.150927\n",
      "Loss1=8.746369, Loss12=0.025784, ValLoss1=8.851137, ValLoss2=0.146785\n",
      "Loss1=8.752586, Loss12=0.026787, ValLoss1=8.823506, ValLoss2=0.131190\n",
      "supervised: finished one epoch (19)!\n",
      "Loss1=8.753277, Loss12=0.025487, ValLoss1=8.786664, ValLoss2=0.149271\n",
      "Loss1=8.750284, Loss12=0.024782, ValLoss1=8.814296, ValLoss2=0.145942\n",
      "Loss1=8.748672, Loss12=0.024919, ValLoss1=8.740613, ValLoss2=0.155859\n",
      "Loss1=8.745448, Loss12=0.025314, ValLoss1=8.823506, ValLoss2=0.148905\n",
      "Loss1=8.767323, Loss12=0.024657, ValLoss1=8.795875, ValLoss2=0.145537\n",
      "Loss1=8.757882, Loss12=0.025401, ValLoss1=8.786665, ValLoss2=0.167708\n",
      "Loss1=8.735547, Loss12=0.025267, ValLoss1=8.777454, ValLoss2=0.137042\n",
      "Loss1=8.763178, Loss12=0.025150, ValLoss1=8.768244, ValLoss2=0.140580\n",
      "Loss1=8.751665, Loss12=0.024513, ValLoss1=8.795875, ValLoss2=0.149023\n",
      "Loss1=8.754198, Loss12=0.024420, ValLoss1=8.786665, ValLoss2=0.136347\n",
      "Loss1=8.751435, Loss12=0.024915, ValLoss1=8.878767, ValLoss2=0.145409\n",
      "Loss1=8.761797, Loss12=0.024622, ValLoss1=8.795875, ValLoss2=0.154301\n",
      "Loss1=8.774000, Loss12=0.024181, ValLoss1=8.878768, ValLoss2=0.144287\n",
      "Loss1=8.760645, Loss12=0.024249, ValLoss1=8.731402, ValLoss2=0.162848\n",
      "Loss1=8.751205, Loss12=0.024606, ValLoss1=8.786665, ValLoss2=0.151929\n",
      "supervised: finished one epoch (20)!\n",
      "Loss1=8.747521, Loss12=0.024860, ValLoss1=8.887979, ValLoss2=0.153067\n",
      "Loss1=8.746830, Loss12=0.023025, ValLoss1=8.722192, ValLoss2=0.146800\n",
      "Loss1=8.749593, Loss12=0.024612, ValLoss1=8.832716, ValLoss2=0.152983\n",
      "Loss1=8.772849, Loss12=0.023637, ValLoss1=8.823506, ValLoss2=0.148312\n",
      "Loss1=8.764790, Loss12=0.023272, ValLoss1=8.795875, ValLoss2=0.131457\n",
      "Loss1=8.753738, Loss12=0.022458, ValLoss1=8.731403, ValLoss2=0.144087\n",
      "Loss1=8.759034, Loss12=0.022501, ValLoss1=8.832716, ValLoss2=0.153485\n",
      "Loss1=8.758343, Loss12=0.022824, ValLoss1=8.731402, ValLoss2=0.160847\n",
      "Loss1=8.748442, Loss12=0.023786, ValLoss1=8.841927, ValLoss2=0.159720\n",
      "Loss1=8.778605, Loss12=0.023194, ValLoss1=8.832716, ValLoss2=0.148034\n",
      "Loss1=8.752126, Loss12=0.022603, ValLoss1=8.851137, ValLoss2=0.156779\n",
      "Loss1=8.752586, Loss12=0.025949, ValLoss1=8.897188, ValLoss2=0.153937\n",
      "Loss1=8.769395, Loss12=0.023870, ValLoss1=8.805085, ValLoss2=0.158973\n"
     ]
    },
    {
     "name": "stdout",
     "output_type": "stream",
     "text": [
      "Loss1=8.740843, Loss12=0.023149, ValLoss1=8.851137, ValLoss2=0.151829\n",
      "Loss1=8.755349, Loss12=0.023722, ValLoss1=8.722192, ValLoss2=0.150282\n",
      "Loss1=8.772388, Loss12=0.023445, ValLoss1=8.814296, ValLoss2=0.166426\n",
      "supervised: finished one epoch (21)!\n",
      "Loss1=8.751665, Loss12=0.022787, ValLoss1=8.768244, ValLoss2=0.160330\n",
      "Loss1=8.742685, Loss12=0.024372, ValLoss1=8.786665, ValLoss2=0.144652\n",
      "Loss1=8.759724, Loss12=0.023488, ValLoss1=8.777454, ValLoss2=0.153327\n",
      "Loss1=8.744527, Loss12=0.022051, ValLoss1=8.841928, ValLoss2=0.142935\n",
      "Loss1=8.754198, Loss12=0.022187, ValLoss1=8.768244, ValLoss2=0.161083\n",
      "Loss1=8.750284, Loss12=0.021540, ValLoss1=8.851137, ValLoss2=0.151784\n",
      "Loss1=8.756270, Loss12=0.022282, ValLoss1=8.740613, ValLoss2=0.155513\n",
      "Loss1=8.745909, Loss12=0.022436, ValLoss1=8.777454, ValLoss2=0.136265\n",
      "Loss1=8.754198, Loss12=0.022174, ValLoss1=8.722192, ValLoss2=0.138984\n",
      "Loss1=8.754198, Loss12=0.021568, ValLoss1=8.814296, ValLoss2=0.141955\n",
      "Loss1=8.770777, Loss12=0.022718, ValLoss1=8.832716, ValLoss2=0.156830\n",
      "Loss1=8.744527, Loss12=0.022229, ValLoss1=8.759033, ValLoss2=0.150407\n",
      "Loss1=8.759033, Loss12=0.022106, ValLoss1=8.731402, ValLoss2=0.137881\n",
      "Loss1=8.770546, Loss12=0.022832, ValLoss1=8.786665, ValLoss2=0.144023\n",
      "Loss1=8.750514, Loss12=0.022253, ValLoss1=8.777454, ValLoss2=0.149274\n",
      "Loss1=8.758573, Loss12=0.022162, ValLoss1=8.759033, ValLoss2=0.139387\n",
      "supervised: finished one epoch (22)!\n",
      "Loss1=8.757191, Loss12=0.021562, ValLoss1=8.860348, ValLoss2=0.156254\n",
      "Loss1=8.753507, Loss12=0.021308, ValLoss1=8.740613, ValLoss2=0.150054\n",
      "Loss1=8.749132, Loss12=0.021148, ValLoss1=8.814296, ValLoss2=0.135895\n",
      "Loss1=8.750514, Loss12=0.021127, ValLoss1=8.805085, ValLoss2=0.142967\n",
      "Loss1=8.753277, Loss12=0.021514, ValLoss1=8.814296, ValLoss2=0.139490\n",
      "Loss1=8.759955, Loss12=0.021697, ValLoss1=8.851137, ValLoss2=0.149221\n",
      "Loss1=8.763639, Loss12=0.022408, ValLoss1=8.823506, ValLoss2=0.144382\n",
      "Loss1=8.751665, Loss12=0.020794, ValLoss1=8.851136, ValLoss2=0.145480\n",
      "Loss1=8.756501, Loss12=0.021189, ValLoss1=8.768244, ValLoss2=0.139652\n",
      "Loss1=8.757652, Loss12=0.021143, ValLoss1=8.722192, ValLoss2=0.145727\n",
      "Loss1=8.753277, Loss12=0.021626, ValLoss1=8.814296, ValLoss2=0.137646\n",
      "Loss1=8.765020, Loss12=0.021227, ValLoss1=8.832716, ValLoss2=0.131539\n",
      "Loss1=8.748672, Loss12=0.022999, ValLoss1=8.832716, ValLoss2=0.149410\n",
      "Loss1=8.759034, Loss12=0.021767, ValLoss1=8.777454, ValLoss2=0.140450\n",
      "Loss1=8.751896, Loss12=0.021718, ValLoss1=8.805085, ValLoss2=0.140351\n",
      "Loss1=8.774000, Loss12=0.022499, ValLoss1=8.814296, ValLoss2=0.126828\n",
      "supervised: finished one epoch (23)!\n",
      "Loss1=8.757191, Loss12=0.023179, ValLoss1=8.823506, ValLoss2=0.135531\n",
      "Loss1=8.756040, Loss12=0.021076, ValLoss1=8.841926, ValLoss2=0.135845\n",
      "Loss1=8.774231, Loss12=0.021231, ValLoss1=8.814296, ValLoss2=0.148297\n",
      "Loss1=8.761566, Loss12=0.020709, ValLoss1=8.786665, ValLoss2=0.133535\n",
      "Loss1=8.767783, Loss12=0.021463, ValLoss1=8.786665, ValLoss2=0.146866\n",
      "Loss1=8.742915, Loss12=0.020768, ValLoss1=8.740612, ValLoss2=0.152204\n",
      "Loss1=8.753507, Loss12=0.021024, ValLoss1=8.814296, ValLoss2=0.141365\n",
      "Loss1=8.754428, Loss12=0.020563, ValLoss1=8.740612, ValLoss2=0.146454\n",
      "Loss1=8.777915, Loss12=0.020893, ValLoss1=8.795875, ValLoss2=0.143492\n",
      "Loss1=8.759264, Loss12=0.020739, ValLoss1=8.731402, ValLoss2=0.155268\n",
      "Loss1=8.767323, Loss12=0.021981, ValLoss1=8.777454, ValLoss2=0.145920\n",
      "Loss1=8.753277, Loss12=0.020342, ValLoss1=8.841926, ValLoss2=0.152101\n",
      "Loss1=8.758113, Loss12=0.020764, ValLoss1=8.814296, ValLoss2=0.158839\n",
      "Loss1=8.749132, Loss12=0.021039, ValLoss1=8.795875, ValLoss2=0.148878\n",
      "Loss1=8.752356, Loss12=0.020252, ValLoss1=8.851137, ValLoss2=0.144933\n",
      "supervised: finished one epoch (24)!\n",
      "Loss1=8.733245, Loss12=0.019861, ValLoss1=8.805085, ValLoss2=0.147342\n",
      "Loss1=8.747521, Loss12=0.019243, ValLoss1=8.777454, ValLoss2=0.144038\n",
      "Loss1=8.765711, Loss12=0.019238, ValLoss1=8.841927, ValLoss2=0.149738\n",
      "Loss1=8.755119, Loss12=0.020213, ValLoss1=8.832717, ValLoss2=0.139535\n",
      "Loss1=8.759264, Loss12=0.019629, ValLoss1=8.805085, ValLoss2=0.146296\n",
      "Loss1=8.758112, Loss12=0.019888, ValLoss1=8.823505, ValLoss2=0.146963\n",
      "Loss1=8.749593, Loss12=0.021271, ValLoss1=8.777454, ValLoss2=0.155764\n",
      "Loss1=8.757652, Loss12=0.020431, ValLoss1=8.805085, ValLoss2=0.147850\n"
     ]
    }
   ],
   "source": [
    "from bs_net import *\n",
    "\n",
    "net = Net()\n",
    "\n",
    "train(net, game_rec, iterations=40000, verbose=1);"
   ]
  },
  {
   "cell_type": "code",
   "execution_count": 26,
   "metadata": {
    "ExecuteTime": {
     "end_time": "2023-10-24T09:04:00.620883Z",
     "start_time": "2023-10-24T09:04:00.166451Z"
    }
   },
   "outputs": [
    {
     "data": {
      "image/png": "[encoded data removed]",
      "text/plain": [
       "<Figure size 432x288 with 1 Axes>"
      ]
     },
     "metadata": {
      "needs_background": "light"
     },
     "output_type": "display_data"
    },
    {
     "name": "stdout",
     "output_type": "stream",
     "text": [
      "0.43133482336997986\n"
     ]
    },
    {
     "data": {
      "image/png": "[encoded data removed]",
      "text/plain": [
       "<Figure size 432x288 with 2 Axes>"
      ]
     },
     "metadata": {
      "needs_background": "light"
     },
     "output_type": "display_data"
    }
   ],
   "source": [
    "# vorhersage auf zufälliger sea\n",
    "s = newrandomstate()\n",
    "plot_state(s)\n",
    "plt.show()\n",
    "p, v = net(np2t([encode_x(s.sea, s.det)]))\n",
    "plt.imshow(t2np(p)[0,0])\n",
    "plt.colorbar()\n",
    "print(v.item())"
   ]
  },
  {
   "cell_type": "code",
   "execution_count": 7,
   "metadata": {
    "ExecuteTime": {
     "end_time": "2023-10-24T09:01:20.181981Z",
     "start_time": "2023-10-24T09:01:15.674720Z"
    }
   },
   "outputs": [
    {
     "name": "stderr",
     "output_type": "stream",
     "text": [
      "C:\\ProgramData\\Anaconda3\\lib\\site-packages\\seaborn\\distributions.py:2557: FutureWarning: `distplot` is a deprecated function and will be removed in a future version. Please adapt your code to use either `displot` (a figure-level function with similar flexibility) or `histplot` (an axes-level function for histograms).\n",
      "  warnings.warn(msg, FutureWarning)\n"
     ]
    },
    {
     "data": {
      "text/plain": [
       "<AxesSubplot:ylabel='Density'>"
      ]
     },
     "execution_count": 7,
     "metadata": {},
     "output_type": "execute_result"
    },
    {
     "data": {
      "image/png": "[encoded data removed]",
      "text/plain": [
       "<Figure size 432x288 with 1 Axes>"
      ]
     },
     "metadata": {
      "needs_background": "light"
     },
     "output_type": "display_data"
    }
   ],
   "source": [
    "# Verteilung in gamerecords von r\n",
    "import seaborn as sns\n",
    "sns.distplot([ r for s, a, r in gamerecords ])"
   ]
  },
  {
   "cell_type": "code",
   "execution_count": 43,
   "metadata": {
    "ExecuteTime": {
     "end_time": "2023-10-24T17:54:37.838351Z",
     "start_time": "2023-10-24T17:54:37.341151Z"
    }
   },
   "outputs": [
    {
     "data": {
      "image/png": "[encoded data removed]",
      "text/plain": [
       "<Figure size 432x288 with 1 Axes>"
      ]
     },
     "metadata": {
      "needs_background": "light"
     },
     "output_type": "display_data"
    },
    {
     "name": "stdout",
     "output_type": "stream",
     "text": [
      "0.45624688267707825 0.37037037037037035\n"
     ]
    },
    {
     "data": {
      "image/png": "[encoded data removed]",
      "text/plain": [
       "<Figure size 432x288 with 2 Axes>"
      ]
     },
     "metadata": {
      "needs_background": "light"
     },
     "output_type": "display_data"
    }
   ],
   "source": [
    "# Vergleich r in gamerecords mit vorhersage des nnet\n",
    "s, a, r = game_rec[np.random.choice(range(len(game_rec)))]\n",
    "plot_state(s)\n",
    "plt.show()\n",
    "p, v = net(np2t([encode_x(s.sea, s.det)]))\n",
    "plt.imshow(t2np(p)[0,0])\n",
    "plt.colorbar()\n",
    "print(v.item(), r)"
   ]
  },
  {
   "cell_type": "code",
   "execution_count": null,
   "metadata": {},
   "outputs": [],
   "source": []
  }
 ],
 "metadata": {
  "kernelspec": {
   "display_name": "Python 3",
   "language": "python",
   "name": "python3"
  },
  "language_info": {
   "codemirror_mode": {
    "name": "ipython",
    "version": 3
   },
   "file_extension": ".py",
   "mimetype": "text/x-python",
   "name": "python",
   "nbconvert_exporter": "python",
   "pygments_lexer": "ipython3",
   "version": "3.7.7"
  },
  "varInspector": {
   "cols": {
    "lenName": 16,
    "lenType": 16,
    "lenVar": 40
   },
   "kernels_config": {
    "python": {
     "delete_cmd_postfix": "",
     "delete_cmd_prefix": "del ",
     "library": "var_list.py",
     "varRefreshCmd": "print(var_dic_list())"
    },
    "r": {
     "delete_cmd_postfix": ") ",
     "delete_cmd_prefix": "rm(",
     "library": "var_list.r",
     "varRefreshCmd": "cat(var_dic_list()) "
    }
   },
   "types_to_exclude": [
    "module",
    "function",
    "builtin_function_or_method",
    "instance",
    "_Feature"
   ],
   "window_display": false
  }
 },
 "nbformat": 4,
 "nbformat_minor": 4
}
