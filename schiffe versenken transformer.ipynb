{
 "cells": [
  {
   "cell_type": "code",
   "execution_count": 1,
   "id": "09997892",
   "metadata": {
    "ExecuteTime": {
     "end_time": "2023-10-31T20:34:15.637832Z",
     "start_time": "2023-10-31T20:34:14.372215Z"
    }
   },
   "outputs": [],
   "source": [
    "\n",
    "import numpy as np\n",
    "import matplotlib.pyplot as plt\n",
    "from tqdm.notebook import tqdm, trange"
   ]
  },
  {
   "cell_type": "code",
   "execution_count": 2,
   "id": "57caa7d4",
   "metadata": {
    "ExecuteTime": {
     "end_time": "2023-10-31T20:34:27.260884Z",
     "start_time": "2023-10-31T20:34:20.203105Z"
    }
   },
   "outputs": [],
   "source": [
    "%load_ext autoreload\n",
    "%autoreload 2\n",
    "\n",
    "from bs_helpers import *\n",
    "from bs_gameclass import *\n",
    "from utils import *"
   ]
  },
  {
   "cell_type": "code",
   "execution_count": 3,
   "id": "027d0b51",
   "metadata": {
    "ExecuteTime": {
     "end_time": "2023-10-31T20:39:33.726142Z",
     "start_time": "2023-10-31T20:39:33.563399Z"
    }
   },
   "outputs": [],
   "source": [
    "\n",
    "def create_sea_ships(seed=None): # diese funktion ist anders als die bei unet!!\n",
    "    'Creates a sea with random ships on it'\n",
    "    rng = random.Random(seed)\n",
    "    sea = np.zeros((10,10))\n",
    "    ships = np.zeros((10,10,10)) # extra information which kind of ship is where\n",
    "    k = 0\n",
    "    for l in [5,4,3,2]: # Länge\n",
    "        n = 6-l # Anzahl\n",
    "        for _ in range(n):\n",
    "            # Boot mit Länge l platzieren\n",
    "            while True:\n",
    "                t = rng.random() < 0.5\n",
    "                if t:\n",
    "                    sea = sea.T # Transponieren\n",
    "                    ships = ships.transpose(1,0,2)\n",
    "                px = rng.randint(0, 10-l)\n",
    "                py = rng.randint(0, 9)\n",
    "                if sum(sea[px:px+l,py]) > 0:\n",
    "                    continue\n",
    "                sea[px:px+l, py] = 1\n",
    "                ships[px:px+l, py, k] = 1\n",
    "                if t:\n",
    "                    sea = sea.T # Transponieren\n",
    "                    ships = ships.transpose(1,0,2)\n",
    "                k += 1\n",
    "                break\n",
    "    return sea, ships"
   ]
  },
  {
   "cell_type": "code",
   "execution_count": 8,
   "id": "49b69192",
   "metadata": {
    "ExecuteTime": {
     "end_time": "2023-10-31T20:40:15.267957Z",
     "start_time": "2023-10-31T20:40:14.978152Z"
    },
    "run_control": {
     "marked": true
    }
   },
   "outputs": [
    {
     "data": {
      "text/plain": [
       "<matplotlib.image.AxesImage at 0x158031f5048>"
      ]
     },
     "execution_count": 8,
     "metadata": {},
     "output_type": "execute_result"
    },
    {
     "data": {
      "image/png": "[encoded data removed]",
      "text/plain": [
       "<Figure size 432x288 with 1 Axes>"
      ]
     },
     "metadata": {
      "needs_background": "light"
     },
     "output_type": "display_data"
    }
   ],
   "source": []
  },
  {
   "cell_type": "code",
   "execution_count": 23,
   "id": "c31c6d07",
   "metadata": {
    "ExecuteTime": {
     "end_time": "2023-10-31T20:57:58.548356Z",
     "start_time": "2023-10-31T20:57:57.704604Z"
    }
   },
   "outputs": [
    {
     "data": {
      "image/png": "[encoded data removed]",
      "text/plain": [
       "<Figure size 432x288 with 1 Axes>"
      ]
     },
     "metadata": {
      "needs_background": "light"
     },
     "output_type": "display_data"
    },
    {
     "data": {
      "image/png": "[encoded data removed]",
      "text/plain": [
       "<Figure size 432x288 with 1 Axes>"
      ]
     },
     "metadata": {
      "needs_background": "light"
     },
     "output_type": "display_data"
    },
    {
     "data": {
      "image/png": "[encoded data removed]",
      "text/plain": [
       "<Figure size 432x288 with 1 Axes>"
      ]
     },
     "metadata": {
      "needs_background": "light"
     },
     "output_type": "display_data"
    },
    {
     "data": {
      "image/png": "[encoded data removed]",
      "text/plain": [
       "<Figure size 432x288 with 1 Axes>"
      ]
     },
     "metadata": {
      "needs_background": "light"
     },
     "output_type": "display_data"
    },
    {
     "data": {
      "image/png": "[encoded data removed]",
      "text/plain": [
       "<Figure size 432x288 with 1 Axes>"
      ]
     },
     "metadata": {
      "needs_background": "light"
     },
     "output_type": "display_data"
    },
    {
     "data": {
      "image/png": "[encoded data removed]",
      "text/plain": [
       "<Figure size 432x288 with 1 Axes>"
      ]
     },
     "metadata": {
      "needs_background": "light"
     },
     "output_type": "display_data"
    },
    {
     "data": {
      "image/png": "[encoded data removed]",
      "text/plain": [
       "<Figure size 432x288 with 1 Axes>"
      ]
     },
     "metadata": {
      "needs_background": "light"
     },
     "output_type": "display_data"
    },
    {
     "data": {
      "image/png": "[encoded data removed]",
      "text/plain": [
       "<Figure size 432x288 with 1 Axes>"
      ]
     },
     "metadata": {
      "needs_background": "light"
     },
     "output_type": "display_data"
    },
    {
     "data": {
      "image/png": "[encoded data removed]",
      "text/plain": [
       "<Figure size 432x288 with 1 Axes>"
      ]
     },
     "metadata": {
      "needs_background": "light"
     },
     "output_type": "display_data"
    },
    {
     "data": {
      "image/png": "[encoded data removed]",
      "text/plain": [
       "<Figure size 432x288 with 1 Axes>"
      ]
     },
     "metadata": {
      "needs_background": "light"
     },
     "output_type": "display_data"
    }
   ],
   "source": [
    "sea, ships = create_sea_ships()\n",
    "s = GameState()\n",
    "moves = []\n",
    "rewards = []\n",
    "sunken = [] # wenn ein schiff komplett versinkt\n",
    "while not GameClass.getEnded(s):\n",
    "    vms = GameClass.getValidActions(s)\n",
    "    k = np.random.choice(range(len(vms)))\n",
    "    a = vms[k]\n",
    "    s = GameClass.getNextState(s, a, sea)\n",
    "    r = sea[a]\n",
    "    sn = 0\n",
    "    for l in range(10):\n",
    "        if ships[a][l]:\n",
    "            if np.sum(ships[:,:,l] * (1-s.det)) == 0:\n",
    "                sn = 1\n",
    "    moves.append(a)\n",
    "    rewards.append(r)\n",
    "    sunken.append(s)\n",
    "    if sn:\n",
    "        plot_sea(sea, s.det)\n",
    "        plt.show()"
   ]
  },
  {
   "cell_type": "code",
   "execution_count": 24,
   "id": "30109c9d",
   "metadata": {
    "ExecuteTime": {
     "end_time": "2023-10-31T20:58:35.375086Z",
     "start_time": "2023-10-31T20:58:35.223714Z"
    }
   },
   "outputs": [
    {
     "data": {
      "text/plain": [
       "[(8, 2),\n",
       " (3, 1),\n",
       " (2, 8),\n",
       " (2, 0),\n",
       " (1, 1),\n",
       " (5, 0),\n",
       " (7, 9),\n",
       " (6, 4),\n",
       " (5, 2),\n",
       " (5, 7),\n",
       " (1, 3),\n",
       " (4, 8),\n",
       " (4, 4),\n",
       " (5, 4),\n",
       " (7, 7),\n",
       " (3, 9),\n",
       " (5, 9),\n",
       " (9, 5),\n",
       " (8, 3),\n",
       " (4, 1),\n",
       " (7, 1),\n",
       " (6, 8),\n",
       " (5, 6),\n",
       " (3, 2),\n",
       " (1, 4),\n",
       " (7, 4),\n",
       " (4, 6),\n",
       " (5, 5),\n",
       " (4, 3),\n",
       " (2, 4),\n",
       " (7, 0),\n",
       " (2, 5),\n",
       " (1, 7),\n",
       " (3, 8),\n",
       " (4, 2),\n",
       " (4, 7),\n",
       " (7, 3),\n",
       " (2, 3),\n",
       " (6, 3),\n",
       " (9, 1),\n",
       " (3, 0),\n",
       " (6, 5),\n",
       " (8, 4),\n",
       " (1, 8),\n",
       " (2, 2),\n",
       " (2, 1),\n",
       " (2, 6),\n",
       " (9, 3),\n",
       " (0, 5),\n",
       " (1, 9),\n",
       " (0, 1),\n",
       " (3, 3),\n",
       " (6, 0),\n",
       " (1, 2),\n",
       " (3, 4),\n",
       " (0, 6),\n",
       " (9, 9),\n",
       " (3, 6),\n",
       " (7, 2),\n",
       " (8, 8),\n",
       " (8, 7),\n",
       " (9, 6),\n",
       " (8, 1),\n",
       " (0, 9),\n",
       " (9, 4),\n",
       " (7, 6),\n",
       " (0, 4),\n",
       " (6, 9),\n",
       " (1, 0),\n",
       " (0, 2),\n",
       " (7, 8),\n",
       " (1, 5),\n",
       " (9, 7),\n",
       " (8, 5),\n",
       " (4, 0),\n",
       " (2, 9),\n",
       " (0, 8),\n",
       " (5, 8),\n",
       " (1, 6),\n",
       " (6, 2),\n",
       " (4, 9),\n",
       " (6, 6),\n",
       " (6, 1),\n",
       " (0, 7),\n",
       " (9, 8),\n",
       " (9, 2),\n",
       " (8, 0),\n",
       " (8, 9),\n",
       " (5, 3),\n",
       " (3, 7),\n",
       " (0, 0),\n",
       " (6, 7),\n",
       " (7, 5),\n",
       " (5, 1),\n",
       " (8, 6),\n",
       " (2, 7),\n",
       " (0, 3)]"
      ]
     },
     "execution_count": 24,
     "metadata": {},
     "output_type": "execute_result"
    }
   ],
   "source": [
    "moves"
   ]
  },
  {
   "cell_type": "code",
   "execution_count": 12,
   "id": "7ba011a2",
   "metadata": {
    "ExecuteTime": {
     "end_time": "2023-10-31T20:51:40.265494Z",
     "start_time": "2023-10-31T20:51:40.080656Z"
    }
   },
   "outputs": [
    {
     "data": {
      "text/plain": [
       "array([1., 0., 0., 0., 0., 0., 0., 0., 0., 0.])"
      ]
     },
     "execution_count": 12,
     "metadata": {},
     "output_type": "execute_result"
    }
   ],
   "source": [
    "ships[a]"
   ]
  },
  {
   "cell_type": "code",
   "execution_count": 13,
   "id": "b54ce302",
   "metadata": {
    "ExecuteTime": {
     "end_time": "2023-10-31T20:51:48.123592Z",
     "start_time": "2023-10-31T20:51:47.976451Z"
    }
   },
   "outputs": [
    {
     "data": {
      "text/plain": [
       "0"
      ]
     },
     "execution_count": 13,
     "metadata": {},
     "output_type": "execute_result"
    }
   ],
   "source": [
    "l"
   ]
  }
 ],
 "metadata": {
  "kernelspec": {
   "display_name": "Python 3",
   "language": "python",
   "name": "python3"
  },
  "language_info": {
   "codemirror_mode": {
    "name": "ipython",
    "version": 3
   },
   "file_extension": ".py",
   "mimetype": "text/x-python",
   "name": "python",
   "nbconvert_exporter": "python",
   "pygments_lexer": "ipython3",
   "version": "3.7.7"
  },
  "varInspector": {
   "cols": {
    "lenName": 16,
    "lenType": 16,
    "lenVar": 40
   },
   "kernels_config": {
    "python": {
     "delete_cmd_postfix": "",
     "delete_cmd_prefix": "del ",
     "library": "var_list.py",
     "varRefreshCmd": "print(var_dic_list())"
    },
    "r": {
     "delete_cmd_postfix": ") ",
     "delete_cmd_prefix": "rm(",
     "library": "var_list.r",
     "varRefreshCmd": "cat(var_dic_list()) "
    }
   },
   "types_to_exclude": [
    "module",
    "function",
    "builtin_function_or_method",
    "instance",
    "_Feature"
   ],
   "window_display": false
  }
 },
 "nbformat": 4,
 "nbformat_minor": 5
}
